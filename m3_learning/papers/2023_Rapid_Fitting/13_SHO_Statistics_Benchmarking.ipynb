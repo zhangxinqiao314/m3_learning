{
 "cells": [
  {
   "attachments": {},
   "cell_type": "markdown",
   "metadata": {},
   "source": [
    "# SHO Fitter Statistics Benchmarking"
   ]
  },
  {
   "cell_type": "code",
   "execution_count": null,
   "metadata": {},
   "outputs": [],
   "source": [
    "import sys\n",
    "sys.path.append('../../')"
   ]
  },
  {
   "cell_type": "code",
   "execution_count": null,
   "metadata": {},
   "outputs": [],
   "source": [
    "import numpy as np\n",
    "import statistics"
   ]
  },
  {
   "attachments": {},
   "cell_type": "markdown",
   "metadata": {},
   "source": [
    "## Statistics Calculations"
   ]
  },
  {
   "cell_type": "code",
   "execution_count": null,
   "metadata": {},
   "outputs": [],
   "source": [
    "fnames = ['ADAM_SHO_speed.txt', 'ADAHESSIAN_SHO_speed.txt']"
   ]
  },
  {
   "cell_type": "code",
   "execution_count": null,
   "metadata": {},
   "outputs": [],
   "source": [
    "def get_mins(arr, mins, name):\n",
    "   return np.array([arr[name][x] for x in mins])\n",
    "\n",
    "def print_stats(arr, name, bs):\n",
    "   print(f\"Standard Deviation of {name}s of {bs}: %.1f \"% (statistics.stdev(arr)))\n",
    "   print(f\"Mean of of {name}s of {bs}: %.1f \" % (statistics.mean(arr)))"
   ]
  },
  {
   "cell_type": "code",
   "execution_count": null,
   "metadata": {},
   "outputs": [],
   "source": [
    "for fname in fnames:\n",
    "  with open(f'./{fname}') as file_in:\n",
    "    bs_dict = {}\n",
    "    batch_size = 64\n",
    "\n",
    "    bs_dict[64] = {}\n",
    "    bs_dict[128] = {}\n",
    "    bs_dict[256] = {}\n",
    "    bs_dict[512] = {}\n",
    "    bs_dict[1024] = {}\n",
    "    \n",
    "    for line in file_in:\n",
    "      if 'Training' in line and 'batch' in line:\n",
    "        batch_size = int(line.split(' ')[3][5:])\n",
    "\n",
    "      if 'Training' in line and 'seconds' in line:\n",
    "        time = float(line.split(' ')[-2])\n",
    "        \n",
    "        time_arr = bs_dict.get(batch_size, {}).get('time', [])\n",
    "        time_arr.append(time)\n",
    "        bs_dict[batch_size]['time'] = time_arr\n",
    "      \n",
    "      elif 'Avg' in line:\n",
    "        inf_time = float(line.split(' ')[-1])\n",
    "        inf_time *= 1382400 / 1000\n",
    "        inf_time = 1382400 / inf_time\n",
    "        \n",
    "        inf_time_arr = bs_dict.get(batch_size, {}).get('inf_time', [])\n",
    "        inf_time_arr.append(inf_time)\n",
    "        bs_dict[batch_size]['inf_time'] = inf_time_arr\n",
    "      \n",
    "      elif 'Reconstruction' in line:\n",
    "        loops_mse = float(line.split(' ')[-1])\n",
    "        \n",
    "        loops_arr = bs_dict.get(batch_size, {}).get('loops_mse', [])\n",
    "        loops_arr.append(loops_mse)\n",
    "        bs_dict[batch_size]['loops_mse'] = loops_arr\n",
    "      \n",
    "      elif 'Total' in line:\n",
    "        params_mse = float(line.split(' ')[-1])\n",
    "\n",
    "        params_arr = bs_dict.get(batch_size, {}).get('params_mse', [])\n",
    "        params_arr.append(params_mse)\n",
    "        bs_dict[batch_size]['params_mse'] = params_arr\n",
    "\n",
    "  bs_64_mins = sorted(range(len(bs_dict[64]['params_mse'])), key = lambda sub: bs_dict[64]['params_mse'][sub])[:5]\n",
    "  bs_128_mins = sorted(range(len(bs_dict[128]['params_mse'])), key = lambda sub: bs_dict[128]['params_mse'][sub])[:5]\n",
    "  bs_256_mins = sorted(range(len(bs_dict[256]['params_mse'])), key = lambda sub: bs_dict[256]['params_mse'][sub])[:5]\n",
    "  bs_512_mins = sorted(range(len(bs_dict[512]['params_mse'])), key = lambda sub: bs_dict[512]['params_mse'][sub])[:5]\n",
    "  bs_1024_mins = sorted(range(len(bs_dict[1024]['params_mse'])), key = lambda sub: bs_dict[1024]['params_mse'][sub])[:5]\n",
    "\n",
    "  bs_mins = [bs_64_mins, bs_128_mins, bs_256_mins, bs_512_mins, bs_1024_mins]\n",
    "  bs = [64, 128, 256, 512, 1024]\n",
    "\n",
    "  print(fname)\n",
    "  for name in ['time', 'inf_time', 'loops_mse', 'params_mse']:\n",
    "   for i in range(len(bs_mins)):\n",
    "      print_stats(get_mins(bs_dict[2**(i+6)], bs_mins[i], name), name, bs[i])\n",
    "      print()"
   ]
  },
  {
   "cell_type": "code",
   "execution_count": null,
   "metadata": {},
   "outputs": [],
   "source": []
  }
 ],
 "metadata": {
  "kernelspec": {
   "display_name": "rapid_fitting",
   "language": "python",
   "name": "python3"
  },
  "language_info": {
   "codemirror_mode": {
    "name": "ipython",
    "version": 3
   },
   "file_extension": ".py",
   "mimetype": "text/x-python",
   "name": "python",
   "nbconvert_exporter": "python",
   "pygments_lexer": "ipython3",
   "version": "3.10.8"
  },
  "orig_nbformat": 4,
  "vscode": {
   "interpreter": {
    "hash": "c58f42fd11d8ae4df132d3c425059695e86ccc63a852aa66615442730ca8b1fc"
   }
  }
 },
 "nbformat": 4,
 "nbformat_minor": 2
}
