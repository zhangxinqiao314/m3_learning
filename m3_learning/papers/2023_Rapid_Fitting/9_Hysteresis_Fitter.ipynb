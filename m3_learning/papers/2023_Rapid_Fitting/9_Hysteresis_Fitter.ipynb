{
 "cells": [
  {
   "attachments": {},
   "cell_type": "markdown",
   "metadata": {},
   "source": [
    "# Hysteresis Loops Fitting"
   ]
  },
  {
   "cell_type": "code",
   "execution_count": 1,
   "metadata": {},
   "outputs": [],
   "source": [
    "import sys\n",
    "sys.path.append('../../')"
   ]
  },
  {
   "cell_type": "code",
   "execution_count": 3,
   "metadata": {},
   "outputs": [],
   "source": [
    "import h5py\n",
    "import pyUSID as usid\n",
    "\n",
    "from src.m3_learning.be.processing import fit_loop_function, loop_lsqf"
   ]
  },
  {
   "attachments": {},
   "cell_type": "markdown",
   "metadata": {},
   "source": [
    "## Loads data"
   ]
  },
  {
   "cell_type": "code",
   "execution_count": 4,
   "metadata": {},
   "outputs": [],
   "source": [
    "# Sets path to file\n",
    "path = r\"./\"\n",
    "\n",
    "# Opens the data file\n",
    "h5_f = h5py.File(path + \"data_file.h5\", \"r+\")\n",
    "h5_main = h5_f['Measurement_000']['Channel_000']['Raw_Data-SHO_Fit_000']['Guess']"
   ]
  },
  {
   "attachments": {},
   "cell_type": "markdown",
   "metadata": {},
   "source": [
    "## Performs fits"
   ]
  },
  {
   "cell_type": "code",
   "execution_count": 5,
   "metadata": {},
   "outputs": [
    {
     "name": "stdout",
     "output_type": "stream",
     "text": [
      "Consider calling test() to check results before calling compute() which computes on the entire dataset and writes results to the HDF5 file\n",
      "\tThis class (likely) supports interruption and resuming of computations!\n",
      "\tIf you are operating in a python console, press Ctrl+C or Cmd+C to abort\n",
      "\tIf you are in a Jupyter notebook, click on \"Kernel\">>\"Interrupt\"\n",
      "\tIf you are operating on a cluster and your job gets killed, re-run the job to resume\n",
      "\n",
      "Rank 0 - 100% complete. Time remaining: 0.0 msec\n",
      "Finished processing the entire dataset!\n",
      "\n",
      "Note: Loop_Fit has already been performed with the same parameters before. These results will be returned by compute() by default. Set override to True to force fresh computation\n",
      "\n",
      "[<HDF5 group \"/Measurement_000/Channel_000/Raw_Data-SHO_Fit_000/Guess-Loop_Fit_000\" (7 members)>]\n"
     ]
    },
    {
     "name": "stderr",
     "output_type": "stream",
     "text": [
      "c:\\Users\\abeke\\anaconda3\\envs\\rapid_fitting\\lib\\site-packages\\BGlib\\be\\analysis\\fitter.py:140: UserWarning: status dataset not created yet\n",
      "  warn('status dataset not created yet')\n",
      "c:\\Users\\abeke\\anaconda3\\envs\\rapid_fitting\\lib\\site-packages\\BGlib\\be\\analysis\\utils\\be_loop.py:497: RuntimeWarning: invalid value encountered in divide\n",
      "  nuc_v01a = bnv[2] * erfinv((nuc_threshold * bnv[2] + nuc_threshold * bnv[3] - bnv[2]) / bnv[2]) + anv[3]\n",
      "c:\\Users\\abeke\\anaconda3\\envs\\rapid_fitting\\lib\\site-packages\\BGlib\\be\\analysis\\utils\\be_loop.py:498: RuntimeWarning: invalid value encountered in divide\n",
      "  nuc_v01b = bnv[3] * erfinv((nuc_threshold * bnv[2] + nuc_threshold * bnv[3] - bnv[2]) / bnv[3]) + anv[3]\n",
      "c:\\Users\\abeke\\anaconda3\\envs\\rapid_fitting\\lib\\site-packages\\BGlib\\be\\analysis\\utils\\be_loop.py:503: RuntimeWarning: invalid value encountered in divide\n",
      "  nuc_v02a = bnv[0] * erfinv(((1 - nuc_threshold) * bnv[0] + (1 - nuc_threshold) * bnv[1] - bnv[0]) / bnv[0]) + anv[2]\n",
      "c:\\Users\\abeke\\anaconda3\\envs\\rapid_fitting\\lib\\site-packages\\BGlib\\be\\analysis\\utils\\be_loop.py:504: RuntimeWarning: invalid value encountered in divide\n",
      "  nuc_v02b = bnv[1] * erfinv(((1 - nuc_threshold) * bnv[0] + (1 - nuc_threshold) * bnv[1] - bnv[0]) / bnv[1]) + anv[2]\n",
      "c:\\Users\\abeke\\anaconda3\\envs\\rapid_fitting\\lib\\site-packages\\BGlib\\be\\analysis\\fitter.py:140: UserWarning: status dataset not created yet\n",
      "  warn('status dataset not created yet')\n"
     ]
    },
    {
     "name": "stdout",
     "output_type": "stream",
     "text": [
      "Resuming computation. 0% completed already\n",
      "\tThis class (likely) supports interruption and resuming of computations!\n",
      "\tIf you are operating in a python console, press Ctrl+C or Cmd+C to abort\n",
      "\tIf you are in a Jupyter notebook, click on \"Kernel\">>\"Interrupt\"\n",
      "\tIf you are operating on a cluster and your job gets killed, re-run the job to resume\n",
      "\n",
      "Rank 0 - 100% complete. Time remaining: 0.0 msec\n",
      "Finished processing the entire dataset!\n"
     ]
    },
    {
     "name": "stderr",
     "output_type": "stream",
     "text": [
      "c:\\Users\\abeke\\anaconda3\\envs\\rapid_fitting\\lib\\site-packages\\pyUSID\\io\\hdf_utils\\simple.py:888: UserWarning: A dataset named: Fit_Loop_Parameters already exists in group: /Measurement_000/Channel_000/Raw_Data-SHO_Fit_000/Guess-Loop_Fit_000\n",
      "  warn('A dataset named: {} already exists in group: {}'.format(dset_name, h5_group.name))\n"
     ]
    }
   ],
   "source": [
    "h5_loop_fit, h5_loop_group = fit_loop_function(h5_f, h5_main)"
   ]
  },
  {
   "cell_type": "code",
   "execution_count": 6,
   "metadata": {},
   "outputs": [
    {
     "name": "stdout",
     "output_type": "stream",
     "text": [
      "/\n",
      "├ Measurement_000\n",
      "  ---------------\n",
      "  ├ Channel_000\n",
      "    -----------\n",
      "    ├ Bin_FFT\n",
      "    ├ Bin_Frequencies\n",
      "    ├ Bin_Indices\n",
      "    ├ Bin_Step\n",
      "    ├ Bin_Wfm_Type\n",
      "    ├ Excitation_Waveform\n",
      "    ├ Noise_Floor\n",
      "    ├ Position_Indices\n",
      "    ├ Position_Values\n",
      "    ├ Raw_Data\n",
      "    ├ Raw_Data-Predictions_000\n",
      "      ------------------------\n",
      "      ├ Position_Indices\n",
      "      ├ Position_Values\n",
      "      ├ SHO_Pred_Results\n",
      "      ├ Spectroscopic_Indices\n",
      "      ├ Spectroscopic_Values\n",
      "    ├ Raw_Data-SHO_Fit_000\n",
      "      --------------------\n",
      "      ├ Fit\n",
      "      ├ Guess\n",
      "      ├ Guess-Loop_Fit_000\n",
      "        ------------------\n",
      "        ├ Fit\n",
      "        ├ Fit_Loop_Parameters\n",
      "        ├ Guess\n",
      "        ├ Guess_Loop_Parameters\n",
      "        ├ Loop_Metrics\n",
      "        ├ Loop_Metrics_Indices\n",
      "        ├ Loop_Metrics_Values\n",
      "        ├ Projected_Loops\n",
      "        ├ completed_fit_positions\n",
      "        ├ completed_guess_positions\n",
      "      ├ Spectroscopic_Indices\n",
      "      ├ Spectroscopic_Values\n",
      "      ├ completed_fit_positions\n",
      "      ├ completed_guess_positions\n",
      "      ├ scaled_fit\n",
      "    ├ Spatially_Averaged_Plot_Group_000\n",
      "      ---------------------------------\n",
      "      ├ Bin_Frequencies\n",
      "      ├ Max_Response\n",
      "      ├ Mean_Spectrogram\n",
      "      ├ Min_Response\n",
      "      ├ Spectroscopic_Parameter\n",
      "      ├ Step_Averaged_Response\n",
      "    ├ Spatially_Averaged_Plot_Group_001\n",
      "      ---------------------------------\n",
      "      ├ Bin_Frequencies\n",
      "      ├ Max_Response\n",
      "      ├ Mean_Spectrogram\n",
      "      ├ Min_Response\n",
      "      ├ Spectroscopic_Parameter\n",
      "      ├ Step_Averaged_Response\n",
      "    ├ Spectroscopic_Indices\n",
      "    ├ Spectroscopic_Values\n",
      "    ├ UDVS\n",
      "    ├ UDVS_Indices\n",
      "    ├ complex\n",
      "      -------\n",
      "      ├ imag\n",
      "      ├ imag_resample\n",
      "      ├ real\n",
      "      ├ real_resample\n",
      "      ├ scaled_data\n",
      "    ├ magn_spec\n",
      "      ---------\n",
      "      ├ amp\n",
      "      ├ phase\n",
      "    ├ magn_spec_resample\n",
      "      ------------------\n",
      "      ├ amp_resample\n",
      "      ├ phase_resample\n",
      "    ├ raw_data_resample\n",
      "├ Raw_Data-SHO_Fit_000\n",
      "  --------------------\n",
      "  ├ Fit\n",
      "  ├ Guess\n",
      "  ├ Spectroscopic_Indices\n",
      "  ├ Spectroscopic_Values\n",
      "  ├ completed_fit_positions\n",
      "  ├ completed_guess_positions\n",
      "├ predictions\n"
     ]
    }
   ],
   "source": [
    "usid.hdf_utils.print_tree(h5_f)"
   ]
  },
  {
   "cell_type": "code",
   "execution_count": null,
   "metadata": {},
   "outputs": [],
   "source": []
  }
 ],
 "metadata": {
  "kernelspec": {
   "display_name": "rapid_fitting",
   "language": "python",
   "name": "python3"
  },
  "language_info": {
   "codemirror_mode": {
    "name": "ipython",
    "version": 3
   },
   "file_extension": ".py",
   "mimetype": "text/x-python",
   "name": "python",
   "nbconvert_exporter": "python",
   "pygments_lexer": "ipython3",
   "version": "3.10.8 | packaged by conda-forge | (main, Nov 24 2022, 14:07:00) [MSC v.1916 64 bit (AMD64)]"
  },
  "orig_nbformat": 4,
  "vscode": {
   "interpreter": {
    "hash": "c58f42fd11d8ae4df132d3c425059695e86ccc63a852aa66615442730ca8b1fc"
   }
  }
 },
 "nbformat": 4,
 "nbformat_minor": 2
}
