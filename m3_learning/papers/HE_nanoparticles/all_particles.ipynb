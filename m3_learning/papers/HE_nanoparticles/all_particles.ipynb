{
 "cells": [
  {
   "attachments": {},
   "cell_type": "markdown",
   "metadata": {},
   "source": [
    "# Imaging and structure analysis of ferroelectric domains, domain walls, and vortices by scanning electron diffraction\n",
    "\n",
    "Ursula Ludacka<sup>1</sup>, Jiali He<sup>1</sup>, Shuyu Qin<sup>3,4</sup>, Manuel Zahn<sup>1,5</sup>, Emil Frang Christiansen<sup>2</sup>, Kasper A. Hunnestad<sup>1</sup>, Zewu Yan<sup>6,7</sup>, Edith Bourret<sup>7</sup>, István Kézsmárki<sup>5</sup>, Antonius T. J. van Helvoort<sup>2</sup>, Joshua Agar<sup>3,4</sup>, Dennis Meier<sup>1</sup>\n",
    "\n",
    "Email: dennis.meier@ntnu.no, jca92@drexel.edu\n",
    "\n",
    "<sup>1</sup> Department of Materials Science and Engineering, NTNU Norwegian University of Science and Technology, Trondheim, Norway \\\n",
    "<sup>2</sup> Department of Physics, NTNU Norwegian University of Science and Technology, Trondheim, Norway\\\n",
    "<sup>3</sup> Department of Materials Science and Engineering, Lehigh University, Bethlehem, USA\\\n",
    "<sup>4</sup> Department of Mechanical Engineering and Mechanics, Drexel University, Philadelphia, USA\\\n",
    "<sup>5</sup> Experimental Physics V, University of Augsburg, Augsburg, Germany\\\n",
    "<sup>6</sup> Department of Physics, ETH Zurich, Zürich, Switzerland.\\\n",
    "<sup>7</sup> Materials Sciences Division, Lawrence Berkeley National Laboratory, Berkeley, USA.\n"
   ]
  },
  {
   "attachments": {},
   "cell_type": "markdown",
   "metadata": {},
   "source": [
    "## Abstract\n",
    "\n",
    "Direct electron detectors in scanning transmission electron microscopy give unprecedented possibilities for structure analysis at the nanoscale. In electronic and quantum materials, this new capability gives access to, for example, emergent chiral structures and symmetry-breaking distortions that underpin functional properties. Quantifying nanoscale structural features with statistical significance, however, is complicated by the subtleties of dynamic diffraction and coexisting contrast mechanisms, which often results in low signal-to-noise and the superposition of multiple signals that are challenging to deconvolute. Here we apply scanning electron diffraction to explore local polar distortions in the uniaxial ferroelectric Er(Mn,Ti)O3. Using a custom-designed convolutional autoencoder with bespoke regularization, we demonstrate that subtle variations in the scattering signatures of ferroelectric domains, domain walls, and vortex textures can readily be disentangled with statistical significance and separated from extrinsic contributions due to, e.g., variations in specimen thickness or bending. The work demonstrates a pathway to quantitatively measure symmetry-breaking distortions across large areas, mapping structural changes at interfaces and topological structures with nanoscale spatial resolution.\n"
   ]
  },
  {
   "attachments": {},
   "cell_type": "markdown",
   "metadata": {},
   "source": [
    "## Imports and settings\n"
   ]
  },
  {
   "cell_type": "code",
   "execution_count": 2,
   "metadata": {},
   "outputs": [],
   "source": [
    "# !pip install m3_learning\n",
    "# "
   ]
  },
  {
   "cell_type": "code",
   "execution_count": 1,
   "metadata": {},
   "outputs": [
    {
     "name": "stdout",
     "output_type": "stream",
     "text": [
      "printing set for seaborn\n",
      "Pytorch seed was set to 42\n",
      "Numpy seed was set to 42\n"
     ]
    }
   ],
   "source": [
    "import sys\n",
    "import glob\n",
    "import os\n",
    "sys.path.append('./../')\n",
    "sys.path.append('./../../src/m3_learning')\n",
    "%load_ext autoreload\n",
    "%autoreload 2\n",
    "\n",
    "import matplotlib.pyplot as plt\n",
    "import numpy as np\n",
    "import hyperspy.api as hs\n",
    "import torch\n",
    "import h5py\n",
    "# import nn\n",
    "from nn.random import random_seed\n",
    "from viz.style import set_style\n",
    "from viz.printing import printer\n",
    "from viz.Movies import make_movie\n",
    "from nn.STEM_AE.Dataset import STEM_Dataset\n",
    "from util.file_IO import download_and_unzip\n",
    "from ipywidgets import interact\n",
    "\n",
    "from nn.STEM_AE.Viz import Viz\n",
    "from nn.STEM_AE.STEM_AE import ConvAutoencoder\n",
    "# Specify the filename and the path to save the file\n",
    "save_path = './../../Northwestern'\n",
    "fig_path = save_path + \"_Figures/\"\n",
    "\n",
    "# builds the printer object\n",
    "printing = printer(basepath=fig_path,fileformats=['png'])\n",
    "\n",
    "# Set the style of the plots\n",
    "set_style(\"printing\")\n",
    "\n",
    "# Set the random seed for reproducibility\n",
    "random_seed(seed=42)\n",
    "\n",
    "%matplotlib inline\n"
   ]
  },
  {
   "attachments": {},
   "cell_type": "markdown",
   "metadata": {},
   "source": [
    "## Domains "
   ]
  },
  {
   "cell_type": "markdown",
   "metadata": {},
   "source": [
    "### Loads the Dataset\n",
    "\n",
    "save in format (save_folder)/particles/instrument/composition/SI data (#)/Diffraction SI.dm4 for correct data processing"
   ]
  },
  {
   "cell_type": "code",
   "execution_count": 2,
   "metadata": {},
   "outputs": [
    {
     "name": "stdout",
     "output_type": "stream",
     "text": [
      "fetching metadata...\n"
     ]
    },
    {
     "name": "stderr",
     "output_type": "stream",
     "text": [
      "  0%|          | 0/126 [00:00<?, ?it/s]"
     ]
    },
    {
     "name": "stderr",
     "output_type": "stream",
     "text": [
      " 88%|████████▊ | 111/126 [00:03<00:00, 46.40it/s]ERROR:hyperspy.io:If this file format is supported, please report this error to the HyperSpy developers.\n",
      " 93%|█████████▎| 117/126 [00:03<00:00, 49.29it/s]"
     ]
    },
    {
     "name": "stdout",
     "output_type": "stream",
     "text": [
      "bad ./../../Northwestern/aucu_agcu/2021_06_23_stela_80kV/AuCu/SI data (29)/Diffraction SI.dm4\n"
     ]
    },
    {
     "name": "stderr",
     "output_type": "stream",
     "text": [
      " 99%|█████████▉| 125/126 [00:03<00:00, 34.47it/s]\n"
     ]
    },
    {
     "name": "stdout",
     "output_type": "stream",
     "text": [
      "124 valid samples\n",
      "fitting scaler...\n",
      "done\n"
     ]
    }
   ],
   "source": [
    "# # take about 21 minutes to write entire h5 file in numpy, or about 10s per dataset\n",
    "dset = STEM_Dataset(save_path,\n",
    "                    f'{save_path}/*/*/*/SI data (*)/Diffraction SI.dm4',\n",
    "                    overwrite=False)"
   ]
  },
  {
   "attachments": {},
   "cell_type": "markdown",
   "metadata": {},
   "source": [
    "### Visualizes the Raw Data\n"
   ]
  },
  {
   "cell_type": "code",
   "execution_count": 3,
   "metadata": {},
   "outputs": [],
   "source": [
    "# instantiates the visualization class\n",
    "viz = Viz(printer=printing, labelfigs_=True)\n",
    "viz.scalebar_ = {\"width\": 250, \"scale length\": 100, \"units\": \"nm\", \"channel\": -1}"
   ]
  },
  {
   "cell_type": "code",
   "execution_count": 12,
   "metadata": {},
   "outputs": [],
   "source": [
    "# # TODO: Do masking by particle. Record location/radius\n",
    "# # TODO: fix the bright/darkfield viz, and the avg. By Particle.\n",
    "# # bright_field_ = bbox\n",
    "# # # dark_field_ = (dx1,dx2,dy1,dy2)\n",
    "# filename = \"STEM_raw_and_virtual_particle_62\"\n",
    "# viz.STEM_raw_and_virtual(\n",
    "#     domain,\n",
    "#     # bright_field_=bright_field_,\n",
    "#     dark_field_=dark_field_,\n",
    "#     scalebar_=True,\n",
    "#     datapath=f'{save_path}/SI data (*)',\n",
    "#     shape_=domain.data.shape,\n",
    "# )"
   ]
  },
  {
   "attachments": {},
   "cell_type": "markdown",
   "metadata": {},
   "source": [
    "### Builds the Neural Network Model\n"
   ]
  },
  {
   "cell_type": "code",
   "execution_count": 4,
   "metadata": {},
   "outputs": [],
   "source": [
    "encoder_step_size = dset.shape[-2:]\n",
    "pooling_list = [4, 2, 2]\n",
    "decoder_step_size = [8, 8]\n",
    "upsampling_list = [4, 4]\n",
    "embedding_size = 32\n",
    "conv_size = 128\n",
    "\n",
    "# set device to load model\n",
    "device = \"cpu\"\n",
    "if torch.cuda.is_available():\n",
    "    device = \"cuda:0\"\n",
    "\n",
    "model = ConvAutoencoder(\n",
    "    encoder_step_size=encoder_step_size,\n",
    "    pooling_list=pooling_list,\n",
    "    decoder_step_size=decoder_step_size,\n",
    "    upsampling_list=upsampling_list,\n",
    "    embedding_size=embedding_size,\n",
    "    conv_size=conv_size,\n",
    "    device=device,\n",
    "    learning_rate=3e-5,\n",
    ")\n"
   ]
  },
  {
   "attachments": {},
   "cell_type": "markdown",
   "metadata": {},
   "source": [
    "### Trains or Loads Pretrained Weights\n"
   ]
  },
  {
   "cell_type": "code",
   "execution_count": 30,
   "metadata": {},
   "outputs": [
    {
     "name": "stdout",
     "output_type": "stream",
     "text": [
      "[Errno 2] Unable to open file (unable to open file: name = './Combined_all_samples/embeddings.h5', errno = 2, error message = 'No such file or directory', flags = 1, o_flags = 2)\n",
      "Embedding and affines not opened\n",
      "[Errno 2] Unable to open file (unable to open file: name = './Combined_all_samples/generated.h5', errno = 2, error message = 'No such file or directory', flags = 1, o_flags = 2)\n",
      "Generated not opened\n"
     ]
    }
   ],
   "source": [
    "# set retrain parameter\n",
    "train = False\n",
    "if train:\n",
    "    for ep in np.arange(1,100,10):\n",
    "        model.Train(\n",
    "            dset,\n",
    "            coef_1=1e-5*ep,\n",
    "            coef_2=1e-5*ep,\n",
    "            epoch_=ep,\n",
    "            epochs=10,\n",
    "            with_scheduler=False,\n",
    "            folder_path=\"Combined_all_samples\",\n",
    "            batch_size=16,\n",
    "            save_emb_every=1\n",
    "        )\n",
    "else:\n",
    "    model.load_weights(\n",
    "        f\"Combined_all_samples/(2023-08-21)_epoch:0006_l1coef:0.0000_lr:0.00003_trainloss:0.6229.pkl\"\n",
    "        )"
   ]
  },
  {
   "attachments": {},
   "cell_type": "markdown",
   "metadata": {},
   "source": [
    "### Computes the Embeddings\n"
   ]
  },
  {
   "cell_type": "code",
   "execution_count": 31,
   "metadata": {},
   "outputs": [
    {
     "data": {
      "text/plain": [
       "'Combined_all_samples/(2023-08-21)_epoch:0006_l1coef:0.0000_lr:0.00003_trainloss:0.6229.pkl'"
      ]
     },
     "execution_count": 31,
     "metadata": {},
     "output_type": "execute_result"
    }
   ],
   "source": [
    "model.checkpoint"
   ]
  },
  {
   "cell_type": "code",
   "execution_count": 75,
   "metadata": {},
   "outputs": [],
   "source": [
    "checkpoint = '/home/m3learning/Northwestern/m3_learning/m3_learning/papers/HE_nanoparticles/Combined_all_samples/(2023-08-21)_epoch:0006_l1coef:0.0000_lr:0.00003_trainloss:0.6229.pkl'"
   ]
  },
  {
   "cell_type": "code",
   "execution_count": 33,
   "metadata": {
    "tags": [
     "hide-output"
    ]
   },
   "outputs": [
    {
     "name": "stderr",
     "output_type": "stream",
     "text": [
      "100%|██████████| 103424/103424 [57:16<00:00, 30.10it/s]\n"
     ]
    }
   ],
   "source": [
    "# run if you did not autosave embedding (takes about 50 minutes on h100, or 2.5 hr on titan)\n",
    "model.get_embedding(dset,train=False)"
   ]
  },
  {
   "attachments": {},
   "cell_type": "markdown",
   "metadata": {},
   "source": [
    "### Visualizes the Embeddings\n"
   ]
  },
  {
   "cell_type": "code",
   "execution_count": 77,
   "metadata": {},
   "outputs": [
    {
     "name": "stderr",
     "output_type": "stream",
     "text": [
      "100%|██████████| 124/124 [09:43<00:00,  4.70s/it]\n"
     ]
    }
   ],
   "source": [
    "viz.channels = [i for i in range(32) if (model.embedding[:,i]).any()]\n",
    "viz.scalebar_ = {\"width\": 250, \"scale length\": 100, \"units\": \"nm\"}\n",
    "viz.model = model\n",
    "viz.embeddings(\n",
    "    dset.meta,\n",
    "    mod=4,\n",
    "    scalebar_=viz.scalebar_,\n",
    "    figsize=(5, 8),\n",
    "    savefolder='emb_affine_epoch_6/'\n",
    "    )"
   ]
  },
  {
   "cell_type": "code",
   "execution_count": 78,
   "metadata": {},
   "outputs": [
    {
     "name": "stderr",
     "output_type": "stream",
     "text": [
      "  0%|          | 0/124 [00:00<?, ?it/s]"
     ]
    },
    {
     "name": "stderr",
     "output_type": "stream",
     "text": [
      "100%|██████████| 124/124 [03:48<00:00,  1.84s/it]\n"
     ]
    }
   ],
   "source": [
    "# Visualize affine transforms\n",
    "viz.affines(\n",
    "    dset.meta,\n",
    "    scalebar_=viz.scalebar_,\n",
    "    figsize=(5, 8),\n",
    "    savefolder='emb_affine_epoch_6/'\n",
    "    )"
   ]
  },
  {
   "attachments": {},
   "cell_type": "markdown",
   "metadata": {},
   "source": [
    "### Generates Data from the Latent Space\n"
   ]
  },
  {
   "cell_type": "code",
   "execution_count": 34,
   "metadata": {},
   "outputs": [],
   "source": [
    "checkpoint = '/home/m3learning/Northwestern/m3_learning/m3_learning/papers/HE_nanoparticles/Combined_all_samples/(2023-08-21)_epoch:0006_l1coef:0.0000_lr:0.00003_trainloss:0.6229.pkl'\n",
    "\n",
    "embedding = model.embedding\n",
    "# channels = []\n",
    "# for i in range(32):\n",
    "#     if embedding[:,i].max()>0.03: channels.append(i)\n",
    "# channels\n",
    "\n",
    "viz.channels = [i for i in range(32) if (model.embedding[:,i]).any()]\n",
    "# ranges = []\n",
    "# for c in channels:\n",
    "#     ranges.append([embedding[:,c].min(),embedding[:,c].max()])\n",
    "    \n",
    "model.embedding = embedding\n",
    "viz.model = model\n",
    "# folder_name = \"Generator_of_epoch_6_all_ch\""
   ]
  },
  {
   "cell_type": "code",
   "execution_count": 36,
   "metadata": {},
   "outputs": [
    {
     "data": {
      "text/plain": [
       "['embedding_(2023-08-21)_epoch:0006_l1coef:0.0000_lr:0.00003_trainloss:0.6229',\n",
       " 'rotation_(2023-08-21)_epoch:0006_l1coef:0.0000_lr:0.00003_trainloss:0.6229',\n",
       " 'scaleshear_(2023-08-21)_epoch:0006_l1coef:0.0000_lr:0.00003_trainloss:0.6229',\n",
       " 'translation_(2023-08-21)_epoch:0006_l1coef:0.0000_lr:0.00003_trainloss:0.6229']"
      ]
     },
     "execution_count": 36,
     "metadata": {},
     "output_type": "execute_result"
    }
   ],
   "source": [
    "h = h5py.File(model.emb_h5_path,'r+')\n",
    "list(h.keys())"
   ]
  },
  {
   "cell_type": "code",
   "execution_count": 37,
   "metadata": {},
   "outputs": [],
   "source": [
    "h.close()"
   ]
  },
  {
   "cell_type": "code",
   "execution_count": 38,
   "metadata": {},
   "outputs": [
    {
     "name": "stdout",
     "output_type": "stream",
     "text": [
      "0 AgCu(1)\n"
     ]
    },
    {
     "name": "stderr",
     "output_type": "stream",
     "text": [
      "100%|██████████| 25/25 [00:10<00:00,  2.45it/s]\n"
     ]
    },
    {
     "name": "stdout",
     "output_type": "stream",
     "text": [
      "1 AgCu(2)\n"
     ]
    },
    {
     "name": "stderr",
     "output_type": "stream",
     "text": [
      "100%|██████████| 25/25 [00:04<00:00,  5.63it/s]\n"
     ]
    },
    {
     "name": "stdout",
     "output_type": "stream",
     "text": [
      "2 AgCu(3)\n"
     ]
    },
    {
     "name": "stderr",
     "output_type": "stream",
     "text": [
      "100%|██████████| 25/25 [00:01<00:00, 13.27it/s]\n"
     ]
    },
    {
     "name": "stdout",
     "output_type": "stream",
     "text": [
      "3 AgCu(5)\n"
     ]
    },
    {
     "name": "stderr",
     "output_type": "stream",
     "text": [
      "100%|██████████| 25/25 [00:01<00:00, 13.24it/s]\n"
     ]
    },
    {
     "name": "stdout",
     "output_type": "stream",
     "text": [
      "4 AgCu(6)\n"
     ]
    },
    {
     "name": "stderr",
     "output_type": "stream",
     "text": [
      "100%|██████████| 25/25 [00:01<00:00, 13.26it/s]\n"
     ]
    },
    {
     "name": "stdout",
     "output_type": "stream",
     "text": [
      "5 AgCu(9)\n"
     ]
    },
    {
     "name": "stderr",
     "output_type": "stream",
     "text": [
      "100%|██████████| 25/25 [00:01<00:00, 13.28it/s]\n"
     ]
    },
    {
     "name": "stdout",
     "output_type": "stream",
     "text": [
      "6 AgCu(10)\n"
     ]
    },
    {
     "name": "stderr",
     "output_type": "stream",
     "text": [
      "100%|██████████| 25/25 [00:01<00:00, 13.25it/s]\n"
     ]
    },
    {
     "name": "stdout",
     "output_type": "stream",
     "text": [
      "7 AgCu(11)\n"
     ]
    },
    {
     "name": "stderr",
     "output_type": "stream",
     "text": [
      "100%|██████████| 25/25 [00:01<00:00, 13.27it/s]\n"
     ]
    },
    {
     "name": "stdout",
     "output_type": "stream",
     "text": [
      "8 AgCu(13)\n"
     ]
    },
    {
     "name": "stderr",
     "output_type": "stream",
     "text": [
      "100%|██████████| 25/25 [00:01<00:00, 13.22it/s]\n"
     ]
    },
    {
     "name": "stdout",
     "output_type": "stream",
     "text": [
      "9 AgCu(14)\n"
     ]
    },
    {
     "name": "stderr",
     "output_type": "stream",
     "text": [
      "100%|██████████| 25/25 [00:04<00:00,  5.63it/s]\n"
     ]
    },
    {
     "name": "stdout",
     "output_type": "stream",
     "text": [
      "10 AgCu(15)\n"
     ]
    },
    {
     "name": "stderr",
     "output_type": "stream",
     "text": [
      "100%|██████████| 25/25 [00:04<00:00,  5.65it/s]\n"
     ]
    },
    {
     "name": "stdout",
     "output_type": "stream",
     "text": [
      "11 AgCu(16)\n"
     ]
    },
    {
     "name": "stderr",
     "output_type": "stream",
     "text": [
      "100%|██████████| 25/25 [00:01<00:00, 13.21it/s]\n"
     ]
    },
    {
     "name": "stdout",
     "output_type": "stream",
     "text": [
      "12 AgCu(17)\n"
     ]
    },
    {
     "name": "stderr",
     "output_type": "stream",
     "text": [
      "100%|██████████| 25/25 [00:01<00:00, 13.22it/s]\n"
     ]
    },
    {
     "name": "stdout",
     "output_type": "stream",
     "text": [
      "13 AgCu(18)\n"
     ]
    },
    {
     "name": "stderr",
     "output_type": "stream",
     "text": [
      "100%|██████████| 25/25 [00:04<00:00,  5.57it/s]\n"
     ]
    },
    {
     "name": "stdout",
     "output_type": "stream",
     "text": [
      "14 AgCu(19)\n"
     ]
    },
    {
     "name": "stderr",
     "output_type": "stream",
     "text": [
      "100%|██████████| 25/25 [00:04<00:00,  5.75it/s]\n"
     ]
    },
    {
     "name": "stdout",
     "output_type": "stream",
     "text": [
      "15 AgCu(20)\n"
     ]
    },
    {
     "name": "stderr",
     "output_type": "stream",
     "text": [
      "100%|██████████| 25/25 [00:01<00:00, 13.19it/s]\n"
     ]
    },
    {
     "name": "stdout",
     "output_type": "stream",
     "text": [
      "16 AgCu(21)\n"
     ]
    },
    {
     "name": "stderr",
     "output_type": "stream",
     "text": [
      "100%|██████████| 25/25 [00:01<00:00, 13.23it/s]\n"
     ]
    },
    {
     "name": "stdout",
     "output_type": "stream",
     "text": [
      "17 AgCu(22)\n"
     ]
    },
    {
     "name": "stderr",
     "output_type": "stream",
     "text": [
      "100%|██████████| 25/25 [00:01<00:00, 13.29it/s]\n"
     ]
    },
    {
     "name": "stdout",
     "output_type": "stream",
     "text": [
      "18 AgCu(23)\n"
     ]
    },
    {
     "name": "stderr",
     "output_type": "stream",
     "text": [
      "100%|██████████| 25/25 [00:04<00:00,  5.70it/s]\n"
     ]
    },
    {
     "name": "stdout",
     "output_type": "stream",
     "text": [
      "19 AgCu(24)\n"
     ]
    },
    {
     "name": "stderr",
     "output_type": "stream",
     "text": [
      "100%|██████████| 25/25 [00:04<00:00,  5.66it/s]\n"
     ]
    },
    {
     "name": "stdout",
     "output_type": "stream",
     "text": [
      "20 AgCu(26)\n"
     ]
    },
    {
     "name": "stderr",
     "output_type": "stream",
     "text": [
      "100%|██████████| 25/25 [00:01<00:00, 13.26it/s]\n"
     ]
    },
    {
     "name": "stdout",
     "output_type": "stream",
     "text": [
      "21 AgCu(41)\n"
     ]
    },
    {
     "name": "stderr",
     "output_type": "stream",
     "text": [
      "100%|██████████| 25/25 [00:01<00:00, 13.26it/s]\n"
     ]
    },
    {
     "name": "stdout",
     "output_type": "stream",
     "text": [
      "22 AgCu(42)\n"
     ]
    },
    {
     "name": "stderr",
     "output_type": "stream",
     "text": [
      "100%|██████████| 25/25 [00:01<00:00, 13.22it/s]\n"
     ]
    },
    {
     "name": "stdout",
     "output_type": "stream",
     "text": [
      "23 AgCu(43)\n"
     ]
    },
    {
     "name": "stderr",
     "output_type": "stream",
     "text": [
      "100%|██████████| 25/25 [00:01<00:00, 13.25it/s]\n"
     ]
    },
    {
     "name": "stdout",
     "output_type": "stream",
     "text": [
      "24 AgCu(44)\n"
     ]
    },
    {
     "name": "stderr",
     "output_type": "stream",
     "text": [
      "100%|██████████| 25/25 [00:01<00:00, 13.22it/s]\n"
     ]
    },
    {
     "name": "stdout",
     "output_type": "stream",
     "text": [
      "25 AgCu(45)\n"
     ]
    },
    {
     "name": "stderr",
     "output_type": "stream",
     "text": [
      "100%|██████████| 25/25 [00:01<00:00, 13.26it/s]\n"
     ]
    },
    {
     "name": "stdout",
     "output_type": "stream",
     "text": [
      "26 AgCu(46)\n"
     ]
    },
    {
     "name": "stderr",
     "output_type": "stream",
     "text": [
      "100%|██████████| 25/25 [00:01<00:00, 13.17it/s]\n"
     ]
    },
    {
     "name": "stdout",
     "output_type": "stream",
     "text": [
      "27 AgCu(48)\n"
     ]
    },
    {
     "name": "stderr",
     "output_type": "stream",
     "text": [
      "100%|██████████| 25/25 [00:01<00:00, 13.29it/s]\n"
     ]
    },
    {
     "name": "stdout",
     "output_type": "stream",
     "text": [
      "28 AgCu(50)\n"
     ]
    },
    {
     "name": "stderr",
     "output_type": "stream",
     "text": [
      "100%|██████████| 25/25 [00:01<00:00, 13.20it/s]\n"
     ]
    },
    {
     "name": "stdout",
     "output_type": "stream",
     "text": [
      "29 AgCu(53)\n"
     ]
    },
    {
     "name": "stderr",
     "output_type": "stream",
     "text": [
      "100%|██████████| 25/25 [00:01<00:00, 13.18it/s]\n"
     ]
    },
    {
     "name": "stdout",
     "output_type": "stream",
     "text": [
      "30 AgCu(54)\n"
     ]
    },
    {
     "name": "stderr",
     "output_type": "stream",
     "text": [
      "100%|██████████| 25/25 [00:01<00:00, 13.21it/s]\n"
     ]
    },
    {
     "name": "stdout",
     "output_type": "stream",
     "text": [
      "31 Au30Ag10Co20Ni40(62)\n"
     ]
    },
    {
     "name": "stderr",
     "output_type": "stream",
     "text": [
      "100%|██████████| 25/25 [00:01<00:00, 13.21it/s]\n"
     ]
    },
    {
     "name": "stdout",
     "output_type": "stream",
     "text": [
      "32 Au30Ag10Co20Ni40(63)\n"
     ]
    },
    {
     "name": "stderr",
     "output_type": "stream",
     "text": [
      "100%|██████████| 25/25 [00:01<00:00, 13.28it/s]\n"
     ]
    },
    {
     "name": "stdout",
     "output_type": "stream",
     "text": [
      "33 Au30Ag10Co20Ni40(64)\n"
     ]
    },
    {
     "name": "stderr",
     "output_type": "stream",
     "text": [
      "100%|██████████| 25/25 [00:01<00:00, 13.26it/s]\n"
     ]
    },
    {
     "name": "stdout",
     "output_type": "stream",
     "text": [
      "34 Au30Ag10Co20Ni40(65)\n"
     ]
    },
    {
     "name": "stderr",
     "output_type": "stream",
     "text": [
      "100%|██████████| 25/25 [00:01<00:00, 13.26it/s]\n"
     ]
    },
    {
     "name": "stdout",
     "output_type": "stream",
     "text": [
      "35 Au30Ag10Co20Ni40(66)\n"
     ]
    },
    {
     "name": "stderr",
     "output_type": "stream",
     "text": [
      "100%|██████████| 25/25 [00:04<00:00,  5.68it/s]\n"
     ]
    },
    {
     "name": "stdout",
     "output_type": "stream",
     "text": [
      "36 Au30Ag10Co20Ni40(67)\n"
     ]
    },
    {
     "name": "stderr",
     "output_type": "stream",
     "text": [
      "100%|██████████| 25/25 [00:04<00:00,  5.69it/s]\n"
     ]
    },
    {
     "name": "stdout",
     "output_type": "stream",
     "text": [
      "37 Au30Ag10Co20Ni40(68)\n"
     ]
    },
    {
     "name": "stderr",
     "output_type": "stream",
     "text": [
      "100%|██████████| 25/25 [00:04<00:00,  5.74it/s]\n"
     ]
    },
    {
     "name": "stdout",
     "output_type": "stream",
     "text": [
      "38 Au30Ag10Co20Ni40(69)\n"
     ]
    },
    {
     "name": "stderr",
     "output_type": "stream",
     "text": [
      "100%|██████████| 25/25 [00:01<00:00, 13.25it/s]\n"
     ]
    },
    {
     "name": "stdout",
     "output_type": "stream",
     "text": [
      "39 Au30Ag10Co20Ni40(70)\n"
     ]
    },
    {
     "name": "stderr",
     "output_type": "stream",
     "text": [
      "100%|██████████| 25/25 [00:01<00:00, 13.18it/s]\n"
     ]
    },
    {
     "name": "stdout",
     "output_type": "stream",
     "text": [
      "40 Au30Ag10Co20Ni40(71)\n"
     ]
    },
    {
     "name": "stderr",
     "output_type": "stream",
     "text": [
      "100%|██████████| 25/25 [00:04<00:00,  5.68it/s]\n"
     ]
    },
    {
     "name": "stdout",
     "output_type": "stream",
     "text": [
      "41 Au30Cu20Co20Ni30(1)\n"
     ]
    },
    {
     "name": "stderr",
     "output_type": "stream",
     "text": [
      "100%|██████████| 25/25 [00:01<00:00, 13.17it/s]\n"
     ]
    },
    {
     "name": "stdout",
     "output_type": "stream",
     "text": [
      "42 Au30Cu20Co20Ni30(2)\n"
     ]
    },
    {
     "name": "stderr",
     "output_type": "stream",
     "text": [
      "100%|██████████| 25/25 [00:01<00:00, 13.17it/s]\n"
     ]
    },
    {
     "name": "stdout",
     "output_type": "stream",
     "text": [
      "43 Au30Cu20Co20Ni30(6)\n"
     ]
    },
    {
     "name": "stderr",
     "output_type": "stream",
     "text": [
      "100%|██████████| 25/25 [00:01<00:00, 13.28it/s]\n"
     ]
    },
    {
     "name": "stdout",
     "output_type": "stream",
     "text": [
      "44 Au30Cu20Co20Ni30(7)\n"
     ]
    },
    {
     "name": "stderr",
     "output_type": "stream",
     "text": [
      "100%|██████████| 25/25 [00:01<00:00, 13.21it/s]\n"
     ]
    },
    {
     "name": "stdout",
     "output_type": "stream",
     "text": [
      "45 Au30Cu20Co20Ni30(8)\n"
     ]
    },
    {
     "name": "stderr",
     "output_type": "stream",
     "text": [
      "100%|██████████| 25/25 [00:01<00:00, 13.17it/s]\n"
     ]
    },
    {
     "name": "stdout",
     "output_type": "stream",
     "text": [
      "46 Au30Cu20Co20Ni30(9)\n"
     ]
    },
    {
     "name": "stderr",
     "output_type": "stream",
     "text": [
      "100%|██████████| 25/25 [00:01<00:00, 13.21it/s]\n"
     ]
    },
    {
     "name": "stdout",
     "output_type": "stream",
     "text": [
      "47 Au30Cu20Co20Ni30(10)\n"
     ]
    },
    {
     "name": "stderr",
     "output_type": "stream",
     "text": [
      "100%|██████████| 25/25 [00:01<00:00, 13.22it/s]\n"
     ]
    },
    {
     "name": "stdout",
     "output_type": "stream",
     "text": [
      "48 Au30Cu20Co20Ni30(11)\n"
     ]
    },
    {
     "name": "stderr",
     "output_type": "stream",
     "text": [
      "100%|██████████| 25/25 [00:04<00:00,  5.68it/s]\n"
     ]
    },
    {
     "name": "stdout",
     "output_type": "stream",
     "text": [
      "49 Au30Cu20Co20Ni30(12)\n"
     ]
    },
    {
     "name": "stderr",
     "output_type": "stream",
     "text": [
      "100%|██████████| 25/25 [00:01<00:00, 13.23it/s]\n"
     ]
    },
    {
     "name": "stdout",
     "output_type": "stream",
     "text": [
      "50 Au30Cu20Co20Ni30(13)\n"
     ]
    },
    {
     "name": "stderr",
     "output_type": "stream",
     "text": [
      "100%|██████████| 25/25 [00:01<00:00, 13.15it/s]\n"
     ]
    },
    {
     "name": "stdout",
     "output_type": "stream",
     "text": [
      "51 Au30Cu20Co20Ni30(14)\n"
     ]
    },
    {
     "name": "stderr",
     "output_type": "stream",
     "text": [
      "100%|██████████| 25/25 [00:01<00:00, 13.18it/s]\n"
     ]
    },
    {
     "name": "stdout",
     "output_type": "stream",
     "text": [
      "52 Au30Cu20Co20Ni30(15)\n"
     ]
    },
    {
     "name": "stderr",
     "output_type": "stream",
     "text": [
      "100%|██████████| 25/25 [00:01<00:00, 13.19it/s]\n"
     ]
    },
    {
     "name": "stdout",
     "output_type": "stream",
     "text": [
      "53 Au30Cu20Co20Ni30(16)\n"
     ]
    },
    {
     "name": "stderr",
     "output_type": "stream",
     "text": [
      "100%|██████████| 25/25 [00:01<00:00, 13.24it/s]\n"
     ]
    },
    {
     "name": "stdout",
     "output_type": "stream",
     "text": [
      "54 Au30Cu20Co20Ni30(17)\n"
     ]
    },
    {
     "name": "stderr",
     "output_type": "stream",
     "text": [
      "100%|██████████| 25/25 [00:01<00:00, 13.18it/s]\n"
     ]
    },
    {
     "name": "stdout",
     "output_type": "stream",
     "text": [
      "55 Au30Cu20Co20Ni30(18)\n"
     ]
    },
    {
     "name": "stderr",
     "output_type": "stream",
     "text": [
      "100%|██████████| 25/25 [00:01<00:00, 13.24it/s]\n"
     ]
    },
    {
     "name": "stdout",
     "output_type": "stream",
     "text": [
      "56 Au30Cu20Co20Ni30(19)\n"
     ]
    },
    {
     "name": "stderr",
     "output_type": "stream",
     "text": [
      "100%|██████████| 25/25 [00:04<00:00,  5.71it/s]\n"
     ]
    },
    {
     "name": "stdout",
     "output_type": "stream",
     "text": [
      "57 Au30Cu20Co20Ni30(20)\n"
     ]
    },
    {
     "name": "stderr",
     "output_type": "stream",
     "text": [
      "100%|██████████| 25/25 [00:01<00:00, 13.16it/s]\n"
     ]
    },
    {
     "name": "stdout",
     "output_type": "stream",
     "text": [
      "58 Au30Cu20Co20Ni30(21)\n"
     ]
    },
    {
     "name": "stderr",
     "output_type": "stream",
     "text": [
      "100%|██████████| 25/25 [00:01<00:00, 13.21it/s]\n"
     ]
    },
    {
     "name": "stdout",
     "output_type": "stream",
     "text": [
      "59 Au30Cu20Co20Ni30(22)\n"
     ]
    },
    {
     "name": "stderr",
     "output_type": "stream",
     "text": [
      "100%|██████████| 25/25 [00:01<00:00, 13.28it/s]\n"
     ]
    },
    {
     "name": "stdout",
     "output_type": "stream",
     "text": [
      "60 Au30Cu20Co20Ni30(23)\n"
     ]
    },
    {
     "name": "stderr",
     "output_type": "stream",
     "text": [
      "100%|██████████| 25/25 [00:04<00:00,  5.67it/s]\n"
     ]
    },
    {
     "name": "stdout",
     "output_type": "stream",
     "text": [
      "61 Au30Cu20Co20Ni30(24)\n"
     ]
    },
    {
     "name": "stderr",
     "output_type": "stream",
     "text": [
      "100%|██████████| 25/25 [00:01<00:00, 13.23it/s]\n"
     ]
    },
    {
     "name": "stdout",
     "output_type": "stream",
     "text": [
      "62 Au30Cu20Co20Ni30(25)\n"
     ]
    },
    {
     "name": "stderr",
     "output_type": "stream",
     "text": [
      "100%|██████████| 25/25 [00:01<00:00, 13.20it/s]\n"
     ]
    },
    {
     "name": "stdout",
     "output_type": "stream",
     "text": [
      "63 Au30Cu20Co20Ni30(27)\n"
     ]
    },
    {
     "name": "stderr",
     "output_type": "stream",
     "text": [
      "100%|██████████| 25/25 [00:01<00:00, 13.23it/s]\n"
     ]
    },
    {
     "name": "stdout",
     "output_type": "stream",
     "text": [
      "64 Au30Cu20Co20Ni30(28)\n"
     ]
    },
    {
     "name": "stderr",
     "output_type": "stream",
     "text": [
      "100%|██████████| 25/25 [00:01<00:00, 12.99it/s]\n"
     ]
    },
    {
     "name": "stdout",
     "output_type": "stream",
     "text": [
      "65 Au30Cu20Co20Ni30(29)\n"
     ]
    },
    {
     "name": "stderr",
     "output_type": "stream",
     "text": [
      "100%|██████████| 25/25 [00:01<00:00, 13.05it/s]\n"
     ]
    },
    {
     "name": "stdout",
     "output_type": "stream",
     "text": [
      "66 Au30Cu20Co20Ni30(30)\n"
     ]
    },
    {
     "name": "stderr",
     "output_type": "stream",
     "text": [
      "100%|██████████| 25/25 [00:04<00:00,  5.66it/s]\n"
     ]
    },
    {
     "name": "stdout",
     "output_type": "stream",
     "text": [
      "67 Au30Cu20Co20Ni30(31)\n"
     ]
    },
    {
     "name": "stderr",
     "output_type": "stream",
     "text": [
      "100%|██████████| 25/25 [00:01<00:00, 13.24it/s]\n"
     ]
    },
    {
     "name": "stdout",
     "output_type": "stream",
     "text": [
      "68 Au30Cu20Co20Ni30(32)\n"
     ]
    },
    {
     "name": "stderr",
     "output_type": "stream",
     "text": [
      "100%|██████████| 25/25 [00:01<00:00, 13.26it/s]\n"
     ]
    },
    {
     "name": "stdout",
     "output_type": "stream",
     "text": [
      "69 Au30Cu20Co20Ni30(33)\n"
     ]
    },
    {
     "name": "stderr",
     "output_type": "stream",
     "text": [
      "100%|██████████| 25/25 [00:01<00:00, 13.25it/s]\n"
     ]
    },
    {
     "name": "stdout",
     "output_type": "stream",
     "text": [
      "70 Au30Cu20Co20Ni30(34)\n"
     ]
    },
    {
     "name": "stderr",
     "output_type": "stream",
     "text": [
      "100%|██████████| 25/25 [00:04<00:00,  5.69it/s]\n"
     ]
    },
    {
     "name": "stdout",
     "output_type": "stream",
     "text": [
      "71 Au30Cu20Co20Ni30(35)\n"
     ]
    },
    {
     "name": "stderr",
     "output_type": "stream",
     "text": [
      "100%|██████████| 25/25 [00:01<00:00, 13.25it/s]\n"
     ]
    },
    {
     "name": "stdout",
     "output_type": "stream",
     "text": [
      "72 Au30Cu20Co20Ni30(36)\n"
     ]
    },
    {
     "name": "stderr",
     "output_type": "stream",
     "text": [
      "100%|██████████| 25/25 [00:01<00:00, 13.21it/s]\n"
     ]
    },
    {
     "name": "stdout",
     "output_type": "stream",
     "text": [
      "73 Au30Cu20Co20Ni30(37)\n"
     ]
    },
    {
     "name": "stderr",
     "output_type": "stream",
     "text": [
      "100%|██████████| 25/25 [00:04<00:00,  5.62it/s]\n"
     ]
    },
    {
     "name": "stdout",
     "output_type": "stream",
     "text": [
      "74 Au30Cu20Co20Ni30(38)\n"
     ]
    },
    {
     "name": "stderr",
     "output_type": "stream",
     "text": [
      "100%|██████████| 25/25 [00:01<00:00, 13.21it/s]\n"
     ]
    },
    {
     "name": "stdout",
     "output_type": "stream",
     "text": [
      "75 Au30Cu20Co20Ni30(40)\n"
     ]
    },
    {
     "name": "stderr",
     "output_type": "stream",
     "text": [
      "100%|██████████| 25/25 [00:01<00:00, 13.23it/s]\n"
     ]
    },
    {
     "name": "stdout",
     "output_type": "stream",
     "text": [
      "76 Au30Cu20Co20Ni30(41)\n"
     ]
    },
    {
     "name": "stderr",
     "output_type": "stream",
     "text": [
      "100%|██████████| 25/25 [00:01<00:00, 13.30it/s]\n"
     ]
    },
    {
     "name": "stdout",
     "output_type": "stream",
     "text": [
      "77 Au30Cu20Co20Ni30(42)\n"
     ]
    },
    {
     "name": "stderr",
     "output_type": "stream",
     "text": [
      "100%|██████████| 25/25 [00:04<00:00,  5.71it/s]\n"
     ]
    },
    {
     "name": "stdout",
     "output_type": "stream",
     "text": [
      "78 Au30Cu20Co20Ni30(43)\n"
     ]
    },
    {
     "name": "stderr",
     "output_type": "stream",
     "text": [
      "100%|██████████| 25/25 [00:04<00:00,  5.83it/s]\n"
     ]
    },
    {
     "name": "stdout",
     "output_type": "stream",
     "text": [
      "79 Au30Cu20Co20Ni30(44)\n"
     ]
    },
    {
     "name": "stderr",
     "output_type": "stream",
     "text": [
      "100%|██████████| 25/25 [00:01<00:00, 13.20it/s]\n"
     ]
    },
    {
     "name": "stdout",
     "output_type": "stream",
     "text": [
      "80 Au30Cu20Co20Ni30(45)\n"
     ]
    },
    {
     "name": "stderr",
     "output_type": "stream",
     "text": [
      "100%|██████████| 25/25 [00:01<00:00, 13.28it/s]\n"
     ]
    },
    {
     "name": "stdout",
     "output_type": "stream",
     "text": [
      "81 Au30Cu20Co20Ni30(46)\n"
     ]
    },
    {
     "name": "stderr",
     "output_type": "stream",
     "text": [
      "100%|██████████| 25/25 [00:01<00:00, 13.26it/s]\n"
     ]
    },
    {
     "name": "stdout",
     "output_type": "stream",
     "text": [
      "82 Au30Cu20Co20Ni30(49)\n"
     ]
    },
    {
     "name": "stderr",
     "output_type": "stream",
     "text": [
      "100%|██████████| 25/25 [00:01<00:00, 13.27it/s]\n"
     ]
    },
    {
     "name": "stdout",
     "output_type": "stream",
     "text": [
      "83 Au30Cu20Co20Ni30(50)\n"
     ]
    },
    {
     "name": "stderr",
     "output_type": "stream",
     "text": [
      "100%|██████████| 25/25 [00:01<00:00, 13.22it/s]\n"
     ]
    },
    {
     "name": "stdout",
     "output_type": "stream",
     "text": [
      "84 Au30Cu20Co20Ni30(51)\n"
     ]
    },
    {
     "name": "stderr",
     "output_type": "stream",
     "text": [
      "100%|██████████| 25/25 [00:01<00:00, 13.23it/s]\n"
     ]
    },
    {
     "name": "stdout",
     "output_type": "stream",
     "text": [
      "85 Au30Cu20Co20Ni30(53)\n"
     ]
    },
    {
     "name": "stderr",
     "output_type": "stream",
     "text": [
      "100%|██████████| 25/25 [00:04<00:00,  5.66it/s]\n"
     ]
    },
    {
     "name": "stdout",
     "output_type": "stream",
     "text": [
      "86 Au30Cu20Co20Ni30(54)\n"
     ]
    },
    {
     "name": "stderr",
     "output_type": "stream",
     "text": [
      "100%|██████████| 25/25 [00:01<00:00, 13.23it/s]\n"
     ]
    },
    {
     "name": "stdout",
     "output_type": "stream",
     "text": [
      "87 Au30Cu20Co20Ni30(55)\n"
     ]
    },
    {
     "name": "stderr",
     "output_type": "stream",
     "text": [
      "100%|██████████| 25/25 [00:01<00:00, 13.28it/s]\n"
     ]
    },
    {
     "name": "stdout",
     "output_type": "stream",
     "text": [
      "88 Au30Cu20Co20Ni30(56)\n"
     ]
    },
    {
     "name": "stderr",
     "output_type": "stream",
     "text": [
      "100%|██████████| 25/25 [00:01<00:00, 13.32it/s]\n"
     ]
    },
    {
     "name": "stdout",
     "output_type": "stream",
     "text": [
      "89 Au30Cu20Co20Ni30(57)\n"
     ]
    },
    {
     "name": "stderr",
     "output_type": "stream",
     "text": [
      "100%|██████████| 25/25 [00:01<00:00, 13.29it/s]\n"
     ]
    },
    {
     "name": "stdout",
     "output_type": "stream",
     "text": [
      "90 Au30Cu20Co20Ni30(58)\n"
     ]
    },
    {
     "name": "stderr",
     "output_type": "stream",
     "text": [
      "100%|██████████| 25/25 [00:01<00:00, 13.21it/s]\n"
     ]
    },
    {
     "name": "stdout",
     "output_type": "stream",
     "text": [
      "91 Au30Cu20Co20Ni30(61)\n"
     ]
    },
    {
     "name": "stderr",
     "output_type": "stream",
     "text": [
      "100%|██████████| 25/25 [00:04<00:00,  5.53it/s]\n"
     ]
    },
    {
     "name": "stdout",
     "output_type": "stream",
     "text": [
      "92 AuCu(3)\n"
     ]
    },
    {
     "name": "stderr",
     "output_type": "stream",
     "text": [
      "100%|██████████| 25/25 [00:01<00:00, 13.17it/s]\n"
     ]
    },
    {
     "name": "stdout",
     "output_type": "stream",
     "text": [
      "93 AuCu(4)\n"
     ]
    },
    {
     "name": "stderr",
     "output_type": "stream",
     "text": [
      "100%|██████████| 25/25 [00:01<00:00, 13.16it/s]\n"
     ]
    },
    {
     "name": "stdout",
     "output_type": "stream",
     "text": [
      "94 AuCu(5)\n"
     ]
    },
    {
     "name": "stderr",
     "output_type": "stream",
     "text": [
      "100%|██████████| 25/25 [00:01<00:00, 13.20it/s]\n"
     ]
    },
    {
     "name": "stdout",
     "output_type": "stream",
     "text": [
      "95 AuCu(6)\n"
     ]
    },
    {
     "name": "stderr",
     "output_type": "stream",
     "text": [
      "100%|██████████| 25/25 [00:01<00:00, 13.24it/s]\n"
     ]
    },
    {
     "name": "stdout",
     "output_type": "stream",
     "text": [
      "96 AuCu(7)\n"
     ]
    },
    {
     "name": "stderr",
     "output_type": "stream",
     "text": [
      "100%|██████████| 25/25 [00:01<00:00, 13.23it/s]\n"
     ]
    },
    {
     "name": "stdout",
     "output_type": "stream",
     "text": [
      "97 AuCu(8)\n"
     ]
    },
    {
     "name": "stderr",
     "output_type": "stream",
     "text": [
      "100%|██████████| 25/25 [00:01<00:00, 13.18it/s]\n"
     ]
    },
    {
     "name": "stdout",
     "output_type": "stream",
     "text": [
      "98 AuCu(9)\n"
     ]
    },
    {
     "name": "stderr",
     "output_type": "stream",
     "text": [
      "100%|██████████| 25/25 [00:04<00:00,  5.55it/s]\n"
     ]
    },
    {
     "name": "stdout",
     "output_type": "stream",
     "text": [
      "99 AuCu(10)\n"
     ]
    },
    {
     "name": "stderr",
     "output_type": "stream",
     "text": [
      "100%|██████████| 25/25 [00:01<00:00, 13.24it/s]\n"
     ]
    },
    {
     "name": "stdout",
     "output_type": "stream",
     "text": [
      "100 AuCu(11)\n"
     ]
    },
    {
     "name": "stderr",
     "output_type": "stream",
     "text": [
      "100%|██████████| 25/25 [00:01<00:00, 13.21it/s]\n"
     ]
    },
    {
     "name": "stdout",
     "output_type": "stream",
     "text": [
      "101 AuCu(12)\n"
     ]
    },
    {
     "name": "stderr",
     "output_type": "stream",
     "text": [
      "100%|██████████| 25/25 [00:01<00:00, 13.18it/s]\n"
     ]
    },
    {
     "name": "stdout",
     "output_type": "stream",
     "text": [
      "102 AuCu(13)\n"
     ]
    },
    {
     "name": "stderr",
     "output_type": "stream",
     "text": [
      "100%|██████████| 25/25 [00:01<00:00, 13.22it/s]\n"
     ]
    },
    {
     "name": "stdout",
     "output_type": "stream",
     "text": [
      "103 AuCu(14)\n"
     ]
    },
    {
     "name": "stderr",
     "output_type": "stream",
     "text": [
      "100%|██████████| 25/25 [00:01<00:00, 13.20it/s]\n"
     ]
    },
    {
     "name": "stdout",
     "output_type": "stream",
     "text": [
      "104 AuCu(16)\n"
     ]
    },
    {
     "name": "stderr",
     "output_type": "stream",
     "text": [
      "100%|██████████| 25/25 [00:01<00:00, 13.19it/s]\n"
     ]
    },
    {
     "name": "stdout",
     "output_type": "stream",
     "text": [
      "105 AuCu(18)\n"
     ]
    },
    {
     "name": "stderr",
     "output_type": "stream",
     "text": [
      "100%|██████████| 25/25 [00:04<00:00,  5.65it/s]\n"
     ]
    },
    {
     "name": "stdout",
     "output_type": "stream",
     "text": [
      "106 AuCu(19)\n"
     ]
    },
    {
     "name": "stderr",
     "output_type": "stream",
     "text": [
      "100%|██████████| 25/25 [00:01<00:00, 13.21it/s]\n"
     ]
    },
    {
     "name": "stdout",
     "output_type": "stream",
     "text": [
      "107 AuCu(20)\n"
     ]
    },
    {
     "name": "stderr",
     "output_type": "stream",
     "text": [
      "100%|██████████| 25/25 [00:01<00:00, 13.18it/s]\n"
     ]
    },
    {
     "name": "stdout",
     "output_type": "stream",
     "text": [
      "108 AuCu(21)\n"
     ]
    },
    {
     "name": "stderr",
     "output_type": "stream",
     "text": [
      "100%|██████████| 25/25 [00:01<00:00, 13.19it/s]\n"
     ]
    },
    {
     "name": "stdout",
     "output_type": "stream",
     "text": [
      "109 AuCu(22)\n"
     ]
    },
    {
     "name": "stderr",
     "output_type": "stream",
     "text": [
      "100%|██████████| 25/25 [00:04<00:00,  5.68it/s]\n"
     ]
    },
    {
     "name": "stdout",
     "output_type": "stream",
     "text": [
      "110 AuCu(24)\n"
     ]
    },
    {
     "name": "stderr",
     "output_type": "stream",
     "text": [
      "100%|██████████| 25/25 [00:01<00:00, 13.28it/s]\n"
     ]
    },
    {
     "name": "stdout",
     "output_type": "stream",
     "text": [
      "111 AuCu(25)\n"
     ]
    },
    {
     "name": "stderr",
     "output_type": "stream",
     "text": [
      "100%|██████████| 25/25 [00:01<00:00, 13.19it/s]\n"
     ]
    },
    {
     "name": "stdout",
     "output_type": "stream",
     "text": [
      "112 AuCu(26)\n"
     ]
    },
    {
     "name": "stderr",
     "output_type": "stream",
     "text": [
      "100%|██████████| 25/25 [00:01<00:00, 13.06it/s]\n"
     ]
    },
    {
     "name": "stdout",
     "output_type": "stream",
     "text": [
      "113 AuCu(28)\n"
     ]
    },
    {
     "name": "stderr",
     "output_type": "stream",
     "text": [
      "100%|██████████| 25/25 [00:01<00:00, 13.18it/s]\n"
     ]
    },
    {
     "name": "stdout",
     "output_type": "stream",
     "text": [
      "114 AuCu(31)\n"
     ]
    },
    {
     "name": "stderr",
     "output_type": "stream",
     "text": [
      "100%|██████████| 25/25 [00:01<00:00, 13.14it/s]\n"
     ]
    },
    {
     "name": "stdout",
     "output_type": "stream",
     "text": [
      "115 AuCu(32)\n"
     ]
    },
    {
     "name": "stderr",
     "output_type": "stream",
     "text": [
      "100%|██████████| 25/25 [00:01<00:00, 13.18it/s]\n"
     ]
    },
    {
     "name": "stdout",
     "output_type": "stream",
     "text": [
      "116 AuCu(33)\n"
     ]
    },
    {
     "name": "stderr",
     "output_type": "stream",
     "text": [
      "100%|██████████| 25/25 [00:04<00:00,  5.68it/s]\n"
     ]
    },
    {
     "name": "stdout",
     "output_type": "stream",
     "text": [
      "117 AuCu(34)\n"
     ]
    },
    {
     "name": "stderr",
     "output_type": "stream",
     "text": [
      "100%|██████████| 25/25 [00:01<00:00, 13.28it/s]\n"
     ]
    },
    {
     "name": "stdout",
     "output_type": "stream",
     "text": [
      "118 AuCu(35)\n"
     ]
    },
    {
     "name": "stderr",
     "output_type": "stream",
     "text": [
      "100%|██████████| 25/25 [00:01<00:00, 13.16it/s]\n"
     ]
    },
    {
     "name": "stdout",
     "output_type": "stream",
     "text": [
      "119 AuCu(36)\n"
     ]
    },
    {
     "name": "stderr",
     "output_type": "stream",
     "text": [
      "100%|██████████| 25/25 [00:04<00:00,  5.64it/s]\n"
     ]
    },
    {
     "name": "stdout",
     "output_type": "stream",
     "text": [
      "120 AuCu(37)\n"
     ]
    },
    {
     "name": "stderr",
     "output_type": "stream",
     "text": [
      "100%|██████████| 25/25 [00:01<00:00, 13.16it/s]\n"
     ]
    },
    {
     "name": "stdout",
     "output_type": "stream",
     "text": [
      "121 AuCu(38)\n"
     ]
    },
    {
     "name": "stderr",
     "output_type": "stream",
     "text": [
      "100%|██████████| 25/25 [00:01<00:00, 13.15it/s]\n"
     ]
    },
    {
     "name": "stdout",
     "output_type": "stream",
     "text": [
      "122 AuCu(39)\n"
     ]
    },
    {
     "name": "stderr",
     "output_type": "stream",
     "text": [
      "100%|██████████| 25/25 [00:01<00:00, 13.18it/s]\n"
     ]
    },
    {
     "name": "stdout",
     "output_type": "stream",
     "text": [
      "123 AuCu(40)\n"
     ]
    },
    {
     "name": "stderr",
     "output_type": "stream",
     "text": [
      "100%|██████████| 25/25 [00:01<00:00, 13.18it/s]\n"
     ]
    }
   ],
   "source": [
    "folder_name = \"Generator_of_epoch_6_all_ch\"\n",
    "model.generate_range(dset.meta, checkpoint,channels=viz.channels,\n",
    "                                generator_iters=25,averaging_number=50,\n",
    "                                overwrite=True)"
   ]
  },
  {
   "cell_type": "markdown",
   "metadata": {},
   "source": [
    "### Visualize generated images"
   ]
  },
  {
   "cell_type": "markdown",
   "metadata": {},
   "source": []
  },
  {
   "cell_type": "code",
   "execution_count": 40,
   "metadata": {},
   "outputs": [
    {
     "data": {
      "text/plain": [
       "29"
      ]
     },
     "execution_count": 40,
     "metadata": {},
     "output_type": "execute_result"
    }
   ],
   "source": [
    "len(viz.channels)"
   ]
  },
  {
   "cell_type": "code",
   "execution_count": 26,
   "metadata": {
    "tags": [
     "hide-output"
    ]
   },
   "outputs": [
    {
     "ename": "AttributeError",
     "evalue": "'ConvAutoencoder' object has no attribute 'generated'",
     "output_type": "error",
     "traceback": [
      "\u001b[0;31m---------------------------------------------------------------------------\u001b[0m",
      "\u001b[0;31mAttributeError\u001b[0m                            Traceback (most recent call last)",
      "Cell \u001b[0;32mIn[26], line 1\u001b[0m\n\u001b[0;32m----> 1\u001b[0m viz\u001b[39m.\u001b[39mgenerator_images( dset\u001b[39m.\u001b[39mmeta, model\u001b[39m.\u001b[39mgenerated,\n\u001b[1;32m      2\u001b[0m                      scaler\u001b[39m=\u001b[39mdset\u001b[39m.\u001b[39mscaler,\n\u001b[1;32m      3\u001b[0m     folder_name\u001b[39m=\u001b[39mfolder_name,\n\u001b[1;32m      4\u001b[0m     figsize\u001b[39m=\u001b[39m(\u001b[39m8\u001b[39m,\u001b[39m4\u001b[39m),\n\u001b[1;32m      5\u001b[0m     cbar_number_format\u001b[39m=\u001b[39m\u001b[39m\"\u001b[39m\u001b[39m%.02d\u001b[39;00m\u001b[39m\"\u001b[39m,\n\u001b[1;32m      6\u001b[0m     shape_\u001b[39m=\u001b[39m(\u001b[39m128\u001b[39m,\u001b[39m128\u001b[39m,\u001b[39m128\u001b[39m,\u001b[39m128\u001b[39m),\n\u001b[1;32m      7\u001b[0m     divider_\u001b[39m=\u001b[39m\u001b[39mFalse\u001b[39;00m,\n\u001b[1;32m      8\u001b[0m     graph_layout\u001b[39m=\u001b[39m(\u001b[39mlen\u001b[39m(viz\u001b[39m.\u001b[39mchannels),\u001b[39m4\u001b[39m),\n\u001b[1;32m      9\u001b[0m     labelfigs_\u001b[39m=\u001b[39m\u001b[39mFalse\u001b[39;00m\n\u001b[1;32m     10\u001b[0m     )\n",
      "\u001b[0;31mAttributeError\u001b[0m: 'ConvAutoencoder' object has no attribute 'generated'"
     ]
    }
   ],
   "source": [
    "viz.generator_images( dset.meta, model.generated,\n",
    "                     scaler=dset.scaler,\n",
    "    folder_name=\"Generator_of_epoch_6_all_ch_1\",\n",
    "    figsize=(6,3),\n",
    "    cbar_number_format=\"%.02d\",\n",
    "    shape_=(128,128,128,128),\n",
    "    divider_=False,\n",
    "    graph_layout=(len(viz.channels),4),\n",
    "    labelfigs_=True\n",
    "    )"
   ]
  },
  {
   "cell_type": "code",
   "execution_count": 34,
   "metadata": {},
   "outputs": [
    {
     "name": "stdout",
     "output_type": "stream",
     "text": [
      "> \u001b[0;32m/home/xinqiao/new_mount/Northwestern/m3_learning/m3_learning/src/m3_learning/nn/STEM_AE/Viz.py\u001b[0m(270)\u001b[0;36mgenerator_images\u001b[0;34m()\u001b[0m\n",
      "\u001b[0;32m    268 \u001b[0;31m\u001b[0;34m\u001b[0m\u001b[0m\n",
      "\u001b[0m\u001b[0;32m    269 \u001b[0;31m                    \u001b[0;31m# plots the imagemap and formats embedding\u001b[0m\u001b[0;34m\u001b[0m\u001b[0;34m\u001b[0m\u001b[0;34m\u001b[0m\u001b[0m\n",
      "\u001b[0m\u001b[0;32m--> 270 \u001b[0;31m                    imagemap(axes_in, data.reshape(meta['shape_list'][p][-4], \n",
      "\u001b[0m\u001b[0;32m    271 \u001b[0;31m                                                   meta['shape_list'][p][3]), clim=ranges[j], colorbars=False)\n",
      "\u001b[0m\u001b[0;32m    272 \u001b[0;31m\u001b[0;34m\u001b[0m\u001b[0m\n",
      "\u001b[0m\n",
      "(16384, 32)\n",
      "(16384, 32)\n",
      "(16384, 32)\n",
      "(16384, 32)\n"
     ]
    }
   ],
   "source": [
    "debug"
   ]
  },
  {
   "attachments": {},
   "cell_type": "markdown",
   "metadata": {},
   "source": [
    "### Builds a Movie\n"
   ]
  },
  {
   "cell_type": "code",
   "execution_count": 107,
   "metadata": {},
   "outputs": [
    {
     "name": "stdout",
     "output_type": "stream",
     "text": [
      "SI data (70)\n",
      "SI data (65)\n",
      "SI data (64)\n",
      "SI data (69)\n",
      "SI data (63)\n",
      "SI data (62)\n"
     ]
    }
   ],
   "source": [
    "# Builds a Movie\n",
    "folder = f\"{fig_path}generator_images_{folder_name}_/\"\n",
    "# output_folder = \"./movies_unscaled/\"\n",
    "output_folder = \"./movies_special/\"\n",
    "\n",
    "\n",
    "for particle in particles:\n",
    "    particle=particle.replace('_',' ')\n",
    "    print(particle)\n",
    "    make_movie(f\"Domain Generator {particle}\", folder+particle, output_folder, \"png\", 3)"
   ]
  },
  {
   "cell_type": "markdown",
   "metadata": {},
   "source": [
    "### Generate from specified embedding range"
   ]
  },
  {
   "cell_type": "code",
   "execution_count": null,
   "metadata": {},
   "outputs": [],
   "source": [
    "g_folder = str(channels).replace(', ','_')[1:-1]"
   ]
  },
  {
   "cell_type": "code",
   "execution_count": null,
   "metadata": {},
   "outputs": [
    {
     "data": {
      "text/plain": [
       "'0_1_4_7_8_10_14_17_19_22_25_28_31'"
      ]
     },
     "execution_count": 51,
     "metadata": {},
     "output_type": "execute_result"
    }
   ],
   "source": [
    "g_folder"
   ]
  },
  {
   "cell_type": "code",
   "execution_count": null,
   "metadata": {},
   "outputs": [
    {
     "data": {
      "text/plain": [
       "'./../../Northwestern/auagconi_aucuconi/2021_07_10_stela_80kV/Au30Ag10Co20Ni40_Figures/'"
      ]
     },
     "execution_count": 52,
     "metadata": {},
     "output_type": "execute_result"
    }
   ],
   "source": [
    "fig_path"
   ]
  },
  {
   "cell_type": "code",
   "execution_count": null,
   "metadata": {},
   "outputs": [],
   "source": [
    "# Builds a Movie\n",
    "folder = f\"{fig_path}/generator_{g_folder}\"\n",
    "output_folder = \"./movies/\""
   ]
  },
  {
   "cell_type": "code",
   "execution_count": null,
   "metadata": {},
   "outputs": [],
   "source": [
    "'generator_[1, 3, 8, 10, 11, 13, 15, 17, 22, 26]'"
   ]
  },
  {
   "cell_type": "code",
   "execution_count": null,
   "metadata": {},
   "outputs": [],
   "source": [
    "# Builds a Movie\n",
    "folder = f\"{fig_path}/generator_{g_folder}\"\n",
    "output_folder = \"./movies/\"\n",
    "\n",
    "# function to make the movie\n",
    "make_movie(\"Domain Generator\", folder, output_folder, \"png\", 3)"
   ]
  },
  {
   "attachments": {},
   "cell_type": "markdown",
   "metadata": {},
   "source": [
    "## Vortex Domains\n",
    "\n",
    "### Loads the Dataset\n"
   ]
  },
  {
   "cell_type": "code",
   "execution_count": null,
   "metadata": {},
   "outputs": [
    {
     "ename": "NameError",
     "evalue": "name 'STEM_Dataset' is not defined",
     "output_type": "error",
     "traceback": [
      "\u001b[0;31m---------------------------------------------------------------------------\u001b[0m",
      "\u001b[0;31mNameError\u001b[0m                                 Traceback (most recent call last)",
      "\u001b[1;32m/home/xinqiao/Desktop/m3_learning/m3_learning/papers/2023_Imaging_ferroelectric_domains_by_scanning_electron_diffraction/STEM_particle_61.ipynb Cell 28\u001b[0m in \u001b[0;36m4\n\u001b[1;32m      <a href='vscode-notebook-cell:/home/xinqiao/Desktop/m3_learning/m3_learning/papers/2023_Imaging_ferroelectric_domains_by_scanning_electron_diffraction/STEM_particle_61.ipynb#X40sZmlsZQ%3D%3D?line=0'>1</a>\u001b[0m \u001b[39m# loads the dataset\u001b[39;00m\n\u001b[1;32m      <a href='vscode-notebook-cell:/home/xinqiao/Desktop/m3_learning/m3_learning/papers/2023_Imaging_ferroelectric_domains_by_scanning_electron_diffraction/STEM_particle_61.ipynb#X40sZmlsZQ%3D%3D?line=1'>2</a>\u001b[0m \u001b[39m# this object will also compute the log of the dataset\u001b[39;00m\n\u001b[1;32m      <a href='vscode-notebook-cell:/home/xinqiao/Desktop/m3_learning/m3_learning/papers/2023_Imaging_ferroelectric_domains_by_scanning_electron_diffraction/STEM_particle_61.ipynb#X40sZmlsZQ%3D%3D?line=2'>3</a>\u001b[0m \u001b[39m# this is available as self.log_data\u001b[39;00m\n\u001b[0;32m----> <a href='vscode-notebook-cell:/home/xinqiao/Desktop/m3_learning/m3_learning/papers/2023_Imaging_ferroelectric_domains_by_scanning_electron_diffraction/STEM_particle_61.ipynb#X40sZmlsZQ%3D%3D?line=3'>4</a>\u001b[0m vortex \u001b[39m=\u001b[39m STEM_Dataset(\n\u001b[1;32m      <a href='vscode-notebook-cell:/home/xinqiao/Desktop/m3_learning/m3_learning/papers/2023_Imaging_ferroelectric_domains_by_scanning_electron_diffraction/STEM_particle_61.ipynb#X40sZmlsZQ%3D%3D?line=4'>5</a>\u001b[0m     data_path\u001b[39m=\u001b[39m\u001b[39mf\u001b[39m\u001b[39m\"\u001b[39m\u001b[39m{\u001b[39;00msave_path\u001b[39m}\u001b[39;00m\u001b[39m/SED_256x256x12_30x30_alpha3_NBD_spot0p5nm_CL12cm_vortex.hspy\u001b[39m\u001b[39m\"\u001b[39m\n\u001b[1;32m      <a href='vscode-notebook-cell:/home/xinqiao/Desktop/m3_learning/m3_learning/papers/2023_Imaging_ferroelectric_domains_by_scanning_electron_diffraction/STEM_particle_61.ipynb#X40sZmlsZQ%3D%3D?line=5'>6</a>\u001b[0m )\n",
      "\u001b[0;31mNameError\u001b[0m: name 'STEM_Dataset' is not defined"
     ]
    }
   ],
   "source": [
    "# loads the dataset\n",
    "# this object will also compute the log of the dataset\n",
    "# this is available as self.log_data\n",
    "vortex = STEM_Dataset(\n",
    "    data_path=f\"{save_path}/SED_256x256x12_30x30_alpha3_NBD_spot0p5nm_CL12cm_vortex.hspy\"\n",
    ")"
   ]
  },
  {
   "attachments": {},
   "cell_type": "markdown",
   "metadata": {},
   "source": [
    "### Visualizes the Raw Data"
   ]
  },
  {
   "cell_type": "code",
   "execution_count": null,
   "metadata": {},
   "outputs": [
    {
     "name": "stdout",
     "output_type": "stream",
     "text": [
      "./../../../Figures/2023_STEM_AE/STEM_raw_and_virtual_vortex_domains.png\n",
      "./../../../Figures/2023_STEM_AE/STEM_raw_and_virtual_vortex_domains.svg\n"
     ]
    },
    {
     "data": {
      "image/png": "[encoded data removed]",
      "text/plain": [
       "<Figure size 450x125 with 6 Axes>"
      ]
     },
     "metadata": {},
     "output_type": "display_data"
    }
   ],
   "source": [
    "bright_field_ = (150, 162, 152, 165)\n",
    "dark_field_ = (106, 123, 110, 125)\n",
    "filename = \"STEM_raw_and_virtual_vortex_domains\"\n",
    "viz.scalebar_ = {\"width\": 291, \"scale length\": 100, \"units\": \"nm\"}\n",
    "viz.STEM_raw_and_virtual(\n",
    "    vortex,\n",
    "    bright_field_=bright_field_,\n",
    "    dark_field_=dark_field_,\n",
    "    scalebar_=True,\n",
    "    filename=filename,\n",
    "    shape_=vortex.data.shape,\n",
    ")"
   ]
  },
  {
   "attachments": {},
   "cell_type": "markdown",
   "metadata": {},
   "source": [
    "### Builds the Neural Network Model\n"
   ]
  },
  {
   "cell_type": "code",
   "execution_count": null,
   "metadata": {},
   "outputs": [],
   "source": [
    "encoder_step_size = [256, 256]\n",
    "pooling_list = [4, 4, 2]\n",
    "decoder_step_size = [8, 8]\n",
    "upsampling_list = [2, 4, 4]\n",
    "embedding_size = 32\n",
    "conv_size = 128\n",
    "\n",
    "# set device to load model\n",
    "device = \"cpu\"\n",
    "if torch.cuda.is_available():\n",
    "    device = \"cuda:1\"\n",
    "\n",
    "model = ConvAutoencoder(\n",
    "    encoder_step_size=encoder_step_size,\n",
    "    pooling_list=pooling_list,\n",
    "    decoder_step_size=decoder_step_size,\n",
    "    upsampling_list=upsampling_list,\n",
    "    embedding_size=embedding_size,\n",
    "    conv_size=conv_size,\n",
    "    device=device,\n",
    "    learning_rate=3e-5,\n",
    ")\n"
   ]
  },
  {
   "attachments": {},
   "cell_type": "markdown",
   "metadata": {},
   "source": [
    "### Trains or Loads Pretrained Weights\n"
   ]
  },
  {
   "cell_type": "code",
   "execution_count": null,
   "metadata": {},
   "outputs": [],
   "source": [
    "# set retrain parameter\n",
    "train = False\n",
    "\n",
    "if train:\n",
    "    model.Train(\n",
    "        vortex.log_data,\n",
    "        coef_1=1e-5,\n",
    "        epochs=225,\n",
    "        with_scheduler=False,\n",
    "        folder_path=\"vortex_domains_Weights\",\n",
    "        batch_size=256,\n",
    "    )\n",
    "\n",
    "    model.Train(\n",
    "        vortex.log_data,\n",
    "        max_learning_rate=5e-5,\n",
    "        coef_1=5e-4,\n",
    "        epochs=286,\n",
    "        epoch_=224,\n",
    "        with_scheduler=True,\n",
    "        folder_path=\"vortex_domains_Weights\",\n",
    "        batch_size=256,\n",
    "    )\n",
    "else:\n",
    "    model.load_weights(\n",
    "        f\"{save_path}/4.5_log_epoch_0285_L1loss_0.0001__lr_0.00003_trainloss_0.2279.pkl\"\n",
    "    )"
   ]
  },
  {
   "attachments": {},
   "cell_type": "markdown",
   "metadata": {},
   "source": [
    "### Computes the Embeddings\n"
   ]
  },
  {
   "cell_type": "code",
   "execution_count": null,
   "metadata": {
    "tags": [
     "hide-output"
    ]
   },
   "outputs": [
    {
     "name": "stderr",
     "output_type": "stream",
     "text": [
      "100%|██████████| 2048/2048 [04:09<00:00,  8.19it/s]\n"
     ]
    }
   ],
   "source": [
    "embedding = model.get_embedding(vortex.log_data)\n"
   ]
  },
  {
   "attachments": {},
   "cell_type": "markdown",
   "metadata": {},
   "source": [
    "### Visualizes the Embeddings\n"
   ]
  },
  {
   "cell_type": "code",
   "execution_count": null,
   "metadata": {},
   "outputs": [
    {
     "name": "stdout",
     "output_type": "stream",
     "text": [
      "./../../../Figures/2023_STEM_AE/vortex_domains_embedding_maps.png\n",
      "./../../../Figures/2023_STEM_AE/vortex_domains_embedding_maps.svg\n"
     ]
    },
    {
     "data": {
      "image/png": "[encoded data removed]",
      "text/plain": [
       "<Figure size 500x800 with 64 Axes>"
      ]
     },
     "metadata": {},
     "output_type": "display_data"
    }
   ],
   "source": [
    "viz.model = model\n",
    "viz.channels = None\n",
    "viz.scalebar_ = {\"width\": 291, \"scale length\": 100, \"units\": \"nm\"}\n",
    "viz.embeddings(\n",
    "    mod=4,\n",
    "    scalebar_=viz.scalebar_,\n",
    "    figsize=(5, 8),\n",
    "    name=\"vortex_domains\",\n",
    "    shape_=vortex.data.shape,\n",
    ")"
   ]
  },
  {
   "attachments": {},
   "cell_type": "markdown",
   "metadata": {},
   "source": [
    "### Generates Data from the Latent Space"
   ]
  },
  {
   "cell_type": "code",
   "execution_count": null,
   "metadata": {
    "tags": [
     "hide-output"
    ]
   },
   "outputs": [
    {
     "name": "stderr",
     "output_type": "stream",
     "text": [
      "  0%|          | 0/200 [00:00<?, ?it/s]"
     ]
    },
    {
     "name": "stdout",
     "output_type": "stream",
     "text": [
      "./../../../Figures/2023_STEM_AE/generator_images_Generator_of_Figure_4_vortex_domains/0000_maps.png\n",
      "./../../../Figures/2023_STEM_AE/generator_images_Generator_of_Figure_4_vortex_domains/0000_maps.svg\n"
     ]
    },
    {
     "name": "stderr",
     "output_type": "stream",
     "text": [
      "  0%|          | 1/200 [00:00<03:18,  1.00it/s]"
     ]
    },
    {
     "name": "stdout",
     "output_type": "stream",
     "text": [
      "./../../../Figures/2023_STEM_AE/generator_images_Generator_of_Figure_4_vortex_domains/0001_maps.png\n",
      "./../../../Figures/2023_STEM_AE/generator_images_Generator_of_Figure_4_vortex_domains/0001_maps.svg\n"
     ]
    },
    {
     "name": "stderr",
     "output_type": "stream",
     "text": [
      "  1%|          | 2/200 [00:01<03:16,  1.01it/s]"
     ]
    },
    {
     "name": "stdout",
     "output_type": "stream",
     "text": [
      "./../../../Figures/2023_STEM_AE/generator_images_Generator_of_Figure_4_vortex_domains/0002_maps.png\n",
      "./../../../Figures/2023_STEM_AE/generator_images_Generator_of_Figure_4_vortex_domains/0002_maps.svg\n"
     ]
    },
    {
     "name": "stderr",
     "output_type": "stream",
     "text": [
      "  2%|▏         | 3/200 [00:02<03:15,  1.01it/s]"
     ]
    },
    {
     "name": "stdout",
     "output_type": "stream",
     "text": [
      "./../../../Figures/2023_STEM_AE/generator_images_Generator_of_Figure_4_vortex_domains/0003_maps.png\n",
      "./../../../Figures/2023_STEM_AE/generator_images_Generator_of_Figure_4_vortex_domains/0003_maps.svg\n"
     ]
    },
    {
     "name": "stderr",
     "output_type": "stream",
     "text": [
      "  2%|▏         | 4/200 [00:03<03:15,  1.00it/s]"
     ]
    },
    {
     "name": "stdout",
     "output_type": "stream",
     "text": [
      "./../../../Figures/2023_STEM_AE/generator_images_Generator_of_Figure_4_vortex_domains/0004_maps.png\n",
      "./../../../Figures/2023_STEM_AE/generator_images_Generator_of_Figure_4_vortex_domains/0004_maps.svg\n"
     ]
    },
    {
     "name": "stderr",
     "output_type": "stream",
     "text": [
      "  2%|▎         | 5/200 [00:04<03:13,  1.01it/s]"
     ]
    },
    {
     "name": "stdout",
     "output_type": "stream",
     "text": [
      "./../../../Figures/2023_STEM_AE/generator_images_Generator_of_Figure_4_vortex_domains/0005_maps.png\n",
      "./../../../Figures/2023_STEM_AE/generator_images_Generator_of_Figure_4_vortex_domains/0005_maps.svg\n"
     ]
    },
    {
     "name": "stderr",
     "output_type": "stream",
     "text": [
      "  3%|▎         | 6/200 [00:05<03:12,  1.01it/s]"
     ]
    },
    {
     "name": "stdout",
     "output_type": "stream",
     "text": [
      "./../../../Figures/2023_STEM_AE/generator_images_Generator_of_Figure_4_vortex_domains/0006_maps.png\n",
      "./../../../Figures/2023_STEM_AE/generator_images_Generator_of_Figure_4_vortex_domains/0006_maps.svg\n"
     ]
    },
    {
     "name": "stderr",
     "output_type": "stream",
     "text": [
      "  4%|▎         | 7/200 [00:06<03:11,  1.01it/s]"
     ]
    },
    {
     "name": "stdout",
     "output_type": "stream",
     "text": [
      "./../../../Figures/2023_STEM_AE/generator_images_Generator_of_Figure_4_vortex_domains/0007_maps.png\n",
      "./../../../Figures/2023_STEM_AE/generator_images_Generator_of_Figure_4_vortex_domains/0007_maps.svg\n"
     ]
    },
    {
     "name": "stderr",
     "output_type": "stream",
     "text": [
      "  4%|▍         | 8/200 [00:07<03:10,  1.01it/s]"
     ]
    },
    {
     "name": "stdout",
     "output_type": "stream",
     "text": [
      "./../../../Figures/2023_STEM_AE/generator_images_Generator_of_Figure_4_vortex_domains/0008_maps.png\n",
      "./../../../Figures/2023_STEM_AE/generator_images_Generator_of_Figure_4_vortex_domains/0008_maps.svg\n"
     ]
    },
    {
     "name": "stderr",
     "output_type": "stream",
     "text": [
      "  4%|▍         | 9/200 [00:08<03:09,  1.01it/s]"
     ]
    },
    {
     "name": "stdout",
     "output_type": "stream",
     "text": [
      "./../../../Figures/2023_STEM_AE/generator_images_Generator_of_Figure_4_vortex_domains/0009_maps.png\n",
      "./../../../Figures/2023_STEM_AE/generator_images_Generator_of_Figure_4_vortex_domains/0009_maps.svg\n"
     ]
    },
    {
     "name": "stderr",
     "output_type": "stream",
     "text": [
      "  5%|▌         | 10/200 [00:09<03:08,  1.01it/s]"
     ]
    },
    {
     "name": "stdout",
     "output_type": "stream",
     "text": [
      "./../../../Figures/2023_STEM_AE/generator_images_Generator_of_Figure_4_vortex_domains/0010_maps.png\n",
      "./../../../Figures/2023_STEM_AE/generator_images_Generator_of_Figure_4_vortex_domains/0010_maps.svg\n"
     ]
    },
    {
     "name": "stderr",
     "output_type": "stream",
     "text": [
      "  6%|▌         | 11/200 [00:10<03:07,  1.01it/s]"
     ]
    },
    {
     "name": "stdout",
     "output_type": "stream",
     "text": [
      "./../../../Figures/2023_STEM_AE/generator_images_Generator_of_Figure_4_vortex_domains/0011_maps.png\n",
      "./../../../Figures/2023_STEM_AE/generator_images_Generator_of_Figure_4_vortex_domains/0011_maps.svg\n"
     ]
    },
    {
     "name": "stderr",
     "output_type": "stream",
     "text": [
      "  6%|▌         | 12/200 [00:11<03:06,  1.01it/s]"
     ]
    },
    {
     "name": "stdout",
     "output_type": "stream",
     "text": [
      "./../../../Figures/2023_STEM_AE/generator_images_Generator_of_Figure_4_vortex_domains/0012_maps.png\n",
      "./../../../Figures/2023_STEM_AE/generator_images_Generator_of_Figure_4_vortex_domains/0012_maps.svg\n"
     ]
    },
    {
     "name": "stderr",
     "output_type": "stream",
     "text": [
      "  6%|▋         | 13/200 [00:12<03:05,  1.01it/s]"
     ]
    },
    {
     "name": "stdout",
     "output_type": "stream",
     "text": [
      "./../../../Figures/2023_STEM_AE/generator_images_Generator_of_Figure_4_vortex_domains/0013_maps.png\n",
      "./../../../Figures/2023_STEM_AE/generator_images_Generator_of_Figure_4_vortex_domains/0013_maps.svg\n"
     ]
    },
    {
     "name": "stderr",
     "output_type": "stream",
     "text": [
      "  7%|▋         | 14/200 [00:13<03:04,  1.01it/s]"
     ]
    },
    {
     "name": "stdout",
     "output_type": "stream",
     "text": [
      "./../../../Figures/2023_STEM_AE/generator_images_Generator_of_Figure_4_vortex_domains/0014_maps.png\n",
      "./../../../Figures/2023_STEM_AE/generator_images_Generator_of_Figure_4_vortex_domains/0014_maps.svg\n"
     ]
    },
    {
     "name": "stderr",
     "output_type": "stream",
     "text": [
      "  8%|▊         | 15/200 [00:14<03:03,  1.01it/s]"
     ]
    },
    {
     "name": "stdout",
     "output_type": "stream",
     "text": [
      "./../../../Figures/2023_STEM_AE/generator_images_Generator_of_Figure_4_vortex_domains/0015_maps.png\n",
      "./../../../Figures/2023_STEM_AE/generator_images_Generator_of_Figure_4_vortex_domains/0015_maps.svg\n"
     ]
    },
    {
     "name": "stderr",
     "output_type": "stream",
     "text": [
      "  8%|▊         | 16/200 [00:15<03:02,  1.01it/s]"
     ]
    },
    {
     "name": "stdout",
     "output_type": "stream",
     "text": [
      "./../../../Figures/2023_STEM_AE/generator_images_Generator_of_Figure_4_vortex_domains/0016_maps.png\n",
      "./../../../Figures/2023_STEM_AE/generator_images_Generator_of_Figure_4_vortex_domains/0016_maps.svg\n"
     ]
    },
    {
     "name": "stderr",
     "output_type": "stream",
     "text": [
      "  8%|▊         | 17/200 [00:16<03:01,  1.01it/s]"
     ]
    },
    {
     "name": "stdout",
     "output_type": "stream",
     "text": [
      "./../../../Figures/2023_STEM_AE/generator_images_Generator_of_Figure_4_vortex_domains/0017_maps.png\n",
      "./../../../Figures/2023_STEM_AE/generator_images_Generator_of_Figure_4_vortex_domains/0017_maps.svg\n"
     ]
    },
    {
     "name": "stderr",
     "output_type": "stream",
     "text": [
      "  9%|▉         | 18/200 [00:17<03:00,  1.01it/s]"
     ]
    },
    {
     "name": "stdout",
     "output_type": "stream",
     "text": [
      "./../../../Figures/2023_STEM_AE/generator_images_Generator_of_Figure_4_vortex_domains/0018_maps.png\n",
      "./../../../Figures/2023_STEM_AE/generator_images_Generator_of_Figure_4_vortex_domains/0018_maps.svg\n"
     ]
    },
    {
     "name": "stderr",
     "output_type": "stream",
     "text": [
      " 10%|▉         | 19/200 [00:18<02:59,  1.01it/s]"
     ]
    },
    {
     "name": "stdout",
     "output_type": "stream",
     "text": [
      "./../../../Figures/2023_STEM_AE/generator_images_Generator_of_Figure_4_vortex_domains/0019_maps.png\n",
      "./../../../Figures/2023_STEM_AE/generator_images_Generator_of_Figure_4_vortex_domains/0019_maps.svg\n"
     ]
    },
    {
     "name": "stderr",
     "output_type": "stream",
     "text": [
      " 10%|█         | 20/200 [00:21<04:45,  1.59s/it]"
     ]
    },
    {
     "name": "stdout",
     "output_type": "stream",
     "text": [
      "./../../../Figures/2023_STEM_AE/generator_images_Generator_of_Figure_4_vortex_domains/0020_maps.png\n",
      "./../../../Figures/2023_STEM_AE/generator_images_Generator_of_Figure_4_vortex_domains/0020_maps.svg\n"
     ]
    },
    {
     "name": "stderr",
     "output_type": "stream",
     "text": [
      " 10%|█         | 21/200 [00:22<04:12,  1.41s/it]"
     ]
    },
    {
     "name": "stdout",
     "output_type": "stream",
     "text": [
      "./../../../Figures/2023_STEM_AE/generator_images_Generator_of_Figure_4_vortex_domains/0021_maps.png\n",
      "./../../../Figures/2023_STEM_AE/generator_images_Generator_of_Figure_4_vortex_domains/0021_maps.svg\n"
     ]
    },
    {
     "name": "stderr",
     "output_type": "stream",
     "text": [
      " 11%|█         | 22/200 [00:23<03:49,  1.29s/it]"
     ]
    },
    {
     "name": "stdout",
     "output_type": "stream",
     "text": [
      "./../../../Figures/2023_STEM_AE/generator_images_Generator_of_Figure_4_vortex_domains/0022_maps.png\n",
      "./../../../Figures/2023_STEM_AE/generator_images_Generator_of_Figure_4_vortex_domains/0022_maps.svg\n"
     ]
    },
    {
     "name": "stderr",
     "output_type": "stream",
     "text": [
      " 12%|█▏        | 23/200 [00:24<03:32,  1.20s/it]"
     ]
    },
    {
     "name": "stdout",
     "output_type": "stream",
     "text": [
      "./../../../Figures/2023_STEM_AE/generator_images_Generator_of_Figure_4_vortex_domains/0023_maps.png\n",
      "./../../../Figures/2023_STEM_AE/generator_images_Generator_of_Figure_4_vortex_domains/0023_maps.svg\n"
     ]
    },
    {
     "name": "stderr",
     "output_type": "stream",
     "text": [
      " 12%|█▏        | 24/200 [00:25<03:20,  1.14s/it]"
     ]
    },
    {
     "name": "stdout",
     "output_type": "stream",
     "text": [
      "./../../../Figures/2023_STEM_AE/generator_images_Generator_of_Figure_4_vortex_domains/0024_maps.png\n",
      "./../../../Figures/2023_STEM_AE/generator_images_Generator_of_Figure_4_vortex_domains/0024_maps.svg\n"
     ]
    },
    {
     "name": "stderr",
     "output_type": "stream",
     "text": [
      " 12%|█▎        | 25/200 [00:26<03:12,  1.10s/it]"
     ]
    },
    {
     "name": "stdout",
     "output_type": "stream",
     "text": [
      "./../../../Figures/2023_STEM_AE/generator_images_Generator_of_Figure_4_vortex_domains/0025_maps.png\n",
      "./../../../Figures/2023_STEM_AE/generator_images_Generator_of_Figure_4_vortex_domains/0025_maps.svg\n"
     ]
    },
    {
     "name": "stderr",
     "output_type": "stream",
     "text": [
      " 13%|█▎        | 26/200 [00:27<03:05,  1.07s/it]"
     ]
    },
    {
     "name": "stdout",
     "output_type": "stream",
     "text": [
      "./../../../Figures/2023_STEM_AE/generator_images_Generator_of_Figure_4_vortex_domains/0026_maps.png\n",
      "./../../../Figures/2023_STEM_AE/generator_images_Generator_of_Figure_4_vortex_domains/0026_maps.svg\n"
     ]
    },
    {
     "name": "stderr",
     "output_type": "stream",
     "text": [
      " 14%|█▎        | 27/200 [00:28<03:01,  1.05s/it]"
     ]
    },
    {
     "name": "stdout",
     "output_type": "stream",
     "text": [
      "./../../../Figures/2023_STEM_AE/generator_images_Generator_of_Figure_4_vortex_domains/0027_maps.png\n",
      "./../../../Figures/2023_STEM_AE/generator_images_Generator_of_Figure_4_vortex_domains/0027_maps.svg\n"
     ]
    },
    {
     "name": "stderr",
     "output_type": "stream",
     "text": [
      " 14%|█▍        | 28/200 [00:29<02:57,  1.03s/it]"
     ]
    },
    {
     "name": "stdout",
     "output_type": "stream",
     "text": [
      "./../../../Figures/2023_STEM_AE/generator_images_Generator_of_Figure_4_vortex_domains/0028_maps.png\n",
      "./../../../Figures/2023_STEM_AE/generator_images_Generator_of_Figure_4_vortex_domains/0028_maps.svg\n"
     ]
    },
    {
     "name": "stderr",
     "output_type": "stream",
     "text": [
      " 14%|█▍        | 29/200 [00:30<02:55,  1.02s/it]"
     ]
    },
    {
     "name": "stdout",
     "output_type": "stream",
     "text": [
      "./../../../Figures/2023_STEM_AE/generator_images_Generator_of_Figure_4_vortex_domains/0029_maps.png\n",
      "./../../../Figures/2023_STEM_AE/generator_images_Generator_of_Figure_4_vortex_domains/0029_maps.svg\n"
     ]
    },
    {
     "name": "stderr",
     "output_type": "stream",
     "text": [
      " 15%|█▌        | 30/200 [00:31<02:52,  1.02s/it]"
     ]
    },
    {
     "name": "stdout",
     "output_type": "stream",
     "text": [
      "./../../../Figures/2023_STEM_AE/generator_images_Generator_of_Figure_4_vortex_domains/0030_maps.png\n",
      "./../../../Figures/2023_STEM_AE/generator_images_Generator_of_Figure_4_vortex_domains/0030_maps.svg\n"
     ]
    },
    {
     "name": "stderr",
     "output_type": "stream",
     "text": [
      " 16%|█▌        | 31/200 [00:32<02:51,  1.01s/it]"
     ]
    },
    {
     "name": "stdout",
     "output_type": "stream",
     "text": [
      "./../../../Figures/2023_STEM_AE/generator_images_Generator_of_Figure_4_vortex_domains/0031_maps.png\n",
      "./../../../Figures/2023_STEM_AE/generator_images_Generator_of_Figure_4_vortex_domains/0031_maps.svg\n"
     ]
    },
    {
     "name": "stderr",
     "output_type": "stream",
     "text": [
      " 16%|█▌        | 32/200 [00:33<02:49,  1.01s/it]"
     ]
    },
    {
     "name": "stdout",
     "output_type": "stream",
     "text": [
      "./../../../Figures/2023_STEM_AE/generator_images_Generator_of_Figure_4_vortex_domains/0032_maps.png\n",
      "./../../../Figures/2023_STEM_AE/generator_images_Generator_of_Figure_4_vortex_domains/0032_maps.svg\n"
     ]
    },
    {
     "name": "stderr",
     "output_type": "stream",
     "text": [
      " 16%|█▋        | 33/200 [00:35<03:02,  1.09s/it]"
     ]
    },
    {
     "name": "stdout",
     "output_type": "stream",
     "text": [
      "./../../../Figures/2023_STEM_AE/generator_images_Generator_of_Figure_4_vortex_domains/0033_maps.png\n",
      "./../../../Figures/2023_STEM_AE/generator_images_Generator_of_Figure_4_vortex_domains/0033_maps.svg\n"
     ]
    },
    {
     "name": "stderr",
     "output_type": "stream",
     "text": [
      " 17%|█▋        | 34/200 [00:36<02:56,  1.06s/it]"
     ]
    },
    {
     "name": "stdout",
     "output_type": "stream",
     "text": [
      "./../../../Figures/2023_STEM_AE/generator_images_Generator_of_Figure_4_vortex_domains/0034_maps.png\n",
      "./../../../Figures/2023_STEM_AE/generator_images_Generator_of_Figure_4_vortex_domains/0034_maps.svg\n"
     ]
    },
    {
     "name": "stderr",
     "output_type": "stream",
     "text": [
      " 18%|█▊        | 35/200 [00:37<02:52,  1.05s/it]"
     ]
    },
    {
     "name": "stdout",
     "output_type": "stream",
     "text": [
      "./../../../Figures/2023_STEM_AE/generator_images_Generator_of_Figure_4_vortex_domains/0035_maps.png\n",
      "./../../../Figures/2023_STEM_AE/generator_images_Generator_of_Figure_4_vortex_domains/0035_maps.svg\n"
     ]
    },
    {
     "name": "stderr",
     "output_type": "stream",
     "text": [
      " 18%|█▊        | 36/200 [00:38<02:49,  1.03s/it]"
     ]
    },
    {
     "name": "stdout",
     "output_type": "stream",
     "text": [
      "./../../../Figures/2023_STEM_AE/generator_images_Generator_of_Figure_4_vortex_domains/0036_maps.png\n",
      "./../../../Figures/2023_STEM_AE/generator_images_Generator_of_Figure_4_vortex_domains/0036_maps.svg\n"
     ]
    },
    {
     "name": "stderr",
     "output_type": "stream",
     "text": [
      " 18%|█▊        | 37/200 [00:39<02:46,  1.02s/it]"
     ]
    },
    {
     "name": "stdout",
     "output_type": "stream",
     "text": [
      "./../../../Figures/2023_STEM_AE/generator_images_Generator_of_Figure_4_vortex_domains/0037_maps.png\n",
      "./../../../Figures/2023_STEM_AE/generator_images_Generator_of_Figure_4_vortex_domains/0037_maps.svg\n"
     ]
    },
    {
     "name": "stderr",
     "output_type": "stream",
     "text": [
      " 19%|█▉        | 38/200 [00:40<02:44,  1.02s/it]"
     ]
    },
    {
     "name": "stdout",
     "output_type": "stream",
     "text": [
      "./../../../Figures/2023_STEM_AE/generator_images_Generator_of_Figure_4_vortex_domains/0038_maps.png\n",
      "./../../../Figures/2023_STEM_AE/generator_images_Generator_of_Figure_4_vortex_domains/0038_maps.svg\n"
     ]
    },
    {
     "name": "stderr",
     "output_type": "stream",
     "text": [
      " 20%|█▉        | 39/200 [00:41<02:42,  1.01s/it]"
     ]
    },
    {
     "name": "stdout",
     "output_type": "stream",
     "text": [
      "./../../../Figures/2023_STEM_AE/generator_images_Generator_of_Figure_4_vortex_domains/0039_maps.png\n",
      "./../../../Figures/2023_STEM_AE/generator_images_Generator_of_Figure_4_vortex_domains/0039_maps.svg\n"
     ]
    },
    {
     "name": "stderr",
     "output_type": "stream",
     "text": [
      " 20%|██        | 40/200 [00:42<02:41,  1.01s/it]"
     ]
    },
    {
     "name": "stdout",
     "output_type": "stream",
     "text": [
      "./../../../Figures/2023_STEM_AE/generator_images_Generator_of_Figure_4_vortex_domains/0040_maps.png\n",
      "./../../../Figures/2023_STEM_AE/generator_images_Generator_of_Figure_4_vortex_domains/0040_maps.svg\n"
     ]
    },
    {
     "name": "stderr",
     "output_type": "stream",
     "text": [
      " 20%|██        | 41/200 [00:43<02:39,  1.00s/it]"
     ]
    },
    {
     "name": "stdout",
     "output_type": "stream",
     "text": [
      "./../../../Figures/2023_STEM_AE/generator_images_Generator_of_Figure_4_vortex_domains/0041_maps.png\n",
      "./../../../Figures/2023_STEM_AE/generator_images_Generator_of_Figure_4_vortex_domains/0041_maps.svg\n"
     ]
    },
    {
     "name": "stderr",
     "output_type": "stream",
     "text": [
      " 21%|██        | 42/200 [00:44<02:38,  1.00s/it]"
     ]
    },
    {
     "name": "stdout",
     "output_type": "stream",
     "text": [
      "./../../../Figures/2023_STEM_AE/generator_images_Generator_of_Figure_4_vortex_domains/0042_maps.png\n",
      "./../../../Figures/2023_STEM_AE/generator_images_Generator_of_Figure_4_vortex_domains/0042_maps.svg\n"
     ]
    },
    {
     "name": "stderr",
     "output_type": "stream",
     "text": [
      " 22%|██▏       | 43/200 [00:45<02:37,  1.00s/it]"
     ]
    },
    {
     "name": "stdout",
     "output_type": "stream",
     "text": [
      "./../../../Figures/2023_STEM_AE/generator_images_Generator_of_Figure_4_vortex_domains/0043_maps.png\n",
      "./../../../Figures/2023_STEM_AE/generator_images_Generator_of_Figure_4_vortex_domains/0043_maps.svg\n"
     ]
    },
    {
     "name": "stderr",
     "output_type": "stream",
     "text": [
      " 22%|██▏       | 44/200 [00:46<02:35,  1.00it/s]"
     ]
    },
    {
     "name": "stdout",
     "output_type": "stream",
     "text": [
      "./../../../Figures/2023_STEM_AE/generator_images_Generator_of_Figure_4_vortex_domains/0044_maps.png\n",
      "./../../../Figures/2023_STEM_AE/generator_images_Generator_of_Figure_4_vortex_domains/0044_maps.svg\n"
     ]
    },
    {
     "name": "stderr",
     "output_type": "stream",
     "text": [
      " 22%|██▎       | 45/200 [00:47<02:34,  1.00it/s]"
     ]
    },
    {
     "name": "stdout",
     "output_type": "stream",
     "text": [
      "./../../../Figures/2023_STEM_AE/generator_images_Generator_of_Figure_4_vortex_domains/0045_maps.png\n",
      "./../../../Figures/2023_STEM_AE/generator_images_Generator_of_Figure_4_vortex_domains/0045_maps.svg\n"
     ]
    },
    {
     "name": "stderr",
     "output_type": "stream",
     "text": [
      " 23%|██▎       | 46/200 [00:48<02:33,  1.00it/s]"
     ]
    },
    {
     "name": "stdout",
     "output_type": "stream",
     "text": [
      "./../../../Figures/2023_STEM_AE/generator_images_Generator_of_Figure_4_vortex_domains/0046_maps.png\n",
      "./../../../Figures/2023_STEM_AE/generator_images_Generator_of_Figure_4_vortex_domains/0046_maps.svg\n"
     ]
    },
    {
     "name": "stderr",
     "output_type": "stream",
     "text": [
      " 24%|██▎       | 47/200 [00:49<02:32,  1.00it/s]"
     ]
    },
    {
     "name": "stdout",
     "output_type": "stream",
     "text": [
      "./../../../Figures/2023_STEM_AE/generator_images_Generator_of_Figure_4_vortex_domains/0047_maps.png\n",
      "./../../../Figures/2023_STEM_AE/generator_images_Generator_of_Figure_4_vortex_domains/0047_maps.svg\n"
     ]
    },
    {
     "name": "stderr",
     "output_type": "stream",
     "text": [
      " 24%|██▍       | 48/200 [00:50<02:31,  1.00it/s]"
     ]
    },
    {
     "name": "stdout",
     "output_type": "stream",
     "text": [
      "./../../../Figures/2023_STEM_AE/generator_images_Generator_of_Figure_4_vortex_domains/0048_maps.png\n",
      "./../../../Figures/2023_STEM_AE/generator_images_Generator_of_Figure_4_vortex_domains/0048_maps.svg\n"
     ]
    },
    {
     "name": "stderr",
     "output_type": "stream",
     "text": [
      " 24%|██▍       | 49/200 [00:51<02:30,  1.00it/s]"
     ]
    },
    {
     "name": "stdout",
     "output_type": "stream",
     "text": [
      "./../../../Figures/2023_STEM_AE/generator_images_Generator_of_Figure_4_vortex_domains/0049_maps.png\n",
      "./../../../Figures/2023_STEM_AE/generator_images_Generator_of_Figure_4_vortex_domains/0049_maps.svg\n"
     ]
    },
    {
     "name": "stderr",
     "output_type": "stream",
     "text": [
      " 25%|██▌       | 50/200 [00:52<02:45,  1.10s/it]"
     ]
    },
    {
     "name": "stdout",
     "output_type": "stream",
     "text": [
      "./../../../Figures/2023_STEM_AE/generator_images_Generator_of_Figure_4_vortex_domains/0050_maps.png\n",
      "./../../../Figures/2023_STEM_AE/generator_images_Generator_of_Figure_4_vortex_domains/0050_maps.svg\n"
     ]
    },
    {
     "name": "stderr",
     "output_type": "stream",
     "text": [
      " 26%|██▌       | 51/200 [00:53<02:39,  1.07s/it]"
     ]
    },
    {
     "name": "stdout",
     "output_type": "stream",
     "text": [
      "./../../../Figures/2023_STEM_AE/generator_images_Generator_of_Figure_4_vortex_domains/0051_maps.png\n",
      "./../../../Figures/2023_STEM_AE/generator_images_Generator_of_Figure_4_vortex_domains/0051_maps.svg\n"
     ]
    },
    {
     "name": "stderr",
     "output_type": "stream",
     "text": [
      " 26%|██▌       | 52/200 [00:54<02:34,  1.05s/it]"
     ]
    },
    {
     "name": "stdout",
     "output_type": "stream",
     "text": [
      "./../../../Figures/2023_STEM_AE/generator_images_Generator_of_Figure_4_vortex_domains/0052_maps.png\n",
      "./../../../Figures/2023_STEM_AE/generator_images_Generator_of_Figure_4_vortex_domains/0052_maps.svg\n"
     ]
    },
    {
     "name": "stderr",
     "output_type": "stream",
     "text": [
      " 26%|██▋       | 53/200 [00:55<02:31,  1.03s/it]"
     ]
    },
    {
     "name": "stdout",
     "output_type": "stream",
     "text": [
      "./../../../Figures/2023_STEM_AE/generator_images_Generator_of_Figure_4_vortex_domains/0053_maps.png\n",
      "./../../../Figures/2023_STEM_AE/generator_images_Generator_of_Figure_4_vortex_domains/0053_maps.svg\n"
     ]
    },
    {
     "name": "stderr",
     "output_type": "stream",
     "text": [
      " 27%|██▋       | 54/200 [00:56<02:29,  1.02s/it]"
     ]
    },
    {
     "name": "stdout",
     "output_type": "stream",
     "text": [
      "./../../../Figures/2023_STEM_AE/generator_images_Generator_of_Figure_4_vortex_domains/0054_maps.png\n",
      "./../../../Figures/2023_STEM_AE/generator_images_Generator_of_Figure_4_vortex_domains/0054_maps.svg\n"
     ]
    },
    {
     "name": "stderr",
     "output_type": "stream",
     "text": [
      " 28%|██▊       | 55/200 [00:57<02:27,  1.02s/it]"
     ]
    },
    {
     "name": "stdout",
     "output_type": "stream",
     "text": [
      "./../../../Figures/2023_STEM_AE/generator_images_Generator_of_Figure_4_vortex_domains/0055_maps.png\n",
      "./../../../Figures/2023_STEM_AE/generator_images_Generator_of_Figure_4_vortex_domains/0055_maps.svg\n"
     ]
    },
    {
     "name": "stderr",
     "output_type": "stream",
     "text": [
      " 28%|██▊       | 56/200 [00:58<02:25,  1.01s/it]"
     ]
    },
    {
     "name": "stdout",
     "output_type": "stream",
     "text": [
      "./../../../Figures/2023_STEM_AE/generator_images_Generator_of_Figure_4_vortex_domains/0056_maps.png\n",
      "./../../../Figures/2023_STEM_AE/generator_images_Generator_of_Figure_4_vortex_domains/0056_maps.svg\n"
     ]
    },
    {
     "name": "stderr",
     "output_type": "stream",
     "text": [
      " 28%|██▊       | 57/200 [00:59<02:23,  1.00s/it]"
     ]
    },
    {
     "name": "stdout",
     "output_type": "stream",
     "text": [
      "./../../../Figures/2023_STEM_AE/generator_images_Generator_of_Figure_4_vortex_domains/0057_maps.png\n",
      "./../../../Figures/2023_STEM_AE/generator_images_Generator_of_Figure_4_vortex_domains/0057_maps.svg\n"
     ]
    },
    {
     "name": "stderr",
     "output_type": "stream",
     "text": [
      " 29%|██▉       | 58/200 [01:00<02:22,  1.00s/it]"
     ]
    },
    {
     "name": "stdout",
     "output_type": "stream",
     "text": [
      "./../../../Figures/2023_STEM_AE/generator_images_Generator_of_Figure_4_vortex_domains/0058_maps.png\n",
      "./../../../Figures/2023_STEM_AE/generator_images_Generator_of_Figure_4_vortex_domains/0058_maps.svg\n"
     ]
    },
    {
     "name": "stderr",
     "output_type": "stream",
     "text": [
      " 30%|██▉       | 59/200 [01:01<02:21,  1.00s/it]"
     ]
    },
    {
     "name": "stdout",
     "output_type": "stream",
     "text": [
      "./../../../Figures/2023_STEM_AE/generator_images_Generator_of_Figure_4_vortex_domains/0059_maps.png\n",
      "./../../../Figures/2023_STEM_AE/generator_images_Generator_of_Figure_4_vortex_domains/0059_maps.svg\n"
     ]
    },
    {
     "name": "stderr",
     "output_type": "stream",
     "text": [
      " 30%|███       | 60/200 [01:02<02:19,  1.00it/s]"
     ]
    },
    {
     "name": "stdout",
     "output_type": "stream",
     "text": [
      "./../../../Figures/2023_STEM_AE/generator_images_Generator_of_Figure_4_vortex_domains/0060_maps.png\n",
      "./../../../Figures/2023_STEM_AE/generator_images_Generator_of_Figure_4_vortex_domains/0060_maps.svg\n"
     ]
    },
    {
     "name": "stderr",
     "output_type": "stream",
     "text": [
      " 30%|███       | 61/200 [01:03<02:18,  1.00it/s]"
     ]
    },
    {
     "name": "stdout",
     "output_type": "stream",
     "text": [
      "./../../../Figures/2023_STEM_AE/generator_images_Generator_of_Figure_4_vortex_domains/0061_maps.png\n",
      "./../../../Figures/2023_STEM_AE/generator_images_Generator_of_Figure_4_vortex_domains/0061_maps.svg\n"
     ]
    },
    {
     "name": "stderr",
     "output_type": "stream",
     "text": [
      " 31%|███       | 62/200 [01:04<02:17,  1.00it/s]"
     ]
    },
    {
     "name": "stdout",
     "output_type": "stream",
     "text": [
      "./../../../Figures/2023_STEM_AE/generator_images_Generator_of_Figure_4_vortex_domains/0062_maps.png\n",
      "./../../../Figures/2023_STEM_AE/generator_images_Generator_of_Figure_4_vortex_domains/0062_maps.svg\n"
     ]
    },
    {
     "name": "stderr",
     "output_type": "stream",
     "text": [
      " 32%|███▏      | 63/200 [01:05<02:16,  1.00it/s]"
     ]
    },
    {
     "name": "stdout",
     "output_type": "stream",
     "text": [
      "./../../../Figures/2023_STEM_AE/generator_images_Generator_of_Figure_4_vortex_domains/0063_maps.png\n",
      "./../../../Figures/2023_STEM_AE/generator_images_Generator_of_Figure_4_vortex_domains/0063_maps.svg\n"
     ]
    },
    {
     "name": "stderr",
     "output_type": "stream",
     "text": [
      " 32%|███▏      | 64/200 [01:06<02:15,  1.00it/s]"
     ]
    },
    {
     "name": "stdout",
     "output_type": "stream",
     "text": [
      "./../../../Figures/2023_STEM_AE/generator_images_Generator_of_Figure_4_vortex_domains/0064_maps.png\n",
      "./../../../Figures/2023_STEM_AE/generator_images_Generator_of_Figure_4_vortex_domains/0064_maps.svg\n"
     ]
    },
    {
     "name": "stderr",
     "output_type": "stream",
     "text": [
      " 32%|███▎      | 65/200 [01:07<02:14,  1.00it/s]"
     ]
    },
    {
     "name": "stdout",
     "output_type": "stream",
     "text": [
      "./../../../Figures/2023_STEM_AE/generator_images_Generator_of_Figure_4_vortex_domains/0065_maps.png\n",
      "./../../../Figures/2023_STEM_AE/generator_images_Generator_of_Figure_4_vortex_domains/0065_maps.svg\n"
     ]
    },
    {
     "name": "stderr",
     "output_type": "stream",
     "text": [
      " 33%|███▎      | 66/200 [01:08<02:13,  1.00it/s]"
     ]
    },
    {
     "name": "stdout",
     "output_type": "stream",
     "text": [
      "./../../../Figures/2023_STEM_AE/generator_images_Generator_of_Figure_4_vortex_domains/0066_maps.png\n",
      "./../../../Figures/2023_STEM_AE/generator_images_Generator_of_Figure_4_vortex_domains/0066_maps.svg\n"
     ]
    },
    {
     "name": "stderr",
     "output_type": "stream",
     "text": [
      " 34%|███▎      | 67/200 [01:09<02:12,  1.01it/s]"
     ]
    },
    {
     "name": "stdout",
     "output_type": "stream",
     "text": [
      "./../../../Figures/2023_STEM_AE/generator_images_Generator_of_Figure_4_vortex_domains/0067_maps.png\n",
      "./../../../Figures/2023_STEM_AE/generator_images_Generator_of_Figure_4_vortex_domains/0067_maps.svg\n"
     ]
    },
    {
     "name": "stderr",
     "output_type": "stream",
     "text": [
      " 34%|███▍      | 68/200 [01:10<02:11,  1.01it/s]"
     ]
    },
    {
     "name": "stdout",
     "output_type": "stream",
     "text": [
      "./../../../Figures/2023_STEM_AE/generator_images_Generator_of_Figure_4_vortex_domains/0068_maps.png\n",
      "./../../../Figures/2023_STEM_AE/generator_images_Generator_of_Figure_4_vortex_domains/0068_maps.svg\n"
     ]
    },
    {
     "name": "stderr",
     "output_type": "stream",
     "text": [
      " 34%|███▍      | 69/200 [01:11<02:10,  1.01it/s]"
     ]
    },
    {
     "name": "stdout",
     "output_type": "stream",
     "text": [
      "./../../../Figures/2023_STEM_AE/generator_images_Generator_of_Figure_4_vortex_domains/0069_maps.png\n",
      "./../../../Figures/2023_STEM_AE/generator_images_Generator_of_Figure_4_vortex_domains/0069_maps.svg\n"
     ]
    },
    {
     "name": "stderr",
     "output_type": "stream",
     "text": [
      " 35%|███▌      | 70/200 [01:12<02:09,  1.01it/s]"
     ]
    },
    {
     "name": "stdout",
     "output_type": "stream",
     "text": [
      "./../../../Figures/2023_STEM_AE/generator_images_Generator_of_Figure_4_vortex_domains/0070_maps.png\n",
      "./../../../Figures/2023_STEM_AE/generator_images_Generator_of_Figure_4_vortex_domains/0070_maps.svg\n"
     ]
    },
    {
     "name": "stderr",
     "output_type": "stream",
     "text": [
      " 36%|███▌      | 71/200 [01:13<02:24,  1.12s/it]"
     ]
    },
    {
     "name": "stdout",
     "output_type": "stream",
     "text": [
      "./../../../Figures/2023_STEM_AE/generator_images_Generator_of_Figure_4_vortex_domains/0071_maps.png\n",
      "./../../../Figures/2023_STEM_AE/generator_images_Generator_of_Figure_4_vortex_domains/0071_maps.svg\n"
     ]
    },
    {
     "name": "stderr",
     "output_type": "stream",
     "text": [
      " 36%|███▌      | 72/200 [01:14<02:18,  1.08s/it]"
     ]
    },
    {
     "name": "stdout",
     "output_type": "stream",
     "text": [
      "./../../../Figures/2023_STEM_AE/generator_images_Generator_of_Figure_4_vortex_domains/0072_maps.png\n",
      "./../../../Figures/2023_STEM_AE/generator_images_Generator_of_Figure_4_vortex_domains/0072_maps.svg\n"
     ]
    },
    {
     "name": "stderr",
     "output_type": "stream",
     "text": [
      " 36%|███▋      | 73/200 [01:15<02:14,  1.06s/it]"
     ]
    },
    {
     "name": "stdout",
     "output_type": "stream",
     "text": [
      "./../../../Figures/2023_STEM_AE/generator_images_Generator_of_Figure_4_vortex_domains/0073_maps.png\n",
      "./../../../Figures/2023_STEM_AE/generator_images_Generator_of_Figure_4_vortex_domains/0073_maps.svg\n"
     ]
    },
    {
     "name": "stderr",
     "output_type": "stream",
     "text": [
      " 37%|███▋      | 74/200 [01:16<02:10,  1.04s/it]"
     ]
    },
    {
     "name": "stdout",
     "output_type": "stream",
     "text": [
      "./../../../Figures/2023_STEM_AE/generator_images_Generator_of_Figure_4_vortex_domains/0074_maps.png\n",
      "./../../../Figures/2023_STEM_AE/generator_images_Generator_of_Figure_4_vortex_domains/0074_maps.svg\n"
     ]
    },
    {
     "name": "stderr",
     "output_type": "stream",
     "text": [
      " 38%|███▊      | 75/200 [01:17<02:08,  1.02s/it]"
     ]
    },
    {
     "name": "stdout",
     "output_type": "stream",
     "text": [
      "./../../../Figures/2023_STEM_AE/generator_images_Generator_of_Figure_4_vortex_domains/0075_maps.png\n",
      "./../../../Figures/2023_STEM_AE/generator_images_Generator_of_Figure_4_vortex_domains/0075_maps.svg\n"
     ]
    },
    {
     "name": "stderr",
     "output_type": "stream",
     "text": [
      " 38%|███▊      | 76/200 [01:18<02:05,  1.02s/it]"
     ]
    },
    {
     "name": "stdout",
     "output_type": "stream",
     "text": [
      "./../../../Figures/2023_STEM_AE/generator_images_Generator_of_Figure_4_vortex_domains/0076_maps.png\n",
      "./../../../Figures/2023_STEM_AE/generator_images_Generator_of_Figure_4_vortex_domains/0076_maps.svg\n"
     ]
    },
    {
     "name": "stderr",
     "output_type": "stream",
     "text": [
      " 38%|███▊      | 77/200 [01:19<02:04,  1.01s/it]"
     ]
    },
    {
     "name": "stdout",
     "output_type": "stream",
     "text": [
      "./../../../Figures/2023_STEM_AE/generator_images_Generator_of_Figure_4_vortex_domains/0077_maps.png\n",
      "./../../../Figures/2023_STEM_AE/generator_images_Generator_of_Figure_4_vortex_domains/0077_maps.svg\n"
     ]
    },
    {
     "name": "stderr",
     "output_type": "stream",
     "text": [
      " 39%|███▉      | 78/200 [01:20<02:02,  1.01s/it]"
     ]
    },
    {
     "name": "stdout",
     "output_type": "stream",
     "text": [
      "./../../../Figures/2023_STEM_AE/generator_images_Generator_of_Figure_4_vortex_domains/0078_maps.png\n",
      "./../../../Figures/2023_STEM_AE/generator_images_Generator_of_Figure_4_vortex_domains/0078_maps.svg\n"
     ]
    },
    {
     "name": "stderr",
     "output_type": "stream",
     "text": [
      " 40%|███▉      | 79/200 [01:21<02:01,  1.00s/it]"
     ]
    },
    {
     "name": "stdout",
     "output_type": "stream",
     "text": [
      "./../../../Figures/2023_STEM_AE/generator_images_Generator_of_Figure_4_vortex_domains/0079_maps.png\n",
      "./../../../Figures/2023_STEM_AE/generator_images_Generator_of_Figure_4_vortex_domains/0079_maps.svg\n"
     ]
    },
    {
     "name": "stderr",
     "output_type": "stream",
     "text": [
      " 40%|████      | 80/200 [01:22<02:00,  1.00s/it]"
     ]
    },
    {
     "name": "stdout",
     "output_type": "stream",
     "text": [
      "./../../../Figures/2023_STEM_AE/generator_images_Generator_of_Figure_4_vortex_domains/0080_maps.png\n",
      "./../../../Figures/2023_STEM_AE/generator_images_Generator_of_Figure_4_vortex_domains/0080_maps.svg\n"
     ]
    },
    {
     "name": "stderr",
     "output_type": "stream",
     "text": [
      " 40%|████      | 81/200 [01:23<01:58,  1.00it/s]"
     ]
    },
    {
     "name": "stdout",
     "output_type": "stream",
     "text": [
      "./../../../Figures/2023_STEM_AE/generator_images_Generator_of_Figure_4_vortex_domains/0081_maps.png\n",
      "./../../../Figures/2023_STEM_AE/generator_images_Generator_of_Figure_4_vortex_domains/0081_maps.svg\n"
     ]
    },
    {
     "name": "stderr",
     "output_type": "stream",
     "text": [
      " 41%|████      | 82/200 [01:24<01:57,  1.00it/s]"
     ]
    },
    {
     "name": "stdout",
     "output_type": "stream",
     "text": [
      "./../../../Figures/2023_STEM_AE/generator_images_Generator_of_Figure_4_vortex_domains/0082_maps.png\n",
      "./../../../Figures/2023_STEM_AE/generator_images_Generator_of_Figure_4_vortex_domains/0082_maps.svg\n"
     ]
    },
    {
     "name": "stderr",
     "output_type": "stream",
     "text": [
      " 42%|████▏     | 83/200 [01:25<01:56,  1.00it/s]"
     ]
    },
    {
     "name": "stdout",
     "output_type": "stream",
     "text": [
      "./../../../Figures/2023_STEM_AE/generator_images_Generator_of_Figure_4_vortex_domains/0083_maps.png\n",
      "./../../../Figures/2023_STEM_AE/generator_images_Generator_of_Figure_4_vortex_domains/0083_maps.svg\n"
     ]
    },
    {
     "name": "stderr",
     "output_type": "stream",
     "text": [
      " 42%|████▏     | 84/200 [01:26<01:55,  1.00it/s]"
     ]
    },
    {
     "name": "stdout",
     "output_type": "stream",
     "text": [
      "./../../../Figures/2023_STEM_AE/generator_images_Generator_of_Figure_4_vortex_domains/0084_maps.png\n",
      "./../../../Figures/2023_STEM_AE/generator_images_Generator_of_Figure_4_vortex_domains/0084_maps.svg\n"
     ]
    },
    {
     "name": "stderr",
     "output_type": "stream",
     "text": [
      " 42%|████▎     | 85/200 [01:27<01:54,  1.00it/s]"
     ]
    },
    {
     "name": "stdout",
     "output_type": "stream",
     "text": [
      "./../../../Figures/2023_STEM_AE/generator_images_Generator_of_Figure_4_vortex_domains/0085_maps.png\n",
      "./../../../Figures/2023_STEM_AE/generator_images_Generator_of_Figure_4_vortex_domains/0085_maps.svg\n"
     ]
    },
    {
     "name": "stderr",
     "output_type": "stream",
     "text": [
      " 43%|████▎     | 86/200 [01:28<01:53,  1.00it/s]"
     ]
    },
    {
     "name": "stdout",
     "output_type": "stream",
     "text": [
      "./../../../Figures/2023_STEM_AE/generator_images_Generator_of_Figure_4_vortex_domains/0086_maps.png\n",
      "./../../../Figures/2023_STEM_AE/generator_images_Generator_of_Figure_4_vortex_domains/0086_maps.svg\n"
     ]
    },
    {
     "name": "stderr",
     "output_type": "stream",
     "text": [
      " 44%|████▎     | 87/200 [01:29<01:52,  1.00it/s]"
     ]
    },
    {
     "name": "stdout",
     "output_type": "stream",
     "text": [
      "./../../../Figures/2023_STEM_AE/generator_images_Generator_of_Figure_4_vortex_domains/0087_maps.png\n",
      "./../../../Figures/2023_STEM_AE/generator_images_Generator_of_Figure_4_vortex_domains/0087_maps.svg\n"
     ]
    },
    {
     "name": "stderr",
     "output_type": "stream",
     "text": [
      " 44%|████▍     | 88/200 [01:30<01:51,  1.00it/s]"
     ]
    },
    {
     "name": "stdout",
     "output_type": "stream",
     "text": [
      "./../../../Figures/2023_STEM_AE/generator_images_Generator_of_Figure_4_vortex_domains/0088_maps.png\n",
      "./../../../Figures/2023_STEM_AE/generator_images_Generator_of_Figure_4_vortex_domains/0088_maps.svg\n"
     ]
    },
    {
     "name": "stderr",
     "output_type": "stream",
     "text": [
      " 44%|████▍     | 89/200 [01:31<01:50,  1.00it/s]"
     ]
    },
    {
     "name": "stdout",
     "output_type": "stream",
     "text": [
      "./../../../Figures/2023_STEM_AE/generator_images_Generator_of_Figure_4_vortex_domains/0089_maps.png\n",
      "./../../../Figures/2023_STEM_AE/generator_images_Generator_of_Figure_4_vortex_domains/0089_maps.svg\n"
     ]
    },
    {
     "name": "stderr",
     "output_type": "stream",
     "text": [
      " 45%|████▌     | 90/200 [01:32<01:49,  1.01it/s]"
     ]
    },
    {
     "name": "stdout",
     "output_type": "stream",
     "text": [
      "./../../../Figures/2023_STEM_AE/generator_images_Generator_of_Figure_4_vortex_domains/0090_maps.png\n",
      "./../../../Figures/2023_STEM_AE/generator_images_Generator_of_Figure_4_vortex_domains/0090_maps.svg\n"
     ]
    },
    {
     "name": "stderr",
     "output_type": "stream",
     "text": [
      " 46%|████▌     | 91/200 [01:33<01:48,  1.01it/s]"
     ]
    },
    {
     "name": "stdout",
     "output_type": "stream",
     "text": [
      "./../../../Figures/2023_STEM_AE/generator_images_Generator_of_Figure_4_vortex_domains/0091_maps.png\n",
      "./../../../Figures/2023_STEM_AE/generator_images_Generator_of_Figure_4_vortex_domains/0091_maps.svg\n"
     ]
    },
    {
     "name": "stderr",
     "output_type": "stream",
     "text": [
      " 46%|████▌     | 92/200 [01:34<01:47,  1.01it/s]"
     ]
    },
    {
     "name": "stdout",
     "output_type": "stream",
     "text": [
      "./../../../Figures/2023_STEM_AE/generator_images_Generator_of_Figure_4_vortex_domains/0092_maps.png\n",
      "./../../../Figures/2023_STEM_AE/generator_images_Generator_of_Figure_4_vortex_domains/0092_maps.svg\n"
     ]
    },
    {
     "name": "stderr",
     "output_type": "stream",
     "text": [
      " 46%|████▋     | 93/200 [01:35<01:46,  1.01it/s]"
     ]
    },
    {
     "name": "stdout",
     "output_type": "stream",
     "text": [
      "./../../../Figures/2023_STEM_AE/generator_images_Generator_of_Figure_4_vortex_domains/0093_maps.png\n",
      "./../../../Figures/2023_STEM_AE/generator_images_Generator_of_Figure_4_vortex_domains/0093_maps.svg\n"
     ]
    },
    {
     "name": "stderr",
     "output_type": "stream",
     "text": [
      " 47%|████▋     | 94/200 [01:36<01:45,  1.01it/s]"
     ]
    },
    {
     "name": "stdout",
     "output_type": "stream",
     "text": [
      "./../../../Figures/2023_STEM_AE/generator_images_Generator_of_Figure_4_vortex_domains/0094_maps.png\n",
      "./../../../Figures/2023_STEM_AE/generator_images_Generator_of_Figure_4_vortex_domains/0094_maps.svg\n"
     ]
    },
    {
     "name": "stderr",
     "output_type": "stream",
     "text": [
      " 48%|████▊     | 95/200 [01:37<01:44,  1.01it/s]"
     ]
    },
    {
     "name": "stdout",
     "output_type": "stream",
     "text": [
      "./../../../Figures/2023_STEM_AE/generator_images_Generator_of_Figure_4_vortex_domains/0095_maps.png\n",
      "./../../../Figures/2023_STEM_AE/generator_images_Generator_of_Figure_4_vortex_domains/0095_maps.svg\n"
     ]
    },
    {
     "name": "stderr",
     "output_type": "stream",
     "text": [
      " 48%|████▊     | 96/200 [01:38<01:43,  1.01it/s]"
     ]
    },
    {
     "name": "stdout",
     "output_type": "stream",
     "text": [
      "./../../../Figures/2023_STEM_AE/generator_images_Generator_of_Figure_4_vortex_domains/0096_maps.png\n",
      "./../../../Figures/2023_STEM_AE/generator_images_Generator_of_Figure_4_vortex_domains/0096_maps.svg\n"
     ]
    },
    {
     "name": "stderr",
     "output_type": "stream",
     "text": [
      " 48%|████▊     | 97/200 [01:40<01:58,  1.15s/it]"
     ]
    },
    {
     "name": "stdout",
     "output_type": "stream",
     "text": [
      "./../../../Figures/2023_STEM_AE/generator_images_Generator_of_Figure_4_vortex_domains/0097_maps.png\n",
      "./../../../Figures/2023_STEM_AE/generator_images_Generator_of_Figure_4_vortex_domains/0097_maps.svg\n"
     ]
    },
    {
     "name": "stderr",
     "output_type": "stream",
     "text": [
      " 49%|████▉     | 98/200 [01:41<01:52,  1.10s/it]"
     ]
    },
    {
     "name": "stdout",
     "output_type": "stream",
     "text": [
      "./../../../Figures/2023_STEM_AE/generator_images_Generator_of_Figure_4_vortex_domains/0098_maps.png\n",
      "./../../../Figures/2023_STEM_AE/generator_images_Generator_of_Figure_4_vortex_domains/0098_maps.svg\n"
     ]
    },
    {
     "name": "stderr",
     "output_type": "stream",
     "text": [
      " 50%|████▉     | 99/200 [01:42<01:47,  1.07s/it]"
     ]
    },
    {
     "name": "stdout",
     "output_type": "stream",
     "text": [
      "./../../../Figures/2023_STEM_AE/generator_images_Generator_of_Figure_4_vortex_domains/0099_maps.png\n",
      "./../../../Figures/2023_STEM_AE/generator_images_Generator_of_Figure_4_vortex_domains/0099_maps.svg\n"
     ]
    },
    {
     "name": "stderr",
     "output_type": "stream",
     "text": [
      " 50%|█████     | 100/200 [01:43<01:44,  1.05s/it]"
     ]
    },
    {
     "name": "stdout",
     "output_type": "stream",
     "text": [
      "./../../../Figures/2023_STEM_AE/generator_images_Generator_of_Figure_4_vortex_domains/0100_maps.png\n",
      "./../../../Figures/2023_STEM_AE/generator_images_Generator_of_Figure_4_vortex_domains/0100_maps.svg\n"
     ]
    },
    {
     "name": "stderr",
     "output_type": "stream",
     "text": [
      " 50%|█████     | 101/200 [01:44<01:42,  1.03s/it]"
     ]
    },
    {
     "name": "stdout",
     "output_type": "stream",
     "text": [
      "./../../../Figures/2023_STEM_AE/generator_images_Generator_of_Figure_4_vortex_domains/0101_maps.png\n",
      "./../../../Figures/2023_STEM_AE/generator_images_Generator_of_Figure_4_vortex_domains/0101_maps.svg\n"
     ]
    },
    {
     "name": "stderr",
     "output_type": "stream",
     "text": [
      " 51%|█████     | 102/200 [01:45<01:39,  1.02s/it]"
     ]
    },
    {
     "name": "stdout",
     "output_type": "stream",
     "text": [
      "./../../../Figures/2023_STEM_AE/generator_images_Generator_of_Figure_4_vortex_domains/0102_maps.png\n",
      "./../../../Figures/2023_STEM_AE/generator_images_Generator_of_Figure_4_vortex_domains/0102_maps.svg\n"
     ]
    },
    {
     "name": "stderr",
     "output_type": "stream",
     "text": [
      " 52%|█████▏    | 103/200 [01:46<01:38,  1.01s/it]"
     ]
    },
    {
     "name": "stdout",
     "output_type": "stream",
     "text": [
      "./../../../Figures/2023_STEM_AE/generator_images_Generator_of_Figure_4_vortex_domains/0103_maps.png\n",
      "./../../../Figures/2023_STEM_AE/generator_images_Generator_of_Figure_4_vortex_domains/0103_maps.svg\n"
     ]
    },
    {
     "name": "stderr",
     "output_type": "stream",
     "text": [
      " 52%|█████▏    | 104/200 [01:47<01:36,  1.01s/it]"
     ]
    },
    {
     "name": "stdout",
     "output_type": "stream",
     "text": [
      "./../../../Figures/2023_STEM_AE/generator_images_Generator_of_Figure_4_vortex_domains/0104_maps.png\n",
      "./../../../Figures/2023_STEM_AE/generator_images_Generator_of_Figure_4_vortex_domains/0104_maps.svg\n"
     ]
    },
    {
     "name": "stderr",
     "output_type": "stream",
     "text": [
      " 52%|█████▎    | 105/200 [01:48<01:35,  1.00s/it]"
     ]
    },
    {
     "name": "stdout",
     "output_type": "stream",
     "text": [
      "./../../../Figures/2023_STEM_AE/generator_images_Generator_of_Figure_4_vortex_domains/0105_maps.png\n",
      "./../../../Figures/2023_STEM_AE/generator_images_Generator_of_Figure_4_vortex_domains/0105_maps.svg\n"
     ]
    },
    {
     "name": "stderr",
     "output_type": "stream",
     "text": [
      " 53%|█████▎    | 106/200 [01:49<01:34,  1.00s/it]"
     ]
    },
    {
     "name": "stdout",
     "output_type": "stream",
     "text": [
      "./../../../Figures/2023_STEM_AE/generator_images_Generator_of_Figure_4_vortex_domains/0106_maps.png\n",
      "./../../../Figures/2023_STEM_AE/generator_images_Generator_of_Figure_4_vortex_domains/0106_maps.svg\n"
     ]
    },
    {
     "name": "stderr",
     "output_type": "stream",
     "text": [
      " 54%|█████▎    | 107/200 [01:50<01:32,  1.00it/s]"
     ]
    },
    {
     "name": "stdout",
     "output_type": "stream",
     "text": [
      "./../../../Figures/2023_STEM_AE/generator_images_Generator_of_Figure_4_vortex_domains/0107_maps.png\n",
      "./../../../Figures/2023_STEM_AE/generator_images_Generator_of_Figure_4_vortex_domains/0107_maps.svg\n"
     ]
    },
    {
     "name": "stderr",
     "output_type": "stream",
     "text": [
      " 54%|█████▍    | 108/200 [01:51<01:31,  1.00it/s]"
     ]
    },
    {
     "name": "stdout",
     "output_type": "stream",
     "text": [
      "./../../../Figures/2023_STEM_AE/generator_images_Generator_of_Figure_4_vortex_domains/0108_maps.png\n",
      "./../../../Figures/2023_STEM_AE/generator_images_Generator_of_Figure_4_vortex_domains/0108_maps.svg\n"
     ]
    },
    {
     "name": "stderr",
     "output_type": "stream",
     "text": [
      " 55%|█████▍    | 109/200 [01:52<01:30,  1.00it/s]"
     ]
    },
    {
     "name": "stdout",
     "output_type": "stream",
     "text": [
      "./../../../Figures/2023_STEM_AE/generator_images_Generator_of_Figure_4_vortex_domains/0109_maps.png\n",
      "./../../../Figures/2023_STEM_AE/generator_images_Generator_of_Figure_4_vortex_domains/0109_maps.svg\n"
     ]
    },
    {
     "name": "stderr",
     "output_type": "stream",
     "text": [
      " 55%|█████▌    | 110/200 [01:53<01:29,  1.01it/s]"
     ]
    },
    {
     "name": "stdout",
     "output_type": "stream",
     "text": [
      "./../../../Figures/2023_STEM_AE/generator_images_Generator_of_Figure_4_vortex_domains/0110_maps.png\n",
      "./../../../Figures/2023_STEM_AE/generator_images_Generator_of_Figure_4_vortex_domains/0110_maps.svg\n"
     ]
    },
    {
     "name": "stderr",
     "output_type": "stream",
     "text": [
      " 56%|█████▌    | 111/200 [01:54<01:28,  1.01it/s]"
     ]
    },
    {
     "name": "stdout",
     "output_type": "stream",
     "text": [
      "./../../../Figures/2023_STEM_AE/generator_images_Generator_of_Figure_4_vortex_domains/0111_maps.png\n",
      "./../../../Figures/2023_STEM_AE/generator_images_Generator_of_Figure_4_vortex_domains/0111_maps.svg\n"
     ]
    },
    {
     "name": "stderr",
     "output_type": "stream",
     "text": [
      " 56%|█████▌    | 112/200 [01:55<01:27,  1.01it/s]"
     ]
    },
    {
     "name": "stdout",
     "output_type": "stream",
     "text": [
      "./../../../Figures/2023_STEM_AE/generator_images_Generator_of_Figure_4_vortex_domains/0112_maps.png\n",
      "./../../../Figures/2023_STEM_AE/generator_images_Generator_of_Figure_4_vortex_domains/0112_maps.svg\n"
     ]
    },
    {
     "name": "stderr",
     "output_type": "stream",
     "text": [
      " 56%|█████▋    | 113/200 [01:56<01:26,  1.01it/s]"
     ]
    },
    {
     "name": "stdout",
     "output_type": "stream",
     "text": [
      "./../../../Figures/2023_STEM_AE/generator_images_Generator_of_Figure_4_vortex_domains/0113_maps.png\n",
      "./../../../Figures/2023_STEM_AE/generator_images_Generator_of_Figure_4_vortex_domains/0113_maps.svg\n"
     ]
    },
    {
     "name": "stderr",
     "output_type": "stream",
     "text": [
      " 57%|█████▋    | 114/200 [01:57<01:25,  1.01it/s]"
     ]
    },
    {
     "name": "stdout",
     "output_type": "stream",
     "text": [
      "./../../../Figures/2023_STEM_AE/generator_images_Generator_of_Figure_4_vortex_domains/0114_maps.png\n",
      "./../../../Figures/2023_STEM_AE/generator_images_Generator_of_Figure_4_vortex_domains/0114_maps.svg\n"
     ]
    },
    {
     "name": "stderr",
     "output_type": "stream",
     "text": [
      " 57%|█████▊    | 115/200 [01:58<01:24,  1.01it/s]"
     ]
    },
    {
     "name": "stdout",
     "output_type": "stream",
     "text": [
      "./../../../Figures/2023_STEM_AE/generator_images_Generator_of_Figure_4_vortex_domains/0115_maps.png\n",
      "./../../../Figures/2023_STEM_AE/generator_images_Generator_of_Figure_4_vortex_domains/0115_maps.svg\n"
     ]
    },
    {
     "name": "stderr",
     "output_type": "stream",
     "text": [
      " 58%|█████▊    | 116/200 [01:59<01:23,  1.01it/s]"
     ]
    },
    {
     "name": "stdout",
     "output_type": "stream",
     "text": [
      "./../../../Figures/2023_STEM_AE/generator_images_Generator_of_Figure_4_vortex_domains/0116_maps.png\n",
      "./../../../Figures/2023_STEM_AE/generator_images_Generator_of_Figure_4_vortex_domains/0116_maps.svg\n"
     ]
    },
    {
     "name": "stderr",
     "output_type": "stream",
     "text": [
      " 58%|█████▊    | 117/200 [02:00<01:22,  1.01it/s]"
     ]
    },
    {
     "name": "stdout",
     "output_type": "stream",
     "text": [
      "./../../../Figures/2023_STEM_AE/generator_images_Generator_of_Figure_4_vortex_domains/0117_maps.png\n",
      "./../../../Figures/2023_STEM_AE/generator_images_Generator_of_Figure_4_vortex_domains/0117_maps.svg\n"
     ]
    },
    {
     "name": "stderr",
     "output_type": "stream",
     "text": [
      " 59%|█████▉    | 118/200 [02:01<01:21,  1.01it/s]"
     ]
    },
    {
     "name": "stdout",
     "output_type": "stream",
     "text": [
      "./../../../Figures/2023_STEM_AE/generator_images_Generator_of_Figure_4_vortex_domains/0118_maps.png\n",
      "./../../../Figures/2023_STEM_AE/generator_images_Generator_of_Figure_4_vortex_domains/0118_maps.svg\n"
     ]
    },
    {
     "name": "stderr",
     "output_type": "stream",
     "text": [
      " 60%|█████▉    | 119/200 [02:02<01:20,  1.01it/s]"
     ]
    },
    {
     "name": "stdout",
     "output_type": "stream",
     "text": [
      "./../../../Figures/2023_STEM_AE/generator_images_Generator_of_Figure_4_vortex_domains/0119_maps.png\n",
      "./../../../Figures/2023_STEM_AE/generator_images_Generator_of_Figure_4_vortex_domains/0119_maps.svg\n"
     ]
    },
    {
     "name": "stderr",
     "output_type": "stream",
     "text": [
      " 60%|██████    | 120/200 [02:03<01:19,  1.01it/s]"
     ]
    },
    {
     "name": "stdout",
     "output_type": "stream",
     "text": [
      "./../../../Figures/2023_STEM_AE/generator_images_Generator_of_Figure_4_vortex_domains/0120_maps.png\n",
      "./../../../Figures/2023_STEM_AE/generator_images_Generator_of_Figure_4_vortex_domains/0120_maps.svg\n"
     ]
    },
    {
     "name": "stderr",
     "output_type": "stream",
     "text": [
      " 60%|██████    | 121/200 [02:03<01:18,  1.01it/s]"
     ]
    },
    {
     "name": "stdout",
     "output_type": "stream",
     "text": [
      "./../../../Figures/2023_STEM_AE/generator_images_Generator_of_Figure_4_vortex_domains/0121_maps.png\n",
      "./../../../Figures/2023_STEM_AE/generator_images_Generator_of_Figure_4_vortex_domains/0121_maps.svg\n"
     ]
    },
    {
     "name": "stderr",
     "output_type": "stream",
     "text": [
      " 61%|██████    | 122/200 [02:04<01:17,  1.01it/s]"
     ]
    },
    {
     "name": "stdout",
     "output_type": "stream",
     "text": [
      "./../../../Figures/2023_STEM_AE/generator_images_Generator_of_Figure_4_vortex_domains/0122_maps.png\n",
      "./../../../Figures/2023_STEM_AE/generator_images_Generator_of_Figure_4_vortex_domains/0122_maps.svg\n"
     ]
    },
    {
     "name": "stderr",
     "output_type": "stream",
     "text": [
      " 62%|██████▏   | 123/200 [02:05<01:16,  1.01it/s]"
     ]
    },
    {
     "name": "stdout",
     "output_type": "stream",
     "text": [
      "./../../../Figures/2023_STEM_AE/generator_images_Generator_of_Figure_4_vortex_domains/0123_maps.png\n",
      "./../../../Figures/2023_STEM_AE/generator_images_Generator_of_Figure_4_vortex_domains/0123_maps.svg\n"
     ]
    },
    {
     "name": "stderr",
     "output_type": "stream",
     "text": [
      " 62%|██████▏   | 124/200 [02:06<01:15,  1.01it/s]"
     ]
    },
    {
     "name": "stdout",
     "output_type": "stream",
     "text": [
      "./../../../Figures/2023_STEM_AE/generator_images_Generator_of_Figure_4_vortex_domains/0124_maps.png\n",
      "./../../../Figures/2023_STEM_AE/generator_images_Generator_of_Figure_4_vortex_domains/0124_maps.svg\n"
     ]
    },
    {
     "name": "stderr",
     "output_type": "stream",
     "text": [
      " 62%|██████▎   | 125/200 [02:07<01:14,  1.01it/s]"
     ]
    },
    {
     "name": "stdout",
     "output_type": "stream",
     "text": [
      "./../../../Figures/2023_STEM_AE/generator_images_Generator_of_Figure_4_vortex_domains/0125_maps.png\n",
      "./../../../Figures/2023_STEM_AE/generator_images_Generator_of_Figure_4_vortex_domains/0125_maps.svg\n"
     ]
    },
    {
     "name": "stderr",
     "output_type": "stream",
     "text": [
      " 63%|██████▎   | 126/200 [02:08<01:13,  1.01it/s]"
     ]
    },
    {
     "name": "stdout",
     "output_type": "stream",
     "text": [
      "./../../../Figures/2023_STEM_AE/generator_images_Generator_of_Figure_4_vortex_domains/0126_maps.png\n",
      "./../../../Figures/2023_STEM_AE/generator_images_Generator_of_Figure_4_vortex_domains/0126_maps.svg\n"
     ]
    },
    {
     "name": "stderr",
     "output_type": "stream",
     "text": [
      " 64%|██████▎   | 127/200 [02:09<01:12,  1.01it/s]"
     ]
    },
    {
     "name": "stdout",
     "output_type": "stream",
     "text": [
      "./../../../Figures/2023_STEM_AE/generator_images_Generator_of_Figure_4_vortex_domains/0127_maps.png\n",
      "./../../../Figures/2023_STEM_AE/generator_images_Generator_of_Figure_4_vortex_domains/0127_maps.svg\n"
     ]
    },
    {
     "name": "stderr",
     "output_type": "stream",
     "text": [
      " 64%|██████▍   | 128/200 [02:10<01:11,  1.01it/s]"
     ]
    },
    {
     "name": "stdout",
     "output_type": "stream",
     "text": [
      "./../../../Figures/2023_STEM_AE/generator_images_Generator_of_Figure_4_vortex_domains/0128_maps.png\n",
      "./../../../Figures/2023_STEM_AE/generator_images_Generator_of_Figure_4_vortex_domains/0128_maps.svg\n"
     ]
    },
    {
     "name": "stderr",
     "output_type": "stream",
     "text": [
      " 64%|██████▍   | 129/200 [02:11<01:10,  1.01it/s]"
     ]
    },
    {
     "name": "stdout",
     "output_type": "stream",
     "text": [
      "./../../../Figures/2023_STEM_AE/generator_images_Generator_of_Figure_4_vortex_domains/0129_maps.png\n",
      "./../../../Figures/2023_STEM_AE/generator_images_Generator_of_Figure_4_vortex_domains/0129_maps.svg\n"
     ]
    },
    {
     "name": "stderr",
     "output_type": "stream",
     "text": [
      " 65%|██████▌   | 130/200 [02:13<01:22,  1.18s/it]"
     ]
    },
    {
     "name": "stdout",
     "output_type": "stream",
     "text": [
      "./../../../Figures/2023_STEM_AE/generator_images_Generator_of_Figure_4_vortex_domains/0130_maps.png\n",
      "./../../../Figures/2023_STEM_AE/generator_images_Generator_of_Figure_4_vortex_domains/0130_maps.svg\n"
     ]
    },
    {
     "name": "stderr",
     "output_type": "stream",
     "text": [
      " 66%|██████▌   | 131/200 [02:14<01:17,  1.13s/it]"
     ]
    },
    {
     "name": "stdout",
     "output_type": "stream",
     "text": [
      "./../../../Figures/2023_STEM_AE/generator_images_Generator_of_Figure_4_vortex_domains/0131_maps.png\n",
      "./../../../Figures/2023_STEM_AE/generator_images_Generator_of_Figure_4_vortex_domains/0131_maps.svg\n"
     ]
    },
    {
     "name": "stderr",
     "output_type": "stream",
     "text": [
      " 66%|██████▌   | 132/200 [02:15<01:13,  1.09s/it]"
     ]
    },
    {
     "name": "stdout",
     "output_type": "stream",
     "text": [
      "./../../../Figures/2023_STEM_AE/generator_images_Generator_of_Figure_4_vortex_domains/0132_maps.png\n",
      "./../../../Figures/2023_STEM_AE/generator_images_Generator_of_Figure_4_vortex_domains/0132_maps.svg\n"
     ]
    },
    {
     "name": "stderr",
     "output_type": "stream",
     "text": [
      " 66%|██████▋   | 133/200 [02:16<01:10,  1.06s/it]"
     ]
    },
    {
     "name": "stdout",
     "output_type": "stream",
     "text": [
      "./../../../Figures/2023_STEM_AE/generator_images_Generator_of_Figure_4_vortex_domains/0133_maps.png\n",
      "./../../../Figures/2023_STEM_AE/generator_images_Generator_of_Figure_4_vortex_domains/0133_maps.svg\n"
     ]
    },
    {
     "name": "stderr",
     "output_type": "stream",
     "text": [
      " 67%|██████▋   | 134/200 [02:17<01:08,  1.04s/it]"
     ]
    },
    {
     "name": "stdout",
     "output_type": "stream",
     "text": [
      "./../../../Figures/2023_STEM_AE/generator_images_Generator_of_Figure_4_vortex_domains/0134_maps.png\n",
      "./../../../Figures/2023_STEM_AE/generator_images_Generator_of_Figure_4_vortex_domains/0134_maps.svg\n"
     ]
    },
    {
     "name": "stderr",
     "output_type": "stream",
     "text": [
      " 68%|██████▊   | 135/200 [02:18<01:06,  1.02s/it]"
     ]
    },
    {
     "name": "stdout",
     "output_type": "stream",
     "text": [
      "./../../../Figures/2023_STEM_AE/generator_images_Generator_of_Figure_4_vortex_domains/0135_maps.png\n",
      "./../../../Figures/2023_STEM_AE/generator_images_Generator_of_Figure_4_vortex_domains/0135_maps.svg\n"
     ]
    },
    {
     "name": "stderr",
     "output_type": "stream",
     "text": [
      " 68%|██████▊   | 136/200 [02:19<01:04,  1.02s/it]"
     ]
    },
    {
     "name": "stdout",
     "output_type": "stream",
     "text": [
      "./../../../Figures/2023_STEM_AE/generator_images_Generator_of_Figure_4_vortex_domains/0136_maps.png\n",
      "./../../../Figures/2023_STEM_AE/generator_images_Generator_of_Figure_4_vortex_domains/0136_maps.svg\n"
     ]
    },
    {
     "name": "stderr",
     "output_type": "stream",
     "text": [
      " 68%|██████▊   | 137/200 [02:20<01:03,  1.01s/it]"
     ]
    },
    {
     "name": "stdout",
     "output_type": "stream",
     "text": [
      "./../../../Figures/2023_STEM_AE/generator_images_Generator_of_Figure_4_vortex_domains/0137_maps.png\n",
      "./../../../Figures/2023_STEM_AE/generator_images_Generator_of_Figure_4_vortex_domains/0137_maps.svg\n"
     ]
    },
    {
     "name": "stderr",
     "output_type": "stream",
     "text": [
      " 69%|██████▉   | 138/200 [02:21<01:02,  1.01s/it]"
     ]
    },
    {
     "name": "stdout",
     "output_type": "stream",
     "text": [
      "./../../../Figures/2023_STEM_AE/generator_images_Generator_of_Figure_4_vortex_domains/0138_maps.png\n",
      "./../../../Figures/2023_STEM_AE/generator_images_Generator_of_Figure_4_vortex_domains/0138_maps.svg\n"
     ]
    },
    {
     "name": "stderr",
     "output_type": "stream",
     "text": [
      " 70%|██████▉   | 139/200 [02:22<01:01,  1.00s/it]"
     ]
    },
    {
     "name": "stdout",
     "output_type": "stream",
     "text": [
      "./../../../Figures/2023_STEM_AE/generator_images_Generator_of_Figure_4_vortex_domains/0139_maps.png\n",
      "./../../../Figures/2023_STEM_AE/generator_images_Generator_of_Figure_4_vortex_domains/0139_maps.svg\n"
     ]
    },
    {
     "name": "stderr",
     "output_type": "stream",
     "text": [
      " 70%|███████   | 140/200 [02:23<00:59,  1.00it/s]"
     ]
    },
    {
     "name": "stdout",
     "output_type": "stream",
     "text": [
      "./../../../Figures/2023_STEM_AE/generator_images_Generator_of_Figure_4_vortex_domains/0140_maps.png\n",
      "./../../../Figures/2023_STEM_AE/generator_images_Generator_of_Figure_4_vortex_domains/0140_maps.svg\n"
     ]
    },
    {
     "name": "stderr",
     "output_type": "stream",
     "text": [
      " 70%|███████   | 141/200 [02:24<00:58,  1.00it/s]"
     ]
    },
    {
     "name": "stdout",
     "output_type": "stream",
     "text": [
      "./../../../Figures/2023_STEM_AE/generator_images_Generator_of_Figure_4_vortex_domains/0141_maps.png\n",
      "./../../../Figures/2023_STEM_AE/generator_images_Generator_of_Figure_4_vortex_domains/0141_maps.svg\n"
     ]
    },
    {
     "name": "stderr",
     "output_type": "stream",
     "text": [
      " 71%|███████   | 142/200 [02:25<00:57,  1.00it/s]"
     ]
    },
    {
     "name": "stdout",
     "output_type": "stream",
     "text": [
      "./../../../Figures/2023_STEM_AE/generator_images_Generator_of_Figure_4_vortex_domains/0142_maps.png\n",
      "./../../../Figures/2023_STEM_AE/generator_images_Generator_of_Figure_4_vortex_domains/0142_maps.svg\n"
     ]
    },
    {
     "name": "stderr",
     "output_type": "stream",
     "text": [
      " 72%|███████▏  | 143/200 [02:26<00:56,  1.00it/s]"
     ]
    },
    {
     "name": "stdout",
     "output_type": "stream",
     "text": [
      "./../../../Figures/2023_STEM_AE/generator_images_Generator_of_Figure_4_vortex_domains/0143_maps.png\n",
      "./../../../Figures/2023_STEM_AE/generator_images_Generator_of_Figure_4_vortex_domains/0143_maps.svg\n"
     ]
    },
    {
     "name": "stderr",
     "output_type": "stream",
     "text": [
      " 72%|███████▏  | 144/200 [02:27<00:55,  1.00it/s]"
     ]
    },
    {
     "name": "stdout",
     "output_type": "stream",
     "text": [
      "./../../../Figures/2023_STEM_AE/generator_images_Generator_of_Figure_4_vortex_domains/0144_maps.png\n",
      "./../../../Figures/2023_STEM_AE/generator_images_Generator_of_Figure_4_vortex_domains/0144_maps.svg\n"
     ]
    },
    {
     "name": "stderr",
     "output_type": "stream",
     "text": [
      " 72%|███████▎  | 145/200 [02:28<00:54,  1.00it/s]"
     ]
    },
    {
     "name": "stdout",
     "output_type": "stream",
     "text": [
      "./../../../Figures/2023_STEM_AE/generator_images_Generator_of_Figure_4_vortex_domains/0145_maps.png\n",
      "./../../../Figures/2023_STEM_AE/generator_images_Generator_of_Figure_4_vortex_domains/0145_maps.svg\n"
     ]
    },
    {
     "name": "stderr",
     "output_type": "stream",
     "text": [
      " 73%|███████▎  | 146/200 [02:29<00:53,  1.00it/s]"
     ]
    },
    {
     "name": "stdout",
     "output_type": "stream",
     "text": [
      "./../../../Figures/2023_STEM_AE/generator_images_Generator_of_Figure_4_vortex_domains/0146_maps.png\n",
      "./../../../Figures/2023_STEM_AE/generator_images_Generator_of_Figure_4_vortex_domains/0146_maps.svg\n"
     ]
    },
    {
     "name": "stderr",
     "output_type": "stream",
     "text": [
      " 74%|███████▎  | 147/200 [02:30<00:52,  1.00it/s]"
     ]
    },
    {
     "name": "stdout",
     "output_type": "stream",
     "text": [
      "./../../../Figures/2023_STEM_AE/generator_images_Generator_of_Figure_4_vortex_domains/0147_maps.png\n",
      "./../../../Figures/2023_STEM_AE/generator_images_Generator_of_Figure_4_vortex_domains/0147_maps.svg\n"
     ]
    },
    {
     "name": "stderr",
     "output_type": "stream",
     "text": [
      " 74%|███████▍  | 148/200 [02:31<00:51,  1.00it/s]"
     ]
    },
    {
     "name": "stdout",
     "output_type": "stream",
     "text": [
      "./../../../Figures/2023_STEM_AE/generator_images_Generator_of_Figure_4_vortex_domains/0148_maps.png\n",
      "./../../../Figures/2023_STEM_AE/generator_images_Generator_of_Figure_4_vortex_domains/0148_maps.svg\n"
     ]
    },
    {
     "name": "stderr",
     "output_type": "stream",
     "text": [
      " 74%|███████▍  | 149/200 [02:32<00:50,  1.00it/s]"
     ]
    },
    {
     "name": "stdout",
     "output_type": "stream",
     "text": [
      "./../../../Figures/2023_STEM_AE/generator_images_Generator_of_Figure_4_vortex_domains/0149_maps.png\n",
      "./../../../Figures/2023_STEM_AE/generator_images_Generator_of_Figure_4_vortex_domains/0149_maps.svg\n"
     ]
    },
    {
     "name": "stderr",
     "output_type": "stream",
     "text": [
      " 75%|███████▌  | 150/200 [02:33<00:49,  1.00it/s]"
     ]
    },
    {
     "name": "stdout",
     "output_type": "stream",
     "text": [
      "./../../../Figures/2023_STEM_AE/generator_images_Generator_of_Figure_4_vortex_domains/0150_maps.png\n",
      "./../../../Figures/2023_STEM_AE/generator_images_Generator_of_Figure_4_vortex_domains/0150_maps.svg\n"
     ]
    },
    {
     "name": "stderr",
     "output_type": "stream",
     "text": [
      " 76%|███████▌  | 151/200 [02:34<00:48,  1.00it/s]"
     ]
    },
    {
     "name": "stdout",
     "output_type": "stream",
     "text": [
      "./../../../Figures/2023_STEM_AE/generator_images_Generator_of_Figure_4_vortex_domains/0151_maps.png\n",
      "./../../../Figures/2023_STEM_AE/generator_images_Generator_of_Figure_4_vortex_domains/0151_maps.svg\n"
     ]
    },
    {
     "name": "stderr",
     "output_type": "stream",
     "text": [
      " 76%|███████▌  | 152/200 [02:35<00:47,  1.01it/s]"
     ]
    },
    {
     "name": "stdout",
     "output_type": "stream",
     "text": [
      "./../../../Figures/2023_STEM_AE/generator_images_Generator_of_Figure_4_vortex_domains/0152_maps.png\n",
      "./../../../Figures/2023_STEM_AE/generator_images_Generator_of_Figure_4_vortex_domains/0152_maps.svg\n"
     ]
    },
    {
     "name": "stderr",
     "output_type": "stream",
     "text": [
      " 76%|███████▋  | 153/200 [02:36<00:46,  1.01it/s]"
     ]
    },
    {
     "name": "stdout",
     "output_type": "stream",
     "text": [
      "./../../../Figures/2023_STEM_AE/generator_images_Generator_of_Figure_4_vortex_domains/0153_maps.png\n",
      "./../../../Figures/2023_STEM_AE/generator_images_Generator_of_Figure_4_vortex_domains/0153_maps.svg\n"
     ]
    },
    {
     "name": "stderr",
     "output_type": "stream",
     "text": [
      " 77%|███████▋  | 154/200 [02:37<00:45,  1.01it/s]"
     ]
    },
    {
     "name": "stdout",
     "output_type": "stream",
     "text": [
      "./../../../Figures/2023_STEM_AE/generator_images_Generator_of_Figure_4_vortex_domains/0154_maps.png\n",
      "./../../../Figures/2023_STEM_AE/generator_images_Generator_of_Figure_4_vortex_domains/0154_maps.svg\n"
     ]
    },
    {
     "name": "stderr",
     "output_type": "stream",
     "text": [
      " 78%|███████▊  | 155/200 [02:38<00:44,  1.01it/s]"
     ]
    },
    {
     "name": "stdout",
     "output_type": "stream",
     "text": [
      "./../../../Figures/2023_STEM_AE/generator_images_Generator_of_Figure_4_vortex_domains/0155_maps.png\n",
      "./../../../Figures/2023_STEM_AE/generator_images_Generator_of_Figure_4_vortex_domains/0155_maps.svg\n"
     ]
    },
    {
     "name": "stderr",
     "output_type": "stream",
     "text": [
      " 78%|███████▊  | 156/200 [02:39<00:43,  1.01it/s]"
     ]
    },
    {
     "name": "stdout",
     "output_type": "stream",
     "text": [
      "./../../../Figures/2023_STEM_AE/generator_images_Generator_of_Figure_4_vortex_domains/0156_maps.png\n",
      "./../../../Figures/2023_STEM_AE/generator_images_Generator_of_Figure_4_vortex_domains/0156_maps.svg\n"
     ]
    },
    {
     "name": "stderr",
     "output_type": "stream",
     "text": [
      " 78%|███████▊  | 157/200 [02:40<00:42,  1.01it/s]"
     ]
    },
    {
     "name": "stdout",
     "output_type": "stream",
     "text": [
      "./../../../Figures/2023_STEM_AE/generator_images_Generator_of_Figure_4_vortex_domains/0157_maps.png\n",
      "./../../../Figures/2023_STEM_AE/generator_images_Generator_of_Figure_4_vortex_domains/0157_maps.svg\n"
     ]
    },
    {
     "name": "stderr",
     "output_type": "stream",
     "text": [
      " 79%|███████▉  | 158/200 [02:41<00:41,  1.01it/s]"
     ]
    },
    {
     "name": "stdout",
     "output_type": "stream",
     "text": [
      "./../../../Figures/2023_STEM_AE/generator_images_Generator_of_Figure_4_vortex_domains/0158_maps.png\n",
      "./../../../Figures/2023_STEM_AE/generator_images_Generator_of_Figure_4_vortex_domains/0158_maps.svg\n"
     ]
    },
    {
     "name": "stderr",
     "output_type": "stream",
     "text": [
      " 80%|███████▉  | 159/200 [02:42<00:40,  1.01it/s]"
     ]
    },
    {
     "name": "stdout",
     "output_type": "stream",
     "text": [
      "./../../../Figures/2023_STEM_AE/generator_images_Generator_of_Figure_4_vortex_domains/0159_maps.png\n",
      "./../../../Figures/2023_STEM_AE/generator_images_Generator_of_Figure_4_vortex_domains/0159_maps.svg\n"
     ]
    },
    {
     "name": "stderr",
     "output_type": "stream",
     "text": [
      " 80%|████████  | 160/200 [02:43<00:39,  1.01it/s]"
     ]
    },
    {
     "name": "stdout",
     "output_type": "stream",
     "text": [
      "./../../../Figures/2023_STEM_AE/generator_images_Generator_of_Figure_4_vortex_domains/0160_maps.png\n",
      "./../../../Figures/2023_STEM_AE/generator_images_Generator_of_Figure_4_vortex_domains/0160_maps.svg\n"
     ]
    },
    {
     "name": "stderr",
     "output_type": "stream",
     "text": [
      " 80%|████████  | 161/200 [02:44<00:38,  1.01it/s]"
     ]
    },
    {
     "name": "stdout",
     "output_type": "stream",
     "text": [
      "./../../../Figures/2023_STEM_AE/generator_images_Generator_of_Figure_4_vortex_domains/0161_maps.png\n",
      "./../../../Figures/2023_STEM_AE/generator_images_Generator_of_Figure_4_vortex_domains/0161_maps.svg\n"
     ]
    },
    {
     "name": "stderr",
     "output_type": "stream",
     "text": [
      " 81%|████████  | 162/200 [02:45<00:37,  1.00it/s]"
     ]
    },
    {
     "name": "stdout",
     "output_type": "stream",
     "text": [
      "./../../../Figures/2023_STEM_AE/generator_images_Generator_of_Figure_4_vortex_domains/0162_maps.png\n",
      "./../../../Figures/2023_STEM_AE/generator_images_Generator_of_Figure_4_vortex_domains/0162_maps.svg\n"
     ]
    },
    {
     "name": "stderr",
     "output_type": "stream",
     "text": [
      " 82%|████████▏ | 163/200 [02:46<00:36,  1.01it/s]"
     ]
    },
    {
     "name": "stdout",
     "output_type": "stream",
     "text": [
      "./../../../Figures/2023_STEM_AE/generator_images_Generator_of_Figure_4_vortex_domains/0163_maps.png\n",
      "./../../../Figures/2023_STEM_AE/generator_images_Generator_of_Figure_4_vortex_domains/0163_maps.svg\n"
     ]
    },
    {
     "name": "stderr",
     "output_type": "stream",
     "text": [
      " 82%|████████▏ | 164/200 [02:47<00:35,  1.01it/s]"
     ]
    },
    {
     "name": "stdout",
     "output_type": "stream",
     "text": [
      "./../../../Figures/2023_STEM_AE/generator_images_Generator_of_Figure_4_vortex_domains/0164_maps.png\n",
      "./../../../Figures/2023_STEM_AE/generator_images_Generator_of_Figure_4_vortex_domains/0164_maps.svg\n"
     ]
    },
    {
     "name": "stderr",
     "output_type": "stream",
     "text": [
      " 82%|████████▎ | 165/200 [02:48<00:34,  1.00it/s]"
     ]
    },
    {
     "name": "stdout",
     "output_type": "stream",
     "text": [
      "./../../../Figures/2023_STEM_AE/generator_images_Generator_of_Figure_4_vortex_domains/0165_maps.png\n",
      "./../../../Figures/2023_STEM_AE/generator_images_Generator_of_Figure_4_vortex_domains/0165_maps.svg\n"
     ]
    },
    {
     "name": "stderr",
     "output_type": "stream",
     "text": [
      " 83%|████████▎ | 166/200 [02:49<00:33,  1.00it/s]"
     ]
    },
    {
     "name": "stdout",
     "output_type": "stream",
     "text": [
      "./../../../Figures/2023_STEM_AE/generator_images_Generator_of_Figure_4_vortex_domains/0166_maps.png\n",
      "./../../../Figures/2023_STEM_AE/generator_images_Generator_of_Figure_4_vortex_domains/0166_maps.svg\n"
     ]
    },
    {
     "name": "stderr",
     "output_type": "stream",
     "text": [
      " 84%|████████▎ | 167/200 [02:50<00:32,  1.00it/s]"
     ]
    },
    {
     "name": "stdout",
     "output_type": "stream",
     "text": [
      "./../../../Figures/2023_STEM_AE/generator_images_Generator_of_Figure_4_vortex_domains/0167_maps.png\n",
      "./../../../Figures/2023_STEM_AE/generator_images_Generator_of_Figure_4_vortex_domains/0167_maps.svg\n"
     ]
    },
    {
     "name": "stderr",
     "output_type": "stream",
     "text": [
      " 84%|████████▍ | 168/200 [02:51<00:31,  1.00it/s]"
     ]
    },
    {
     "name": "stdout",
     "output_type": "stream",
     "text": [
      "./../../../Figures/2023_STEM_AE/generator_images_Generator_of_Figure_4_vortex_domains/0168_maps.png\n",
      "./../../../Figures/2023_STEM_AE/generator_images_Generator_of_Figure_4_vortex_domains/0168_maps.svg\n"
     ]
    },
    {
     "name": "stderr",
     "output_type": "stream",
     "text": [
      " 84%|████████▍ | 169/200 [02:52<00:30,  1.01it/s]"
     ]
    },
    {
     "name": "stdout",
     "output_type": "stream",
     "text": [
      "./../../../Figures/2023_STEM_AE/generator_images_Generator_of_Figure_4_vortex_domains/0169_maps.png\n",
      "./../../../Figures/2023_STEM_AE/generator_images_Generator_of_Figure_4_vortex_domains/0169_maps.svg\n"
     ]
    },
    {
     "name": "stderr",
     "output_type": "stream",
     "text": [
      " 85%|████████▌ | 170/200 [02:54<00:36,  1.23s/it]"
     ]
    },
    {
     "name": "stdout",
     "output_type": "stream",
     "text": [
      "./../../../Figures/2023_STEM_AE/generator_images_Generator_of_Figure_4_vortex_domains/0170_maps.png\n",
      "./../../../Figures/2023_STEM_AE/generator_images_Generator_of_Figure_4_vortex_domains/0170_maps.svg\n"
     ]
    },
    {
     "name": "stderr",
     "output_type": "stream",
     "text": [
      " 86%|████████▌ | 171/200 [02:55<00:33,  1.16s/it]"
     ]
    },
    {
     "name": "stdout",
     "output_type": "stream",
     "text": [
      "./../../../Figures/2023_STEM_AE/generator_images_Generator_of_Figure_4_vortex_domains/0171_maps.png\n",
      "./../../../Figures/2023_STEM_AE/generator_images_Generator_of_Figure_4_vortex_domains/0171_maps.svg\n"
     ]
    },
    {
     "name": "stderr",
     "output_type": "stream",
     "text": [
      " 86%|████████▌ | 172/200 [02:56<00:31,  1.11s/it]"
     ]
    },
    {
     "name": "stdout",
     "output_type": "stream",
     "text": [
      "./../../../Figures/2023_STEM_AE/generator_images_Generator_of_Figure_4_vortex_domains/0172_maps.png\n",
      "./../../../Figures/2023_STEM_AE/generator_images_Generator_of_Figure_4_vortex_domains/0172_maps.svg\n"
     ]
    },
    {
     "name": "stderr",
     "output_type": "stream",
     "text": [
      " 86%|████████▋ | 173/200 [02:57<00:29,  1.07s/it]"
     ]
    },
    {
     "name": "stdout",
     "output_type": "stream",
     "text": [
      "./../../../Figures/2023_STEM_AE/generator_images_Generator_of_Figure_4_vortex_domains/0173_maps.png\n",
      "./../../../Figures/2023_STEM_AE/generator_images_Generator_of_Figure_4_vortex_domains/0173_maps.svg\n"
     ]
    },
    {
     "name": "stderr",
     "output_type": "stream",
     "text": [
      " 87%|████████▋ | 174/200 [02:58<00:27,  1.05s/it]"
     ]
    },
    {
     "name": "stdout",
     "output_type": "stream",
     "text": [
      "./../../../Figures/2023_STEM_AE/generator_images_Generator_of_Figure_4_vortex_domains/0174_maps.png\n",
      "./../../../Figures/2023_STEM_AE/generator_images_Generator_of_Figure_4_vortex_domains/0174_maps.svg\n"
     ]
    },
    {
     "name": "stderr",
     "output_type": "stream",
     "text": [
      " 88%|████████▊ | 175/200 [02:59<00:25,  1.03s/it]"
     ]
    },
    {
     "name": "stdout",
     "output_type": "stream",
     "text": [
      "./../../../Figures/2023_STEM_AE/generator_images_Generator_of_Figure_4_vortex_domains/0175_maps.png\n",
      "./../../../Figures/2023_STEM_AE/generator_images_Generator_of_Figure_4_vortex_domains/0175_maps.svg\n"
     ]
    },
    {
     "name": "stderr",
     "output_type": "stream",
     "text": [
      " 88%|████████▊ | 176/200 [03:00<00:24,  1.02s/it]"
     ]
    },
    {
     "name": "stdout",
     "output_type": "stream",
     "text": [
      "./../../../Figures/2023_STEM_AE/generator_images_Generator_of_Figure_4_vortex_domains/0176_maps.png\n",
      "./../../../Figures/2023_STEM_AE/generator_images_Generator_of_Figure_4_vortex_domains/0176_maps.svg\n"
     ]
    },
    {
     "name": "stderr",
     "output_type": "stream",
     "text": [
      " 88%|████████▊ | 177/200 [03:01<00:23,  1.01s/it]"
     ]
    },
    {
     "name": "stdout",
     "output_type": "stream",
     "text": [
      "./../../../Figures/2023_STEM_AE/generator_images_Generator_of_Figure_4_vortex_domains/0177_maps.png\n",
      "./../../../Figures/2023_STEM_AE/generator_images_Generator_of_Figure_4_vortex_domains/0177_maps.svg\n"
     ]
    },
    {
     "name": "stderr",
     "output_type": "stream",
     "text": [
      " 89%|████████▉ | 178/200 [03:02<00:22,  1.01s/it]"
     ]
    },
    {
     "name": "stdout",
     "output_type": "stream",
     "text": [
      "./../../../Figures/2023_STEM_AE/generator_images_Generator_of_Figure_4_vortex_domains/0178_maps.png\n",
      "./../../../Figures/2023_STEM_AE/generator_images_Generator_of_Figure_4_vortex_domains/0178_maps.svg\n"
     ]
    },
    {
     "name": "stderr",
     "output_type": "stream",
     "text": [
      " 90%|████████▉ | 179/200 [03:03<00:21,  1.00s/it]"
     ]
    },
    {
     "name": "stdout",
     "output_type": "stream",
     "text": [
      "./../../../Figures/2023_STEM_AE/generator_images_Generator_of_Figure_4_vortex_domains/0179_maps.png\n",
      "./../../../Figures/2023_STEM_AE/generator_images_Generator_of_Figure_4_vortex_domains/0179_maps.svg\n"
     ]
    },
    {
     "name": "stderr",
     "output_type": "stream",
     "text": [
      " 90%|█████████ | 180/200 [03:04<00:20,  1.00s/it]"
     ]
    },
    {
     "name": "stdout",
     "output_type": "stream",
     "text": [
      "./../../../Figures/2023_STEM_AE/generator_images_Generator_of_Figure_4_vortex_domains/0180_maps.png\n",
      "./../../../Figures/2023_STEM_AE/generator_images_Generator_of_Figure_4_vortex_domains/0180_maps.svg\n"
     ]
    },
    {
     "name": "stderr",
     "output_type": "stream",
     "text": [
      " 90%|█████████ | 181/200 [03:05<00:18,  1.00it/s]"
     ]
    },
    {
     "name": "stdout",
     "output_type": "stream",
     "text": [
      "./../../../Figures/2023_STEM_AE/generator_images_Generator_of_Figure_4_vortex_domains/0181_maps.png\n",
      "./../../../Figures/2023_STEM_AE/generator_images_Generator_of_Figure_4_vortex_domains/0181_maps.svg\n"
     ]
    },
    {
     "name": "stderr",
     "output_type": "stream",
     "text": [
      " 91%|█████████ | 182/200 [03:06<00:17,  1.00it/s]"
     ]
    },
    {
     "name": "stdout",
     "output_type": "stream",
     "text": [
      "./../../../Figures/2023_STEM_AE/generator_images_Generator_of_Figure_4_vortex_domains/0182_maps.png\n",
      "./../../../Figures/2023_STEM_AE/generator_images_Generator_of_Figure_4_vortex_domains/0182_maps.svg\n"
     ]
    },
    {
     "name": "stderr",
     "output_type": "stream",
     "text": [
      " 92%|█████████▏| 183/200 [03:07<00:16,  1.00it/s]"
     ]
    },
    {
     "name": "stdout",
     "output_type": "stream",
     "text": [
      "./../../../Figures/2023_STEM_AE/generator_images_Generator_of_Figure_4_vortex_domains/0183_maps.png\n",
      "./../../../Figures/2023_STEM_AE/generator_images_Generator_of_Figure_4_vortex_domains/0183_maps.svg\n"
     ]
    },
    {
     "name": "stderr",
     "output_type": "stream",
     "text": [
      " 92%|█████████▏| 184/200 [03:08<00:15,  1.00it/s]"
     ]
    },
    {
     "name": "stdout",
     "output_type": "stream",
     "text": [
      "./../../../Figures/2023_STEM_AE/generator_images_Generator_of_Figure_4_vortex_domains/0184_maps.png\n",
      "./../../../Figures/2023_STEM_AE/generator_images_Generator_of_Figure_4_vortex_domains/0184_maps.svg\n"
     ]
    },
    {
     "name": "stderr",
     "output_type": "stream",
     "text": [
      " 92%|█████████▎| 185/200 [03:09<00:14,  1.00it/s]"
     ]
    },
    {
     "name": "stdout",
     "output_type": "stream",
     "text": [
      "./../../../Figures/2023_STEM_AE/generator_images_Generator_of_Figure_4_vortex_domains/0185_maps.png\n",
      "./../../../Figures/2023_STEM_AE/generator_images_Generator_of_Figure_4_vortex_domains/0185_maps.svg\n"
     ]
    },
    {
     "name": "stderr",
     "output_type": "stream",
     "text": [
      " 93%|█████████▎| 186/200 [03:10<00:13,  1.00it/s]"
     ]
    },
    {
     "name": "stdout",
     "output_type": "stream",
     "text": [
      "./../../../Figures/2023_STEM_AE/generator_images_Generator_of_Figure_4_vortex_domains/0186_maps.png\n",
      "./../../../Figures/2023_STEM_AE/generator_images_Generator_of_Figure_4_vortex_domains/0186_maps.svg\n"
     ]
    },
    {
     "name": "stderr",
     "output_type": "stream",
     "text": [
      " 94%|█████████▎| 187/200 [03:11<00:12,  1.01it/s]"
     ]
    },
    {
     "name": "stdout",
     "output_type": "stream",
     "text": [
      "./../../../Figures/2023_STEM_AE/generator_images_Generator_of_Figure_4_vortex_domains/0187_maps.png\n",
      "./../../../Figures/2023_STEM_AE/generator_images_Generator_of_Figure_4_vortex_domains/0187_maps.svg\n"
     ]
    },
    {
     "name": "stderr",
     "output_type": "stream",
     "text": [
      " 94%|█████████▍| 188/200 [03:12<00:11,  1.01it/s]"
     ]
    },
    {
     "name": "stdout",
     "output_type": "stream",
     "text": [
      "./../../../Figures/2023_STEM_AE/generator_images_Generator_of_Figure_4_vortex_domains/0188_maps.png\n",
      "./../../../Figures/2023_STEM_AE/generator_images_Generator_of_Figure_4_vortex_domains/0188_maps.svg\n"
     ]
    },
    {
     "name": "stderr",
     "output_type": "stream",
     "text": [
      " 94%|█████████▍| 189/200 [03:13<00:10,  1.01it/s]"
     ]
    },
    {
     "name": "stdout",
     "output_type": "stream",
     "text": [
      "./../../../Figures/2023_STEM_AE/generator_images_Generator_of_Figure_4_vortex_domains/0189_maps.png\n",
      "./../../../Figures/2023_STEM_AE/generator_images_Generator_of_Figure_4_vortex_domains/0189_maps.svg\n"
     ]
    },
    {
     "name": "stderr",
     "output_type": "stream",
     "text": [
      " 95%|█████████▌| 190/200 [03:14<00:09,  1.01it/s]"
     ]
    },
    {
     "name": "stdout",
     "output_type": "stream",
     "text": [
      "./../../../Figures/2023_STEM_AE/generator_images_Generator_of_Figure_4_vortex_domains/0190_maps.png\n",
      "./../../../Figures/2023_STEM_AE/generator_images_Generator_of_Figure_4_vortex_domains/0190_maps.svg\n"
     ]
    },
    {
     "name": "stderr",
     "output_type": "stream",
     "text": [
      " 96%|█████████▌| 191/200 [03:15<00:08,  1.01it/s]"
     ]
    },
    {
     "name": "stdout",
     "output_type": "stream",
     "text": [
      "./../../../Figures/2023_STEM_AE/generator_images_Generator_of_Figure_4_vortex_domains/0191_maps.png\n",
      "./../../../Figures/2023_STEM_AE/generator_images_Generator_of_Figure_4_vortex_domains/0191_maps.svg\n"
     ]
    },
    {
     "name": "stderr",
     "output_type": "stream",
     "text": [
      " 96%|█████████▌| 192/200 [03:16<00:07,  1.01it/s]"
     ]
    },
    {
     "name": "stdout",
     "output_type": "stream",
     "text": [
      "./../../../Figures/2023_STEM_AE/generator_images_Generator_of_Figure_4_vortex_domains/0192_maps.png\n",
      "./../../../Figures/2023_STEM_AE/generator_images_Generator_of_Figure_4_vortex_domains/0192_maps.svg\n"
     ]
    },
    {
     "name": "stderr",
     "output_type": "stream",
     "text": [
      " 96%|█████████▋| 193/200 [03:16<00:06,  1.01it/s]"
     ]
    },
    {
     "name": "stdout",
     "output_type": "stream",
     "text": [
      "./../../../Figures/2023_STEM_AE/generator_images_Generator_of_Figure_4_vortex_domains/0193_maps.png\n",
      "./../../../Figures/2023_STEM_AE/generator_images_Generator_of_Figure_4_vortex_domains/0193_maps.svg\n"
     ]
    },
    {
     "name": "stderr",
     "output_type": "stream",
     "text": [
      " 97%|█████████▋| 194/200 [03:17<00:05,  1.01it/s]"
     ]
    },
    {
     "name": "stdout",
     "output_type": "stream",
     "text": [
      "./../../../Figures/2023_STEM_AE/generator_images_Generator_of_Figure_4_vortex_domains/0194_maps.png\n",
      "./../../../Figures/2023_STEM_AE/generator_images_Generator_of_Figure_4_vortex_domains/0194_maps.svg\n"
     ]
    },
    {
     "name": "stderr",
     "output_type": "stream",
     "text": [
      " 98%|█████████▊| 195/200 [03:18<00:04,  1.01it/s]"
     ]
    },
    {
     "name": "stdout",
     "output_type": "stream",
     "text": [
      "./../../../Figures/2023_STEM_AE/generator_images_Generator_of_Figure_4_vortex_domains/0195_maps.png\n",
      "./../../../Figures/2023_STEM_AE/generator_images_Generator_of_Figure_4_vortex_domains/0195_maps.svg\n"
     ]
    },
    {
     "name": "stderr",
     "output_type": "stream",
     "text": [
      " 98%|█████████▊| 196/200 [03:19<00:03,  1.01it/s]"
     ]
    },
    {
     "name": "stdout",
     "output_type": "stream",
     "text": [
      "./../../../Figures/2023_STEM_AE/generator_images_Generator_of_Figure_4_vortex_domains/0196_maps.png\n",
      "./../../../Figures/2023_STEM_AE/generator_images_Generator_of_Figure_4_vortex_domains/0196_maps.svg\n"
     ]
    },
    {
     "name": "stderr",
     "output_type": "stream",
     "text": [
      " 98%|█████████▊| 197/200 [03:20<00:02,  1.01it/s]"
     ]
    },
    {
     "name": "stdout",
     "output_type": "stream",
     "text": [
      "./../../../Figures/2023_STEM_AE/generator_images_Generator_of_Figure_4_vortex_domains/0197_maps.png\n",
      "./../../../Figures/2023_STEM_AE/generator_images_Generator_of_Figure_4_vortex_domains/0197_maps.svg\n"
     ]
    },
    {
     "name": "stderr",
     "output_type": "stream",
     "text": [
      " 99%|█████████▉| 198/200 [03:21<00:01,  1.01it/s]"
     ]
    },
    {
     "name": "stdout",
     "output_type": "stream",
     "text": [
      "./../../../Figures/2023_STEM_AE/generator_images_Generator_of_Figure_4_vortex_domains/0198_maps.png\n",
      "./../../../Figures/2023_STEM_AE/generator_images_Generator_of_Figure_4_vortex_domains/0198_maps.svg\n"
     ]
    },
    {
     "name": "stderr",
     "output_type": "stream",
     "text": [
      "100%|█████████▉| 199/200 [03:22<00:00,  1.01it/s]"
     ]
    },
    {
     "name": "stdout",
     "output_type": "stream",
     "text": [
      "./../../../Figures/2023_STEM_AE/generator_images_Generator_of_Figure_4_vortex_domains/0199_maps.png\n",
      "./../../../Figures/2023_STEM_AE/generator_images_Generator_of_Figure_4_vortex_domains/0199_maps.svg\n"
     ]
    },
    {
     "name": "stderr",
     "output_type": "stream",
     "text": [
      "100%|██████████| 200/200 [03:23<00:00,  1.02s/it]\n"
     ]
    }
   ],
   "source": [
    "model.embedding = embedding\n",
    "viz.model = model\n",
    "viz.channels = [13, 31]\n",
    "ranges = [[0, 0.0225], [0, 0.03]]\n",
    "folder_name = \"Generator_of_Figure_4_vortex_domains\"\n",
    "\n",
    "viz.generator_images(\n",
    "    ranges=ranges,\n",
    "    folder_name=folder_name,\n",
    "    figsize=(5, 1.25),\n",
    "    cbar_number_format=\"%d\",\n",
    "    shape_=vortex.data.shape,\n",
    "    divider_=False,\n",
    ")"
   ]
  },
  {
   "attachments": {},
   "cell_type": "markdown",
   "metadata": {},
   "source": [
    "### Builds the Movie"
   ]
  },
  {
   "cell_type": "code",
   "execution_count": null,
   "metadata": {},
   "outputs": [],
   "source": [
    "# Builds a Movie\n",
    "folder = f\"{fig_path}/generator_images_Generator_of_Figure_4_vortex_domains/\"\n",
    "output_folder = \"./movies/\"\n",
    "\n",
    "# function to make the movie\n",
    "make_movie(\"Vortex Domains Generator\", folder, output_folder, \"png\", 3)"
   ]
  },
  {
   "attachments": {},
   "cell_type": "markdown",
   "metadata": {},
   "source": [
    "## Vortex Domain Walls\n"
   ]
  },
  {
   "attachments": {},
   "cell_type": "markdown",
   "metadata": {},
   "source": [
    "### Builds the Neural Network Model\n"
   ]
  },
  {
   "cell_type": "code",
   "execution_count": null,
   "metadata": {},
   "outputs": [],
   "source": [
    "encoder_step_size = [256, 256]\n",
    "pooling_list = [4, 4, 2]\n",
    "decoder_step_size = [8, 8]\n",
    "upsampling_list = [2, 4, 4]\n",
    "embedding_size = 32\n",
    "conv_size = 128\n",
    "\n",
    "# set device to load model\n",
    "device = \"cpu\"\n",
    "if torch.cuda.is_available():\n",
    "    device = \"cuda:1\"\n",
    "\n",
    "model = ConvAutoencoder(\n",
    "    encoder_step_size=encoder_step_size,\n",
    "    pooling_list=pooling_list,\n",
    "    decoder_step_size=decoder_step_size,\n",
    "    upsampling_list=upsampling_list,\n",
    "    embedding_size=embedding_size,\n",
    "    conv_size=conv_size,\n",
    "    device=device,\n",
    "    learning_rate=3e-5,\n",
    ")\n"
   ]
  },
  {
   "attachments": {},
   "cell_type": "markdown",
   "metadata": {},
   "source": [
    "### Trains or Loads Pretrained Weights\n"
   ]
  },
  {
   "attachments": {},
   "cell_type": "markdown",
   "metadata": {},
   "source": [
    "In this model we have additional custom regularization to the embedding to help with disentangling the vortices from the walls.\n",
    "\n",
    "1. We have an l1 activity regularization:\n",
    "\n",
    "$$ \\sum\\_{i=1}^{n} |a_i| $$\n",
    "\n",
    "2. We have a contrastive regularization:\n",
    "\n",
    "$$ L = \\frac{\\lambda*1}{2N} \\sum\\limits*{i=1}^{N} \\left[\\left(\\sum\\limits_{j=1, j\\neq i}^{N} \\frac{latent_i \\cdot latent_j}{\\left\\lVert latent_i \\right\\rVert \\left\\lVert latent_j \\right\\rVert}\\right] - 1\\right)$$\n",
    "\n",
    "3. Divergence regularization:\n",
    "\n",
    "$$L = \\frac{1}{B} \\sum\\limits_{i=1}^{B} \\left(\\frac{\\lambda_2}{2} \\sum\\limits_{j=1}^{n} \\sum\\limits_{k=j+1}^{n} \\left| latent_{i,j} - latent_{i,k} \\right|\\right)$$\n"
   ]
  },
  {
   "cell_type": "code",
   "execution_count": null,
   "metadata": {},
   "outputs": [],
   "source": [
    "# set retrain parameter\n",
    "train = False\n",
    "\n",
    "if train:\n",
    "    model.Train(\n",
    "        vortex.log_data,\n",
    "        coef_0=5e-3,\n",
    "        coef_1=5e-5,\n",
    "        coef_2=2e-4,\n",
    "        epochs=18,\n",
    "        with_scheduler=False,\n",
    "        folder_path=\"Vortex_walls_Weights\",\n",
    "        batch_size=256,\n",
    "    )\n",
    "else:\n",
    "    model.load_weights(\n",
    "        f\"{save_path}/11.1_log_epoch_0017_L1loss_0.00181_l1coef_0.0050_lr_0.00009_contrasPara_0.000050_contrasLoss_0.00020_maxiPara_0.00070_maxiLoss_0.0019_trainloss_0.2289.pkl\"\n",
    "    )"
   ]
  },
  {
   "attachments": {},
   "cell_type": "markdown",
   "metadata": {},
   "source": [
    "### Computes the Embeddings\n"
   ]
  },
  {
   "cell_type": "code",
   "execution_count": null,
   "metadata": {
    "tags": [
     "hide-output"
    ]
   },
   "outputs": [
    {
     "name": "stderr",
     "output_type": "stream",
     "text": [
      "100%|██████████| 2048/2048 [04:09<00:00,  8.20it/s]\n"
     ]
    }
   ],
   "source": [
    "embedding = model.get_embedding(vortex.log_data)\n"
   ]
  },
  {
   "attachments": {},
   "cell_type": "markdown",
   "metadata": {},
   "source": [
    "### Visualizes the Embeddings\n"
   ]
  },
  {
   "cell_type": "code",
   "execution_count": null,
   "metadata": {},
   "outputs": [
    {
     "ename": "NameError",
     "evalue": "name 'viz' is not defined",
     "output_type": "error",
     "traceback": [
      "\u001b[0;31m---------------------------------------------------------------------------\u001b[0m",
      "\u001b[0;31mNameError\u001b[0m                                 Traceback (most recent call last)",
      "\u001b[1;32m/home/xinqiao/Desktop/m3_learning/m3_learning/papers/2023_Imaging_ferroelectric_domains_by_scanning_electron_diffraction/STEM_particle_61.ipynb Cell 52\u001b[0m in \u001b[0;36m1\n\u001b[0;32m----> <a href='vscode-notebook-cell:/home/xinqiao/Desktop/m3_learning/m3_learning/papers/2023_Imaging_ferroelectric_domains_by_scanning_electron_diffraction/STEM_particle_61.ipynb#Y103sZmlsZQ%3D%3D?line=0'>1</a>\u001b[0m viz\u001b[39m.\u001b[39mchannels \u001b[39m=\u001b[39m \u001b[39mNone\u001b[39;00m\n\u001b[1;32m      <a href='vscode-notebook-cell:/home/xinqiao/Desktop/m3_learning/m3_learning/papers/2023_Imaging_ferroelectric_domains_by_scanning_electron_diffraction/STEM_particle_61.ipynb#Y103sZmlsZQ%3D%3D?line=1'>2</a>\u001b[0m viz\u001b[39m.\u001b[39mmodel \u001b[39m=\u001b[39m model\n\u001b[1;32m      <a href='vscode-notebook-cell:/home/xinqiao/Desktop/m3_learning/m3_learning/papers/2023_Imaging_ferroelectric_domains_by_scanning_electron_diffraction/STEM_particle_61.ipynb#Y103sZmlsZQ%3D%3D?line=2'>3</a>\u001b[0m viz\u001b[39m.\u001b[39mscalebar_ \u001b[39m=\u001b[39m {\u001b[39m\"\u001b[39m\u001b[39mwidth\u001b[39m\u001b[39m\"\u001b[39m: \u001b[39m291\u001b[39m, \u001b[39m\"\u001b[39m\u001b[39mscale length\u001b[39m\u001b[39m\"\u001b[39m: \u001b[39m100\u001b[39m, \u001b[39m\"\u001b[39m\u001b[39munits\u001b[39m\u001b[39m\"\u001b[39m: \u001b[39m\"\u001b[39m\u001b[39mnm\u001b[39m\u001b[39m\"\u001b[39m}\n",
      "\u001b[0;31mNameError\u001b[0m: name 'viz' is not defined"
     ]
    }
   ],
   "source": [
    "viz.channels = None\n",
    "viz.model = model\n",
    "viz.scalebar_ = {\"width\": 291, \"scale length\": 100, \"units\": \"nm\"}\n",
    "viz.embeddings(\n",
    "    mod=4,\n",
    "    scalebar_=viz.scalebar_,\n",
    "    figsize=(5, 8),\n",
    "    name=\"Vortex_walls\",\n",
    "    shape_=vortex.data.shape,\n",
    ")"
   ]
  },
  {
   "attachments": {},
   "cell_type": "markdown",
   "metadata": {},
   "source": [
    "### Generates Data from the Latent Space"
   ]
  },
  {
   "cell_type": "code",
   "execution_count": null,
   "metadata": {
    "tags": [
     "hide-output"
    ]
   },
   "outputs": [
    {
     "name": "stderr",
     "output_type": "stream",
     "text": [
      "  0%|          | 0/200 [00:00<?, ?it/s]"
     ]
    },
    {
     "name": "stdout",
     "output_type": "stream",
     "text": [
      "./../../../Figures/2023_STEM_AE/generator_images_Generator_of_Figure_4_e_f_vortex_walls/0000_maps.png\n",
      "./../../../Figures/2023_STEM_AE/generator_images_Generator_of_Figure_4_e_f_vortex_walls/0000_maps.svg\n"
     ]
    },
    {
     "name": "stderr",
     "output_type": "stream",
     "text": [
      "  0%|          | 1/200 [00:00<03:14,  1.02it/s]"
     ]
    },
    {
     "name": "stdout",
     "output_type": "stream",
     "text": [
      "./../../../Figures/2023_STEM_AE/generator_images_Generator_of_Figure_4_e_f_vortex_walls/0001_maps.png\n",
      "./../../../Figures/2023_STEM_AE/generator_images_Generator_of_Figure_4_e_f_vortex_walls/0001_maps.svg\n"
     ]
    },
    {
     "name": "stderr",
     "output_type": "stream",
     "text": [
      "  1%|          | 2/200 [00:01<03:11,  1.04it/s]"
     ]
    },
    {
     "name": "stdout",
     "output_type": "stream",
     "text": [
      "./../../../Figures/2023_STEM_AE/generator_images_Generator_of_Figure_4_e_f_vortex_walls/0002_maps.png\n",
      "./../../../Figures/2023_STEM_AE/generator_images_Generator_of_Figure_4_e_f_vortex_walls/0002_maps.svg\n"
     ]
    },
    {
     "name": "stderr",
     "output_type": "stream",
     "text": [
      "  2%|▏         | 3/200 [00:02<03:09,  1.04it/s]"
     ]
    },
    {
     "name": "stdout",
     "output_type": "stream",
     "text": [
      "./../../../Figures/2023_STEM_AE/generator_images_Generator_of_Figure_4_e_f_vortex_walls/0003_maps.png\n",
      "./../../../Figures/2023_STEM_AE/generator_images_Generator_of_Figure_4_e_f_vortex_walls/0003_maps.svg\n"
     ]
    },
    {
     "name": "stderr",
     "output_type": "stream",
     "text": [
      "  2%|▏         | 4/200 [00:03<03:07,  1.04it/s]"
     ]
    },
    {
     "name": "stdout",
     "output_type": "stream",
     "text": [
      "./../../../Figures/2023_STEM_AE/generator_images_Generator_of_Figure_4_e_f_vortex_walls/0004_maps.png\n",
      "./../../../Figures/2023_STEM_AE/generator_images_Generator_of_Figure_4_e_f_vortex_walls/0004_maps.svg\n"
     ]
    },
    {
     "name": "stderr",
     "output_type": "stream",
     "text": [
      "  2%|▎         | 5/200 [00:04<03:05,  1.05it/s]"
     ]
    },
    {
     "name": "stdout",
     "output_type": "stream",
     "text": [
      "./../../../Figures/2023_STEM_AE/generator_images_Generator_of_Figure_4_e_f_vortex_walls/0005_maps.png\n",
      "./../../../Figures/2023_STEM_AE/generator_images_Generator_of_Figure_4_e_f_vortex_walls/0005_maps.svg\n"
     ]
    },
    {
     "name": "stderr",
     "output_type": "stream",
     "text": [
      "  3%|▎         | 6/200 [00:05<03:04,  1.05it/s]"
     ]
    },
    {
     "name": "stdout",
     "output_type": "stream",
     "text": [
      "./../../../Figures/2023_STEM_AE/generator_images_Generator_of_Figure_4_e_f_vortex_walls/0006_maps.png\n",
      "./../../../Figures/2023_STEM_AE/generator_images_Generator_of_Figure_4_e_f_vortex_walls/0006_maps.svg\n"
     ]
    },
    {
     "name": "stderr",
     "output_type": "stream",
     "text": [
      "  4%|▎         | 7/200 [00:06<03:03,  1.05it/s]"
     ]
    },
    {
     "name": "stdout",
     "output_type": "stream",
     "text": [
      "./../../../Figures/2023_STEM_AE/generator_images_Generator_of_Figure_4_e_f_vortex_walls/0007_maps.png\n",
      "./../../../Figures/2023_STEM_AE/generator_images_Generator_of_Figure_4_e_f_vortex_walls/0007_maps.svg\n"
     ]
    },
    {
     "name": "stderr",
     "output_type": "stream",
     "text": [
      "  4%|▍         | 8/200 [00:07<03:02,  1.05it/s]"
     ]
    },
    {
     "name": "stdout",
     "output_type": "stream",
     "text": [
      "./../../../Figures/2023_STEM_AE/generator_images_Generator_of_Figure_4_e_f_vortex_walls/0008_maps.png\n",
      "./../../../Figures/2023_STEM_AE/generator_images_Generator_of_Figure_4_e_f_vortex_walls/0008_maps.svg\n"
     ]
    },
    {
     "name": "stderr",
     "output_type": "stream",
     "text": [
      "  4%|▍         | 9/200 [00:08<03:01,  1.05it/s]"
     ]
    },
    {
     "name": "stdout",
     "output_type": "stream",
     "text": [
      "./../../../Figures/2023_STEM_AE/generator_images_Generator_of_Figure_4_e_f_vortex_walls/0009_maps.png\n",
      "./../../../Figures/2023_STEM_AE/generator_images_Generator_of_Figure_4_e_f_vortex_walls/0009_maps.svg\n"
     ]
    },
    {
     "name": "stderr",
     "output_type": "stream",
     "text": [
      "  5%|▌         | 10/200 [00:11<05:01,  1.59s/it]"
     ]
    },
    {
     "name": "stdout",
     "output_type": "stream",
     "text": [
      "./../../../Figures/2023_STEM_AE/generator_images_Generator_of_Figure_4_e_f_vortex_walls/0010_maps.png\n",
      "./../../../Figures/2023_STEM_AE/generator_images_Generator_of_Figure_4_e_f_vortex_walls/0010_maps.svg\n"
     ]
    },
    {
     "name": "stderr",
     "output_type": "stream",
     "text": [
      "  6%|▌         | 11/200 [00:12<04:23,  1.40s/it]"
     ]
    },
    {
     "name": "stdout",
     "output_type": "stream",
     "text": [
      "./../../../Figures/2023_STEM_AE/generator_images_Generator_of_Figure_4_e_f_vortex_walls/0011_maps.png\n",
      "./../../../Figures/2023_STEM_AE/generator_images_Generator_of_Figure_4_e_f_vortex_walls/0011_maps.svg\n"
     ]
    },
    {
     "name": "stderr",
     "output_type": "stream",
     "text": [
      "  6%|▌         | 12/200 [00:13<03:57,  1.27s/it]"
     ]
    },
    {
     "name": "stdout",
     "output_type": "stream",
     "text": [
      "./../../../Figures/2023_STEM_AE/generator_images_Generator_of_Figure_4_e_f_vortex_walls/0012_maps.png\n",
      "./../../../Figures/2023_STEM_AE/generator_images_Generator_of_Figure_4_e_f_vortex_walls/0012_maps.svg\n"
     ]
    },
    {
     "name": "stderr",
     "output_type": "stream",
     "text": [
      "  6%|▋         | 13/200 [00:14<03:39,  1.17s/it]"
     ]
    },
    {
     "name": "stdout",
     "output_type": "stream",
     "text": [
      "./../../../Figures/2023_STEM_AE/generator_images_Generator_of_Figure_4_e_f_vortex_walls/0013_maps.png\n",
      "./../../../Figures/2023_STEM_AE/generator_images_Generator_of_Figure_4_e_f_vortex_walls/0013_maps.svg\n"
     ]
    },
    {
     "name": "stderr",
     "output_type": "stream",
     "text": [
      "  7%|▋         | 14/200 [00:15<03:26,  1.11s/it]"
     ]
    },
    {
     "name": "stdout",
     "output_type": "stream",
     "text": [
      "./../../../Figures/2023_STEM_AE/generator_images_Generator_of_Figure_4_e_f_vortex_walls/0014_maps.png\n",
      "./../../../Figures/2023_STEM_AE/generator_images_Generator_of_Figure_4_e_f_vortex_walls/0014_maps.svg\n"
     ]
    },
    {
     "name": "stderr",
     "output_type": "stream",
     "text": [
      "  8%|▊         | 15/200 [00:16<03:16,  1.06s/it]"
     ]
    },
    {
     "name": "stdout",
     "output_type": "stream",
     "text": [
      "./../../../Figures/2023_STEM_AE/generator_images_Generator_of_Figure_4_e_f_vortex_walls/0015_maps.png\n",
      "./../../../Figures/2023_STEM_AE/generator_images_Generator_of_Figure_4_e_f_vortex_walls/0015_maps.svg\n"
     ]
    },
    {
     "name": "stderr",
     "output_type": "stream",
     "text": [
      "  8%|▊         | 16/200 [00:17<03:10,  1.03s/it]"
     ]
    },
    {
     "name": "stdout",
     "output_type": "stream",
     "text": [
      "./../../../Figures/2023_STEM_AE/generator_images_Generator_of_Figure_4_e_f_vortex_walls/0016_maps.png\n",
      "./../../../Figures/2023_STEM_AE/generator_images_Generator_of_Figure_4_e_f_vortex_walls/0016_maps.svg\n"
     ]
    },
    {
     "name": "stderr",
     "output_type": "stream",
     "text": [
      "  8%|▊         | 17/200 [00:18<03:05,  1.01s/it]"
     ]
    },
    {
     "name": "stdout",
     "output_type": "stream",
     "text": [
      "./../../../Figures/2023_STEM_AE/generator_images_Generator_of_Figure_4_e_f_vortex_walls/0017_maps.png\n",
      "./../../../Figures/2023_STEM_AE/generator_images_Generator_of_Figure_4_e_f_vortex_walls/0017_maps.svg\n"
     ]
    },
    {
     "name": "stderr",
     "output_type": "stream",
     "text": [
      "  9%|▉         | 18/200 [00:19<03:01,  1.00it/s]"
     ]
    },
    {
     "name": "stdout",
     "output_type": "stream",
     "text": [
      "./../../../Figures/2023_STEM_AE/generator_images_Generator_of_Figure_4_e_f_vortex_walls/0018_maps.png\n",
      "./../../../Figures/2023_STEM_AE/generator_images_Generator_of_Figure_4_e_f_vortex_walls/0018_maps.svg\n"
     ]
    },
    {
     "name": "stderr",
     "output_type": "stream",
     "text": [
      " 10%|▉         | 19/200 [00:20<02:58,  1.01it/s]"
     ]
    },
    {
     "name": "stdout",
     "output_type": "stream",
     "text": [
      "./../../../Figures/2023_STEM_AE/generator_images_Generator_of_Figure_4_e_f_vortex_walls/0019_maps.png\n",
      "./../../../Figures/2023_STEM_AE/generator_images_Generator_of_Figure_4_e_f_vortex_walls/0019_maps.svg\n"
     ]
    },
    {
     "name": "stderr",
     "output_type": "stream",
     "text": [
      " 10%|█         | 20/200 [00:21<02:56,  1.02it/s]"
     ]
    },
    {
     "name": "stdout",
     "output_type": "stream",
     "text": [
      "./../../../Figures/2023_STEM_AE/generator_images_Generator_of_Figure_4_e_f_vortex_walls/0020_maps.png\n",
      "./../../../Figures/2023_STEM_AE/generator_images_Generator_of_Figure_4_e_f_vortex_walls/0020_maps.svg\n"
     ]
    },
    {
     "name": "stderr",
     "output_type": "stream",
     "text": [
      " 10%|█         | 21/200 [00:22<02:54,  1.03it/s]"
     ]
    },
    {
     "name": "stdout",
     "output_type": "stream",
     "text": [
      "./../../../Figures/2023_STEM_AE/generator_images_Generator_of_Figure_4_e_f_vortex_walls/0021_maps.png\n",
      "./../../../Figures/2023_STEM_AE/generator_images_Generator_of_Figure_4_e_f_vortex_walls/0021_maps.svg\n"
     ]
    },
    {
     "name": "stderr",
     "output_type": "stream",
     "text": [
      " 11%|█         | 22/200 [00:23<03:05,  1.04s/it]"
     ]
    },
    {
     "name": "stdout",
     "output_type": "stream",
     "text": [
      "./../../../Figures/2023_STEM_AE/generator_images_Generator_of_Figure_4_e_f_vortex_walls/0022_maps.png\n",
      "./../../../Figures/2023_STEM_AE/generator_images_Generator_of_Figure_4_e_f_vortex_walls/0022_maps.svg\n"
     ]
    },
    {
     "name": "stderr",
     "output_type": "stream",
     "text": [
      " 12%|█▏        | 23/200 [00:24<03:00,  1.02s/it]"
     ]
    },
    {
     "name": "stdout",
     "output_type": "stream",
     "text": [
      "./../../../Figures/2023_STEM_AE/generator_images_Generator_of_Figure_4_e_f_vortex_walls/0023_maps.png\n",
      "./../../../Figures/2023_STEM_AE/generator_images_Generator_of_Figure_4_e_f_vortex_walls/0023_maps.svg\n"
     ]
    },
    {
     "name": "stderr",
     "output_type": "stream",
     "text": [
      " 12%|█▏        | 24/200 [00:25<02:56,  1.00s/it]"
     ]
    },
    {
     "name": "stdout",
     "output_type": "stream",
     "text": [
      "./../../../Figures/2023_STEM_AE/generator_images_Generator_of_Figure_4_e_f_vortex_walls/0024_maps.png\n",
      "./../../../Figures/2023_STEM_AE/generator_images_Generator_of_Figure_4_e_f_vortex_walls/0024_maps.svg\n"
     ]
    },
    {
     "name": "stderr",
     "output_type": "stream",
     "text": [
      " 12%|█▎        | 25/200 [00:26<02:52,  1.01it/s]"
     ]
    },
    {
     "name": "stdout",
     "output_type": "stream",
     "text": [
      "./../../../Figures/2023_STEM_AE/generator_images_Generator_of_Figure_4_e_f_vortex_walls/0025_maps.png\n",
      "./../../../Figures/2023_STEM_AE/generator_images_Generator_of_Figure_4_e_f_vortex_walls/0025_maps.svg\n"
     ]
    },
    {
     "name": "stderr",
     "output_type": "stream",
     "text": [
      " 13%|█▎        | 26/200 [00:27<02:50,  1.02it/s]"
     ]
    },
    {
     "name": "stdout",
     "output_type": "stream",
     "text": [
      "./../../../Figures/2023_STEM_AE/generator_images_Generator_of_Figure_4_e_f_vortex_walls/0026_maps.png\n",
      "./../../../Figures/2023_STEM_AE/generator_images_Generator_of_Figure_4_e_f_vortex_walls/0026_maps.svg\n"
     ]
    },
    {
     "name": "stderr",
     "output_type": "stream",
     "text": [
      " 14%|█▎        | 27/200 [00:28<02:48,  1.02it/s]"
     ]
    },
    {
     "name": "stdout",
     "output_type": "stream",
     "text": [
      "./../../../Figures/2023_STEM_AE/generator_images_Generator_of_Figure_4_e_f_vortex_walls/0027_maps.png\n",
      "./../../../Figures/2023_STEM_AE/generator_images_Generator_of_Figure_4_e_f_vortex_walls/0027_maps.svg\n"
     ]
    },
    {
     "name": "stderr",
     "output_type": "stream",
     "text": [
      " 14%|█▍        | 28/200 [00:29<02:46,  1.03it/s]"
     ]
    },
    {
     "name": "stdout",
     "output_type": "stream",
     "text": [
      "./../../../Figures/2023_STEM_AE/generator_images_Generator_of_Figure_4_e_f_vortex_walls/0028_maps.png\n",
      "./../../../Figures/2023_STEM_AE/generator_images_Generator_of_Figure_4_e_f_vortex_walls/0028_maps.svg\n"
     ]
    },
    {
     "name": "stderr",
     "output_type": "stream",
     "text": [
      " 14%|█▍        | 29/200 [00:30<02:45,  1.03it/s]"
     ]
    },
    {
     "name": "stdout",
     "output_type": "stream",
     "text": [
      "./../../../Figures/2023_STEM_AE/generator_images_Generator_of_Figure_4_e_f_vortex_walls/0029_maps.png\n",
      "./../../../Figures/2023_STEM_AE/generator_images_Generator_of_Figure_4_e_f_vortex_walls/0029_maps.svg\n"
     ]
    },
    {
     "name": "stderr",
     "output_type": "stream",
     "text": [
      " 15%|█▌        | 30/200 [00:31<02:43,  1.04it/s]"
     ]
    },
    {
     "name": "stdout",
     "output_type": "stream",
     "text": [
      "./../../../Figures/2023_STEM_AE/generator_images_Generator_of_Figure_4_e_f_vortex_walls/0030_maps.png\n",
      "./../../../Figures/2023_STEM_AE/generator_images_Generator_of_Figure_4_e_f_vortex_walls/0030_maps.svg\n"
     ]
    },
    {
     "name": "stderr",
     "output_type": "stream",
     "text": [
      " 16%|█▌        | 31/200 [00:32<02:42,  1.04it/s]"
     ]
    },
    {
     "name": "stdout",
     "output_type": "stream",
     "text": [
      "./../../../Figures/2023_STEM_AE/generator_images_Generator_of_Figure_4_e_f_vortex_walls/0031_maps.png\n",
      "./../../../Figures/2023_STEM_AE/generator_images_Generator_of_Figure_4_e_f_vortex_walls/0031_maps.svg\n"
     ]
    },
    {
     "name": "stderr",
     "output_type": "stream",
     "text": [
      " 16%|█▌        | 32/200 [00:33<02:41,  1.04it/s]"
     ]
    },
    {
     "name": "stdout",
     "output_type": "stream",
     "text": [
      "./../../../Figures/2023_STEM_AE/generator_images_Generator_of_Figure_4_e_f_vortex_walls/0032_maps.png\n",
      "./../../../Figures/2023_STEM_AE/generator_images_Generator_of_Figure_4_e_f_vortex_walls/0032_maps.svg\n"
     ]
    },
    {
     "name": "stderr",
     "output_type": "stream",
     "text": [
      " 16%|█▋        | 33/200 [00:33<02:40,  1.04it/s]"
     ]
    },
    {
     "name": "stdout",
     "output_type": "stream",
     "text": [
      "./../../../Figures/2023_STEM_AE/generator_images_Generator_of_Figure_4_e_f_vortex_walls/0033_maps.png\n",
      "./../../../Figures/2023_STEM_AE/generator_images_Generator_of_Figure_4_e_f_vortex_walls/0033_maps.svg\n"
     ]
    },
    {
     "name": "stderr",
     "output_type": "stream",
     "text": [
      " 17%|█▋        | 34/200 [00:34<02:39,  1.04it/s]"
     ]
    },
    {
     "name": "stdout",
     "output_type": "stream",
     "text": [
      "./../../../Figures/2023_STEM_AE/generator_images_Generator_of_Figure_4_e_f_vortex_walls/0034_maps.png\n",
      "./../../../Figures/2023_STEM_AE/generator_images_Generator_of_Figure_4_e_f_vortex_walls/0034_maps.svg\n"
     ]
    },
    {
     "name": "stderr",
     "output_type": "stream",
     "text": [
      " 18%|█▊        | 35/200 [00:35<02:38,  1.04it/s]"
     ]
    },
    {
     "name": "stdout",
     "output_type": "stream",
     "text": [
      "./../../../Figures/2023_STEM_AE/generator_images_Generator_of_Figure_4_e_f_vortex_walls/0035_maps.png\n",
      "./../../../Figures/2023_STEM_AE/generator_images_Generator_of_Figure_4_e_f_vortex_walls/0035_maps.svg\n"
     ]
    },
    {
     "name": "stderr",
     "output_type": "stream",
     "text": [
      " 18%|█▊        | 36/200 [00:37<02:52,  1.05s/it]"
     ]
    },
    {
     "name": "stdout",
     "output_type": "stream",
     "text": [
      "./../../../Figures/2023_STEM_AE/generator_images_Generator_of_Figure_4_e_f_vortex_walls/0036_maps.png\n",
      "./../../../Figures/2023_STEM_AE/generator_images_Generator_of_Figure_4_e_f_vortex_walls/0036_maps.svg\n"
     ]
    },
    {
     "name": "stderr",
     "output_type": "stream",
     "text": [
      " 18%|█▊        | 37/200 [00:38<02:47,  1.03s/it]"
     ]
    },
    {
     "name": "stdout",
     "output_type": "stream",
     "text": [
      "./../../../Figures/2023_STEM_AE/generator_images_Generator_of_Figure_4_e_f_vortex_walls/0037_maps.png\n",
      "./../../../Figures/2023_STEM_AE/generator_images_Generator_of_Figure_4_e_f_vortex_walls/0037_maps.svg\n"
     ]
    },
    {
     "name": "stderr",
     "output_type": "stream",
     "text": [
      " 19%|█▉        | 38/200 [00:39<02:42,  1.00s/it]"
     ]
    },
    {
     "name": "stdout",
     "output_type": "stream",
     "text": [
      "./../../../Figures/2023_STEM_AE/generator_images_Generator_of_Figure_4_e_f_vortex_walls/0038_maps.png\n",
      "./../../../Figures/2023_STEM_AE/generator_images_Generator_of_Figure_4_e_f_vortex_walls/0038_maps.svg\n"
     ]
    },
    {
     "name": "stderr",
     "output_type": "stream",
     "text": [
      " 20%|█▉        | 39/200 [00:40<02:39,  1.01it/s]"
     ]
    },
    {
     "name": "stdout",
     "output_type": "stream",
     "text": [
      "./../../../Figures/2023_STEM_AE/generator_images_Generator_of_Figure_4_e_f_vortex_walls/0039_maps.png\n",
      "./../../../Figures/2023_STEM_AE/generator_images_Generator_of_Figure_4_e_f_vortex_walls/0039_maps.svg\n"
     ]
    },
    {
     "name": "stderr",
     "output_type": "stream",
     "text": [
      " 20%|██        | 40/200 [00:40<02:37,  1.02it/s]"
     ]
    },
    {
     "name": "stdout",
     "output_type": "stream",
     "text": [
      "./../../../Figures/2023_STEM_AE/generator_images_Generator_of_Figure_4_e_f_vortex_walls/0040_maps.png\n",
      "./../../../Figures/2023_STEM_AE/generator_images_Generator_of_Figure_4_e_f_vortex_walls/0040_maps.svg\n"
     ]
    },
    {
     "name": "stderr",
     "output_type": "stream",
     "text": [
      " 20%|██        | 41/200 [00:41<02:35,  1.02it/s]"
     ]
    },
    {
     "name": "stdout",
     "output_type": "stream",
     "text": [
      "./../../../Figures/2023_STEM_AE/generator_images_Generator_of_Figure_4_e_f_vortex_walls/0041_maps.png\n",
      "./../../../Figures/2023_STEM_AE/generator_images_Generator_of_Figure_4_e_f_vortex_walls/0041_maps.svg\n"
     ]
    },
    {
     "name": "stderr",
     "output_type": "stream",
     "text": [
      " 21%|██        | 42/200 [00:42<02:33,  1.03it/s]"
     ]
    },
    {
     "name": "stdout",
     "output_type": "stream",
     "text": [
      "./../../../Figures/2023_STEM_AE/generator_images_Generator_of_Figure_4_e_f_vortex_walls/0042_maps.png\n",
      "./../../../Figures/2023_STEM_AE/generator_images_Generator_of_Figure_4_e_f_vortex_walls/0042_maps.svg\n"
     ]
    },
    {
     "name": "stderr",
     "output_type": "stream",
     "text": [
      " 22%|██▏       | 43/200 [00:43<02:32,  1.03it/s]"
     ]
    },
    {
     "name": "stdout",
     "output_type": "stream",
     "text": [
      "./../../../Figures/2023_STEM_AE/generator_images_Generator_of_Figure_4_e_f_vortex_walls/0043_maps.png\n",
      "./../../../Figures/2023_STEM_AE/generator_images_Generator_of_Figure_4_e_f_vortex_walls/0043_maps.svg\n"
     ]
    },
    {
     "name": "stderr",
     "output_type": "stream",
     "text": [
      " 22%|██▏       | 44/200 [00:44<02:30,  1.03it/s]"
     ]
    },
    {
     "name": "stdout",
     "output_type": "stream",
     "text": [
      "./../../../Figures/2023_STEM_AE/generator_images_Generator_of_Figure_4_e_f_vortex_walls/0044_maps.png\n",
      "./../../../Figures/2023_STEM_AE/generator_images_Generator_of_Figure_4_e_f_vortex_walls/0044_maps.svg\n"
     ]
    },
    {
     "name": "stderr",
     "output_type": "stream",
     "text": [
      " 22%|██▎       | 45/200 [00:45<02:29,  1.04it/s]"
     ]
    },
    {
     "name": "stdout",
     "output_type": "stream",
     "text": [
      "./../../../Figures/2023_STEM_AE/generator_images_Generator_of_Figure_4_e_f_vortex_walls/0045_maps.png\n",
      "./../../../Figures/2023_STEM_AE/generator_images_Generator_of_Figure_4_e_f_vortex_walls/0045_maps.svg\n"
     ]
    },
    {
     "name": "stderr",
     "output_type": "stream",
     "text": [
      " 23%|██▎       | 46/200 [00:46<02:28,  1.04it/s]"
     ]
    },
    {
     "name": "stdout",
     "output_type": "stream",
     "text": [
      "./../../../Figures/2023_STEM_AE/generator_images_Generator_of_Figure_4_e_f_vortex_walls/0046_maps.png\n",
      "./../../../Figures/2023_STEM_AE/generator_images_Generator_of_Figure_4_e_f_vortex_walls/0046_maps.svg\n"
     ]
    },
    {
     "name": "stderr",
     "output_type": "stream",
     "text": [
      " 24%|██▎       | 47/200 [00:47<02:27,  1.04it/s]"
     ]
    },
    {
     "name": "stdout",
     "output_type": "stream",
     "text": [
      "./../../../Figures/2023_STEM_AE/generator_images_Generator_of_Figure_4_e_f_vortex_walls/0047_maps.png\n",
      "./../../../Figures/2023_STEM_AE/generator_images_Generator_of_Figure_4_e_f_vortex_walls/0047_maps.svg\n"
     ]
    },
    {
     "name": "stderr",
     "output_type": "stream",
     "text": [
      " 24%|██▍       | 48/200 [00:48<02:26,  1.04it/s]"
     ]
    },
    {
     "name": "stdout",
     "output_type": "stream",
     "text": [
      "./../../../Figures/2023_STEM_AE/generator_images_Generator_of_Figure_4_e_f_vortex_walls/0048_maps.png\n",
      "./../../../Figures/2023_STEM_AE/generator_images_Generator_of_Figure_4_e_f_vortex_walls/0048_maps.svg\n"
     ]
    },
    {
     "name": "stderr",
     "output_type": "stream",
     "text": [
      " 24%|██▍       | 49/200 [00:49<02:25,  1.04it/s]"
     ]
    },
    {
     "name": "stdout",
     "output_type": "stream",
     "text": [
      "./../../../Figures/2023_STEM_AE/generator_images_Generator_of_Figure_4_e_f_vortex_walls/0049_maps.png\n",
      "./../../../Figures/2023_STEM_AE/generator_images_Generator_of_Figure_4_e_f_vortex_walls/0049_maps.svg\n"
     ]
    },
    {
     "name": "stderr",
     "output_type": "stream",
     "text": [
      " 25%|██▌       | 50/200 [00:50<02:24,  1.04it/s]"
     ]
    },
    {
     "name": "stdout",
     "output_type": "stream",
     "text": [
      "./../../../Figures/2023_STEM_AE/generator_images_Generator_of_Figure_4_e_f_vortex_walls/0050_maps.png\n",
      "./../../../Figures/2023_STEM_AE/generator_images_Generator_of_Figure_4_e_f_vortex_walls/0050_maps.svg\n"
     ]
    },
    {
     "name": "stderr",
     "output_type": "stream",
     "text": [
      " 26%|██▌       | 51/200 [00:51<02:23,  1.04it/s]"
     ]
    },
    {
     "name": "stdout",
     "output_type": "stream",
     "text": [
      "./../../../Figures/2023_STEM_AE/generator_images_Generator_of_Figure_4_e_f_vortex_walls/0051_maps.png\n",
      "./../../../Figures/2023_STEM_AE/generator_images_Generator_of_Figure_4_e_f_vortex_walls/0051_maps.svg\n"
     ]
    },
    {
     "name": "stderr",
     "output_type": "stream",
     "text": [
      " 26%|██▌       | 52/200 [00:52<02:21,  1.04it/s]"
     ]
    },
    {
     "name": "stdout",
     "output_type": "stream",
     "text": [
      "./../../../Figures/2023_STEM_AE/generator_images_Generator_of_Figure_4_e_f_vortex_walls/0052_maps.png\n",
      "./../../../Figures/2023_STEM_AE/generator_images_Generator_of_Figure_4_e_f_vortex_walls/0052_maps.svg\n"
     ]
    },
    {
     "name": "stderr",
     "output_type": "stream",
     "text": [
      " 26%|██▋       | 53/200 [00:53<02:20,  1.04it/s]"
     ]
    },
    {
     "name": "stdout",
     "output_type": "stream",
     "text": [
      "./../../../Figures/2023_STEM_AE/generator_images_Generator_of_Figure_4_e_f_vortex_walls/0053_maps.png\n",
      "./../../../Figures/2023_STEM_AE/generator_images_Generator_of_Figure_4_e_f_vortex_walls/0053_maps.svg\n"
     ]
    },
    {
     "name": "stderr",
     "output_type": "stream",
     "text": [
      " 27%|██▋       | 54/200 [00:54<02:36,  1.07s/it]"
     ]
    },
    {
     "name": "stdout",
     "output_type": "stream",
     "text": [
      "./../../../Figures/2023_STEM_AE/generator_images_Generator_of_Figure_4_e_f_vortex_walls/0054_maps.png\n",
      "./../../../Figures/2023_STEM_AE/generator_images_Generator_of_Figure_4_e_f_vortex_walls/0054_maps.svg\n"
     ]
    },
    {
     "name": "stderr",
     "output_type": "stream",
     "text": [
      " 28%|██▊       | 55/200 [00:55<02:30,  1.04s/it]"
     ]
    },
    {
     "name": "stdout",
     "output_type": "stream",
     "text": [
      "./../../../Figures/2023_STEM_AE/generator_images_Generator_of_Figure_4_e_f_vortex_walls/0055_maps.png\n",
      "./../../../Figures/2023_STEM_AE/generator_images_Generator_of_Figure_4_e_f_vortex_walls/0055_maps.svg\n"
     ]
    },
    {
     "name": "stderr",
     "output_type": "stream",
     "text": [
      " 28%|██▊       | 56/200 [00:56<02:26,  1.01s/it]"
     ]
    },
    {
     "name": "stdout",
     "output_type": "stream",
     "text": [
      "./../../../Figures/2023_STEM_AE/generator_images_Generator_of_Figure_4_e_f_vortex_walls/0056_maps.png\n",
      "./../../../Figures/2023_STEM_AE/generator_images_Generator_of_Figure_4_e_f_vortex_walls/0056_maps.svg\n"
     ]
    },
    {
     "name": "stderr",
     "output_type": "stream",
     "text": [
      " 28%|██▊       | 57/200 [00:57<02:22,  1.00it/s]"
     ]
    },
    {
     "name": "stdout",
     "output_type": "stream",
     "text": [
      "./../../../Figures/2023_STEM_AE/generator_images_Generator_of_Figure_4_e_f_vortex_walls/0057_maps.png\n",
      "./../../../Figures/2023_STEM_AE/generator_images_Generator_of_Figure_4_e_f_vortex_walls/0057_maps.svg\n"
     ]
    },
    {
     "name": "stderr",
     "output_type": "stream",
     "text": [
      " 29%|██▉       | 58/200 [00:58<02:20,  1.01it/s]"
     ]
    },
    {
     "name": "stdout",
     "output_type": "stream",
     "text": [
      "./../../../Figures/2023_STEM_AE/generator_images_Generator_of_Figure_4_e_f_vortex_walls/0058_maps.png\n",
      "./../../../Figures/2023_STEM_AE/generator_images_Generator_of_Figure_4_e_f_vortex_walls/0058_maps.svg\n"
     ]
    },
    {
     "name": "stderr",
     "output_type": "stream",
     "text": [
      " 30%|██▉       | 59/200 [00:59<02:17,  1.02it/s]"
     ]
    },
    {
     "name": "stdout",
     "output_type": "stream",
     "text": [
      "./../../../Figures/2023_STEM_AE/generator_images_Generator_of_Figure_4_e_f_vortex_walls/0059_maps.png\n",
      "./../../../Figures/2023_STEM_AE/generator_images_Generator_of_Figure_4_e_f_vortex_walls/0059_maps.svg\n"
     ]
    },
    {
     "name": "stderr",
     "output_type": "stream",
     "text": [
      " 30%|███       | 60/200 [01:00<02:16,  1.03it/s]"
     ]
    },
    {
     "name": "stdout",
     "output_type": "stream",
     "text": [
      "./../../../Figures/2023_STEM_AE/generator_images_Generator_of_Figure_4_e_f_vortex_walls/0060_maps.png\n",
      "./../../../Figures/2023_STEM_AE/generator_images_Generator_of_Figure_4_e_f_vortex_walls/0060_maps.svg\n"
     ]
    },
    {
     "name": "stderr",
     "output_type": "stream",
     "text": [
      " 30%|███       | 61/200 [01:01<02:14,  1.03it/s]"
     ]
    },
    {
     "name": "stdout",
     "output_type": "stream",
     "text": [
      "./../../../Figures/2023_STEM_AE/generator_images_Generator_of_Figure_4_e_f_vortex_walls/0061_maps.png\n",
      "./../../../Figures/2023_STEM_AE/generator_images_Generator_of_Figure_4_e_f_vortex_walls/0061_maps.svg\n"
     ]
    },
    {
     "name": "stderr",
     "output_type": "stream",
     "text": [
      " 31%|███       | 62/200 [01:02<02:13,  1.03it/s]"
     ]
    },
    {
     "name": "stdout",
     "output_type": "stream",
     "text": [
      "./../../../Figures/2023_STEM_AE/generator_images_Generator_of_Figure_4_e_f_vortex_walls/0062_maps.png\n",
      "./../../../Figures/2023_STEM_AE/generator_images_Generator_of_Figure_4_e_f_vortex_walls/0062_maps.svg\n"
     ]
    },
    {
     "name": "stderr",
     "output_type": "stream",
     "text": [
      " 32%|███▏      | 63/200 [01:03<02:12,  1.04it/s]"
     ]
    },
    {
     "name": "stdout",
     "output_type": "stream",
     "text": [
      "./../../../Figures/2023_STEM_AE/generator_images_Generator_of_Figure_4_e_f_vortex_walls/0063_maps.png\n",
      "./../../../Figures/2023_STEM_AE/generator_images_Generator_of_Figure_4_e_f_vortex_walls/0063_maps.svg\n"
     ]
    },
    {
     "name": "stderr",
     "output_type": "stream",
     "text": [
      " 32%|███▏      | 64/200 [01:04<02:11,  1.04it/s]"
     ]
    },
    {
     "name": "stdout",
     "output_type": "stream",
     "text": [
      "./../../../Figures/2023_STEM_AE/generator_images_Generator_of_Figure_4_e_f_vortex_walls/0064_maps.png\n",
      "./../../../Figures/2023_STEM_AE/generator_images_Generator_of_Figure_4_e_f_vortex_walls/0064_maps.svg\n"
     ]
    },
    {
     "name": "stderr",
     "output_type": "stream",
     "text": [
      " 32%|███▎      | 65/200 [01:05<02:09,  1.04it/s]"
     ]
    },
    {
     "name": "stdout",
     "output_type": "stream",
     "text": [
      "./../../../Figures/2023_STEM_AE/generator_images_Generator_of_Figure_4_e_f_vortex_walls/0065_maps.png\n",
      "./../../../Figures/2023_STEM_AE/generator_images_Generator_of_Figure_4_e_f_vortex_walls/0065_maps.svg\n"
     ]
    },
    {
     "name": "stderr",
     "output_type": "stream",
     "text": [
      " 33%|███▎      | 66/200 [01:06<02:08,  1.04it/s]"
     ]
    },
    {
     "name": "stdout",
     "output_type": "stream",
     "text": [
      "./../../../Figures/2023_STEM_AE/generator_images_Generator_of_Figure_4_e_f_vortex_walls/0066_maps.png\n",
      "./../../../Figures/2023_STEM_AE/generator_images_Generator_of_Figure_4_e_f_vortex_walls/0066_maps.svg\n"
     ]
    },
    {
     "name": "stderr",
     "output_type": "stream",
     "text": [
      " 34%|███▎      | 67/200 [01:07<02:07,  1.04it/s]"
     ]
    },
    {
     "name": "stdout",
     "output_type": "stream",
     "text": [
      "./../../../Figures/2023_STEM_AE/generator_images_Generator_of_Figure_4_e_f_vortex_walls/0067_maps.png\n",
      "./../../../Figures/2023_STEM_AE/generator_images_Generator_of_Figure_4_e_f_vortex_walls/0067_maps.svg\n"
     ]
    },
    {
     "name": "stderr",
     "output_type": "stream",
     "text": [
      " 34%|███▍      | 68/200 [01:08<02:06,  1.04it/s]"
     ]
    },
    {
     "name": "stdout",
     "output_type": "stream",
     "text": [
      "./../../../Figures/2023_STEM_AE/generator_images_Generator_of_Figure_4_e_f_vortex_walls/0068_maps.png\n",
      "./../../../Figures/2023_STEM_AE/generator_images_Generator_of_Figure_4_e_f_vortex_walls/0068_maps.svg\n"
     ]
    },
    {
     "name": "stderr",
     "output_type": "stream",
     "text": [
      " 34%|███▍      | 69/200 [01:09<02:05,  1.04it/s]"
     ]
    },
    {
     "name": "stdout",
     "output_type": "stream",
     "text": [
      "./../../../Figures/2023_STEM_AE/generator_images_Generator_of_Figure_4_e_f_vortex_walls/0069_maps.png\n",
      "./../../../Figures/2023_STEM_AE/generator_images_Generator_of_Figure_4_e_f_vortex_walls/0069_maps.svg\n"
     ]
    },
    {
     "name": "stderr",
     "output_type": "stream",
     "text": [
      " 35%|███▌      | 70/200 [01:10<02:04,  1.04it/s]"
     ]
    },
    {
     "name": "stdout",
     "output_type": "stream",
     "text": [
      "./../../../Figures/2023_STEM_AE/generator_images_Generator_of_Figure_4_e_f_vortex_walls/0070_maps.png\n",
      "./../../../Figures/2023_STEM_AE/generator_images_Generator_of_Figure_4_e_f_vortex_walls/0070_maps.svg\n"
     ]
    },
    {
     "name": "stderr",
     "output_type": "stream",
     "text": [
      " 36%|███▌      | 71/200 [01:11<02:03,  1.04it/s]"
     ]
    },
    {
     "name": "stdout",
     "output_type": "stream",
     "text": [
      "./../../../Figures/2023_STEM_AE/generator_images_Generator_of_Figure_4_e_f_vortex_walls/0071_maps.png\n",
      "./../../../Figures/2023_STEM_AE/generator_images_Generator_of_Figure_4_e_f_vortex_walls/0071_maps.svg\n"
     ]
    },
    {
     "name": "stderr",
     "output_type": "stream",
     "text": [
      " 36%|███▌      | 72/200 [01:12<02:03,  1.04it/s]"
     ]
    },
    {
     "name": "stdout",
     "output_type": "stream",
     "text": [
      "./../../../Figures/2023_STEM_AE/generator_images_Generator_of_Figure_4_e_f_vortex_walls/0072_maps.png\n",
      "./../../../Figures/2023_STEM_AE/generator_images_Generator_of_Figure_4_e_f_vortex_walls/0072_maps.svg\n"
     ]
    },
    {
     "name": "stderr",
     "output_type": "stream",
     "text": [
      " 36%|███▋      | 73/200 [01:13<02:01,  1.04it/s]"
     ]
    },
    {
     "name": "stdout",
     "output_type": "stream",
     "text": [
      "./../../../Figures/2023_STEM_AE/generator_images_Generator_of_Figure_4_e_f_vortex_walls/0073_maps.png\n",
      "./../../../Figures/2023_STEM_AE/generator_images_Generator_of_Figure_4_e_f_vortex_walls/0073_maps.svg\n"
     ]
    },
    {
     "name": "stderr",
     "output_type": "stream",
     "text": [
      " 37%|███▋      | 74/200 [01:13<02:01,  1.04it/s]"
     ]
    },
    {
     "name": "stdout",
     "output_type": "stream",
     "text": [
      "./../../../Figures/2023_STEM_AE/generator_images_Generator_of_Figure_4_e_f_vortex_walls/0074_maps.png\n",
      "./../../../Figures/2023_STEM_AE/generator_images_Generator_of_Figure_4_e_f_vortex_walls/0074_maps.svg\n"
     ]
    },
    {
     "name": "stderr",
     "output_type": "stream",
     "text": [
      " 38%|███▊      | 75/200 [01:14<02:00,  1.04it/s]"
     ]
    },
    {
     "name": "stdout",
     "output_type": "stream",
     "text": [
      "./../../../Figures/2023_STEM_AE/generator_images_Generator_of_Figure_4_e_f_vortex_walls/0075_maps.png\n",
      "./../../../Figures/2023_STEM_AE/generator_images_Generator_of_Figure_4_e_f_vortex_walls/0075_maps.svg\n"
     ]
    },
    {
     "name": "stderr",
     "output_type": "stream",
     "text": [
      " 38%|███▊      | 76/200 [01:16<02:16,  1.10s/it]"
     ]
    },
    {
     "name": "stdout",
     "output_type": "stream",
     "text": [
      "./../../../Figures/2023_STEM_AE/generator_images_Generator_of_Figure_4_e_f_vortex_walls/0076_maps.png\n",
      "./../../../Figures/2023_STEM_AE/generator_images_Generator_of_Figure_4_e_f_vortex_walls/0076_maps.svg\n"
     ]
    },
    {
     "name": "stderr",
     "output_type": "stream",
     "text": [
      " 38%|███▊      | 77/200 [01:17<02:10,  1.06s/it]"
     ]
    },
    {
     "name": "stdout",
     "output_type": "stream",
     "text": [
      "./../../../Figures/2023_STEM_AE/generator_images_Generator_of_Figure_4_e_f_vortex_walls/0077_maps.png\n",
      "./../../../Figures/2023_STEM_AE/generator_images_Generator_of_Figure_4_e_f_vortex_walls/0077_maps.svg\n"
     ]
    },
    {
     "name": "stderr",
     "output_type": "stream",
     "text": [
      " 39%|███▉      | 78/200 [01:18<02:05,  1.03s/it]"
     ]
    },
    {
     "name": "stdout",
     "output_type": "stream",
     "text": [
      "./../../../Figures/2023_STEM_AE/generator_images_Generator_of_Figure_4_e_f_vortex_walls/0078_maps.png\n",
      "./../../../Figures/2023_STEM_AE/generator_images_Generator_of_Figure_4_e_f_vortex_walls/0078_maps.svg\n"
     ]
    },
    {
     "name": "stderr",
     "output_type": "stream",
     "text": [
      " 40%|███▉      | 79/200 [01:19<02:01,  1.01s/it]"
     ]
    },
    {
     "name": "stdout",
     "output_type": "stream",
     "text": [
      "./../../../Figures/2023_STEM_AE/generator_images_Generator_of_Figure_4_e_f_vortex_walls/0079_maps.png\n",
      "./../../../Figures/2023_STEM_AE/generator_images_Generator_of_Figure_4_e_f_vortex_walls/0079_maps.svg\n"
     ]
    },
    {
     "name": "stderr",
     "output_type": "stream",
     "text": [
      " 40%|████      | 80/200 [01:20<01:59,  1.01it/s]"
     ]
    },
    {
     "name": "stdout",
     "output_type": "stream",
     "text": [
      "./../../../Figures/2023_STEM_AE/generator_images_Generator_of_Figure_4_e_f_vortex_walls/0080_maps.png\n",
      "./../../../Figures/2023_STEM_AE/generator_images_Generator_of_Figure_4_e_f_vortex_walls/0080_maps.svg\n"
     ]
    },
    {
     "name": "stderr",
     "output_type": "stream",
     "text": [
      " 40%|████      | 81/200 [01:21<01:56,  1.02it/s]"
     ]
    },
    {
     "name": "stdout",
     "output_type": "stream",
     "text": [
      "./../../../Figures/2023_STEM_AE/generator_images_Generator_of_Figure_4_e_f_vortex_walls/0081_maps.png\n",
      "./../../../Figures/2023_STEM_AE/generator_images_Generator_of_Figure_4_e_f_vortex_walls/0081_maps.svg\n"
     ]
    },
    {
     "name": "stderr",
     "output_type": "stream",
     "text": [
      " 41%|████      | 82/200 [01:22<01:55,  1.03it/s]"
     ]
    },
    {
     "name": "stdout",
     "output_type": "stream",
     "text": [
      "./../../../Figures/2023_STEM_AE/generator_images_Generator_of_Figure_4_e_f_vortex_walls/0082_maps.png\n",
      "./../../../Figures/2023_STEM_AE/generator_images_Generator_of_Figure_4_e_f_vortex_walls/0082_maps.svg\n"
     ]
    },
    {
     "name": "stderr",
     "output_type": "stream",
     "text": [
      " 42%|████▏     | 83/200 [01:23<01:53,  1.03it/s]"
     ]
    },
    {
     "name": "stdout",
     "output_type": "stream",
     "text": [
      "./../../../Figures/2023_STEM_AE/generator_images_Generator_of_Figure_4_e_f_vortex_walls/0083_maps.png\n",
      "./../../../Figures/2023_STEM_AE/generator_images_Generator_of_Figure_4_e_f_vortex_walls/0083_maps.svg\n"
     ]
    },
    {
     "name": "stderr",
     "output_type": "stream",
     "text": [
      " 42%|████▏     | 84/200 [01:24<01:52,  1.04it/s]"
     ]
    },
    {
     "name": "stdout",
     "output_type": "stream",
     "text": [
      "./../../../Figures/2023_STEM_AE/generator_images_Generator_of_Figure_4_e_f_vortex_walls/0084_maps.png\n",
      "./../../../Figures/2023_STEM_AE/generator_images_Generator_of_Figure_4_e_f_vortex_walls/0084_maps.svg\n"
     ]
    },
    {
     "name": "stderr",
     "output_type": "stream",
     "text": [
      " 42%|████▎     | 85/200 [01:25<01:50,  1.04it/s]"
     ]
    },
    {
     "name": "stdout",
     "output_type": "stream",
     "text": [
      "./../../../Figures/2023_STEM_AE/generator_images_Generator_of_Figure_4_e_f_vortex_walls/0085_maps.png\n",
      "./../../../Figures/2023_STEM_AE/generator_images_Generator_of_Figure_4_e_f_vortex_walls/0085_maps.svg\n"
     ]
    },
    {
     "name": "stderr",
     "output_type": "stream",
     "text": [
      " 43%|████▎     | 86/200 [01:25<01:49,  1.04it/s]"
     ]
    },
    {
     "name": "stdout",
     "output_type": "stream",
     "text": [
      "./../../../Figures/2023_STEM_AE/generator_images_Generator_of_Figure_4_e_f_vortex_walls/0086_maps.png\n",
      "./../../../Figures/2023_STEM_AE/generator_images_Generator_of_Figure_4_e_f_vortex_walls/0086_maps.svg\n"
     ]
    },
    {
     "name": "stderr",
     "output_type": "stream",
     "text": [
      " 44%|████▎     | 87/200 [01:26<01:48,  1.04it/s]"
     ]
    },
    {
     "name": "stdout",
     "output_type": "stream",
     "text": [
      "./../../../Figures/2023_STEM_AE/generator_images_Generator_of_Figure_4_e_f_vortex_walls/0087_maps.png\n",
      "./../../../Figures/2023_STEM_AE/generator_images_Generator_of_Figure_4_e_f_vortex_walls/0087_maps.svg\n"
     ]
    },
    {
     "name": "stderr",
     "output_type": "stream",
     "text": [
      " 44%|████▍     | 88/200 [01:27<01:47,  1.04it/s]"
     ]
    },
    {
     "name": "stdout",
     "output_type": "stream",
     "text": [
      "./../../../Figures/2023_STEM_AE/generator_images_Generator_of_Figure_4_e_f_vortex_walls/0088_maps.png\n",
      "./../../../Figures/2023_STEM_AE/generator_images_Generator_of_Figure_4_e_f_vortex_walls/0088_maps.svg\n"
     ]
    },
    {
     "name": "stderr",
     "output_type": "stream",
     "text": [
      " 44%|████▍     | 89/200 [01:28<01:46,  1.04it/s]"
     ]
    },
    {
     "name": "stdout",
     "output_type": "stream",
     "text": [
      "./../../../Figures/2023_STEM_AE/generator_images_Generator_of_Figure_4_e_f_vortex_walls/0089_maps.png\n",
      "./../../../Figures/2023_STEM_AE/generator_images_Generator_of_Figure_4_e_f_vortex_walls/0089_maps.svg\n"
     ]
    },
    {
     "name": "stderr",
     "output_type": "stream",
     "text": [
      " 45%|████▌     | 90/200 [01:29<01:45,  1.04it/s]"
     ]
    },
    {
     "name": "stdout",
     "output_type": "stream",
     "text": [
      "./../../../Figures/2023_STEM_AE/generator_images_Generator_of_Figure_4_e_f_vortex_walls/0090_maps.png\n",
      "./../../../Figures/2023_STEM_AE/generator_images_Generator_of_Figure_4_e_f_vortex_walls/0090_maps.svg\n"
     ]
    },
    {
     "name": "stderr",
     "output_type": "stream",
     "text": [
      " 46%|████▌     | 91/200 [01:30<01:44,  1.04it/s]"
     ]
    },
    {
     "name": "stdout",
     "output_type": "stream",
     "text": [
      "./../../../Figures/2023_STEM_AE/generator_images_Generator_of_Figure_4_e_f_vortex_walls/0091_maps.png\n",
      "./../../../Figures/2023_STEM_AE/generator_images_Generator_of_Figure_4_e_f_vortex_walls/0091_maps.svg\n"
     ]
    },
    {
     "name": "stderr",
     "output_type": "stream",
     "text": [
      " 46%|████▌     | 92/200 [01:31<01:43,  1.04it/s]"
     ]
    },
    {
     "name": "stdout",
     "output_type": "stream",
     "text": [
      "./../../../Figures/2023_STEM_AE/generator_images_Generator_of_Figure_4_e_f_vortex_walls/0092_maps.png\n",
      "./../../../Figures/2023_STEM_AE/generator_images_Generator_of_Figure_4_e_f_vortex_walls/0092_maps.svg\n"
     ]
    },
    {
     "name": "stderr",
     "output_type": "stream",
     "text": [
      " 46%|████▋     | 93/200 [01:32<01:42,  1.04it/s]"
     ]
    },
    {
     "name": "stdout",
     "output_type": "stream",
     "text": [
      "./../../../Figures/2023_STEM_AE/generator_images_Generator_of_Figure_4_e_f_vortex_walls/0093_maps.png\n",
      "./../../../Figures/2023_STEM_AE/generator_images_Generator_of_Figure_4_e_f_vortex_walls/0093_maps.svg\n"
     ]
    },
    {
     "name": "stderr",
     "output_type": "stream",
     "text": [
      " 47%|████▋     | 94/200 [01:33<01:41,  1.04it/s]"
     ]
    },
    {
     "name": "stdout",
     "output_type": "stream",
     "text": [
      "./../../../Figures/2023_STEM_AE/generator_images_Generator_of_Figure_4_e_f_vortex_walls/0094_maps.png\n",
      "./../../../Figures/2023_STEM_AE/generator_images_Generator_of_Figure_4_e_f_vortex_walls/0094_maps.svg\n"
     ]
    },
    {
     "name": "stderr",
     "output_type": "stream",
     "text": [
      " 48%|████▊     | 95/200 [01:34<01:40,  1.04it/s]"
     ]
    },
    {
     "name": "stdout",
     "output_type": "stream",
     "text": [
      "./../../../Figures/2023_STEM_AE/generator_images_Generator_of_Figure_4_e_f_vortex_walls/0095_maps.png\n",
      "./../../../Figures/2023_STEM_AE/generator_images_Generator_of_Figure_4_e_f_vortex_walls/0095_maps.svg\n"
     ]
    },
    {
     "name": "stderr",
     "output_type": "stream",
     "text": [
      " 48%|████▊     | 96/200 [01:35<01:39,  1.04it/s]"
     ]
    },
    {
     "name": "stdout",
     "output_type": "stream",
     "text": [
      "./../../../Figures/2023_STEM_AE/generator_images_Generator_of_Figure_4_e_f_vortex_walls/0096_maps.png\n",
      "./../../../Figures/2023_STEM_AE/generator_images_Generator_of_Figure_4_e_f_vortex_walls/0096_maps.svg\n"
     ]
    },
    {
     "name": "stderr",
     "output_type": "stream",
     "text": [
      " 48%|████▊     | 97/200 [01:36<01:38,  1.04it/s]"
     ]
    },
    {
     "name": "stdout",
     "output_type": "stream",
     "text": [
      "./../../../Figures/2023_STEM_AE/generator_images_Generator_of_Figure_4_e_f_vortex_walls/0097_maps.png\n",
      "./../../../Figures/2023_STEM_AE/generator_images_Generator_of_Figure_4_e_f_vortex_walls/0097_maps.svg\n"
     ]
    },
    {
     "name": "stderr",
     "output_type": "stream",
     "text": [
      " 49%|████▉     | 98/200 [01:37<01:37,  1.04it/s]"
     ]
    },
    {
     "name": "stdout",
     "output_type": "stream",
     "text": [
      "./../../../Figures/2023_STEM_AE/generator_images_Generator_of_Figure_4_e_f_vortex_walls/0098_maps.png\n",
      "./../../../Figures/2023_STEM_AE/generator_images_Generator_of_Figure_4_e_f_vortex_walls/0098_maps.svg\n"
     ]
    },
    {
     "name": "stderr",
     "output_type": "stream",
     "text": [
      " 50%|████▉     | 99/200 [01:38<01:36,  1.04it/s]"
     ]
    },
    {
     "name": "stdout",
     "output_type": "stream",
     "text": [
      "./../../../Figures/2023_STEM_AE/generator_images_Generator_of_Figure_4_e_f_vortex_walls/0099_maps.png\n",
      "./../../../Figures/2023_STEM_AE/generator_images_Generator_of_Figure_4_e_f_vortex_walls/0099_maps.svg\n"
     ]
    },
    {
     "name": "stderr",
     "output_type": "stream",
     "text": [
      " 50%|█████     | 100/200 [01:39<01:35,  1.04it/s]"
     ]
    },
    {
     "name": "stdout",
     "output_type": "stream",
     "text": [
      "./../../../Figures/2023_STEM_AE/generator_images_Generator_of_Figure_4_e_f_vortex_walls/0100_maps.png\n",
      "./../../../Figures/2023_STEM_AE/generator_images_Generator_of_Figure_4_e_f_vortex_walls/0100_maps.svg\n"
     ]
    },
    {
     "name": "stderr",
     "output_type": "stream",
     "text": [
      " 50%|█████     | 101/200 [01:40<01:34,  1.04it/s]"
     ]
    },
    {
     "name": "stdout",
     "output_type": "stream",
     "text": [
      "./../../../Figures/2023_STEM_AE/generator_images_Generator_of_Figure_4_e_f_vortex_walls/0101_maps.png\n",
      "./../../../Figures/2023_STEM_AE/generator_images_Generator_of_Figure_4_e_f_vortex_walls/0101_maps.svg\n"
     ]
    },
    {
     "name": "stderr",
     "output_type": "stream",
     "text": [
      " 51%|█████     | 102/200 [01:41<01:33,  1.04it/s]"
     ]
    },
    {
     "name": "stdout",
     "output_type": "stream",
     "text": [
      "./../../../Figures/2023_STEM_AE/generator_images_Generator_of_Figure_4_e_f_vortex_walls/0102_maps.png\n",
      "./../../../Figures/2023_STEM_AE/generator_images_Generator_of_Figure_4_e_f_vortex_walls/0102_maps.svg\n"
     ]
    },
    {
     "name": "stderr",
     "output_type": "stream",
     "text": [
      " 52%|█████▏    | 103/200 [01:42<01:49,  1.13s/it]"
     ]
    },
    {
     "name": "stdout",
     "output_type": "stream",
     "text": [
      "./../../../Figures/2023_STEM_AE/generator_images_Generator_of_Figure_4_e_f_vortex_walls/0103_maps.png\n",
      "./../../../Figures/2023_STEM_AE/generator_images_Generator_of_Figure_4_e_f_vortex_walls/0103_maps.svg\n"
     ]
    },
    {
     "name": "stderr",
     "output_type": "stream",
     "text": [
      " 52%|█████▏    | 104/200 [01:43<01:43,  1.08s/it]"
     ]
    },
    {
     "name": "stdout",
     "output_type": "stream",
     "text": [
      "./../../../Figures/2023_STEM_AE/generator_images_Generator_of_Figure_4_e_f_vortex_walls/0104_maps.png\n",
      "./../../../Figures/2023_STEM_AE/generator_images_Generator_of_Figure_4_e_f_vortex_walls/0104_maps.svg\n"
     ]
    },
    {
     "name": "stderr",
     "output_type": "stream",
     "text": [
      " 52%|█████▎    | 105/200 [01:44<01:39,  1.04s/it]"
     ]
    },
    {
     "name": "stdout",
     "output_type": "stream",
     "text": [
      "./../../../Figures/2023_STEM_AE/generator_images_Generator_of_Figure_4_e_f_vortex_walls/0105_maps.png\n",
      "./../../../Figures/2023_STEM_AE/generator_images_Generator_of_Figure_4_e_f_vortex_walls/0105_maps.svg\n"
     ]
    },
    {
     "name": "stderr",
     "output_type": "stream",
     "text": [
      " 53%|█████▎    | 106/200 [01:45<01:35,  1.02s/it]"
     ]
    },
    {
     "name": "stdout",
     "output_type": "stream",
     "text": [
      "./../../../Figures/2023_STEM_AE/generator_images_Generator_of_Figure_4_e_f_vortex_walls/0106_maps.png\n",
      "./../../../Figures/2023_STEM_AE/generator_images_Generator_of_Figure_4_e_f_vortex_walls/0106_maps.svg\n"
     ]
    },
    {
     "name": "stderr",
     "output_type": "stream",
     "text": [
      " 54%|█████▎    | 107/200 [01:46<01:32,  1.00it/s]"
     ]
    },
    {
     "name": "stdout",
     "output_type": "stream",
     "text": [
      "./../../../Figures/2023_STEM_AE/generator_images_Generator_of_Figure_4_e_f_vortex_walls/0107_maps.png\n",
      "./../../../Figures/2023_STEM_AE/generator_images_Generator_of_Figure_4_e_f_vortex_walls/0107_maps.svg\n"
     ]
    },
    {
     "name": "stderr",
     "output_type": "stream",
     "text": [
      " 54%|█████▍    | 108/200 [01:47<01:30,  1.01it/s]"
     ]
    },
    {
     "name": "stdout",
     "output_type": "stream",
     "text": [
      "./../../../Figures/2023_STEM_AE/generator_images_Generator_of_Figure_4_e_f_vortex_walls/0108_maps.png\n",
      "./../../../Figures/2023_STEM_AE/generator_images_Generator_of_Figure_4_e_f_vortex_walls/0108_maps.svg\n"
     ]
    },
    {
     "name": "stderr",
     "output_type": "stream",
     "text": [
      " 55%|█████▍    | 109/200 [01:48<01:28,  1.02it/s]"
     ]
    },
    {
     "name": "stdout",
     "output_type": "stream",
     "text": [
      "./../../../Figures/2023_STEM_AE/generator_images_Generator_of_Figure_4_e_f_vortex_walls/0109_maps.png\n",
      "./../../../Figures/2023_STEM_AE/generator_images_Generator_of_Figure_4_e_f_vortex_walls/0109_maps.svg\n"
     ]
    },
    {
     "name": "stderr",
     "output_type": "stream",
     "text": [
      " 55%|█████▌    | 110/200 [01:49<01:27,  1.03it/s]"
     ]
    },
    {
     "name": "stdout",
     "output_type": "stream",
     "text": [
      "./../../../Figures/2023_STEM_AE/generator_images_Generator_of_Figure_4_e_f_vortex_walls/0110_maps.png\n",
      "./../../../Figures/2023_STEM_AE/generator_images_Generator_of_Figure_4_e_f_vortex_walls/0110_maps.svg\n"
     ]
    },
    {
     "name": "stderr",
     "output_type": "stream",
     "text": [
      " 56%|█████▌    | 111/200 [01:50<01:25,  1.04it/s]"
     ]
    },
    {
     "name": "stdout",
     "output_type": "stream",
     "text": [
      "./../../../Figures/2023_STEM_AE/generator_images_Generator_of_Figure_4_e_f_vortex_walls/0111_maps.png\n",
      "./../../../Figures/2023_STEM_AE/generator_images_Generator_of_Figure_4_e_f_vortex_walls/0111_maps.svg\n"
     ]
    },
    {
     "name": "stderr",
     "output_type": "stream",
     "text": [
      " 56%|█████▌    | 112/200 [01:51<01:24,  1.04it/s]"
     ]
    },
    {
     "name": "stdout",
     "output_type": "stream",
     "text": [
      "./../../../Figures/2023_STEM_AE/generator_images_Generator_of_Figure_4_e_f_vortex_walls/0112_maps.png\n",
      "./../../../Figures/2023_STEM_AE/generator_images_Generator_of_Figure_4_e_f_vortex_walls/0112_maps.svg\n"
     ]
    },
    {
     "name": "stderr",
     "output_type": "stream",
     "text": [
      " 56%|█████▋    | 113/200 [01:52<01:23,  1.04it/s]"
     ]
    },
    {
     "name": "stdout",
     "output_type": "stream",
     "text": [
      "./../../../Figures/2023_STEM_AE/generator_images_Generator_of_Figure_4_e_f_vortex_walls/0113_maps.png\n",
      "./../../../Figures/2023_STEM_AE/generator_images_Generator_of_Figure_4_e_f_vortex_walls/0113_maps.svg\n"
     ]
    },
    {
     "name": "stderr",
     "output_type": "stream",
     "text": [
      " 57%|█████▋    | 114/200 [01:53<01:22,  1.04it/s]"
     ]
    },
    {
     "name": "stdout",
     "output_type": "stream",
     "text": [
      "./../../../Figures/2023_STEM_AE/generator_images_Generator_of_Figure_4_e_f_vortex_walls/0114_maps.png\n",
      "./../../../Figures/2023_STEM_AE/generator_images_Generator_of_Figure_4_e_f_vortex_walls/0114_maps.svg\n"
     ]
    },
    {
     "name": "stderr",
     "output_type": "stream",
     "text": [
      " 57%|█████▊    | 115/200 [01:54<01:21,  1.04it/s]"
     ]
    },
    {
     "name": "stdout",
     "output_type": "stream",
     "text": [
      "./../../../Figures/2023_STEM_AE/generator_images_Generator_of_Figure_4_e_f_vortex_walls/0115_maps.png\n",
      "./../../../Figures/2023_STEM_AE/generator_images_Generator_of_Figure_4_e_f_vortex_walls/0115_maps.svg\n"
     ]
    },
    {
     "name": "stderr",
     "output_type": "stream",
     "text": [
      " 58%|█████▊    | 116/200 [01:55<01:20,  1.04it/s]"
     ]
    },
    {
     "name": "stdout",
     "output_type": "stream",
     "text": [
      "./../../../Figures/2023_STEM_AE/generator_images_Generator_of_Figure_4_e_f_vortex_walls/0116_maps.png\n",
      "./../../../Figures/2023_STEM_AE/generator_images_Generator_of_Figure_4_e_f_vortex_walls/0116_maps.svg\n"
     ]
    },
    {
     "name": "stderr",
     "output_type": "stream",
     "text": [
      " 58%|█████▊    | 117/200 [01:56<01:19,  1.04it/s]"
     ]
    },
    {
     "name": "stdout",
     "output_type": "stream",
     "text": [
      "./../../../Figures/2023_STEM_AE/generator_images_Generator_of_Figure_4_e_f_vortex_walls/0117_maps.png\n",
      "./../../../Figures/2023_STEM_AE/generator_images_Generator_of_Figure_4_e_f_vortex_walls/0117_maps.svg\n"
     ]
    },
    {
     "name": "stderr",
     "output_type": "stream",
     "text": [
      " 59%|█████▉    | 118/200 [01:57<01:18,  1.05it/s]"
     ]
    },
    {
     "name": "stdout",
     "output_type": "stream",
     "text": [
      "./../../../Figures/2023_STEM_AE/generator_images_Generator_of_Figure_4_e_f_vortex_walls/0118_maps.png\n",
      "./../../../Figures/2023_STEM_AE/generator_images_Generator_of_Figure_4_e_f_vortex_walls/0118_maps.svg\n"
     ]
    },
    {
     "name": "stderr",
     "output_type": "stream",
     "text": [
      " 60%|█████▉    | 119/200 [01:58<01:17,  1.05it/s]"
     ]
    },
    {
     "name": "stdout",
     "output_type": "stream",
     "text": [
      "./../../../Figures/2023_STEM_AE/generator_images_Generator_of_Figure_4_e_f_vortex_walls/0119_maps.png\n",
      "./../../../Figures/2023_STEM_AE/generator_images_Generator_of_Figure_4_e_f_vortex_walls/0119_maps.svg\n"
     ]
    },
    {
     "name": "stderr",
     "output_type": "stream",
     "text": [
      " 60%|██████    | 120/200 [01:59<01:16,  1.05it/s]"
     ]
    },
    {
     "name": "stdout",
     "output_type": "stream",
     "text": [
      "./../../../Figures/2023_STEM_AE/generator_images_Generator_of_Figure_4_e_f_vortex_walls/0120_maps.png\n",
      "./../../../Figures/2023_STEM_AE/generator_images_Generator_of_Figure_4_e_f_vortex_walls/0120_maps.svg\n"
     ]
    },
    {
     "name": "stderr",
     "output_type": "stream",
     "text": [
      " 60%|██████    | 121/200 [02:00<01:15,  1.05it/s]"
     ]
    },
    {
     "name": "stdout",
     "output_type": "stream",
     "text": [
      "./../../../Figures/2023_STEM_AE/generator_images_Generator_of_Figure_4_e_f_vortex_walls/0121_maps.png\n",
      "./../../../Figures/2023_STEM_AE/generator_images_Generator_of_Figure_4_e_f_vortex_walls/0121_maps.svg\n"
     ]
    },
    {
     "name": "stderr",
     "output_type": "stream",
     "text": [
      " 61%|██████    | 122/200 [02:01<01:14,  1.05it/s]"
     ]
    },
    {
     "name": "stdout",
     "output_type": "stream",
     "text": [
      "./../../../Figures/2023_STEM_AE/generator_images_Generator_of_Figure_4_e_f_vortex_walls/0122_maps.png\n",
      "./../../../Figures/2023_STEM_AE/generator_images_Generator_of_Figure_4_e_f_vortex_walls/0122_maps.svg\n"
     ]
    },
    {
     "name": "stderr",
     "output_type": "stream",
     "text": [
      " 62%|██████▏   | 123/200 [02:01<01:13,  1.05it/s]"
     ]
    },
    {
     "name": "stdout",
     "output_type": "stream",
     "text": [
      "./../../../Figures/2023_STEM_AE/generator_images_Generator_of_Figure_4_e_f_vortex_walls/0123_maps.png\n",
      "./../../../Figures/2023_STEM_AE/generator_images_Generator_of_Figure_4_e_f_vortex_walls/0123_maps.svg\n"
     ]
    },
    {
     "name": "stderr",
     "output_type": "stream",
     "text": [
      " 62%|██████▏   | 124/200 [02:02<01:12,  1.05it/s]"
     ]
    },
    {
     "name": "stdout",
     "output_type": "stream",
     "text": [
      "./../../../Figures/2023_STEM_AE/generator_images_Generator_of_Figure_4_e_f_vortex_walls/0124_maps.png\n",
      "./../../../Figures/2023_STEM_AE/generator_images_Generator_of_Figure_4_e_f_vortex_walls/0124_maps.svg\n"
     ]
    },
    {
     "name": "stderr",
     "output_type": "stream",
     "text": [
      " 62%|██████▎   | 125/200 [02:03<01:11,  1.05it/s]"
     ]
    },
    {
     "name": "stdout",
     "output_type": "stream",
     "text": [
      "./../../../Figures/2023_STEM_AE/generator_images_Generator_of_Figure_4_e_f_vortex_walls/0125_maps.png\n",
      "./../../../Figures/2023_STEM_AE/generator_images_Generator_of_Figure_4_e_f_vortex_walls/0125_maps.svg\n"
     ]
    },
    {
     "name": "stderr",
     "output_type": "stream",
     "text": [
      " 63%|██████▎   | 126/200 [02:04<01:10,  1.05it/s]"
     ]
    },
    {
     "name": "stdout",
     "output_type": "stream",
     "text": [
      "./../../../Figures/2023_STEM_AE/generator_images_Generator_of_Figure_4_e_f_vortex_walls/0126_maps.png\n",
      "./../../../Figures/2023_STEM_AE/generator_images_Generator_of_Figure_4_e_f_vortex_walls/0126_maps.svg\n"
     ]
    },
    {
     "name": "stderr",
     "output_type": "stream",
     "text": [
      " 64%|██████▎   | 127/200 [02:05<01:09,  1.05it/s]"
     ]
    },
    {
     "name": "stdout",
     "output_type": "stream",
     "text": [
      "./../../../Figures/2023_STEM_AE/generator_images_Generator_of_Figure_4_e_f_vortex_walls/0127_maps.png\n",
      "./../../../Figures/2023_STEM_AE/generator_images_Generator_of_Figure_4_e_f_vortex_walls/0127_maps.svg\n"
     ]
    },
    {
     "name": "stderr",
     "output_type": "stream",
     "text": [
      " 64%|██████▍   | 128/200 [02:06<01:08,  1.05it/s]"
     ]
    },
    {
     "name": "stdout",
     "output_type": "stream",
     "text": [
      "./../../../Figures/2023_STEM_AE/generator_images_Generator_of_Figure_4_e_f_vortex_walls/0128_maps.png\n",
      "./../../../Figures/2023_STEM_AE/generator_images_Generator_of_Figure_4_e_f_vortex_walls/0128_maps.svg\n"
     ]
    },
    {
     "name": "stderr",
     "output_type": "stream",
     "text": [
      " 64%|██████▍   | 129/200 [02:07<01:08,  1.04it/s]"
     ]
    },
    {
     "name": "stdout",
     "output_type": "stream",
     "text": [
      "./../../../Figures/2023_STEM_AE/generator_images_Generator_of_Figure_4_e_f_vortex_walls/0129_maps.png\n",
      "./../../../Figures/2023_STEM_AE/generator_images_Generator_of_Figure_4_e_f_vortex_walls/0129_maps.svg\n"
     ]
    },
    {
     "name": "stderr",
     "output_type": "stream",
     "text": [
      " 65%|██████▌   | 130/200 [02:08<01:07,  1.04it/s]"
     ]
    },
    {
     "name": "stdout",
     "output_type": "stream",
     "text": [
      "./../../../Figures/2023_STEM_AE/generator_images_Generator_of_Figure_4_e_f_vortex_walls/0130_maps.png\n",
      "./../../../Figures/2023_STEM_AE/generator_images_Generator_of_Figure_4_e_f_vortex_walls/0130_maps.svg\n"
     ]
    },
    {
     "name": "stderr",
     "output_type": "stream",
     "text": [
      " 66%|██████▌   | 131/200 [02:09<01:06,  1.04it/s]"
     ]
    },
    {
     "name": "stdout",
     "output_type": "stream",
     "text": [
      "./../../../Figures/2023_STEM_AE/generator_images_Generator_of_Figure_4_e_f_vortex_walls/0131_maps.png\n",
      "./../../../Figures/2023_STEM_AE/generator_images_Generator_of_Figure_4_e_f_vortex_walls/0131_maps.svg\n"
     ]
    },
    {
     "name": "stderr",
     "output_type": "stream",
     "text": [
      " 66%|██████▌   | 132/200 [02:10<01:05,  1.04it/s]"
     ]
    },
    {
     "name": "stdout",
     "output_type": "stream",
     "text": [
      "./../../../Figures/2023_STEM_AE/generator_images_Generator_of_Figure_4_e_f_vortex_walls/0132_maps.png\n",
      "./../../../Figures/2023_STEM_AE/generator_images_Generator_of_Figure_4_e_f_vortex_walls/0132_maps.svg\n"
     ]
    },
    {
     "name": "stderr",
     "output_type": "stream",
     "text": [
      " 66%|██████▋   | 133/200 [02:11<01:04,  1.04it/s]"
     ]
    },
    {
     "name": "stdout",
     "output_type": "stream",
     "text": [
      "./../../../Figures/2023_STEM_AE/generator_images_Generator_of_Figure_4_e_f_vortex_walls/0133_maps.png\n",
      "./../../../Figures/2023_STEM_AE/generator_images_Generator_of_Figure_4_e_f_vortex_walls/0133_maps.svg\n"
     ]
    },
    {
     "name": "stderr",
     "output_type": "stream",
     "text": [
      " 67%|██████▋   | 134/200 [02:12<01:03,  1.04it/s]"
     ]
    },
    {
     "name": "stdout",
     "output_type": "stream",
     "text": [
      "./../../../Figures/2023_STEM_AE/generator_images_Generator_of_Figure_4_e_f_vortex_walls/0134_maps.png\n",
      "./../../../Figures/2023_STEM_AE/generator_images_Generator_of_Figure_4_e_f_vortex_walls/0134_maps.svg\n"
     ]
    },
    {
     "name": "stderr",
     "output_type": "stream",
     "text": [
      " 68%|██████▊   | 135/200 [02:13<01:02,  1.05it/s]"
     ]
    },
    {
     "name": "stdout",
     "output_type": "stream",
     "text": [
      "./../../../Figures/2023_STEM_AE/generator_images_Generator_of_Figure_4_e_f_vortex_walls/0135_maps.png\n",
      "./../../../Figures/2023_STEM_AE/generator_images_Generator_of_Figure_4_e_f_vortex_walls/0135_maps.svg\n"
     ]
    },
    {
     "name": "stderr",
     "output_type": "stream",
     "text": [
      " 68%|██████▊   | 136/200 [02:14<01:01,  1.05it/s]"
     ]
    },
    {
     "name": "stdout",
     "output_type": "stream",
     "text": [
      "./../../../Figures/2023_STEM_AE/generator_images_Generator_of_Figure_4_e_f_vortex_walls/0136_maps.png\n",
      "./../../../Figures/2023_STEM_AE/generator_images_Generator_of_Figure_4_e_f_vortex_walls/0136_maps.svg\n"
     ]
    },
    {
     "name": "stderr",
     "output_type": "stream",
     "text": [
      " 68%|██████▊   | 137/200 [02:15<01:00,  1.05it/s]"
     ]
    },
    {
     "name": "stdout",
     "output_type": "stream",
     "text": [
      "./../../../Figures/2023_STEM_AE/generator_images_Generator_of_Figure_4_e_f_vortex_walls/0137_maps.png\n",
      "./../../../Figures/2023_STEM_AE/generator_images_Generator_of_Figure_4_e_f_vortex_walls/0137_maps.svg\n"
     ]
    },
    {
     "name": "stderr",
     "output_type": "stream",
     "text": [
      " 69%|██████▉   | 138/200 [02:16<01:11,  1.16s/it]"
     ]
    },
    {
     "name": "stdout",
     "output_type": "stream",
     "text": [
      "./../../../Figures/2023_STEM_AE/generator_images_Generator_of_Figure_4_e_f_vortex_walls/0138_maps.png\n",
      "./../../../Figures/2023_STEM_AE/generator_images_Generator_of_Figure_4_e_f_vortex_walls/0138_maps.svg\n"
     ]
    },
    {
     "name": "stderr",
     "output_type": "stream",
     "text": [
      " 70%|██████▉   | 139/200 [02:17<01:06,  1.10s/it]"
     ]
    },
    {
     "name": "stdout",
     "output_type": "stream",
     "text": [
      "./../../../Figures/2023_STEM_AE/generator_images_Generator_of_Figure_4_e_f_vortex_walls/0139_maps.png\n",
      "./../../../Figures/2023_STEM_AE/generator_images_Generator_of_Figure_4_e_f_vortex_walls/0139_maps.svg\n"
     ]
    },
    {
     "name": "stderr",
     "output_type": "stream",
     "text": [
      " 70%|███████   | 140/200 [02:18<01:03,  1.05s/it]"
     ]
    },
    {
     "name": "stdout",
     "output_type": "stream",
     "text": [
      "./../../../Figures/2023_STEM_AE/generator_images_Generator_of_Figure_4_e_f_vortex_walls/0140_maps.png\n",
      "./../../../Figures/2023_STEM_AE/generator_images_Generator_of_Figure_4_e_f_vortex_walls/0140_maps.svg\n"
     ]
    },
    {
     "name": "stderr",
     "output_type": "stream",
     "text": [
      " 70%|███████   | 141/200 [02:19<01:00,  1.02s/it]"
     ]
    },
    {
     "name": "stdout",
     "output_type": "stream",
     "text": [
      "./../../../Figures/2023_STEM_AE/generator_images_Generator_of_Figure_4_e_f_vortex_walls/0141_maps.png\n",
      "./../../../Figures/2023_STEM_AE/generator_images_Generator_of_Figure_4_e_f_vortex_walls/0141_maps.svg\n"
     ]
    },
    {
     "name": "stderr",
     "output_type": "stream",
     "text": [
      " 71%|███████   | 142/200 [02:20<00:58,  1.00s/it]"
     ]
    },
    {
     "name": "stdout",
     "output_type": "stream",
     "text": [
      "./../../../Figures/2023_STEM_AE/generator_images_Generator_of_Figure_4_e_f_vortex_walls/0142_maps.png\n",
      "./../../../Figures/2023_STEM_AE/generator_images_Generator_of_Figure_4_e_f_vortex_walls/0142_maps.svg\n"
     ]
    },
    {
     "name": "stderr",
     "output_type": "stream",
     "text": [
      " 72%|███████▏  | 143/200 [02:21<00:56,  1.01it/s]"
     ]
    },
    {
     "name": "stdout",
     "output_type": "stream",
     "text": [
      "./../../../Figures/2023_STEM_AE/generator_images_Generator_of_Figure_4_e_f_vortex_walls/0143_maps.png\n",
      "./../../../Figures/2023_STEM_AE/generator_images_Generator_of_Figure_4_e_f_vortex_walls/0143_maps.svg\n"
     ]
    },
    {
     "name": "stderr",
     "output_type": "stream",
     "text": [
      " 72%|███████▏  | 144/200 [02:22<00:54,  1.02it/s]"
     ]
    },
    {
     "name": "stdout",
     "output_type": "stream",
     "text": [
      "./../../../Figures/2023_STEM_AE/generator_images_Generator_of_Figure_4_e_f_vortex_walls/0144_maps.png\n",
      "./../../../Figures/2023_STEM_AE/generator_images_Generator_of_Figure_4_e_f_vortex_walls/0144_maps.svg\n"
     ]
    },
    {
     "name": "stderr",
     "output_type": "stream",
     "text": [
      " 72%|███████▎  | 145/200 [02:23<00:53,  1.03it/s]"
     ]
    },
    {
     "name": "stdout",
     "output_type": "stream",
     "text": [
      "./../../../Figures/2023_STEM_AE/generator_images_Generator_of_Figure_4_e_f_vortex_walls/0145_maps.png\n",
      "./../../../Figures/2023_STEM_AE/generator_images_Generator_of_Figure_4_e_f_vortex_walls/0145_maps.svg\n"
     ]
    },
    {
     "name": "stderr",
     "output_type": "stream",
     "text": [
      " 73%|███████▎  | 146/200 [02:24<00:52,  1.03it/s]"
     ]
    },
    {
     "name": "stdout",
     "output_type": "stream",
     "text": [
      "./../../../Figures/2023_STEM_AE/generator_images_Generator_of_Figure_4_e_f_vortex_walls/0146_maps.png\n",
      "./../../../Figures/2023_STEM_AE/generator_images_Generator_of_Figure_4_e_f_vortex_walls/0146_maps.svg\n"
     ]
    },
    {
     "name": "stderr",
     "output_type": "stream",
     "text": [
      " 74%|███████▎  | 147/200 [02:25<00:51,  1.04it/s]"
     ]
    },
    {
     "name": "stdout",
     "output_type": "stream",
     "text": [
      "./../../../Figures/2023_STEM_AE/generator_images_Generator_of_Figure_4_e_f_vortex_walls/0147_maps.png\n",
      "./../../../Figures/2023_STEM_AE/generator_images_Generator_of_Figure_4_e_f_vortex_walls/0147_maps.svg\n"
     ]
    },
    {
     "name": "stderr",
     "output_type": "stream",
     "text": [
      " 74%|███████▍  | 148/200 [02:26<00:49,  1.04it/s]"
     ]
    },
    {
     "name": "stdout",
     "output_type": "stream",
     "text": [
      "./../../../Figures/2023_STEM_AE/generator_images_Generator_of_Figure_4_e_f_vortex_walls/0148_maps.png\n",
      "./../../../Figures/2023_STEM_AE/generator_images_Generator_of_Figure_4_e_f_vortex_walls/0148_maps.svg\n"
     ]
    },
    {
     "name": "stderr",
     "output_type": "stream",
     "text": [
      " 74%|███████▍  | 149/200 [02:27<00:48,  1.04it/s]"
     ]
    },
    {
     "name": "stdout",
     "output_type": "stream",
     "text": [
      "./../../../Figures/2023_STEM_AE/generator_images_Generator_of_Figure_4_e_f_vortex_walls/0149_maps.png\n",
      "./../../../Figures/2023_STEM_AE/generator_images_Generator_of_Figure_4_e_f_vortex_walls/0149_maps.svg\n"
     ]
    },
    {
     "name": "stderr",
     "output_type": "stream",
     "text": [
      " 75%|███████▌  | 150/200 [02:28<00:47,  1.04it/s]"
     ]
    },
    {
     "name": "stdout",
     "output_type": "stream",
     "text": [
      "./../../../Figures/2023_STEM_AE/generator_images_Generator_of_Figure_4_e_f_vortex_walls/0150_maps.png\n",
      "./../../../Figures/2023_STEM_AE/generator_images_Generator_of_Figure_4_e_f_vortex_walls/0150_maps.svg\n"
     ]
    },
    {
     "name": "stderr",
     "output_type": "stream",
     "text": [
      " 76%|███████▌  | 151/200 [02:29<00:46,  1.05it/s]"
     ]
    },
    {
     "name": "stdout",
     "output_type": "stream",
     "text": [
      "./../../../Figures/2023_STEM_AE/generator_images_Generator_of_Figure_4_e_f_vortex_walls/0151_maps.png\n",
      "./../../../Figures/2023_STEM_AE/generator_images_Generator_of_Figure_4_e_f_vortex_walls/0151_maps.svg\n"
     ]
    },
    {
     "name": "stderr",
     "output_type": "stream",
     "text": [
      " 76%|███████▌  | 152/200 [02:30<00:45,  1.05it/s]"
     ]
    },
    {
     "name": "stdout",
     "output_type": "stream",
     "text": [
      "./../../../Figures/2023_STEM_AE/generator_images_Generator_of_Figure_4_e_f_vortex_walls/0152_maps.png\n",
      "./../../../Figures/2023_STEM_AE/generator_images_Generator_of_Figure_4_e_f_vortex_walls/0152_maps.svg\n"
     ]
    },
    {
     "name": "stderr",
     "output_type": "stream",
     "text": [
      " 76%|███████▋  | 153/200 [02:31<00:44,  1.05it/s]"
     ]
    },
    {
     "name": "stdout",
     "output_type": "stream",
     "text": [
      "./../../../Figures/2023_STEM_AE/generator_images_Generator_of_Figure_4_e_f_vortex_walls/0153_maps.png\n",
      "./../../../Figures/2023_STEM_AE/generator_images_Generator_of_Figure_4_e_f_vortex_walls/0153_maps.svg\n"
     ]
    },
    {
     "name": "stderr",
     "output_type": "stream",
     "text": [
      " 77%|███████▋  | 154/200 [02:32<00:43,  1.05it/s]"
     ]
    },
    {
     "name": "stdout",
     "output_type": "stream",
     "text": [
      "./../../../Figures/2023_STEM_AE/generator_images_Generator_of_Figure_4_e_f_vortex_walls/0154_maps.png\n",
      "./../../../Figures/2023_STEM_AE/generator_images_Generator_of_Figure_4_e_f_vortex_walls/0154_maps.svg\n"
     ]
    },
    {
     "name": "stderr",
     "output_type": "stream",
     "text": [
      " 78%|███████▊  | 155/200 [02:33<00:42,  1.05it/s]"
     ]
    },
    {
     "name": "stdout",
     "output_type": "stream",
     "text": [
      "./../../../Figures/2023_STEM_AE/generator_images_Generator_of_Figure_4_e_f_vortex_walls/0155_maps.png\n",
      "./../../../Figures/2023_STEM_AE/generator_images_Generator_of_Figure_4_e_f_vortex_walls/0155_maps.svg\n"
     ]
    },
    {
     "name": "stderr",
     "output_type": "stream",
     "text": [
      " 78%|███████▊  | 156/200 [02:34<00:41,  1.05it/s]"
     ]
    },
    {
     "name": "stdout",
     "output_type": "stream",
     "text": [
      "./../../../Figures/2023_STEM_AE/generator_images_Generator_of_Figure_4_e_f_vortex_walls/0156_maps.png\n",
      "./../../../Figures/2023_STEM_AE/generator_images_Generator_of_Figure_4_e_f_vortex_walls/0156_maps.svg\n"
     ]
    },
    {
     "name": "stderr",
     "output_type": "stream",
     "text": [
      " 78%|███████▊  | 157/200 [02:35<00:40,  1.05it/s]"
     ]
    },
    {
     "name": "stdout",
     "output_type": "stream",
     "text": [
      "./../../../Figures/2023_STEM_AE/generator_images_Generator_of_Figure_4_e_f_vortex_walls/0157_maps.png\n",
      "./../../../Figures/2023_STEM_AE/generator_images_Generator_of_Figure_4_e_f_vortex_walls/0157_maps.svg\n"
     ]
    },
    {
     "name": "stderr",
     "output_type": "stream",
     "text": [
      " 79%|███████▉  | 158/200 [02:36<00:40,  1.05it/s]"
     ]
    },
    {
     "name": "stdout",
     "output_type": "stream",
     "text": [
      "./../../../Figures/2023_STEM_AE/generator_images_Generator_of_Figure_4_e_f_vortex_walls/0158_maps.png\n",
      "./../../../Figures/2023_STEM_AE/generator_images_Generator_of_Figure_4_e_f_vortex_walls/0158_maps.svg\n"
     ]
    },
    {
     "name": "stderr",
     "output_type": "stream",
     "text": [
      " 80%|███████▉  | 159/200 [02:37<00:39,  1.05it/s]"
     ]
    },
    {
     "name": "stdout",
     "output_type": "stream",
     "text": [
      "./../../../Figures/2023_STEM_AE/generator_images_Generator_of_Figure_4_e_f_vortex_walls/0159_maps.png\n",
      "./../../../Figures/2023_STEM_AE/generator_images_Generator_of_Figure_4_e_f_vortex_walls/0159_maps.svg\n"
     ]
    },
    {
     "name": "stderr",
     "output_type": "stream",
     "text": [
      " 80%|████████  | 160/200 [02:37<00:38,  1.05it/s]"
     ]
    },
    {
     "name": "stdout",
     "output_type": "stream",
     "text": [
      "./../../../Figures/2023_STEM_AE/generator_images_Generator_of_Figure_4_e_f_vortex_walls/0160_maps.png\n",
      "./../../../Figures/2023_STEM_AE/generator_images_Generator_of_Figure_4_e_f_vortex_walls/0160_maps.svg\n"
     ]
    },
    {
     "name": "stderr",
     "output_type": "stream",
     "text": [
      " 80%|████████  | 161/200 [02:38<00:37,  1.05it/s]"
     ]
    },
    {
     "name": "stdout",
     "output_type": "stream",
     "text": [
      "./../../../Figures/2023_STEM_AE/generator_images_Generator_of_Figure_4_e_f_vortex_walls/0161_maps.png\n",
      "./../../../Figures/2023_STEM_AE/generator_images_Generator_of_Figure_4_e_f_vortex_walls/0161_maps.svg\n"
     ]
    },
    {
     "name": "stderr",
     "output_type": "stream",
     "text": [
      " 81%|████████  | 162/200 [02:39<00:36,  1.05it/s]"
     ]
    },
    {
     "name": "stdout",
     "output_type": "stream",
     "text": [
      "./../../../Figures/2023_STEM_AE/generator_images_Generator_of_Figure_4_e_f_vortex_walls/0162_maps.png\n",
      "./../../../Figures/2023_STEM_AE/generator_images_Generator_of_Figure_4_e_f_vortex_walls/0162_maps.svg\n"
     ]
    },
    {
     "name": "stderr",
     "output_type": "stream",
     "text": [
      " 82%|████████▏ | 163/200 [02:40<00:35,  1.05it/s]"
     ]
    },
    {
     "name": "stdout",
     "output_type": "stream",
     "text": [
      "./../../../Figures/2023_STEM_AE/generator_images_Generator_of_Figure_4_e_f_vortex_walls/0163_maps.png\n",
      "./../../../Figures/2023_STEM_AE/generator_images_Generator_of_Figure_4_e_f_vortex_walls/0163_maps.svg\n"
     ]
    },
    {
     "name": "stderr",
     "output_type": "stream",
     "text": [
      " 82%|████████▏ | 164/200 [02:41<00:34,  1.05it/s]"
     ]
    },
    {
     "name": "stdout",
     "output_type": "stream",
     "text": [
      "./../../../Figures/2023_STEM_AE/generator_images_Generator_of_Figure_4_e_f_vortex_walls/0164_maps.png\n",
      "./../../../Figures/2023_STEM_AE/generator_images_Generator_of_Figure_4_e_f_vortex_walls/0164_maps.svg\n"
     ]
    },
    {
     "name": "stderr",
     "output_type": "stream",
     "text": [
      " 82%|████████▎ | 165/200 [02:42<00:33,  1.05it/s]"
     ]
    },
    {
     "name": "stdout",
     "output_type": "stream",
     "text": [
      "./../../../Figures/2023_STEM_AE/generator_images_Generator_of_Figure_4_e_f_vortex_walls/0165_maps.png\n",
      "./../../../Figures/2023_STEM_AE/generator_images_Generator_of_Figure_4_e_f_vortex_walls/0165_maps.svg\n"
     ]
    },
    {
     "name": "stderr",
     "output_type": "stream",
     "text": [
      " 83%|████████▎ | 166/200 [02:43<00:32,  1.05it/s]"
     ]
    },
    {
     "name": "stdout",
     "output_type": "stream",
     "text": [
      "./../../../Figures/2023_STEM_AE/generator_images_Generator_of_Figure_4_e_f_vortex_walls/0166_maps.png\n",
      "./../../../Figures/2023_STEM_AE/generator_images_Generator_of_Figure_4_e_f_vortex_walls/0166_maps.svg\n"
     ]
    },
    {
     "name": "stderr",
     "output_type": "stream",
     "text": [
      " 84%|████████▎ | 167/200 [02:44<00:31,  1.05it/s]"
     ]
    },
    {
     "name": "stdout",
     "output_type": "stream",
     "text": [
      "./../../../Figures/2023_STEM_AE/generator_images_Generator_of_Figure_4_e_f_vortex_walls/0167_maps.png\n",
      "./../../../Figures/2023_STEM_AE/generator_images_Generator_of_Figure_4_e_f_vortex_walls/0167_maps.svg\n"
     ]
    },
    {
     "name": "stderr",
     "output_type": "stream",
     "text": [
      " 84%|████████▍ | 168/200 [02:45<00:30,  1.05it/s]"
     ]
    },
    {
     "name": "stdout",
     "output_type": "stream",
     "text": [
      "./../../../Figures/2023_STEM_AE/generator_images_Generator_of_Figure_4_e_f_vortex_walls/0168_maps.png\n",
      "./../../../Figures/2023_STEM_AE/generator_images_Generator_of_Figure_4_e_f_vortex_walls/0168_maps.svg\n"
     ]
    },
    {
     "name": "stderr",
     "output_type": "stream",
     "text": [
      " 84%|████████▍ | 169/200 [02:46<00:29,  1.05it/s]"
     ]
    },
    {
     "name": "stdout",
     "output_type": "stream",
     "text": [
      "./../../../Figures/2023_STEM_AE/generator_images_Generator_of_Figure_4_e_f_vortex_walls/0169_maps.png\n",
      "./../../../Figures/2023_STEM_AE/generator_images_Generator_of_Figure_4_e_f_vortex_walls/0169_maps.svg\n"
     ]
    },
    {
     "name": "stderr",
     "output_type": "stream",
     "text": [
      " 85%|████████▌ | 170/200 [02:47<00:28,  1.05it/s]"
     ]
    },
    {
     "name": "stdout",
     "output_type": "stream",
     "text": [
      "./../../../Figures/2023_STEM_AE/generator_images_Generator_of_Figure_4_e_f_vortex_walls/0170_maps.png\n",
      "./../../../Figures/2023_STEM_AE/generator_images_Generator_of_Figure_4_e_f_vortex_walls/0170_maps.svg\n"
     ]
    },
    {
     "name": "stderr",
     "output_type": "stream",
     "text": [
      " 86%|████████▌ | 171/200 [02:48<00:27,  1.05it/s]"
     ]
    },
    {
     "name": "stdout",
     "output_type": "stream",
     "text": [
      "./../../../Figures/2023_STEM_AE/generator_images_Generator_of_Figure_4_e_f_vortex_walls/0171_maps.png\n",
      "./../../../Figures/2023_STEM_AE/generator_images_Generator_of_Figure_4_e_f_vortex_walls/0171_maps.svg\n"
     ]
    },
    {
     "name": "stderr",
     "output_type": "stream",
     "text": [
      " 86%|████████▌ | 172/200 [02:49<00:26,  1.05it/s]"
     ]
    },
    {
     "name": "stdout",
     "output_type": "stream",
     "text": [
      "./../../../Figures/2023_STEM_AE/generator_images_Generator_of_Figure_4_e_f_vortex_walls/0172_maps.png\n",
      "./../../../Figures/2023_STEM_AE/generator_images_Generator_of_Figure_4_e_f_vortex_walls/0172_maps.svg\n"
     ]
    },
    {
     "name": "stderr",
     "output_type": "stream",
     "text": [
      " 86%|████████▋ | 173/200 [02:50<00:25,  1.05it/s]"
     ]
    },
    {
     "name": "stdout",
     "output_type": "stream",
     "text": [
      "./../../../Figures/2023_STEM_AE/generator_images_Generator_of_Figure_4_e_f_vortex_walls/0173_maps.png\n",
      "./../../../Figures/2023_STEM_AE/generator_images_Generator_of_Figure_4_e_f_vortex_walls/0173_maps.svg\n"
     ]
    },
    {
     "name": "stderr",
     "output_type": "stream",
     "text": [
      " 87%|████████▋ | 174/200 [02:51<00:24,  1.05it/s]"
     ]
    },
    {
     "name": "stdout",
     "output_type": "stream",
     "text": [
      "./../../../Figures/2023_STEM_AE/generator_images_Generator_of_Figure_4_e_f_vortex_walls/0174_maps.png\n",
      "./../../../Figures/2023_STEM_AE/generator_images_Generator_of_Figure_4_e_f_vortex_walls/0174_maps.svg\n"
     ]
    },
    {
     "name": "stderr",
     "output_type": "stream",
     "text": [
      " 88%|████████▊ | 175/200 [02:52<00:23,  1.05it/s]"
     ]
    },
    {
     "name": "stdout",
     "output_type": "stream",
     "text": [
      "./../../../Figures/2023_STEM_AE/generator_images_Generator_of_Figure_4_e_f_vortex_walls/0175_maps.png\n",
      "./../../../Figures/2023_STEM_AE/generator_images_Generator_of_Figure_4_e_f_vortex_walls/0175_maps.svg\n"
     ]
    },
    {
     "name": "stderr",
     "output_type": "stream",
     "text": [
      " 88%|████████▊ | 176/200 [02:53<00:22,  1.05it/s]"
     ]
    },
    {
     "name": "stdout",
     "output_type": "stream",
     "text": [
      "./../../../Figures/2023_STEM_AE/generator_images_Generator_of_Figure_4_e_f_vortex_walls/0176_maps.png\n",
      "./../../../Figures/2023_STEM_AE/generator_images_Generator_of_Figure_4_e_f_vortex_walls/0176_maps.svg\n"
     ]
    },
    {
     "name": "stderr",
     "output_type": "stream",
     "text": [
      " 88%|████████▊ | 177/200 [02:54<00:21,  1.05it/s]"
     ]
    },
    {
     "name": "stdout",
     "output_type": "stream",
     "text": [
      "./../../../Figures/2023_STEM_AE/generator_images_Generator_of_Figure_4_e_f_vortex_walls/0177_maps.png\n",
      "./../../../Figures/2023_STEM_AE/generator_images_Generator_of_Figure_4_e_f_vortex_walls/0177_maps.svg\n"
     ]
    },
    {
     "name": "stderr",
     "output_type": "stream",
     "text": [
      " 89%|████████▉ | 178/200 [02:55<00:20,  1.05it/s]"
     ]
    },
    {
     "name": "stdout",
     "output_type": "stream",
     "text": [
      "./../../../Figures/2023_STEM_AE/generator_images_Generator_of_Figure_4_e_f_vortex_walls/0178_maps.png\n",
      "./../../../Figures/2023_STEM_AE/generator_images_Generator_of_Figure_4_e_f_vortex_walls/0178_maps.svg\n"
     ]
    },
    {
     "name": "stderr",
     "output_type": "stream",
     "text": [
      " 90%|████████▉ | 179/200 [02:56<00:20,  1.05it/s]"
     ]
    },
    {
     "name": "stdout",
     "output_type": "stream",
     "text": [
      "./../../../Figures/2023_STEM_AE/generator_images_Generator_of_Figure_4_e_f_vortex_walls/0179_maps.png\n",
      "./../../../Figures/2023_STEM_AE/generator_images_Generator_of_Figure_4_e_f_vortex_walls/0179_maps.svg\n"
     ]
    },
    {
     "name": "stderr",
     "output_type": "stream",
     "text": [
      " 90%|█████████ | 180/200 [02:57<00:24,  1.20s/it]"
     ]
    },
    {
     "name": "stdout",
     "output_type": "stream",
     "text": [
      "./../../../Figures/2023_STEM_AE/generator_images_Generator_of_Figure_4_e_f_vortex_walls/0180_maps.png\n",
      "./../../../Figures/2023_STEM_AE/generator_images_Generator_of_Figure_4_e_f_vortex_walls/0180_maps.svg\n"
     ]
    },
    {
     "name": "stderr",
     "output_type": "stream",
     "text": [
      " 90%|█████████ | 181/200 [02:58<00:21,  1.13s/it]"
     ]
    },
    {
     "name": "stdout",
     "output_type": "stream",
     "text": [
      "./../../../Figures/2023_STEM_AE/generator_images_Generator_of_Figure_4_e_f_vortex_walls/0181_maps.png\n",
      "./../../../Figures/2023_STEM_AE/generator_images_Generator_of_Figure_4_e_f_vortex_walls/0181_maps.svg\n"
     ]
    },
    {
     "name": "stderr",
     "output_type": "stream",
     "text": [
      " 91%|█████████ | 182/200 [02:59<00:19,  1.08s/it]"
     ]
    },
    {
     "name": "stdout",
     "output_type": "stream",
     "text": [
      "./../../../Figures/2023_STEM_AE/generator_images_Generator_of_Figure_4_e_f_vortex_walls/0182_maps.png\n",
      "./../../../Figures/2023_STEM_AE/generator_images_Generator_of_Figure_4_e_f_vortex_walls/0182_maps.svg\n"
     ]
    },
    {
     "name": "stderr",
     "output_type": "stream",
     "text": [
      " 92%|█████████▏| 183/200 [03:00<00:17,  1.04s/it]"
     ]
    },
    {
     "name": "stdout",
     "output_type": "stream",
     "text": [
      "./../../../Figures/2023_STEM_AE/generator_images_Generator_of_Figure_4_e_f_vortex_walls/0183_maps.png\n",
      "./../../../Figures/2023_STEM_AE/generator_images_Generator_of_Figure_4_e_f_vortex_walls/0183_maps.svg\n"
     ]
    },
    {
     "name": "stderr",
     "output_type": "stream",
     "text": [
      " 92%|█████████▏| 184/200 [03:01<00:16,  1.01s/it]"
     ]
    },
    {
     "name": "stdout",
     "output_type": "stream",
     "text": [
      "./../../../Figures/2023_STEM_AE/generator_images_Generator_of_Figure_4_e_f_vortex_walls/0184_maps.png\n",
      "./../../../Figures/2023_STEM_AE/generator_images_Generator_of_Figure_4_e_f_vortex_walls/0184_maps.svg\n"
     ]
    },
    {
     "name": "stderr",
     "output_type": "stream",
     "text": [
      " 92%|█████████▎| 185/200 [03:02<00:14,  1.00it/s]"
     ]
    },
    {
     "name": "stdout",
     "output_type": "stream",
     "text": [
      "./../../../Figures/2023_STEM_AE/generator_images_Generator_of_Figure_4_e_f_vortex_walls/0185_maps.png\n",
      "./../../../Figures/2023_STEM_AE/generator_images_Generator_of_Figure_4_e_f_vortex_walls/0185_maps.svg\n"
     ]
    },
    {
     "name": "stderr",
     "output_type": "stream",
     "text": [
      " 93%|█████████▎| 186/200 [03:03<00:13,  1.02it/s]"
     ]
    },
    {
     "name": "stdout",
     "output_type": "stream",
     "text": [
      "./../../../Figures/2023_STEM_AE/generator_images_Generator_of_Figure_4_e_f_vortex_walls/0186_maps.png\n",
      "./../../../Figures/2023_STEM_AE/generator_images_Generator_of_Figure_4_e_f_vortex_walls/0186_maps.svg\n"
     ]
    },
    {
     "name": "stderr",
     "output_type": "stream",
     "text": [
      " 94%|█████████▎| 187/200 [03:04<00:12,  1.03it/s]"
     ]
    },
    {
     "name": "stdout",
     "output_type": "stream",
     "text": [
      "./../../../Figures/2023_STEM_AE/generator_images_Generator_of_Figure_4_e_f_vortex_walls/0187_maps.png\n",
      "./../../../Figures/2023_STEM_AE/generator_images_Generator_of_Figure_4_e_f_vortex_walls/0187_maps.svg\n"
     ]
    },
    {
     "name": "stderr",
     "output_type": "stream",
     "text": [
      " 94%|█████████▍| 188/200 [03:05<00:11,  1.03it/s]"
     ]
    },
    {
     "name": "stdout",
     "output_type": "stream",
     "text": [
      "./../../../Figures/2023_STEM_AE/generator_images_Generator_of_Figure_4_e_f_vortex_walls/0188_maps.png\n",
      "./../../../Figures/2023_STEM_AE/generator_images_Generator_of_Figure_4_e_f_vortex_walls/0188_maps.svg\n"
     ]
    },
    {
     "name": "stderr",
     "output_type": "stream",
     "text": [
      " 94%|█████████▍| 189/200 [03:06<00:10,  1.04it/s]"
     ]
    },
    {
     "name": "stdout",
     "output_type": "stream",
     "text": [
      "./../../../Figures/2023_STEM_AE/generator_images_Generator_of_Figure_4_e_f_vortex_walls/0189_maps.png\n",
      "./../../../Figures/2023_STEM_AE/generator_images_Generator_of_Figure_4_e_f_vortex_walls/0189_maps.svg\n"
     ]
    },
    {
     "name": "stderr",
     "output_type": "stream",
     "text": [
      " 95%|█████████▌| 190/200 [03:07<00:09,  1.04it/s]"
     ]
    },
    {
     "name": "stdout",
     "output_type": "stream",
     "text": [
      "./../../../Figures/2023_STEM_AE/generator_images_Generator_of_Figure_4_e_f_vortex_walls/0190_maps.png\n",
      "./../../../Figures/2023_STEM_AE/generator_images_Generator_of_Figure_4_e_f_vortex_walls/0190_maps.svg\n"
     ]
    },
    {
     "name": "stderr",
     "output_type": "stream",
     "text": [
      " 96%|█████████▌| 191/200 [03:08<00:08,  1.04it/s]"
     ]
    },
    {
     "name": "stdout",
     "output_type": "stream",
     "text": [
      "./../../../Figures/2023_STEM_AE/generator_images_Generator_of_Figure_4_e_f_vortex_walls/0191_maps.png\n",
      "./../../../Figures/2023_STEM_AE/generator_images_Generator_of_Figure_4_e_f_vortex_walls/0191_maps.svg\n"
     ]
    },
    {
     "name": "stderr",
     "output_type": "stream",
     "text": [
      " 96%|█████████▌| 192/200 [03:09<00:07,  1.05it/s]"
     ]
    },
    {
     "name": "stdout",
     "output_type": "stream",
     "text": [
      "./../../../Figures/2023_STEM_AE/generator_images_Generator_of_Figure_4_e_f_vortex_walls/0192_maps.png\n",
      "./../../../Figures/2023_STEM_AE/generator_images_Generator_of_Figure_4_e_f_vortex_walls/0192_maps.svg\n"
     ]
    },
    {
     "name": "stderr",
     "output_type": "stream",
     "text": [
      " 96%|█████████▋| 193/200 [03:10<00:06,  1.05it/s]"
     ]
    },
    {
     "name": "stdout",
     "output_type": "stream",
     "text": [
      "./../../../Figures/2023_STEM_AE/generator_images_Generator_of_Figure_4_e_f_vortex_walls/0193_maps.png\n",
      "./../../../Figures/2023_STEM_AE/generator_images_Generator_of_Figure_4_e_f_vortex_walls/0193_maps.svg\n"
     ]
    },
    {
     "name": "stderr",
     "output_type": "stream",
     "text": [
      " 97%|█████████▋| 194/200 [03:11<00:05,  1.05it/s]"
     ]
    },
    {
     "name": "stdout",
     "output_type": "stream",
     "text": [
      "./../../../Figures/2023_STEM_AE/generator_images_Generator_of_Figure_4_e_f_vortex_walls/0194_maps.png\n",
      "./../../../Figures/2023_STEM_AE/generator_images_Generator_of_Figure_4_e_f_vortex_walls/0194_maps.svg\n"
     ]
    },
    {
     "name": "stderr",
     "output_type": "stream",
     "text": [
      " 98%|█████████▊| 195/200 [03:12<00:04,  1.05it/s]"
     ]
    },
    {
     "name": "stdout",
     "output_type": "stream",
     "text": [
      "./../../../Figures/2023_STEM_AE/generator_images_Generator_of_Figure_4_e_f_vortex_walls/0195_maps.png\n",
      "./../../../Figures/2023_STEM_AE/generator_images_Generator_of_Figure_4_e_f_vortex_walls/0195_maps.svg\n"
     ]
    },
    {
     "name": "stderr",
     "output_type": "stream",
     "text": [
      " 98%|█████████▊| 196/200 [03:13<00:03,  1.05it/s]"
     ]
    },
    {
     "name": "stdout",
     "output_type": "stream",
     "text": [
      "./../../../Figures/2023_STEM_AE/generator_images_Generator_of_Figure_4_e_f_vortex_walls/0196_maps.png\n",
      "./../../../Figures/2023_STEM_AE/generator_images_Generator_of_Figure_4_e_f_vortex_walls/0196_maps.svg\n"
     ]
    },
    {
     "name": "stderr",
     "output_type": "stream",
     "text": [
      " 98%|█████████▊| 197/200 [03:14<00:02,  1.05it/s]"
     ]
    },
    {
     "name": "stdout",
     "output_type": "stream",
     "text": [
      "./../../../Figures/2023_STEM_AE/generator_images_Generator_of_Figure_4_e_f_vortex_walls/0197_maps.png\n",
      "./../../../Figures/2023_STEM_AE/generator_images_Generator_of_Figure_4_e_f_vortex_walls/0197_maps.svg\n"
     ]
    },
    {
     "name": "stderr",
     "output_type": "stream",
     "text": [
      " 99%|█████████▉| 198/200 [03:15<00:01,  1.05it/s]"
     ]
    },
    {
     "name": "stdout",
     "output_type": "stream",
     "text": [
      "./../../../Figures/2023_STEM_AE/generator_images_Generator_of_Figure_4_e_f_vortex_walls/0198_maps.png\n",
      "./../../../Figures/2023_STEM_AE/generator_images_Generator_of_Figure_4_e_f_vortex_walls/0198_maps.svg\n"
     ]
    },
    {
     "name": "stderr",
     "output_type": "stream",
     "text": [
      "100%|█████████▉| 199/200 [03:15<00:00,  1.05it/s]"
     ]
    },
    {
     "name": "stdout",
     "output_type": "stream",
     "text": [
      "./../../../Figures/2023_STEM_AE/generator_images_Generator_of_Figure_4_e_f_vortex_walls/0199_maps.png\n",
      "./../../../Figures/2023_STEM_AE/generator_images_Generator_of_Figure_4_e_f_vortex_walls/0199_maps.svg\n"
     ]
    },
    {
     "name": "stderr",
     "output_type": "stream",
     "text": [
      "100%|██████████| 200/200 [03:16<00:00,  1.02it/s]\n"
     ]
    }
   ],
   "source": [
    "model.embedding = embedding\n",
    "viz.model = model\n",
    "viz.channels = [0, 2]\n",
    "ranges = [[0, 0.025], [0, 0.04]]\n",
    "folder_name = \"Generator_of_Figure_4_e_f_vortex_walls\"\n",
    "\n",
    "viz.generator_images(\n",
    "    ranges=ranges,\n",
    "    folder_name=folder_name,\n",
    "    figsize=(5, 1.25),\n",
    "    cbar_number_format=\"%d\",\n",
    "    shape_=vortex.data.shape,\n",
    "    divider_=False,\n",
    ")"
   ]
  },
  {
   "attachments": {},
   "cell_type": "markdown",
   "metadata": {},
   "source": [
    "### Builds a Movie\n"
   ]
  },
  {
   "cell_type": "code",
   "execution_count": null,
   "metadata": {},
   "outputs": [],
   "source": [
    "folder = f\"{fig_path}/generator_images_Generator_of_Figure_4_e_f_vortex_walls/\"\n",
    "output_folder = \"./movies/\"\n",
    "\n",
    "# function to make the movie\n",
    "make_movie(\"Vortex Wall Generator\", folder, output_folder, \"png\", 3)"
   ]
  },
  {
   "cell_type": "code",
   "execution_count": null,
   "metadata": {},
   "outputs": [],
   "source": []
  }
 ],
 "metadata": {
  "kernelspec": {
   "display_name": "rapidfitting",
   "language": "python",
   "name": "python3"
  },
  "language_info": {
   "codemirror_mode": {
    "name": "ipython",
    "version": 3
   },
   "file_extension": ".py",
   "mimetype": "text/x-python",
   "name": "python",
   "nbconvert_exporter": "python",
   "pygments_lexer": "ipython3",
   "version": "3.11.4"
  },
  "orig_nbformat": 4
 },
 "nbformat": 4,
 "nbformat_minor": 2
}
