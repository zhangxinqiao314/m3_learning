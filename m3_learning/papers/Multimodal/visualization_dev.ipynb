{
 "cells": [
  {
   "cell_type": "code",
   "execution_count": 190,
   "metadata": {},
   "outputs": [
    {
     "name": "stdout",
     "output_type": "stream",
     "text": [
      "The autoreload extension is already loaded. To reload it, use:\n",
      "  %reload_ext autoreload\n"
     ]
    }
   ],
   "source": [
    "%load_ext autoreload\n",
    "%autoreload 2\n",
    "import glob\n",
    "import numpy as np\n",
    "import matplotlib.pyplot as plt\n",
    "\n",
    "import hyperspy.api as hs\n",
    "from dask.distributed import Client"
   ]
  },
  {
   "cell_type": "code",
   "execution_count": 120,
   "metadata": {},
   "outputs": [],
   "source": [
    "save_path='/home/m3learning/Northwestern/Northwestern_link/Northwestern_Multimodal'\n",
    "eels_ll_list = glob.glob(f'{save_path}/TRI*/eels*/EELS LL SI.dm4')\n",
    "eels_hl_list = glob.glob(f'{save_path}/TRI*/eels*/EELS HL SI.dm4')\n",
    "eels_ll_list.sort(),eels_hl_list.sort();\n"
   ]
  },
  {
   "cell_type": "code",
   "execution_count": 121,
   "metadata": {},
   "outputs": [],
   "source": [
    "lpath,hpath = eels_ll_list[:5], eels_hl_list[:5]\n",
    "ll_spectrum = hs.load(lpath[:5],lazy=True)\n",
    "hl_spectrum = hs.load(hpath[:5],lazy=True)"
   ]
  },
  {
   "cell_type": "code",
   "execution_count": 122,
   "metadata": {},
   "outputs": [
    {
     "data": {
      "text/plain": [
       "([<LazyEELSSpectrum, title: EELS LL SI, dimensions: (140, 140|1024)>,\n",
       "  <LazyEELSSpectrum, title: EELS LL SI, dimensions: (140, 140|1024)>,\n",
       "  <LazyEELSSpectrum, title: EELS LL SI, dimensions: (140, 140|1024)>,\n",
       "  <LazyEELSSpectrum, title: EELS LL SI, dimensions: (140, 140|1024)>,\n",
       "  <LazyEELSSpectrum, title: EELS LL SI, dimensions: (140, 140|1024)>],\n",
       " [<LazyEELSSpectrum, title: EELS HL SI, dimensions: (140, 140|1024)>,\n",
       "  <LazyEELSSpectrum, title: EELS HL SI, dimensions: (140, 140|1024)>,\n",
       "  <LazyEELSSpectrum, title: EELS HL SI, dimensions: (140, 140|1024)>,\n",
       "  <LazyEELSSpectrum, title: EELS HL SI, dimensions: (140, 140|1024)>,\n",
       "  <LazyEELSSpectrum, title: EELS HL SI, dimensions: (140, 140|1024)>])"
      ]
     },
     "execution_count": 122,
     "metadata": {},
     "output_type": "execute_result"
    }
   ],
   "source": [
    "ll_spectrum,hl_spectrum"
   ]
  },
  {
   "cell_type": "code",
   "execution_count": 123,
   "metadata": {},
   "outputs": [],
   "source": [
    "# Try 0-peak alignment in parallel: over 1 min\n",
    "# from concurrent.futures import ThreadPoolExecutor, as_completed\n",
    "\n",
    "# def align_spectrum(ll,hl):\n",
    "#     try:\n",
    "#         ll.compute()\n",
    "#         hl.compute()\n",
    "#     except: pass\n",
    "#     ll.align_zero_loss_peak(calibrate=True, also_align=[hl])\n",
    "    \n",
    "# with ThreadPoolExecutor() as executor:\n",
    "#     futures = [executor.submit(align_spectrum, ll_spectrum[i], hl_spectrum[i]) for i in range(len(ll_spectrum))]\n",
    "#     for future in as_completed(futures):\n",
    "#         ll, hl = future.result()\n",
    "#         print(f'Aligned spectra: {ll}, {hl}')\n"
   ]
  },
  {
   "cell_type": "code",
   "execution_count": 124,
   "metadata": {},
   "outputs": [
    {
     "name": "stdout",
     "output_type": "stream",
     "text": [
      "[########################################] | 100% Completed | 103.63 ms\n",
      "[########################################] | 100% Completed | 103.35 ms\n",
      "Initial ZLP position statistics\n",
      "-------------------------------\n",
      "Summary statistics\n",
      "------------------\n",
      "mean:\t-2.8\n",
      "std:\t0.143\n",
      "\n",
      "min:\t-3.3\n",
      "Q1:\t-3\n",
      "median:\t-2.7\n",
      "Q3:\t-2.7\n",
      "max:\t-2.4\n",
      "[########################################] | 100% Completed | 2.73 ss\n",
      "[########################################] | 100% Completed | 2.73 ss\n",
      "[########################################] | 100% Completed | 3.28 ss\n",
      "[########################################] | 100% Completed | 2.35 sms\n",
      "[########################################] | 100% Completed | 2.34 sms\n",
      "[########################################] | 100% Completed | 103.07 ms\n",
      "[########################################] | 100% Completed | 104.17 ms\n",
      "Initial ZLP position statistics\n",
      "-------------------------------\n",
      "Summary statistics\n",
      "------------------\n",
      "mean:\t-4.57\n",
      "std:\t0.203\n",
      "\n",
      "min:\t-5.1\n",
      "Q1:\t-4.8\n",
      "median:\t-4.5\n",
      "Q3:\t-4.5\n",
      "max:\t-4.2\n",
      "[########################################] | 100% Completed | 2.73 ss\n",
      "[########################################] | 100% Completed | 2.73 ss\n",
      "[########################################] | 100% Completed | 3.20 ss\n",
      "[########################################] | 100% Completed | 1.73 sms\n",
      "[########################################] | 100% Completed | 1.73 sms\n",
      "[########################################] | 100% Completed | 103.21 ms\n",
      "[########################################] | 100% Completed | 102.69 ms\n",
      "Initial ZLP position statistics\n",
      "-------------------------------\n",
      "Summary statistics\n",
      "------------------\n",
      "mean:\t-5.66\n",
      "std:\t0.187\n",
      "\n",
      "min:\t-6\n",
      "Q1:\t-5.7\n",
      "median:\t-5.7\n",
      "Q3:\t-5.4\n",
      "max:\t-5.1\n",
      "[########################################] | 100% Completed | 2.73 ss\n",
      "[########################################] | 100% Completed | 2.74 ss\n",
      "[########################################] | 100% Completed | 7.79 ss\n",
      "[########################################] | 100% Completed | 1.84 sms\n",
      "[########################################] | 100% Completed | 1.83 sms\n",
      "[########################################] | 100% Completed | 103.43 ms\n",
      "[########################################] | 100% Completed | 103.13 ms\n",
      "Initial ZLP position statistics\n",
      "-------------------------------\n",
      "Summary statistics\n",
      "------------------\n",
      "mean:\t-7.18\n",
      "std:\t0.157\n",
      "\n",
      "min:\t-7.8\n",
      "Q1:\t-7.2\n",
      "median:\t-7.2\n",
      "Q3:\t-7.2\n",
      "max:\t-6.6\n",
      "[########################################] | 100% Completed | 2.74 ss\n",
      "[########################################] | 100% Completed | 2.74 ss\n",
      "[########################################] | 100% Completed | 3.12 ss\n",
      "[########################################] | 100% Completed | 1.83 sms\n",
      "[########################################] | 100% Completed | 1.83 sms\n",
      "[########################################] | 100% Completed | 102.75 ms\n",
      "[########################################] | 100% Completed | 103.59 ms\n",
      "Initial ZLP position statistics\n",
      "-------------------------------\n",
      "Summary statistics\n",
      "------------------\n",
      "mean:\t-8.13\n",
      "std:\t0.155\n",
      "\n",
      "min:\t-8.7\n",
      "Q1:\t-8.1\n",
      "median:\t-8.1\n",
      "Q3:\t-8.1\n",
      "max:\t-7.5\n",
      "[########################################] | 100% Completed | 2.74 ss\n",
      "[########################################] | 100% Completed | 2.73 ss\n",
      "[########################################] | 100% Completed | 4.01 ss\n",
      "[########################################] | 100% Completed | 2.45 sms\n",
      "[########################################] | 100% Completed | 2.45 sms\n"
     ]
    }
   ],
   "source": [
    "for i in range(len(ll_spectrum)):\n",
    "    try:\n",
    "        ll_spectrum[i].compute()\n",
    "        hl_spectrum[i].compute()\n",
    "    except: pass\n",
    "    ll_spectrum[i].align_zero_loss_peak(calibrate=True, also_align=[hl_spectrum[i]], expand=False)"
   ]
  },
  {
   "cell_type": "code",
   "execution_count": 125,
   "metadata": {},
   "outputs": [
    {
     "data": {
      "text/plain": [
       "([<EELSSpectrum, title: EELS LL SI, dimensions: (140, 140|1017)>,\n",
       "  <EELSSpectrum, title: EELS LL SI, dimensions: (140, 140|1018)>,\n",
       "  <EELSSpectrum, title: EELS LL SI, dimensions: (140, 140|1017)>,\n",
       "  <EELSSpectrum, title: EELS LL SI, dimensions: (140, 140|1015)>,\n",
       "  <EELSSpectrum, title: EELS LL SI, dimensions: (140, 140|1015)>],\n",
       " [<EELSSpectrum, title: EELS HL SI, dimensions: (140, 140|1017)>,\n",
       "  <EELSSpectrum, title: EELS HL SI, dimensions: (140, 140|1018)>,\n",
       "  <EELSSpectrum, title: EELS HL SI, dimensions: (140, 140|1017)>,\n",
       "  <EELSSpectrum, title: EELS HL SI, dimensions: (140, 140|1015)>,\n",
       "  <EELSSpectrum, title: EELS HL SI, dimensions: (140, 140|1015)>])"
      ]
     },
     "execution_count": 125,
     "metadata": {},
     "output_type": "execute_result"
    }
   ],
   "source": [
    "ll_spectrum,hl_spectrum"
   ]
  },
  {
   "cell_type": "code",
   "execution_count": 126,
   "metadata": {},
   "outputs": [],
   "source": [
    "# Extract the x-axis (energy) values\n",
    "axes = [ll.axes_manager['Energy loss'].axis for ll in ll_spectrum]\n",
    "\n",
    "# Find the global minimum and maximum energy values for the intersection\n",
    "min_energy = max(axis[0] for axis in axes)\n",
    "max_energy = min(axis[-1] for axis in axes)\n",
    "\n",
    "# Generate the common axis\n",
    "common_axis = np.arange(min_energy, max_energy, ll_spectrum[0].axes_manager['Energy loss'].scale)"
   ]
  },
  {
   "cell_type": "code",
   "execution_count": 130,
   "metadata": {},
   "outputs": [
    {
     "data": {
      "text/plain": [
       "(140, 140, 1017)"
      ]
     },
     "execution_count": 130,
     "metadata": {},
     "output_type": "execute_result"
    }
   ],
   "source": [
    "ll_spectrum[0].data.shape"
   ]
  },
  {
   "cell_type": "code",
   "execution_count": 154,
   "metadata": {},
   "outputs": [],
   "source": [
    "import hyperspy.api as hs\n",
    "import numpy as np\n",
    "\n",
    "# Function to interpolate spectrum to the common energy axis\n",
    "def interpolate_spectrum_to_common_axis(spectrum, common_axis):\n",
    "    energy_axis = spectrum.axes_manager['Energy loss'].axis\n",
    "    \n",
    "    interpolated_data = np.array([\n",
    "        np.interp(common_axis, energy_axis, spectrum.data[i, j, :])\n",
    "        for i in range(spectrum.data.shape[0])\n",
    "        for j in range(spectrum.data.shape[1])\n",
    "    ]).reshape(spectrum.data.shape[0], spectrum.data.shape[1], len(common_axis))\n",
    "\n",
    "    # Create a new EELSSpectrum with the interpolated data\n",
    "    interpolated_spectrum = hs.signals.EELSSpectrum(interpolated_data)\n",
    "\n",
    "    # Copy the metadata from the original spectrum\n",
    "    interpolated_spectrum.metadata = spectrum.metadata.deepcopy()\n",
    "\n",
    "    # Manually copy the original axes properties\n",
    "    for i,axis in enumerate(spectrum.axes_manager.navigation_axes):\n",
    "        new_axis = interpolated_spectrum.axes_manager.navigation_axes[i]\n",
    "        new_axis.scale = axis.scale\n",
    "        new_axis.units = axis.units\n",
    "        new_axis.offset = axis.offset\n",
    "        new_axis.size = axis.size\n",
    "        new_axis.name = axis.name\n",
    "        \n",
    "    # Manually copy the original axes properties\n",
    "    for i,axis in enumerate(spectrum.axes_manager.signal_axes):\n",
    "        new_axis = interpolated_spectrum.axes_manager.signal_axes[i]\n",
    "        new_axis.scale = axis.scale\n",
    "        new_axis.units = axis.units\n",
    "        new_axis.offset = axis.offset\n",
    "        new_axis.size = axis.size\n",
    "        new_axis.name = axis.name\n",
    "    \n",
    "\n",
    "\n",
    "    # Set the new energy axis properties\n",
    "    energy_axis_index = 0  # Assuming the energy axis is the first signal axis\n",
    "    interpolated_spectrum.axes_manager.signal_axes[energy_axis_index].scale = common_axis[1] - common_axis[0]\n",
    "    interpolated_spectrum.axes_manager.signal_axes[energy_axis_index].units = spectrum.axes_manager['Energy loss'].units\n",
    "    interpolated_spectrum.axes_manager.signal_axes[energy_axis_index].offset = common_axis[0]\n",
    "    interpolated_spectrum.axes_manager.signal_axes[energy_axis_index].size = len(common_axis)\n",
    "    interpolated_spectrum.axes_manager.signal_axes[energy_axis_index].axis = common_axis\n",
    "\n",
    "    return interpolated_spectrum"
   ]
  },
  {
   "cell_type": "code",
   "execution_count": 155,
   "metadata": {},
   "outputs": [
    {
     "name": "stderr",
     "output_type": "stream",
     "text": [
      "/home/m3learning/anaconda3/envs/northwestern/lib/python3.11/site-packages/hyperspy/signal.py:2451: UserWarning: Setting the `metadata` attribute is deprecated and will be removed in HyperSpy 2.0. Use the `set_item` and `add_dictionary` methods of the `metadata` attribute instead.\n",
      "  warnings.warn(\n"
     ]
    }
   ],
   "source": [
    "# Example usage\n",
    "ll_spectrum_interpolated = [interpolate_spectrum_to_common_axis(ll, common_axis) for ll in ll_spectrum]\n",
    "hl_spectrum_interpolated = [interpolate_spectrum_to_common_axis(hl, common_axis) for hl in hl_spectrum]"
   ]
  },
  {
   "cell_type": "code",
   "execution_count": 214,
   "metadata": {},
   "outputs": [
    {
     "data": {
      "text/html": [
       "<style>\n",
       "table, th, td {\n",
       "\tborder: 1px solid black;\n",
       "\tborder-collapse: collapse;\n",
       "}\n",
       "th, td {\n",
       "\tpadding: 5px;\n",
       "}\n",
       "</style>\n",
       "<p><b>< Axes manager, axes: (140, 140|1017) ></b></p>\n",
       "<table style='width:100%'>\n",
       "\n",
       "<tr> \n",
       "<th>Navigation axis name</th> \n",
       "<th>size</th> \n",
       "<th>index</th> \n",
       "<th>offset</th> \n",
       "<th>scale</th> \n",
       "<th>units</th> </tr>\n",
       "<tr> \n",
       "<td>x</td> \n",
       "<td>140</td> \n",
       "<td>0</td> \n",
       "<td>-0.0</td> \n",
       "<td>0.5012668967247009</td> \n",
       "<td>nm</td> </tr>\n",
       "<tr> \n",
       "<td>y</td> \n",
       "<td>140</td> \n",
       "<td>0</td> \n",
       "<td>-0.0</td> \n",
       "<td>0.5012668967247009</td> \n",
       "<td>nm</td> </tr></table>\n",
       "<table style='width:100%'>\n",
       "\n",
       "<tr> \n",
       "<th>Signal axis name</th> \n",
       "<th>size</th> \n",
       "<th></th> \n",
       "<th>offset</th> \n",
       "<th>scale</th> \n",
       "<th>units</th> </tr>\n",
       "<tr> \n",
       "<td>Energy loss</td> \n",
       "<td>1017</td> \n",
       "<td></td> \n",
       "<td>-23.399419297156285</td> \n",
       "<td>0.30000001192092896</td> \n",
       "<td>eV</td> </tr></table>\n"
      ],
      "text/plain": [
       "<Axes manager, axes: (140, 140|1017)>\n",
       "            Name |   size |  index |  offset |   scale |  units \n",
       "================ | ====== | ====== | ======= | ======= | ====== \n",
       "               x |    140 |      0 |      -0 |     0.5 |     nm \n",
       "               y |    140 |      0 |      -0 |     0.5 |     nm \n",
       "---------------- | ------ | ------ | ------- | ------- | ------ \n",
       "     Energy loss |   1017 |      0 |     -23 |     0.3 |     eV "
      ]
     },
     "execution_count": 214,
     "metadata": {},
     "output_type": "execute_result"
    }
   ],
   "source": [
    "ll_spectrum[0].axes_manager"
   ]
  },
  {
   "cell_type": "code",
   "execution_count": 216,
   "metadata": {},
   "outputs": [
    {
     "data": {
      "text/html": [
       "<style>\n",
       "table, th, td {\n",
       "\tborder: 1px solid black;\n",
       "\tborder-collapse: collapse;\n",
       "}\n",
       "th, td {\n",
       "\tpadding: 5px;\n",
       "}\n",
       "</style>\n",
       "<p><b>< Axes manager, axes: (140, 140|998) ></b></p>\n",
       "<table style='width:100%'>\n",
       "\n",
       "<tr> \n",
       "<th>Navigation axis name</th> \n",
       "<th>size</th> \n",
       "<th>index</th> \n",
       "<th>offset</th> \n",
       "<th>scale</th> \n",
       "<th>units</th> </tr>\n",
       "<tr> \n",
       "<td>x</td> \n",
       "<td>140</td> \n",
       "<td>0</td> \n",
       "<td>-0.0</td> \n",
       "<td>0.5012668967247009</td> \n",
       "<td>nm</td> </tr>\n",
       "<tr> \n",
       "<td>y</td> \n",
       "<td>140</td> \n",
       "<td>0</td> \n",
       "<td>-0.0</td> \n",
       "<td>0.5012668967247009</td> \n",
       "<td>nm</td> </tr></table>\n",
       "<table style='width:100%'>\n",
       "\n",
       "<tr> \n",
       "<th>Signal axis name</th> \n",
       "<th>size</th> \n",
       "<th></th> \n",
       "<th>offset</th> \n",
       "<th>scale</th> \n",
       "<th>units</th> </tr>\n",
       "<tr> \n",
       "<td>Energy loss</td> \n",
       "<td>998</td> \n",
       "<td></td> \n",
       "<td>-20.702908985924964</td> \n",
       "<td>0.30000001192092896</td> \n",
       "<td>eV</td> </tr></table>\n"
      ],
      "text/plain": [
       "<Axes manager, axes: (140, 140|998)>\n",
       "            Name |   size |  index |  offset |   scale |  units \n",
       "================ | ====== | ====== | ======= | ======= | ====== \n",
       "               x |    140 |      0 |      -0 |     0.5 |     nm \n",
       "               y |    140 |      0 |      -0 |     0.5 |     nm \n",
       "---------------- | ------ | ------ | ------- | ------- | ------ \n",
       "     Energy loss |    998 |      0 |     -21 |     0.3 |     eV "
      ]
     },
     "execution_count": 216,
     "metadata": {},
     "output_type": "execute_result"
    }
   ],
   "source": [
    "ll_spectrum_interpolated[2].axes_manager"
   ]
  },
  {
   "cell_type": "code",
   "execution_count": 212,
   "metadata": {},
   "outputs": [
    {
     "ename": "SyntaxError",
     "evalue": "invalid syntax (392566210.py, line 2)",
     "output_type": "error",
     "traceback": [
      "\u001b[0;36m  Cell \u001b[0;32mIn[212], line 2\u001b[0;36m\u001b[0m\n\u001b[0;31m    from matplotlib.backends.backend_qt5agg import ...\u001b[0m\n\u001b[0m                                                   ^\u001b[0m\n\u001b[0;31mSyntaxError\u001b[0m\u001b[0;31m:\u001b[0m invalid syntax\n"
     ]
    }
   ],
   "source": [
    "import matplotlib\n",
    "from matplotlib.backends.backend_qt5agg import ...\n",
    "matplotlib.use('Qt5Agg')\n",
    "matplotlib.rcParams['backend.qt5']='PySide'\n",
    "# %matplotlib qt\n",
    "import hyperspy.api as hs\n",
    "hs.preferences.gui(toolkit=\"traitsui\")\n",
    "\n",
    "# Plot the spatial image for low loss spectrum and highlight the point (50, 50)\n",
    "ll_image = ll_spectrum_interpolated[0]\n",
    "ll_image.plot(navigator='slider',interactive=True)\n",
    "\n",
    "# # Plot the spatial image for high loss spectrum and highlight the point (50, 50)\n",
    "# hl_image = hl_spectrum_interpolated[0]\n",
    "# hl_image.plot(navigator='interactive')\n"
   ]
  },
  {
   "cell_type": "code",
   "execution_count": 15,
   "metadata": {},
   "outputs": [
    {
     "data": {
      "text/plain": [
       "1017"
      ]
     },
     "execution_count": 15,
     "metadata": {},
     "output_type": "execute_result"
    }
   ],
   "source": [
    "ll_spectrum[0].axes_manager['Energy loss'].size"
   ]
  },
  {
   "cell_type": "code",
   "execution_count": 58,
   "metadata": {},
   "outputs": [
    {
     "data": {
      "text/plain": [
       "[-26.213725531435742,\n",
       " -24.600000977516174,\n",
       " -23.399419297156285,\n",
       " -21.302602887305678,\n",
       " -20.702908985924964]"
      ]
     },
     "execution_count": 58,
     "metadata": {},
     "output_type": "execute_result"
    }
   ],
   "source": [
    "[ll.axes_manager['Energy loss'].offset for ll in ll_spectrum]"
   ]
  },
  {
   "cell_type": "code",
   "execution_count": 17,
   "metadata": {},
   "outputs": [
    {
     "data": {
      "text/plain": [
       "[1017, 1018, 1017, 1015, 1015]"
      ]
     },
     "execution_count": 17,
     "metadata": {},
     "output_type": "execute_result"
    }
   ],
   "source": [
    "[ll.axes_manager['Energy loss'].size for ll in ll_spectrum]"
   ]
  },
  {
   "cell_type": "code",
   "execution_count": 19,
   "metadata": {},
   "outputs": [],
   "source": [
    "# Determine the global energy range across all spectra\n",
    "min_energy = min(ll.axes_manager['Energy loss'].offset for ll in ll_spectrum)\n",
    "max_energy = max(ll.axes_manager['Energy loss'].offset + ll.data.shape[-1] * ll.axes_manager['Energy loss'].scale for ll in ll_spectrum)\n"
   ]
  },
  {
   "cell_type": "code",
   "execution_count": null,
   "metadata": {},
   "outputs": [],
   "source": []
  },
  {
   "cell_type": "code",
   "execution_count": 42,
   "metadata": {},
   "outputs": [],
   "source": [
    "axes = [ll.axes_manager['Energy loss'].axis for ll in ll_spectrum]\n",
    "min_energy = max(axis[0] for axis in axes)\n",
    "max_energy = min(axis[-1] for axis in axes)\n",
    "slice_inds = [(np.argwhere(ax==min_energy),np.argwhere(ax==max_energy)) for ax in axes]"
   ]
  },
  {
   "cell_type": "code",
   "execution_count": 41,
   "metadata": {},
   "outputs": [
    {
     "data": {
      "text/plain": [
       "(-20.702908985924964, 278.5862865802281)"
      ]
     },
     "execution_count": 41,
     "metadata": {},
     "output_type": "execute_result"
    }
   ],
   "source": [
    "min_energy, max_energy"
   ]
  },
  {
   "cell_type": "code",
   "execution_count": 57,
   "metadata": {},
   "outputs": [
    {
     "data": {
      "text/html": [
       "<div>\n",
       "<style scoped>\n",
       "    .dataframe tbody tr th:only-of-type {\n",
       "        vertical-align: middle;\n",
       "    }\n",
       "\n",
       "    .dataframe tbody tr th {\n",
       "        vertical-align: top;\n",
       "    }\n",
       "\n",
       "    .dataframe thead th {\n",
       "        text-align: right;\n",
       "    }\n",
       "</style>\n",
       "<table border=\"1\" class=\"dataframe\">\n",
       "  <thead>\n",
       "    <tr style=\"text-align: right;\">\n",
       "      <th></th>\n",
       "      <th>0</th>\n",
       "      <th>1</th>\n",
       "      <th>2</th>\n",
       "      <th>3</th>\n",
       "      <th>4</th>\n",
       "      <th>5</th>\n",
       "      <th>6</th>\n",
       "      <th>7</th>\n",
       "      <th>8</th>\n",
       "      <th>9</th>\n",
       "      <th>...</th>\n",
       "      <th>1008</th>\n",
       "      <th>1009</th>\n",
       "      <th>1010</th>\n",
       "      <th>1011</th>\n",
       "      <th>1012</th>\n",
       "      <th>1013</th>\n",
       "      <th>1014</th>\n",
       "      <th>1015</th>\n",
       "      <th>1016</th>\n",
       "      <th>1017</th>\n",
       "    </tr>\n",
       "  </thead>\n",
       "  <tbody>\n",
       "    <tr>\n",
       "      <th>0</th>\n",
       "      <td>-26.213726</td>\n",
       "      <td>-25.913726</td>\n",
       "      <td>-25.613726</td>\n",
       "      <td>-25.313725</td>\n",
       "      <td>-25.013725</td>\n",
       "      <td>-24.713725</td>\n",
       "      <td>-24.413725</td>\n",
       "      <td>-24.113725</td>\n",
       "      <td>-23.813725</td>\n",
       "      <td>-23.513725</td>\n",
       "      <td>...</td>\n",
       "      <td>276.186286</td>\n",
       "      <td>276.486286</td>\n",
       "      <td>276.786287</td>\n",
       "      <td>277.086287</td>\n",
       "      <td>277.386287</td>\n",
       "      <td>277.686287</td>\n",
       "      <td>277.986287</td>\n",
       "      <td>278.286287</td>\n",
       "      <td>278.586287</td>\n",
       "      <td>NaN</td>\n",
       "    </tr>\n",
       "    <tr>\n",
       "      <th>1</th>\n",
       "      <td>-24.600001</td>\n",
       "      <td>-24.300001</td>\n",
       "      <td>-24.000001</td>\n",
       "      <td>-23.700001</td>\n",
       "      <td>-23.400001</td>\n",
       "      <td>-23.100001</td>\n",
       "      <td>-22.800001</td>\n",
       "      <td>-22.500001</td>\n",
       "      <td>-22.200001</td>\n",
       "      <td>-21.900001</td>\n",
       "      <td>...</td>\n",
       "      <td>277.800011</td>\n",
       "      <td>278.100011</td>\n",
       "      <td>278.400011</td>\n",
       "      <td>278.700011</td>\n",
       "      <td>279.000011</td>\n",
       "      <td>279.300011</td>\n",
       "      <td>279.600011</td>\n",
       "      <td>279.900011</td>\n",
       "      <td>280.200011</td>\n",
       "      <td>280.500011</td>\n",
       "    </tr>\n",
       "    <tr>\n",
       "      <th>2</th>\n",
       "      <td>-23.399419</td>\n",
       "      <td>-23.099419</td>\n",
       "      <td>-22.799419</td>\n",
       "      <td>-22.499419</td>\n",
       "      <td>-22.199419</td>\n",
       "      <td>-21.899419</td>\n",
       "      <td>-21.599419</td>\n",
       "      <td>-21.299419</td>\n",
       "      <td>-20.999419</td>\n",
       "      <td>-20.699419</td>\n",
       "      <td>...</td>\n",
       "      <td>279.000593</td>\n",
       "      <td>279.300593</td>\n",
       "      <td>279.600593</td>\n",
       "      <td>279.900593</td>\n",
       "      <td>280.200593</td>\n",
       "      <td>280.500593</td>\n",
       "      <td>280.800593</td>\n",
       "      <td>281.100593</td>\n",
       "      <td>281.400593</td>\n",
       "      <td>NaN</td>\n",
       "    </tr>\n",
       "    <tr>\n",
       "      <th>3</th>\n",
       "      <td>-21.302603</td>\n",
       "      <td>-21.002603</td>\n",
       "      <td>-20.702603</td>\n",
       "      <td>-20.402603</td>\n",
       "      <td>-20.102603</td>\n",
       "      <td>-19.802603</td>\n",
       "      <td>-19.502603</td>\n",
       "      <td>-19.202603</td>\n",
       "      <td>-18.902603</td>\n",
       "      <td>-18.602603</td>\n",
       "      <td>...</td>\n",
       "      <td>281.097409</td>\n",
       "      <td>281.397409</td>\n",
       "      <td>281.697409</td>\n",
       "      <td>281.997409</td>\n",
       "      <td>282.297409</td>\n",
       "      <td>282.597409</td>\n",
       "      <td>282.897409</td>\n",
       "      <td>NaN</td>\n",
       "      <td>NaN</td>\n",
       "      <td>NaN</td>\n",
       "    </tr>\n",
       "    <tr>\n",
       "      <th>4</th>\n",
       "      <td>-20.702909</td>\n",
       "      <td>-20.402909</td>\n",
       "      <td>-20.102909</td>\n",
       "      <td>-19.802909</td>\n",
       "      <td>-19.502909</td>\n",
       "      <td>-19.202909</td>\n",
       "      <td>-18.902909</td>\n",
       "      <td>-18.602909</td>\n",
       "      <td>-18.302909</td>\n",
       "      <td>-18.002909</td>\n",
       "      <td>...</td>\n",
       "      <td>281.697103</td>\n",
       "      <td>281.997103</td>\n",
       "      <td>282.297103</td>\n",
       "      <td>282.597103</td>\n",
       "      <td>282.897103</td>\n",
       "      <td>283.197103</td>\n",
       "      <td>283.497103</td>\n",
       "      <td>NaN</td>\n",
       "      <td>NaN</td>\n",
       "      <td>NaN</td>\n",
       "    </tr>\n",
       "  </tbody>\n",
       "</table>\n",
       "<p>5 rows × 1018 columns</p>\n",
       "</div>"
      ],
      "text/plain": [
       "        0          1          2          3          4          5     \\\n",
       "0 -26.213726 -25.913726 -25.613726 -25.313725 -25.013725 -24.713725   \n",
       "1 -24.600001 -24.300001 -24.000001 -23.700001 -23.400001 -23.100001   \n",
       "2 -23.399419 -23.099419 -22.799419 -22.499419 -22.199419 -21.899419   \n",
       "3 -21.302603 -21.002603 -20.702603 -20.402603 -20.102603 -19.802603   \n",
       "4 -20.702909 -20.402909 -20.102909 -19.802909 -19.502909 -19.202909   \n",
       "\n",
       "        6          7          8          9     ...        1008        1009  \\\n",
       "0 -24.413725 -24.113725 -23.813725 -23.513725  ...  276.186286  276.486286   \n",
       "1 -22.800001 -22.500001 -22.200001 -21.900001  ...  277.800011  278.100011   \n",
       "2 -21.599419 -21.299419 -20.999419 -20.699419  ...  279.000593  279.300593   \n",
       "3 -19.502603 -19.202603 -18.902603 -18.602603  ...  281.097409  281.397409   \n",
       "4 -18.902909 -18.602909 -18.302909 -18.002909  ...  281.697103  281.997103   \n",
       "\n",
       "         1010        1011        1012        1013        1014        1015  \\\n",
       "0  276.786287  277.086287  277.386287  277.686287  277.986287  278.286287   \n",
       "1  278.400011  278.700011  279.000011  279.300011  279.600011  279.900011   \n",
       "2  279.600593  279.900593  280.200593  280.500593  280.800593  281.100593   \n",
       "3  281.697409  281.997409  282.297409  282.597409  282.897409         NaN   \n",
       "4  282.297103  282.597103  282.897103  283.197103  283.497103         NaN   \n",
       "\n",
       "         1016        1017  \n",
       "0  278.586287         NaN  \n",
       "1  280.200011  280.500011  \n",
       "2  281.400593         NaN  \n",
       "3         NaN         NaN  \n",
       "4         NaN         NaN  \n",
       "\n",
       "[5 rows x 1018 columns]"
      ]
     },
     "metadata": {},
     "output_type": "display_data"
    }
   ],
   "source": [
    "import pandas as pd\n",
    "\n",
    "# Convert the list of axes to a DataFrame for better visualization\n",
    "axes_df = pd.DataFrame(axes)\n",
    "display(axes_df)\n"
   ]
  },
  {
   "cell_type": "code",
   "execution_count": 45,
   "metadata": {},
   "outputs": [
    {
     "data": {
      "text/plain": [
       "[(array([], shape=(0, 1), dtype=int64), array([[1016]])),\n",
       " (array([], shape=(0, 1), dtype=int64), array([], shape=(0, 1), dtype=int64)),\n",
       " (array([], shape=(0, 1), dtype=int64), array([], shape=(0, 1), dtype=int64)),\n",
       " (array([], shape=(0, 1), dtype=int64), array([], shape=(0, 1), dtype=int64)),\n",
       " (array([[0]]), array([], shape=(0, 1), dtype=int64))]"
      ]
     },
     "execution_count": 45,
     "metadata": {},
     "output_type": "execute_result"
    }
   ],
   "source": [
    "slice_inds"
   ]
  },
  {
   "cell_type": "code",
   "execution_count": 36,
   "metadata": {},
   "outputs": [
    {
     "name": "stdout",
     "output_type": "stream",
     "text": [
      "\u001b[0;31mType:\u001b[0m           SpecialSlicersSignal\n",
      "\u001b[0;31mString form:\u001b[0m    <hyperspy.signal.SpecialSlicersSignal object at 0x7f3e7d2de250>\n",
      "\u001b[0;31mLength:\u001b[0m         1017\n",
      "\u001b[0;31mFile:\u001b[0m           ~/anaconda3/envs/northwestern/lib/python3.11/site-packages/hyperspy/signal.py\n",
      "\u001b[0;31mDocstring:\u001b[0m      <no docstring>\n",
      "\u001b[0;31mInit docstring:\u001b[0m\n",
      "Create a slice of the signal. The indexing supports integer,\n",
      "decimal numbers or strings (containing a decimal number and an units).\n",
      "\n",
      ">>> s = hs.signals.Signal1D(np.arange(10))\n",
      ">>> s\n",
      "<Signal1D, title: , dimensions: (|10)>\n",
      ">>> s.data\n",
      "array([0, 1, 2, 3, 4, 5, 6, 7, 8, 9])\n",
      ">>> s.axes_manager[0].scale = 0.5\n",
      ">>> s.axes_manager[0].axis\n",
      "array([ 0. ,  0.5,  1. ,  1.5,  2. ,  2.5,  3. ,  3.5,  4. ,  4.5])\n",
      ">>> s.isig[0.5:4.].data\n",
      "array([1, 2, 3, 4, 5, 6, 7])\n",
      ">>> s.isig[0.5:4].data\n",
      "array([1, 2, 3])\n",
      ">>> s.isig[0.5:4:2].data\n",
      "array([1, 3])\n",
      ">>> s.axes_manager[0].units = 'µm'\n",
      ">>> s.isig[:'2000 nm'].data\n",
      "array([0, 1, 2, 3])"
     ]
    }
   ],
   "source": [
    "?ll_spectrum[0].isig"
   ]
  },
  {
   "cell_type": "code",
   "execution_count": 28,
   "metadata": {},
   "outputs": [],
   "source": [
    "# Determine the global energy range across all spectra\n",
    "starts = [ll.axes_manager['Energy loss'].offset for ll in ll_spectrum]\n",
    "ends = [ll.axes_manager['Energy loss'].offset + ll.data.shape[-1] * ll.axes_manager['Energy loss'].scale for ll in ll_spectrum]"
   ]
  },
  {
   "cell_type": "code",
   "execution_count": 29,
   "metadata": {},
   "outputs": [
    {
     "data": {
      "text/plain": [
       "([-26.213725531435742,\n",
       "  -24.600000977516174,\n",
       "  -23.399419297156285,\n",
       "  -21.302602887305678,\n",
       "  -20.702908985924964],\n",
       " [278.886286592149,\n",
       "  280.8000111579895,\n",
       "  281.7005928264285,\n",
       "  283.1974092124372,\n",
       "  283.7971031138179])"
      ]
     },
     "execution_count": 29,
     "metadata": {},
     "output_type": "execute_result"
    }
   ],
   "source": [
    "starts,ends"
   ]
  },
  {
   "cell_type": "code",
   "execution_count": null,
   "metadata": {},
   "outputs": [],
   "source": [
    "\n",
    "# Define the common energy axis range\n",
    "common_energy_axis = np.arange(min_energy, max_energy, ll_spectrum[0].axes_manager['Energy loss'].scale)\n",
    "\n",
    "# Function to resample spectrum to the common energy axis\n",
    "def resample_spectrum(spectrum, common_axis):\n",
    "    original_axis = spectrum.axes_manager['Energy loss'].axis\n",
    "    resampled_data = np.interp(common_axis, original_axis, spectrum.data)\n",
    "    resampled_spectrum = hs.signals.Signal1D(resampled_data)\n",
    "    resampled_spectrum.axes_manager[-1].scale = spectrum.axes_manager[-1].scale\n",
    "    resampled_spectrum.axes_manager[-1].units = spectrum.axes_manager[-1].units\n",
    "    resampled_spectrum.axes_manager[-1].offset = common_axis[0]\n",
    "    return resampled_spectrum\n",
    "\n",
    "# Resample all spectra to the common energy axis\n",
    "ll_spectrum_resampled = [resample_spectrum(ll, common_energy_axis) for ll in ll_spectrum]\n",
    "hl_spectrum_resampled = [resample_spectrum(hl, common_energy_axis) for hl in hl_spectrum]\n",
    "\n",
    "# Optionally, plot the spectra to confirm alignment and resampling\n",
    "for ll, hl in zip(ll_spectrum_resampled, hl_spectrum_resampled):\n",
    "    ll.plot(title='Resampled Aligned Low Loss Spectrum')\n",
    "    hl.plot(title='Resampled Aligned High Loss Spectrum')"
   ]
  },
  {
   "cell_type": "code",
   "execution_count": null,
   "metadata": {},
   "outputs": [],
   "source": []
  }
 ],
 "metadata": {
  "kernelspec": {
   "display_name": "northwestern",
   "language": "python",
   "name": "python3"
  },
  "language_info": {
   "codemirror_mode": {
    "name": "ipython",
    "version": 3
   },
   "file_extension": ".py",
   "mimetype": "text/x-python",
   "name": "python",
   "nbconvert_exporter": "python",
   "pygments_lexer": "ipython3",
   "version": "3.11.4"
  }
 },
 "nbformat": 4,
 "nbformat_minor": 2
}
