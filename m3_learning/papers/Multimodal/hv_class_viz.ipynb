{
 "cells": [
  {
   "cell_type": "markdown",
   "metadata": {},
   "source": [
    "# Holoviz for EELS training"
   ]
  },
  {
   "cell_type": "markdown",
   "metadata": {},
   "source": [
    "TODO: view 2 eels channel at once?\n",
    "TODO: https://www.ncbi.nlm.nih.gov/pmc/articles/PMC9330705/"
   ]
  },
  {
   "cell_type": "markdown",
   "metadata": {},
   "source": [
    "## Load stuff"
   ]
  },
  {
   "cell_type": "code",
   "execution_count": 1,
   "metadata": {
    "notebookRunGroups": {
     "groupValue": "1"
    }
   },
   "outputs": [
    {
     "name": "stdout",
     "output_type": "stream",
     "text": [
      "Total memory: 503.72 GB\n",
      "Available memory: 455.51 GB\n",
      "Used memory: 44.88 GB\n",
      "Free memory: 74.80 GB\n",
      "Memory percentage: 9.6%\n"
     ]
    }
   ],
   "source": [
    "import psutil\n",
    "\n",
    "# Get memory details\n",
    "memory_info = psutil.virtual_memory()\n",
    "\n",
    "# Print memory details\n",
    "print(f\"Total memory: {memory_info.total / (1024 ** 3):.2f} GB\")\n",
    "print(f\"Available memory: {memory_info.available / (1024 ** 3):.2f} GB\")\n",
    "print(f\"Used memory: {memory_info.used / (1024 ** 3):.2f} GB\")\n",
    "print(f\"Free memory: {memory_info.free / (1024 ** 3):.2f} GB\")\n",
    "print(f\"Memory percentage: {memory_info.percent}%\")"
   ]
  },
  {
   "cell_type": "code",
   "execution_count": 12,
   "metadata": {},
   "outputs": [
    {
     "name": "stdout",
     "output_type": "stream",
     "text": [
      "The autoreload extension is already loaded. To reload it, use:\n",
      "  %reload_ext autoreload\n"
     ]
    }
   ],
   "source": [
    "import sys\n",
    "import glob\n",
    "import os\n",
    "sys.path.append('./../')\n",
    "sys.path.append('./../../src/')\n",
    "%load_ext autoreload\n",
    "%autoreload 2\n",
    "\n",
    "import matplotlib.pyplot as plt\n",
    "import numpy as np\n",
    "import hyperspy.api as hs\n",
    "import torch\n",
    "import h5py\n",
    "from ipywidgets import interact\n",
    "from pprint import pprint\n",
    "from tqdm import tqdm\n",
    "\n",
    "import warnings\n",
    "warnings.filterwarnings(\"ignore\")\n",
    "\n",
    "\n",
    "# import nn\n",
    "from m3_learning.nn.random import random_seed\n",
    "from m3_learning.viz.style import set_style\n",
    "from m3_learning.viz.printing import printer\n",
    "from m3_learning.viz.Movies import make_movie\n",
    "from m3_learning.util.file_IO import download_and_unzip\n",
    "\n",
    "from m3_learning.nn.STEM_AE_multimodal.Dataset import STEM_EELS_Dataset, EELS_Embedding_Dataset\n",
    "from m3_learning.nn.STEM_AE_multimodal.Viz import Viz_EELS_hv\n",
    "from m3_learning.nn.STEM_AE_multimodal import STEM_AE as stem"
   ]
  },
  {
   "cell_type": "code",
   "execution_count": 3,
   "metadata": {},
   "outputs": [
    {
     "data": {
      "application/javascript": "(function(root) {\n  function now() {\n    return new Date();\n  }\n\n  var force = true;\n  var py_version = '3.2.1'.replace('rc', '-rc.').replace('.dev', '-dev.');\n  var is_dev = py_version.indexOf(\"+\") !== -1 || py_version.indexOf(\"-\") !== -1;\n  var reloading = false;\n  var Bokeh = root.Bokeh;\n  var bokeh_loaded = Bokeh != null && (Bokeh.version === py_version || (Bokeh.versions !== undefined && Bokeh.versions.has(py_version)));\n\n  if (typeof (root._bokeh_timeout) === \"undefined\" || force) {\n    root._bokeh_timeout = Date.now() + 5000;\n    root._bokeh_failed_load = false;\n  }\n\n  function run_callbacks() {\n    try {\n      root._bokeh_onload_callbacks.forEach(function(callback) {\n        if (callback != null)\n          callback();\n      });\n    } finally {\n      delete root._bokeh_onload_callbacks;\n    }\n    console.debug(\"Bokeh: all callbacks have finished\");\n  }\n\n  function load_libs(css_urls, js_urls, js_modules, js_exports, callback) {\n    if (css_urls == null) css_urls = [];\n    if (js_urls == null) js_urls = [];\n    if (js_modules == null) js_modules = [];\n    if (js_exports == null) js_exports = {};\n\n    root._bokeh_onload_callbacks.push(callback);\n\n    if (root._bokeh_is_loading > 0) {\n      console.debug(\"Bokeh: BokehJS is being loaded, scheduling callback at\", now());\n      return null;\n    }\n    if (js_urls.length === 0 && js_modules.length === 0 && Object.keys(js_exports).length === 0) {\n      run_callbacks();\n      return null;\n    }\n    if (!reloading) {\n      console.debug(\"Bokeh: BokehJS not loaded, scheduling load and callback at\", now());\n    }\n\n    function on_load() {\n      root._bokeh_is_loading--;\n      if (root._bokeh_is_loading === 0) {\n        console.debug(\"Bokeh: all BokehJS libraries/stylesheets loaded\");\n        run_callbacks()\n      }\n    }\n    window._bokeh_on_load = on_load\n\n    function on_error() {\n      console.error(\"failed to load \" + url);\n    }\n\n    var skip = [];\n    if (window.requirejs) {\n      window.requirejs.config({'packages': {}, 'paths': {'jspanel': 'https://cdn.jsdelivr.net/npm/jspanel4@4.12.0/dist/jspanel', 'jspanel-modal': 'https://cdn.jsdelivr.net/npm/jspanel4@4.12.0/dist/extensions/modal/jspanel.modal', 'jspanel-tooltip': 'https://cdn.jsdelivr.net/npm/jspanel4@4.12.0/dist/extensions/tooltip/jspanel.tooltip', 'jspanel-hint': 'https://cdn.jsdelivr.net/npm/jspanel4@4.12.0/dist/extensions/hint/jspanel.hint', 'jspanel-layout': 'https://cdn.jsdelivr.net/npm/jspanel4@4.12.0/dist/extensions/layout/jspanel.layout', 'jspanel-contextmenu': 'https://cdn.jsdelivr.net/npm/jspanel4@4.12.0/dist/extensions/contextmenu/jspanel.contextmenu', 'jspanel-dock': 'https://cdn.jsdelivr.net/npm/jspanel4@4.12.0/dist/extensions/dock/jspanel.dock', 'gridstack': 'https://cdn.jsdelivr.net/npm/gridstack@7.2.3/dist/gridstack-all', 'notyf': 'https://cdn.jsdelivr.net/npm/notyf@3/notyf.min'}, 'shim': {'jspanel': {'exports': 'jsPanel'}, 'gridstack': {'exports': 'GridStack'}}});\n      require([\"jspanel\"], function(jsPanel) {\n\twindow.jsPanel = jsPanel\n\ton_load()\n      })\n      require([\"jspanel-modal\"], function() {\n\ton_load()\n      })\n      require([\"jspanel-tooltip\"], function() {\n\ton_load()\n      })\n      require([\"jspanel-hint\"], function() {\n\ton_load()\n      })\n      require([\"jspanel-layout\"], function() {\n\ton_load()\n      })\n      require([\"jspanel-contextmenu\"], function() {\n\ton_load()\n      })\n      require([\"jspanel-dock\"], function() {\n\ton_load()\n      })\n      require([\"gridstack\"], function(GridStack) {\n\twindow.GridStack = GridStack\n\ton_load()\n      })\n      require([\"notyf\"], function() {\n\ton_load()\n      })\n      root._bokeh_is_loading = css_urls.length + 9;\n    } else {\n      root._bokeh_is_loading = css_urls.length + js_urls.length + js_modules.length + Object.keys(js_exports).length;\n    }\n\n    var existing_stylesheets = []\n    var links = document.getElementsByTagName('link')\n    for (var i = 0; i < links.length; i++) {\n      var link = links[i]\n      if (link.href != null) {\n\texisting_stylesheets.push(link.href)\n      }\n    }\n    for (var i = 0; i < css_urls.length; i++) {\n      var url = css_urls[i];\n      if (existing_stylesheets.indexOf(url) !== -1) {\n\ton_load()\n\tcontinue;\n      }\n      const element = document.createElement(\"link\");\n      element.onload = on_load;\n      element.onerror = on_error;\n      element.rel = \"stylesheet\";\n      element.type = \"text/css\";\n      element.href = url;\n      console.debug(\"Bokeh: injecting link tag for BokehJS stylesheet: \", url);\n      document.body.appendChild(element);\n    }    if (((window['jsPanel'] !== undefined) && (!(window['jsPanel'] instanceof HTMLElement))) || window.requirejs) {\n      var urls = ['https://cdn.holoviz.org/panel/1.2.3/dist/bundled/floatpanel/jspanel4@4.12.0/dist/jspanel.js', 'https://cdn.holoviz.org/panel/1.2.3/dist/bundled/floatpanel/jspanel4@4.12.0/dist/extensions/modal/jspanel.modal.js', 'https://cdn.holoviz.org/panel/1.2.3/dist/bundled/floatpanel/jspanel4@4.12.0/dist/extensions/tooltip/jspanel.tooltip.js', 'https://cdn.holoviz.org/panel/1.2.3/dist/bundled/floatpanel/jspanel4@4.12.0/dist/extensions/hint/jspanel.hint.js', 'https://cdn.holoviz.org/panel/1.2.3/dist/bundled/floatpanel/jspanel4@4.12.0/dist/extensions/layout/jspanel.layout.js', 'https://cdn.holoviz.org/panel/1.2.3/dist/bundled/floatpanel/jspanel4@4.12.0/dist/extensions/contextmenu/jspanel.contextmenu.js', 'https://cdn.holoviz.org/panel/1.2.3/dist/bundled/floatpanel/jspanel4@4.12.0/dist/extensions/dock/jspanel.dock.js'];\n      for (var i = 0; i < urls.length; i++) {\n        skip.push(urls[i])\n      }\n    }    if (((window['GridStack'] !== undefined) && (!(window['GridStack'] instanceof HTMLElement))) || window.requirejs) {\n      var urls = ['https://cdn.holoviz.org/panel/1.2.3/dist/bundled/gridstack/gridstack@7.2.3/dist/gridstack-all.js'];\n      for (var i = 0; i < urls.length; i++) {\n        skip.push(urls[i])\n      }\n    }    if (((window['Notyf'] !== undefined) && (!(window['Notyf'] instanceof HTMLElement))) || window.requirejs) {\n      var urls = ['https://cdn.holoviz.org/panel/1.2.3/dist/bundled/notificationarea/notyf@3/notyf.min.js'];\n      for (var i = 0; i < urls.length; i++) {\n        skip.push(urls[i])\n      }\n    }    var existing_scripts = []\n    var scripts = document.getElementsByTagName('script')\n    for (var i = 0; i < scripts.length; i++) {\n      var script = scripts[i]\n      if (script.src != null) {\n\texisting_scripts.push(script.src)\n      }\n    }\n    for (var i = 0; i < js_urls.length; i++) {\n      var url = js_urls[i];\n      if (skip.indexOf(url) !== -1 || existing_scripts.indexOf(url) !== -1) {\n\tif (!window.requirejs) {\n\t  on_load();\n\t}\n\tcontinue;\n      }\n      var element = document.createElement('script');\n      element.onload = on_load;\n      element.onerror = on_error;\n      element.async = false;\n      element.src = url;\n      console.debug(\"Bokeh: injecting script tag for BokehJS library: \", url);\n      document.head.appendChild(element);\n    }\n    for (var i = 0; i < js_modules.length; i++) {\n      var url = js_modules[i];\n      if (skip.indexOf(url) !== -1 || existing_scripts.indexOf(url) !== -1) {\n\tif (!window.requirejs) {\n\t  on_load();\n\t}\n\tcontinue;\n      }\n      var element = document.createElement('script');\n      element.onload = on_load;\n      element.onerror = on_error;\n      element.async = false;\n      element.src = url;\n      element.type = \"module\";\n      console.debug(\"Bokeh: injecting script tag for BokehJS library: \", url);\n      document.head.appendChild(element);\n    }\n    for (const name in js_exports) {\n      var url = js_exports[name];\n      if (skip.indexOf(url) >= 0 || root[name] != null) {\n\tif (!window.requirejs) {\n\t  on_load();\n\t}\n\tcontinue;\n      }\n      var element = document.createElement('script');\n      element.onerror = on_error;\n      element.async = false;\n      element.type = \"module\";\n      console.debug(\"Bokeh: injecting script tag for BokehJS library: \", url);\n      element.textContent = `\n      import ${name} from \"${url}\"\n      window.${name} = ${name}\n      window._bokeh_on_load()\n      `\n      document.head.appendChild(element);\n    }\n    if (!js_urls.length && !js_modules.length) {\n      on_load()\n    }\n  };\n\n  function inject_raw_css(css) {\n    const element = document.createElement(\"style\");\n    element.appendChild(document.createTextNode(css));\n    document.body.appendChild(element);\n  }\n\n  var js_urls = [\"https://cdn.bokeh.org/bokeh/release/bokeh-3.2.1.min.js\", \"https://cdn.bokeh.org/bokeh/release/bokeh-gl-3.2.1.min.js\", \"https://cdn.bokeh.org/bokeh/release/bokeh-widgets-3.2.1.min.js\", \"https://cdn.bokeh.org/bokeh/release/bokeh-tables-3.2.1.min.js\", \"https://cdn.holoviz.org/panel/1.2.3/dist/panel.min.js\"];\n  var js_modules = [];\n  var js_exports = {};\n  var css_urls = [];\n  var inline_js = [    function(Bokeh) {\n      Bokeh.set_log_level(\"info\");\n    },\nfunction(Bokeh) {} // ensure no trailing comma for IE\n  ];\n\n  function run_inline_js() {\n    if ((root.Bokeh !== undefined) || (force === true)) {\n      for (var i = 0; i < inline_js.length; i++) {\n        inline_js[i].call(root, root.Bokeh);\n      }\n      // Cache old bokeh versions\n      if (Bokeh != undefined && !reloading) {\n\tvar NewBokeh = root.Bokeh;\n\tif (Bokeh.versions === undefined) {\n\t  Bokeh.versions = new Map();\n\t}\n\tif (NewBokeh.version !== Bokeh.version) {\n\t  Bokeh.versions.set(NewBokeh.version, NewBokeh)\n\t}\n\troot.Bokeh = Bokeh;\n      }} else if (Date.now() < root._bokeh_timeout) {\n      setTimeout(run_inline_js, 100);\n    } else if (!root._bokeh_failed_load) {\n      console.log(\"Bokeh: BokehJS failed to load within specified timeout.\");\n      root._bokeh_failed_load = true;\n    }\n    root._bokeh_is_initializing = false\n  }\n\n  function load_or_wait() {\n    // Implement a backoff loop that tries to ensure we do not load multiple\n    // versions of Bokeh and its dependencies at the same time.\n    // In recent versions we use the root._bokeh_is_initializing flag\n    // to determine whether there is an ongoing attempt to initialize\n    // bokeh, however for backward compatibility we also try to ensure\n    // that we do not start loading a newer (Panel>=1.0 and Bokeh>3) version\n    // before older versions are fully initialized.\n    if (root._bokeh_is_initializing && Date.now() > root._bokeh_timeout) {\n      root._bokeh_is_initializing = false;\n      root._bokeh_onload_callbacks = undefined;\n      console.log(\"Bokeh: BokehJS was loaded multiple times but one version failed to initialize.\");\n      load_or_wait();\n    } else if (root._bokeh_is_initializing || (typeof root._bokeh_is_initializing === \"undefined\" && root._bokeh_onload_callbacks !== undefined)) {\n      setTimeout(load_or_wait, 100);\n    } else {\n      Bokeh = root.Bokeh;\n      bokeh_loaded = Bokeh != null && (Bokeh.version === py_version || (Bokeh.versions !== undefined && Bokeh.versions.has(py_version)));\n      root._bokeh_is_initializing = true\n      root._bokeh_onload_callbacks = []\n      if (!reloading && (!bokeh_loaded || is_dev)) {\n\troot.Bokeh = undefined;\n      }\n      load_libs(css_urls, js_urls, js_modules, js_exports, function() {\n\tconsole.debug(\"Bokeh: BokehJS plotting callback run at\", now());\n\trun_inline_js();\n      });\n    }\n  }\n  // Give older versions of the autoload script a head-start to ensure\n  // they initialize before we start loading newer version.\n  setTimeout(load_or_wait, 100)\n}(window));",
      "application/vnd.holoviews_load.v0+json": ""
     },
     "metadata": {},
     "output_type": "display_data"
    },
    {
     "data": {
      "application/javascript": "\nif ((window.PyViz === undefined) || (window.PyViz instanceof HTMLElement)) {\n  window.PyViz = {comms: {}, comm_status:{}, kernels:{}, receivers: {}, plot_index: []}\n}\n\n\n    function JupyterCommManager() {\n    }\n\n    JupyterCommManager.prototype.register_target = function(plot_id, comm_id, msg_handler) {\n      if (window.comm_manager || ((window.Jupyter !== undefined) && (Jupyter.notebook.kernel != null))) {\n        var comm_manager = window.comm_manager || Jupyter.notebook.kernel.comm_manager;\n        comm_manager.register_target(comm_id, function(comm) {\n          comm.on_msg(msg_handler);\n        });\n      } else if ((plot_id in window.PyViz.kernels) && (window.PyViz.kernels[plot_id])) {\n        window.PyViz.kernels[plot_id].registerCommTarget(comm_id, function(comm) {\n          comm.onMsg = msg_handler;\n        });\n      } else if (typeof google != 'undefined' && google.colab.kernel != null) {\n        google.colab.kernel.comms.registerTarget(comm_id, (comm) => {\n          var messages = comm.messages[Symbol.asyncIterator]();\n          function processIteratorResult(result) {\n            var message = result.value;\n            console.log(message)\n            var content = {data: message.data, comm_id};\n            var buffers = []\n            for (var buffer of message.buffers || []) {\n              buffers.push(new DataView(buffer))\n            }\n            var metadata = message.metadata || {};\n            var msg = {content, buffers, metadata}\n            msg_handler(msg);\n            return messages.next().then(processIteratorResult);\n          }\n          return messages.next().then(processIteratorResult);\n        })\n      }\n    }\n\n    JupyterCommManager.prototype.get_client_comm = function(plot_id, comm_id, msg_handler) {\n      if (comm_id in window.PyViz.comms) {\n        return window.PyViz.comms[comm_id];\n      } else if (window.comm_manager || ((window.Jupyter !== undefined) && (Jupyter.notebook.kernel != null))) {\n        var comm_manager = window.comm_manager || Jupyter.notebook.kernel.comm_manager;\n        var comm = comm_manager.new_comm(comm_id, {}, {}, {}, comm_id);\n        if (msg_handler) {\n          comm.on_msg(msg_handler);\n        }\n      } else if ((plot_id in window.PyViz.kernels) && (window.PyViz.kernels[plot_id])) {\n        var comm = window.PyViz.kernels[plot_id].connectToComm(comm_id);\n        comm.open();\n        if (msg_handler) {\n          comm.onMsg = msg_handler;\n        }\n      } else if (typeof google != 'undefined' && google.colab.kernel != null) {\n        var comm_promise = google.colab.kernel.comms.open(comm_id)\n        comm_promise.then((comm) => {\n          window.PyViz.comms[comm_id] = comm;\n          if (msg_handler) {\n            var messages = comm.messages[Symbol.asyncIterator]();\n            function processIteratorResult(result) {\n              var message = result.value;\n              var content = {data: message.data};\n              var metadata = message.metadata || {comm_id};\n              var msg = {content, metadata}\n              msg_handler(msg);\n              return messages.next().then(processIteratorResult);\n            }\n            return messages.next().then(processIteratorResult);\n          }\n        }) \n        var sendClosure = (data, metadata, buffers, disposeOnDone) => {\n          return comm_promise.then((comm) => {\n            comm.send(data, metadata, buffers, disposeOnDone);\n          });\n        };\n        var comm = {\n          send: sendClosure\n        };\n      }\n      window.PyViz.comms[comm_id] = comm;\n      return comm;\n    }\n    window.PyViz.comm_manager = new JupyterCommManager();\n    \n\n\nvar JS_MIME_TYPE = 'application/javascript';\nvar HTML_MIME_TYPE = 'text/html';\nvar EXEC_MIME_TYPE = 'application/vnd.holoviews_exec.v0+json';\nvar CLASS_NAME = 'output';\n\n/**\n * Render data to the DOM node\n */\nfunction render(props, node) {\n  var div = document.createElement(\"div\");\n  var script = document.createElement(\"script\");\n  node.appendChild(div);\n  node.appendChild(script);\n}\n\n/**\n * Handle when a new output is added\n */\nfunction handle_add_output(event, handle) {\n  var output_area = handle.output_area;\n  var output = handle.output;\n  if ((output.data == undefined) || (!output.data.hasOwnProperty(EXEC_MIME_TYPE))) {\n    return\n  }\n  var id = output.metadata[EXEC_MIME_TYPE][\"id\"];\n  var toinsert = output_area.element.find(\".\" + CLASS_NAME.split(' ')[0]);\n  if (id !== undefined) {\n    var nchildren = toinsert.length;\n    var html_node = toinsert[nchildren-1].children[0];\n    html_node.innerHTML = output.data[HTML_MIME_TYPE];\n    var scripts = [];\n    var nodelist = html_node.querySelectorAll(\"script\");\n    for (var i in nodelist) {\n      if (nodelist.hasOwnProperty(i)) {\n        scripts.push(nodelist[i])\n      }\n    }\n\n    scripts.forEach( function (oldScript) {\n      var newScript = document.createElement(\"script\");\n      var attrs = [];\n      var nodemap = oldScript.attributes;\n      for (var j in nodemap) {\n        if (nodemap.hasOwnProperty(j)) {\n          attrs.push(nodemap[j])\n        }\n      }\n      attrs.forEach(function(attr) { newScript.setAttribute(attr.name, attr.value) });\n      newScript.appendChild(document.createTextNode(oldScript.innerHTML));\n      oldScript.parentNode.replaceChild(newScript, oldScript);\n    });\n    if (JS_MIME_TYPE in output.data) {\n      toinsert[nchildren-1].children[1].textContent = output.data[JS_MIME_TYPE];\n    }\n    output_area._hv_plot_id = id;\n    if ((window.Bokeh !== undefined) && (id in Bokeh.index)) {\n      window.PyViz.plot_index[id] = Bokeh.index[id];\n    } else {\n      window.PyViz.plot_index[id] = null;\n    }\n  } else if (output.metadata[EXEC_MIME_TYPE][\"server_id\"] !== undefined) {\n    var bk_div = document.createElement(\"div\");\n    bk_div.innerHTML = output.data[HTML_MIME_TYPE];\n    var script_attrs = bk_div.children[0].attributes;\n    for (var i = 0; i < script_attrs.length; i++) {\n      toinsert[toinsert.length - 1].childNodes[1].setAttribute(script_attrs[i].name, script_attrs[i].value);\n    }\n    // store reference to server id on output_area\n    output_area._bokeh_server_id = output.metadata[EXEC_MIME_TYPE][\"server_id\"];\n  }\n}\n\n/**\n * Handle when an output is cleared or removed\n */\nfunction handle_clear_output(event, handle) {\n  var id = handle.cell.output_area._hv_plot_id;\n  var server_id = handle.cell.output_area._bokeh_server_id;\n  if (((id === undefined) || !(id in PyViz.plot_index)) && (server_id !== undefined)) { return; }\n  var comm = window.PyViz.comm_manager.get_client_comm(\"hv-extension-comm\", \"hv-extension-comm\", function () {});\n  if (server_id !== null) {\n    comm.send({event_type: 'server_delete', 'id': server_id});\n    return;\n  } else if (comm !== null) {\n    comm.send({event_type: 'delete', 'id': id});\n  }\n  delete PyViz.plot_index[id];\n  if ((window.Bokeh !== undefined) & (id in window.Bokeh.index)) {\n    var doc = window.Bokeh.index[id].model.document\n    doc.clear();\n    const i = window.Bokeh.documents.indexOf(doc);\n    if (i > -1) {\n      window.Bokeh.documents.splice(i, 1);\n    }\n  }\n}\n\n/**\n * Handle kernel restart event\n */\nfunction handle_kernel_cleanup(event, handle) {\n  delete PyViz.comms[\"hv-extension-comm\"];\n  window.PyViz.plot_index = {}\n}\n\n/**\n * Handle update_display_data messages\n */\nfunction handle_update_output(event, handle) {\n  handle_clear_output(event, {cell: {output_area: handle.output_area}})\n  handle_add_output(event, handle)\n}\n\nfunction register_renderer(events, OutputArea) {\n  function append_mime(data, metadata, element) {\n    // create a DOM node to render to\n    var toinsert = this.create_output_subarea(\n    metadata,\n    CLASS_NAME,\n    EXEC_MIME_TYPE\n    );\n    this.keyboard_manager.register_events(toinsert);\n    // Render to node\n    var props = {data: data, metadata: metadata[EXEC_MIME_TYPE]};\n    render(props, toinsert[0]);\n    element.append(toinsert);\n    return toinsert\n  }\n\n  events.on('output_added.OutputArea', handle_add_output);\n  events.on('output_updated.OutputArea', handle_update_output);\n  events.on('clear_output.CodeCell', handle_clear_output);\n  events.on('delete.Cell', handle_clear_output);\n  events.on('kernel_ready.Kernel', handle_kernel_cleanup);\n\n  OutputArea.prototype.register_mime_type(EXEC_MIME_TYPE, append_mime, {\n    safe: true,\n    index: 0\n  });\n}\n\nif (window.Jupyter !== undefined) {\n  try {\n    var events = require('base/js/events');\n    var OutputArea = require('notebook/js/outputarea').OutputArea;\n    if (OutputArea.prototype.mime_types().indexOf(EXEC_MIME_TYPE) == -1) {\n      register_renderer(events, OutputArea);\n    }\n  } catch(err) {\n  }\n}\n",
      "application/vnd.holoviews_load.v0+json": ""
     },
     "metadata": {},
     "output_type": "display_data"
    },
    {
     "data": {
      "text/html": [
       "<style>*[data-root-id],\n",
       "*[data-root-id] > * {\n",
       "  box-sizing: border-box;\n",
       "  font-family: var(--jp-ui-font-family);\n",
       "  font-size: var(--jp-ui-font-size1);\n",
       "  color: var(--vscode-editor-foreground, var(--jp-ui-font-color1));\n",
       "}\n",
       "\n",
       "/* Override VSCode background color */\n",
       ".cell-output-ipywidget-background:has(\n",
       "    > .cell-output-ipywidget-background > .lm-Widget > *[data-root-id]\n",
       "  ),\n",
       ".cell-output-ipywidget-background:has(> .lm-Widget > *[data-root-id]) {\n",
       "  background-color: transparent !important;\n",
       "}\n",
       "</style>"
      ]
     },
     "metadata": {},
     "output_type": "display_data"
    },
    {
     "data": {
      "text/html": [
       "\n",
       "<div class=\"logo-block\">\n",
       "<img src='data:image/png;base64,iVBORw0KGgoAAAANSUhEUgAAAEAAAABACAYAAACqaXHeAAAABHNCSVQICAgIfAhkiAAAAAlwSFlz\n",
       "AAAB+wAAAfsBxc2miwAAABl0RVh0U29mdHdhcmUAd3d3Lmlua3NjYXBlLm9yZ5vuPBoAAA6zSURB\n",
       "VHic7ZtpeFRVmsf/5966taWqUlUJ2UioBBJiIBAwCZtog9IOgjqACsogKtqirT2ttt069nQ/zDzt\n",
       "tI4+CrJIREFaFgWhBXpUNhHZQoKBkIUASchWla1S+3ar7r1nPkDaCAnZKoQP/D7mnPOe9/xy76n3\n",
       "nFSAW9ziFoPFNED2LLK5wcyBDObkb8ZkxuaoSYlI6ZcOKq1eWFdedqNzGHQBk9RMEwFAASkk0Xw3\n",
       "ETacDNi2vtvc7L0ROdw0AjoSotQVkKSvHQz/wRO1lScGModBFbDMaNRN1A4tUBCS3lk7BWhQkgpD\n",
       "lG4852/+7DWr1R3uHAZVQDsbh6ZPN7CyxUrCzJMRouusj0ipRwD2uKm0Zn5d2dFwzX1TCGhnmdGo\n",
       "G62Nna+isiUqhkzuKrkQaJlPEv5mFl2fvGg2t/VnzkEV8F5ioioOEWkLG86fvbpthynjdhXYZziQ\n",
       "x1hC9J2NFyi8vCTt91Fh04KGip0AaG9zuCk2wQCVyoNU3Hjezee9bq92duzzTmxsRJoy+jEZZZYo\n",
       "GTKJ6SJngdJqAfRzpze0+jHreUtPc7gpBLQnIYK6BYp/uGhw9YK688eu7v95ysgshcg9qSLMo3JC\n",
       "4jqLKQFBgdKDPoQ+Pltb8dUyQLpeDjeVgI6EgLIQFT5tEl3rn2losHVsexbZ3EyT9wE1uGdkIPcy\n",
       "BGxn8QUq1QrA5nqW5i2tLqvrrM9NK6AdkVIvL9E9bZL/oyfMVd/jqvc8LylzRBKDJSzIExwhQzuL\n",
       "QYGQj4rHfFTc8mUdu3E7yoLtbTe9gI4EqVgVkug2i5+uXGo919ixbRog+3fTbQ8qJe4ZOYNfMoTI\n",
       "OoshUNosgO60AisX15aeI2PSIp5KiFLI9ubb1vV3Qb2ltwLakUCDAkWX7/nHKRmmGIl9VgYsUhJm\n",
       "2NXjKYADtM1ygne9QQDIXlk49FBstMKx66D1v4+XuQr7vqTe0VcBHQlRWiOCbmmSYe2SqtL6q5rJ\n",
       "zsTb7lKx3FKOYC4DoqyS/B5bvLPxvD9Qtf6saxYLQGJErmDOdOMr/zo96km1nElr8bmPOBwI9COv\n",
       "HnFPRIwmkSOv9kcAS4heRsidOkpeWBgZM+UBrTFAXNYL5Vf2ii9c1trNzpYdaoVil3WIc+wdk+gQ\n",
       "noie3ecCcxt9ITcLAPWt/laGEO/9U6PmzZkenTtsSMQ8uYywJVW+grCstAvCIaAdArAsIWkRDDs/\n",
       "KzLm2YcjY1Lv0UdW73HabE9n6V66cxSzfEmuJssTpKGVp+0vHq73FwL46eOjpMpbRAnNmJFrGJNu\n",
       "Ukf9Yrz+3rghiumCKNXXWPhLYcjxGsIpoCMsIRoFITkW8AuyM8jC1+/QLx4bozCEJIq38+1rtpR6\n",
       "V/yzb8eBlRb3fo5l783N0CWolAzJHaVNzkrTzlEp2bQ2q3TC5gn6wpnoQAmwSiGh2GitnTmVMc5O\n",
       "UyfKWUKCIsU7+fZDKwqdT6DDpvkzAX4/+AMFjk0tDp5GRXLpQ2MUmhgDp5gxQT8+Y7hyPsMi8uxF\n",
       "71H0oebujHALECjFKaW9Lm68n18wXp2kVzIcABytD5iXFzg+WVXkegpAsOOYziqo0OkK76GyquC3\n",
       "ltZAzMhhqlSNmmWTE5T6e3IN05ITFLM4GdN0vtZ3ob8Jh1NAKXFbm5PtLU/eqTSlGjkNAJjdgn/N\n",
       "aedXa0tdi7+t9G0FIF49rtMSEgAs1kDLkTPO7ebm4IUWeyh1bKomXqlgMG6kJmHcSM0clYLJ8XtR\n",
       "1GTnbV3F6I5wCGikAb402npp1h1s7LQUZZSMIfALFOuL3UUrfnS8+rez7v9qcold5tilgHbO1fjK\n",
       "9ubb17u9oshxzMiUBKXWqJNxd+fqb0tLVs4lILFnK71H0Ind7uiPgACVcFJlrb0tV6DzxqqTIhUM\n",
       "CwDf1/rrVhTa33/3pGPxJYdQ2l2cbgVcQSosdx8uqnDtbGjh9SlDVSMNWhlnilfqZk42Th2ZpLpf\n",
       "xrHec5e815zrr0dfBZSwzkZfqsv+1FS1KUknUwPARVvItfKUY+cn57yP7qv07UE3p8B2uhUwLk09\n",
       "e0SCOrK+hbdYHYLjRIl71wWzv9jpEoeOHhGRrJAzyEyNiJuUqX0g2sBN5kGK6y2Blp5M3lsB9Qh4\n",
       "y2Ja6x6+i0ucmKgwMATwhSjdUu49tKrQ/pvN5d53ml2CGwCmJipmKjgmyuaXzNeL2a0AkQ01Th5j\n",
       "2DktO3Jyk8f9vcOBQHV94OK+fPumJmvQHxJoWkaKWq9Vs+yUsbq0zGT1I4RgeH2b5wef7+c7bl8F\n",
       "eKgoHVVZa8ZPEORzR6sT1BzDUAD/d9F78e2Tzv99v8D+fLVTqAKAsbGamKey1Mt9Ann4eH3gTXTz\n",
       "idWtAJ8PQWOk7NzSeQn/OTHDuEikVF1R4z8BQCy+6D1aWRfY0tTGG2OM8rRoPaeIj5ZHzJxszElN\n",
       "VM8K8JS5WOfv8mzRnQAKoEhmt8gyPM4lU9SmBK1MCQBnW4KONT86v1hZ1PbwSXPw4JWussVjtH9Y\n",
       "NCoiL9UoH/6PSu8jFrfY2t36erQHXLIEakMi1SydmzB31h3GGXFDFNPaK8Rme9B79Ixrd0WN+1ij\n",
       "NRQ/doRmuFLBkHSTOm5GruG+pFjFdAmorG4IXH1Qua6ASniclfFtDYt+oUjKipPrCQB7QBQ2lrgP\n",
       "fFzm+9XWUtcqJ3/5vDLDpJ79XHZk3u8nGZ42qlj1+ydtbxysCezrydp6ugmipNJ7WBPB5tydY0jP\n",
       "HaVNzs3QzeE4ZpTbI+ZbnSFPbVOw9vsfnVvqWnirPyCNGD08IlqtYkh2hjZ5dErEQzoNm+6ykyOt\n",
       "Lt5/PQEuSRRKo22VkydK+vvS1XEKlhCJAnsqvcVvH7f/ZU2R67eXbMEGAMiIV5oWZWiWvz5Fv2xG\n",
       "sjqNJQRvn3Rs2lji/lNP19VjAQDgD7FHhujZB9OGqYxRkZxixgRDVlqS6uEOFaJUVu0rPFzctrnF\n",
       "JqijImVp8dEKVWyUXDk92zAuMZ6bFwpBU1HrOw6AdhQgUooChb0+ItMbWJitSo5Ws3IAOGEOtL53\n",
       "0vHZih9sC4vtofZ7Qu6523V/fmGcds1TY3V36pUsBwAbSlxnVh2xLfAD/IAIMDf7XYIkNmXfpp2l\n",
       "18rkAJAy9HKFaIr/qULkeQQKy9zf1JgDB2uaeFNGijo5QsUyacNUUTOnGO42xSnv4oOwpDi1zYkc\n",
       "efUc3I5Gk6PhyTuVKaOGyLUAYPGIoY9Pu/atL/L92+4q9wbflRJ2Trpm/jPjdBtfnqB/dIThcl8A\n",
       "KG7hbRuKnb8qsQsVvVlTrwQAQMUlf3kwJI24Z4JhPMtcfng5GcH49GsrxJpGvvHIaeem2ma+KSjQ\n",
       "lIwUdYyCY8j4dE1KzijNnIP2llF2wcXNnsoapw9XxsgYAl6k+KzUXbi2yP3KR2ecf6z3BFsBICdW\n",
       "nvnIaG3eHybqX7vbpEqUMT+9OL4Qpe8VON7dXuFd39v19FoAABRVePbGGuXTszO0P7tu6lghUonE\n",
       "llRdrhArLvmKdh9u29jcFiRRkfLUxBiFNiqSU9icoZQHo5mYBI1MBgBH6wMNb+U7Pnw337H4gi1Y\n",
       "ciWs+uks3Z9fztUvfzxTm9Ne8XXkvQLHNytOOZeiD4e0PgkAIAYCYknKUNUDSXEKzdWNpnil7r4p\n",
       "xqkjTarZMtk/K8TQ6Qve78qqvXurGwIJqcOUKfUWHsm8KGvxSP68YudXq4pcj39X49uOK2X142O0\n",
       "Tz5/u/7TVybqH0rSya6ZBwD21/gubbrgWdDgEOx9WUhfBaC2ibcEBYm7a7x+ukrBMNcEZggyR0TE\n",
       "T8zUPjikQ4VosQZbTpS4vqizBKvqmvjsqnpfzaZyx9JPiz1/bfGKdgD45XB1zoIMzYbfTdS/NClB\n",
       "Gct0USiY3YL/g0LHy/uq/Ef6uo5+n0R/vyhp17Klpge763f8rMu6YU/zrn2nml+2WtH+Z+5IAAFc\n",
       "2bUTdTDOSNa9+cQY7YLsOIXhevEkCvzph7a8laecz/Un/z4/Ae04XeL3UQb57IwU9ZDr9UuKVajv\n",
       "nxp1+1UVIo/LjztZkKH59fO3G/JemqCfmaCRqbqbd90ZZ8FfjtkfAyD0J/9+C2h1hDwsSxvGjNDc\n",
       "b4zk5NfrSwiQblLHzZhg+Jf4aPlUwpDqkQqa9nimbt1/TDH8OitGMaQnj+RJS6B1fbF7SY1TqO5v\n",
       "/v0WAADl1f7zokgS7s7VT2DZ7pegUjBM7mjtiDZbcN4j0YrHH0rXpCtY0qPX0cVL0rv5jv/ZXend\n",
       "0u/EESYBAFBU4T4Qa5TflZOhTe7pmKpaP8kCVUVw1+yhXfJWvn1P3hnXi33JsTN6PnP3hHZ8Z3/h\n",
       "aLHzmkNPuPj7Bc/F/Q38CwjTpSwQXgE4Vmwry9tpfq/ZFgqFMy4AVDtCvi8rvMvOmv0N4YwbVgEA\n",
       "sPM72/KVnzfspmH7HQGCRLG2yL1+z8XwvPcdCbsAANh+xPzstgMtxeGKt+6MK3/tacfvwhWvIwMi\n",
       "oKEBtm0H7W+UVfkc/Y1V0BhoPlDr/w1w/eu1vjIgAgDg22OtX6/eYfnEz/focrZTHAFR+PSs56/7\n",
       "q32nwpjazxgwAQCwcU/T62t3WL7r6/jVRa6/byp1rei+Z98ZUAEAhEPHPc8fKnTU9nbgtnOe8h0l\n",
       "9hcGIqmODLQAHCy2Xti6v/XNRivf43f4fFvIteu854+VHnR7q9tfBlwAAGz+pnndB9vM26UebAe8\n",
       "SLHujPOTPVW+rwY+sxskAAC2HrA8t2Vvc7ffP1r9o+vwR2dcr92InIAbKKC1FZ5tB1tf+/G8p8sv\n",
       "N/9Q5zd/XR34LYCwV5JdccMEAMDBk45DH243r/X4xGvqxFa/GNpS7n6rwOwNWwHVE26oAADYurf1\n",
       "zx/utOzt+DMKYM0p17YtZZ5VNzqfsB2HewG1WXE8PoZ7gOclbTIvynZf9JV+fqZtfgs/8F/Nu5rB\n",
       "EIBmJ+8QRMmpU7EzGRsf2FzuePqYRbzh/zE26EwdrT10f6r6o8HOYzCJB9Dpff8tbnGLG8L/A/WE\n",
       "roTBs2RqAAAAAElFTkSuQmCC'\n",
       "     style='height:25px; border-radius:12px; display: inline-block; float: left; vertical-align: middle'></img>\n",
       "\n",
       "\n",
       "  <img src='data:image/png;base64,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'\n",
       "       style='height:15px; border-radius:12px; display: inline-block; float: left'></img>\n",
       "  \n",
       "\n",
       "\n",
       "\n",
       "\n",
       "</div>\n"
      ]
     },
     "metadata": {},
     "output_type": "display_data"
    },
    {
     "name": "stderr",
     "output_type": "stream",
     "text": [
      "WARNING:param.panel_extension: bokeh extension not recognized and will be skipped.\n"
     ]
    },
    {
     "data": {
      "application/javascript": "(function(root) {\n  function now() {\n    return new Date();\n  }\n\n  var force = true;\n  var py_version = '3.2.1'.replace('rc', '-rc.').replace('.dev', '-dev.');\n  var is_dev = py_version.indexOf(\"+\") !== -1 || py_version.indexOf(\"-\") !== -1;\n  var reloading = true;\n  var Bokeh = root.Bokeh;\n  var bokeh_loaded = Bokeh != null && (Bokeh.version === py_version || (Bokeh.versions !== undefined && Bokeh.versions.has(py_version)));\n\n  if (typeof (root._bokeh_timeout) === \"undefined\" || force) {\n    root._bokeh_timeout = Date.now() + 5000;\n    root._bokeh_failed_load = false;\n  }\n\n  function run_callbacks() {\n    try {\n      root._bokeh_onload_callbacks.forEach(function(callback) {\n        if (callback != null)\n          callback();\n      });\n    } finally {\n      delete root._bokeh_onload_callbacks;\n    }\n    console.debug(\"Bokeh: all callbacks have finished\");\n  }\n\n  function load_libs(css_urls, js_urls, js_modules, js_exports, callback) {\n    if (css_urls == null) css_urls = [];\n    if (js_urls == null) js_urls = [];\n    if (js_modules == null) js_modules = [];\n    if (js_exports == null) js_exports = {};\n\n    root._bokeh_onload_callbacks.push(callback);\n\n    if (root._bokeh_is_loading > 0) {\n      console.debug(\"Bokeh: BokehJS is being loaded, scheduling callback at\", now());\n      return null;\n    }\n    if (js_urls.length === 0 && js_modules.length === 0 && Object.keys(js_exports).length === 0) {\n      run_callbacks();\n      return null;\n    }\n    if (!reloading) {\n      console.debug(\"Bokeh: BokehJS not loaded, scheduling load and callback at\", now());\n    }\n\n    function on_load() {\n      root._bokeh_is_loading--;\n      if (root._bokeh_is_loading === 0) {\n        console.debug(\"Bokeh: all BokehJS libraries/stylesheets loaded\");\n        run_callbacks()\n      }\n    }\n    window._bokeh_on_load = on_load\n\n    function on_error() {\n      console.error(\"failed to load \" + url);\n    }\n\n    var skip = [];\n    if (window.requirejs) {\n      window.requirejs.config({'packages': {}, 'paths': {'jspanel': 'https://cdn.jsdelivr.net/npm/jspanel4@4.12.0/dist/jspanel', 'jspanel-modal': 'https://cdn.jsdelivr.net/npm/jspanel4@4.12.0/dist/extensions/modal/jspanel.modal', 'jspanel-tooltip': 'https://cdn.jsdelivr.net/npm/jspanel4@4.12.0/dist/extensions/tooltip/jspanel.tooltip', 'jspanel-hint': 'https://cdn.jsdelivr.net/npm/jspanel4@4.12.0/dist/extensions/hint/jspanel.hint', 'jspanel-layout': 'https://cdn.jsdelivr.net/npm/jspanel4@4.12.0/dist/extensions/layout/jspanel.layout', 'jspanel-contextmenu': 'https://cdn.jsdelivr.net/npm/jspanel4@4.12.0/dist/extensions/contextmenu/jspanel.contextmenu', 'jspanel-dock': 'https://cdn.jsdelivr.net/npm/jspanel4@4.12.0/dist/extensions/dock/jspanel.dock', 'gridstack': 'https://cdn.jsdelivr.net/npm/gridstack@7.2.3/dist/gridstack-all', 'notyf': 'https://cdn.jsdelivr.net/npm/notyf@3/notyf.min'}, 'shim': {'jspanel': {'exports': 'jsPanel'}, 'gridstack': {'exports': 'GridStack'}}});\n      require([\"jspanel\"], function(jsPanel) {\n\twindow.jsPanel = jsPanel\n\ton_load()\n      })\n      require([\"jspanel-modal\"], function() {\n\ton_load()\n      })\n      require([\"jspanel-tooltip\"], function() {\n\ton_load()\n      })\n      require([\"jspanel-hint\"], function() {\n\ton_load()\n      })\n      require([\"jspanel-layout\"], function() {\n\ton_load()\n      })\n      require([\"jspanel-contextmenu\"], function() {\n\ton_load()\n      })\n      require([\"jspanel-dock\"], function() {\n\ton_load()\n      })\n      require([\"gridstack\"], function(GridStack) {\n\twindow.GridStack = GridStack\n\ton_load()\n      })\n      require([\"notyf\"], function() {\n\ton_load()\n      })\n      root._bokeh_is_loading = css_urls.length + 9;\n    } else {\n      root._bokeh_is_loading = css_urls.length + js_urls.length + js_modules.length + Object.keys(js_exports).length;\n    }\n\n    var existing_stylesheets = []\n    var links = document.getElementsByTagName('link')\n    for (var i = 0; i < links.length; i++) {\n      var link = links[i]\n      if (link.href != null) {\n\texisting_stylesheets.push(link.href)\n      }\n    }\n    for (var i = 0; i < css_urls.length; i++) {\n      var url = css_urls[i];\n      if (existing_stylesheets.indexOf(url) !== -1) {\n\ton_load()\n\tcontinue;\n      }\n      const element = document.createElement(\"link\");\n      element.onload = on_load;\n      element.onerror = on_error;\n      element.rel = \"stylesheet\";\n      element.type = \"text/css\";\n      element.href = url;\n      console.debug(\"Bokeh: injecting link tag for BokehJS stylesheet: \", url);\n      document.body.appendChild(element);\n    }    if (((window['jsPanel'] !== undefined) && (!(window['jsPanel'] instanceof HTMLElement))) || window.requirejs) {\n      var urls = ['https://cdn.holoviz.org/panel/1.2.3/dist/bundled/floatpanel/jspanel4@4.12.0/dist/jspanel.js', 'https://cdn.holoviz.org/panel/1.2.3/dist/bundled/floatpanel/jspanel4@4.12.0/dist/extensions/modal/jspanel.modal.js', 'https://cdn.holoviz.org/panel/1.2.3/dist/bundled/floatpanel/jspanel4@4.12.0/dist/extensions/tooltip/jspanel.tooltip.js', 'https://cdn.holoviz.org/panel/1.2.3/dist/bundled/floatpanel/jspanel4@4.12.0/dist/extensions/hint/jspanel.hint.js', 'https://cdn.holoviz.org/panel/1.2.3/dist/bundled/floatpanel/jspanel4@4.12.0/dist/extensions/layout/jspanel.layout.js', 'https://cdn.holoviz.org/panel/1.2.3/dist/bundled/floatpanel/jspanel4@4.12.0/dist/extensions/contextmenu/jspanel.contextmenu.js', 'https://cdn.holoviz.org/panel/1.2.3/dist/bundled/floatpanel/jspanel4@4.12.0/dist/extensions/dock/jspanel.dock.js'];\n      for (var i = 0; i < urls.length; i++) {\n        skip.push(urls[i])\n      }\n    }    if (((window['GridStack'] !== undefined) && (!(window['GridStack'] instanceof HTMLElement))) || window.requirejs) {\n      var urls = ['https://cdn.holoviz.org/panel/1.2.3/dist/bundled/gridstack/gridstack@7.2.3/dist/gridstack-all.js'];\n      for (var i = 0; i < urls.length; i++) {\n        skip.push(urls[i])\n      }\n    }    if (((window['Notyf'] !== undefined) && (!(window['Notyf'] instanceof HTMLElement))) || window.requirejs) {\n      var urls = ['https://cdn.holoviz.org/panel/1.2.3/dist/bundled/notificationarea/notyf@3/notyf.min.js'];\n      for (var i = 0; i < urls.length; i++) {\n        skip.push(urls[i])\n      }\n    }    var existing_scripts = []\n    var scripts = document.getElementsByTagName('script')\n    for (var i = 0; i < scripts.length; i++) {\n      var script = scripts[i]\n      if (script.src != null) {\n\texisting_scripts.push(script.src)\n      }\n    }\n    for (var i = 0; i < js_urls.length; i++) {\n      var url = js_urls[i];\n      if (skip.indexOf(url) !== -1 || existing_scripts.indexOf(url) !== -1) {\n\tif (!window.requirejs) {\n\t  on_load();\n\t}\n\tcontinue;\n      }\n      var element = document.createElement('script');\n      element.onload = on_load;\n      element.onerror = on_error;\n      element.async = false;\n      element.src = url;\n      console.debug(\"Bokeh: injecting script tag for BokehJS library: \", url);\n      document.head.appendChild(element);\n    }\n    for (var i = 0; i < js_modules.length; i++) {\n      var url = js_modules[i];\n      if (skip.indexOf(url) !== -1 || existing_scripts.indexOf(url) !== -1) {\n\tif (!window.requirejs) {\n\t  on_load();\n\t}\n\tcontinue;\n      }\n      var element = document.createElement('script');\n      element.onload = on_load;\n      element.onerror = on_error;\n      element.async = false;\n      element.src = url;\n      element.type = \"module\";\n      console.debug(\"Bokeh: injecting script tag for BokehJS library: \", url);\n      document.head.appendChild(element);\n    }\n    for (const name in js_exports) {\n      var url = js_exports[name];\n      if (skip.indexOf(url) >= 0 || root[name] != null) {\n\tif (!window.requirejs) {\n\t  on_load();\n\t}\n\tcontinue;\n      }\n      var element = document.createElement('script');\n      element.onerror = on_error;\n      element.async = false;\n      element.type = \"module\";\n      console.debug(\"Bokeh: injecting script tag for BokehJS library: \", url);\n      element.textContent = `\n      import ${name} from \"${url}\"\n      window.${name} = ${name}\n      window._bokeh_on_load()\n      `\n      document.head.appendChild(element);\n    }\n    if (!js_urls.length && !js_modules.length) {\n      on_load()\n    }\n  };\n\n  function inject_raw_css(css) {\n    const element = document.createElement(\"style\");\n    element.appendChild(document.createTextNode(css));\n    document.body.appendChild(element);\n  }\n\n  var js_urls = [];\n  var js_modules = [];\n  var js_exports = {};\n  var css_urls = [];\n  var inline_js = [    function(Bokeh) {\n      Bokeh.set_log_level(\"info\");\n    },\nfunction(Bokeh) {} // ensure no trailing comma for IE\n  ];\n\n  function run_inline_js() {\n    if ((root.Bokeh !== undefined) || (force === true)) {\n      for (var i = 0; i < inline_js.length; i++) {\n        inline_js[i].call(root, root.Bokeh);\n      }\n      // Cache old bokeh versions\n      if (Bokeh != undefined && !reloading) {\n\tvar NewBokeh = root.Bokeh;\n\tif (Bokeh.versions === undefined) {\n\t  Bokeh.versions = new Map();\n\t}\n\tif (NewBokeh.version !== Bokeh.version) {\n\t  Bokeh.versions.set(NewBokeh.version, NewBokeh)\n\t}\n\troot.Bokeh = Bokeh;\n      }} else if (Date.now() < root._bokeh_timeout) {\n      setTimeout(run_inline_js, 100);\n    } else if (!root._bokeh_failed_load) {\n      console.log(\"Bokeh: BokehJS failed to load within specified timeout.\");\n      root._bokeh_failed_load = true;\n    }\n    root._bokeh_is_initializing = false\n  }\n\n  function load_or_wait() {\n    // Implement a backoff loop that tries to ensure we do not load multiple\n    // versions of Bokeh and its dependencies at the same time.\n    // In recent versions we use the root._bokeh_is_initializing flag\n    // to determine whether there is an ongoing attempt to initialize\n    // bokeh, however for backward compatibility we also try to ensure\n    // that we do not start loading a newer (Panel>=1.0 and Bokeh>3) version\n    // before older versions are fully initialized.\n    if (root._bokeh_is_initializing && Date.now() > root._bokeh_timeout) {\n      root._bokeh_is_initializing = false;\n      root._bokeh_onload_callbacks = undefined;\n      console.log(\"Bokeh: BokehJS was loaded multiple times but one version failed to initialize.\");\n      load_or_wait();\n    } else if (root._bokeh_is_initializing || (typeof root._bokeh_is_initializing === \"undefined\" && root._bokeh_onload_callbacks !== undefined)) {\n      setTimeout(load_or_wait, 100);\n    } else {\n      Bokeh = root.Bokeh;\n      bokeh_loaded = Bokeh != null && (Bokeh.version === py_version || (Bokeh.versions !== undefined && Bokeh.versions.has(py_version)));\n      root._bokeh_is_initializing = true\n      root._bokeh_onload_callbacks = []\n      if (!reloading && (!bokeh_loaded || is_dev)) {\n\troot.Bokeh = undefined;\n      }\n      load_libs(css_urls, js_urls, js_modules, js_exports, function() {\n\tconsole.debug(\"Bokeh: BokehJS plotting callback run at\", now());\n\trun_inline_js();\n      });\n    }\n  }\n  // Give older versions of the autoload script a head-start to ensure\n  // they initialize before we start loading newer version.\n  setTimeout(load_or_wait, 100)\n}(window));",
      "application/vnd.holoviews_load.v0+json": ""
     },
     "metadata": {},
     "output_type": "display_data"
    },
    {
     "data": {
      "application/javascript": "\nif ((window.PyViz === undefined) || (window.PyViz instanceof HTMLElement)) {\n  window.PyViz = {comms: {}, comm_status:{}, kernels:{}, receivers: {}, plot_index: []}\n}\n\n\n    function JupyterCommManager() {\n    }\n\n    JupyterCommManager.prototype.register_target = function(plot_id, comm_id, msg_handler) {\n      if (window.comm_manager || ((window.Jupyter !== undefined) && (Jupyter.notebook.kernel != null))) {\n        var comm_manager = window.comm_manager || Jupyter.notebook.kernel.comm_manager;\n        comm_manager.register_target(comm_id, function(comm) {\n          comm.on_msg(msg_handler);\n        });\n      } else if ((plot_id in window.PyViz.kernels) && (window.PyViz.kernels[plot_id])) {\n        window.PyViz.kernels[plot_id].registerCommTarget(comm_id, function(comm) {\n          comm.onMsg = msg_handler;\n        });\n      } else if (typeof google != 'undefined' && google.colab.kernel != null) {\n        google.colab.kernel.comms.registerTarget(comm_id, (comm) => {\n          var messages = comm.messages[Symbol.asyncIterator]();\n          function processIteratorResult(result) {\n            var message = result.value;\n            console.log(message)\n            var content = {data: message.data, comm_id};\n            var buffers = []\n            for (var buffer of message.buffers || []) {\n              buffers.push(new DataView(buffer))\n            }\n            var metadata = message.metadata || {};\n            var msg = {content, buffers, metadata}\n            msg_handler(msg);\n            return messages.next().then(processIteratorResult);\n          }\n          return messages.next().then(processIteratorResult);\n        })\n      }\n    }\n\n    JupyterCommManager.prototype.get_client_comm = function(plot_id, comm_id, msg_handler) {\n      if (comm_id in window.PyViz.comms) {\n        return window.PyViz.comms[comm_id];\n      } else if (window.comm_manager || ((window.Jupyter !== undefined) && (Jupyter.notebook.kernel != null))) {\n        var comm_manager = window.comm_manager || Jupyter.notebook.kernel.comm_manager;\n        var comm = comm_manager.new_comm(comm_id, {}, {}, {}, comm_id);\n        if (msg_handler) {\n          comm.on_msg(msg_handler);\n        }\n      } else if ((plot_id in window.PyViz.kernels) && (window.PyViz.kernels[plot_id])) {\n        var comm = window.PyViz.kernels[plot_id].connectToComm(comm_id);\n        comm.open();\n        if (msg_handler) {\n          comm.onMsg = msg_handler;\n        }\n      } else if (typeof google != 'undefined' && google.colab.kernel != null) {\n        var comm_promise = google.colab.kernel.comms.open(comm_id)\n        comm_promise.then((comm) => {\n          window.PyViz.comms[comm_id] = comm;\n          if (msg_handler) {\n            var messages = comm.messages[Symbol.asyncIterator]();\n            function processIteratorResult(result) {\n              var message = result.value;\n              var content = {data: message.data};\n              var metadata = message.metadata || {comm_id};\n              var msg = {content, metadata}\n              msg_handler(msg);\n              return messages.next().then(processIteratorResult);\n            }\n            return messages.next().then(processIteratorResult);\n          }\n        }) \n        var sendClosure = (data, metadata, buffers, disposeOnDone) => {\n          return comm_promise.then((comm) => {\n            comm.send(data, metadata, buffers, disposeOnDone);\n          });\n        };\n        var comm = {\n          send: sendClosure\n        };\n      }\n      window.PyViz.comms[comm_id] = comm;\n      return comm;\n    }\n    window.PyViz.comm_manager = new JupyterCommManager();\n    \n\n\nvar JS_MIME_TYPE = 'application/javascript';\nvar HTML_MIME_TYPE = 'text/html';\nvar EXEC_MIME_TYPE = 'application/vnd.holoviews_exec.v0+json';\nvar CLASS_NAME = 'output';\n\n/**\n * Render data to the DOM node\n */\nfunction render(props, node) {\n  var div = document.createElement(\"div\");\n  var script = document.createElement(\"script\");\n  node.appendChild(div);\n  node.appendChild(script);\n}\n\n/**\n * Handle when a new output is added\n */\nfunction handle_add_output(event, handle) {\n  var output_area = handle.output_area;\n  var output = handle.output;\n  if ((output.data == undefined) || (!output.data.hasOwnProperty(EXEC_MIME_TYPE))) {\n    return\n  }\n  var id = output.metadata[EXEC_MIME_TYPE][\"id\"];\n  var toinsert = output_area.element.find(\".\" + CLASS_NAME.split(' ')[0]);\n  if (id !== undefined) {\n    var nchildren = toinsert.length;\n    var html_node = toinsert[nchildren-1].children[0];\n    html_node.innerHTML = output.data[HTML_MIME_TYPE];\n    var scripts = [];\n    var nodelist = html_node.querySelectorAll(\"script\");\n    for (var i in nodelist) {\n      if (nodelist.hasOwnProperty(i)) {\n        scripts.push(nodelist[i])\n      }\n    }\n\n    scripts.forEach( function (oldScript) {\n      var newScript = document.createElement(\"script\");\n      var attrs = [];\n      var nodemap = oldScript.attributes;\n      for (var j in nodemap) {\n        if (nodemap.hasOwnProperty(j)) {\n          attrs.push(nodemap[j])\n        }\n      }\n      attrs.forEach(function(attr) { newScript.setAttribute(attr.name, attr.value) });\n      newScript.appendChild(document.createTextNode(oldScript.innerHTML));\n      oldScript.parentNode.replaceChild(newScript, oldScript);\n    });\n    if (JS_MIME_TYPE in output.data) {\n      toinsert[nchildren-1].children[1].textContent = output.data[JS_MIME_TYPE];\n    }\n    output_area._hv_plot_id = id;\n    if ((window.Bokeh !== undefined) && (id in Bokeh.index)) {\n      window.PyViz.plot_index[id] = Bokeh.index[id];\n    } else {\n      window.PyViz.plot_index[id] = null;\n    }\n  } else if (output.metadata[EXEC_MIME_TYPE][\"server_id\"] !== undefined) {\n    var bk_div = document.createElement(\"div\");\n    bk_div.innerHTML = output.data[HTML_MIME_TYPE];\n    var script_attrs = bk_div.children[0].attributes;\n    for (var i = 0; i < script_attrs.length; i++) {\n      toinsert[toinsert.length - 1].childNodes[1].setAttribute(script_attrs[i].name, script_attrs[i].value);\n    }\n    // store reference to server id on output_area\n    output_area._bokeh_server_id = output.metadata[EXEC_MIME_TYPE][\"server_id\"];\n  }\n}\n\n/**\n * Handle when an output is cleared or removed\n */\nfunction handle_clear_output(event, handle) {\n  var id = handle.cell.output_area._hv_plot_id;\n  var server_id = handle.cell.output_area._bokeh_server_id;\n  if (((id === undefined) || !(id in PyViz.plot_index)) && (server_id !== undefined)) { return; }\n  var comm = window.PyViz.comm_manager.get_client_comm(\"hv-extension-comm\", \"hv-extension-comm\", function () {});\n  if (server_id !== null) {\n    comm.send({event_type: 'server_delete', 'id': server_id});\n    return;\n  } else if (comm !== null) {\n    comm.send({event_type: 'delete', 'id': id});\n  }\n  delete PyViz.plot_index[id];\n  if ((window.Bokeh !== undefined) & (id in window.Bokeh.index)) {\n    var doc = window.Bokeh.index[id].model.document\n    doc.clear();\n    const i = window.Bokeh.documents.indexOf(doc);\n    if (i > -1) {\n      window.Bokeh.documents.splice(i, 1);\n    }\n  }\n}\n\n/**\n * Handle kernel restart event\n */\nfunction handle_kernel_cleanup(event, handle) {\n  delete PyViz.comms[\"hv-extension-comm\"];\n  window.PyViz.plot_index = {}\n}\n\n/**\n * Handle update_display_data messages\n */\nfunction handle_update_output(event, handle) {\n  handle_clear_output(event, {cell: {output_area: handle.output_area}})\n  handle_add_output(event, handle)\n}\n\nfunction register_renderer(events, OutputArea) {\n  function append_mime(data, metadata, element) {\n    // create a DOM node to render to\n    var toinsert = this.create_output_subarea(\n    metadata,\n    CLASS_NAME,\n    EXEC_MIME_TYPE\n    );\n    this.keyboard_manager.register_events(toinsert);\n    // Render to node\n    var props = {data: data, metadata: metadata[EXEC_MIME_TYPE]};\n    render(props, toinsert[0]);\n    element.append(toinsert);\n    return toinsert\n  }\n\n  events.on('output_added.OutputArea', handle_add_output);\n  events.on('output_updated.OutputArea', handle_update_output);\n  events.on('clear_output.CodeCell', handle_clear_output);\n  events.on('delete.Cell', handle_clear_output);\n  events.on('kernel_ready.Kernel', handle_kernel_cleanup);\n\n  OutputArea.prototype.register_mime_type(EXEC_MIME_TYPE, append_mime, {\n    safe: true,\n    index: 0\n  });\n}\n\nif (window.Jupyter !== undefined) {\n  try {\n    var events = require('base/js/events');\n    var OutputArea = require('notebook/js/outputarea').OutputArea;\n    if (OutputArea.prototype.mime_types().indexOf(EXEC_MIME_TYPE) == -1) {\n      register_renderer(events, OutputArea);\n    }\n  } catch(err) {\n  }\n}\n",
      "application/vnd.holoviews_load.v0+json": ""
     },
     "metadata": {},
     "output_type": "display_data"
    },
    {
     "data": {
      "text/html": [
       "<style>*[data-root-id],\n",
       "*[data-root-id] > * {\n",
       "  box-sizing: border-box;\n",
       "  font-family: var(--jp-ui-font-family);\n",
       "  font-size: var(--jp-ui-font-size1);\n",
       "  color: var(--vscode-editor-foreground, var(--jp-ui-font-color1));\n",
       "}\n",
       "\n",
       "/* Override VSCode background color */\n",
       ".cell-output-ipywidget-background:has(\n",
       "    > .cell-output-ipywidget-background > .lm-Widget > *[data-root-id]\n",
       "  ),\n",
       ".cell-output-ipywidget-background:has(> .lm-Widget > *[data-root-id]) {\n",
       "  background-color: transparent !important;\n",
       "}\n",
       "</style>"
      ]
     },
     "metadata": {},
     "output_type": "display_data"
    }
   ],
   "source": [
    "import functools\n",
    "import holoviews as hv\n",
    "from holoviews import opts\n",
    "from holoviews.streams import Stream, Tap\n",
    "import panel as pn\n",
    "\n",
    "hv.extension('bokeh')\n",
    "pn.extension('bokeh')"
   ]
  },
  {
   "cell_type": "code",
   "execution_count": 4,
   "metadata": {},
   "outputs": [
    {
     "name": "stdout",
     "output_type": "stream",
     "text": [
      "printing set for seaborn\n",
      "Pytorch seed was set to 42\n",
      "Numpy seed was set to 42\n",
      "tensorflow seed was set to 42\n"
     ]
    }
   ],
   "source": [
    "# Specify the filename and the path to save the file\n",
    "save_path = './../../../../Northwestern_link/Northwestern_Multimodal'\n",
    "fig_path = save_path + \"_Figures/\"\n",
    "\n",
    "# builds the printer object\n",
    "printing = printer(basepath=fig_path,fileformats=['png'])\n",
    "\n",
    "# Set the style of the plots\n",
    "set_style(\"printing\")\n",
    "\n",
    "# Set the random seed for reproducibility\n",
    "random_seed(seed=42)"
   ]
  },
  {
   "cell_type": "markdown",
   "metadata": {},
   "source": [
    "### Load data"
   ]
  },
  {
   "cell_type": "code",
   "execution_count": 5,
   "metadata": {},
   "outputs": [
    {
     "name": "stdout",
     "output_type": "stream",
     "text": [
      "fetching metadata...\n"
     ]
    },
    {
     "name": "stderr",
     "output_type": "stream",
     "text": [
      "  0%|          | 0/28 [00:00<?, ?it/s]"
     ]
    },
    {
     "name": "stdout",
     "output_type": "stream",
     "text": [
      "\u001b[33;20mWARNING | Hyperspy | `signal_type='EELS'` not understood. See `hs.print_known_signal_types()` for a list of installed signal types or https://github.com/hyperspy/hyperspy-extensions-list for the list of all hyperspy extensions providing signals. (hyperspy.io:744)\u001b[0m\n",
      "\u001b[33;20mWARNING | Hyperspy | `signal_type='EELS'` not understood. See `hs.print_known_signal_types()` for a list of installed signal types or https://github.com/hyperspy/hyperspy-extensions-list for the list of all hyperspy extensions providing signals. (hyperspy.io:744)\u001b[0m\n",
      "\u001b[33;20mWARNING | Hyperspy | `signal_type='EELS'` not understood. See `hs.print_known_signal_types()` for a list of installed signal types or https://github.com/hyperspy/hyperspy-extensions-list for the list of all hyperspy extensions providing signals. (hyperspy.io:744)\u001b[0m\n",
      "\u001b[33;20mWARNING | Hyperspy | `signal_type='EELS'` not understood. See `hs.print_known_signal_types()` for a list of installed signal types or https://github.com/hyperspy/hyperspy-extensions-list for the list of all hyperspy extensions providing signals. (hyperspy.io:744)\u001b[0m\n"
     ]
    },
    {
     "name": "stderr",
     "output_type": "stream",
     "text": [
      "  4%|▎         | 1/28 [00:00<00:17,  1.51it/s]"
     ]
    },
    {
     "name": "stdout",
     "output_type": "stream",
     "text": [
      "\u001b[33;20mWARNING | Hyperspy | `signal_type='EELS'` not understood. See `hs.print_known_signal_types()` for a list of installed signal types or https://github.com/hyperspy/hyperspy-extensions-list for the list of all hyperspy extensions providing signals. (hyperspy.io:744)\u001b[0m\n",
      "\u001b[33;20mWARNING | Hyperspy | `signal_type='EELS'` not understood. See `hs.print_known_signal_types()` for a list of installed signal types or https://github.com/hyperspy/hyperspy-extensions-list for the list of all hyperspy extensions providing signals. (hyperspy.io:744)\u001b[0m\n",
      "\u001b[33;20mWARNING | Hyperspy | `signal_type='EELS'` not understood. See `hs.print_known_signal_types()` for a list of installed signal types or https://github.com/hyperspy/hyperspy-extensions-list for the list of all hyperspy extensions providing signals. (hyperspy.io:744)\u001b[0m\n",
      "\u001b[33;20mWARNING | Hyperspy | `signal_type='EELS'` not understood. See `hs.print_known_signal_types()` for a list of installed signal types or https://github.com/hyperspy/hyperspy-extensions-list for the list of all hyperspy extensions providing signals. (hyperspy.io:744)\u001b[0m\n"
     ]
    },
    {
     "name": "stderr",
     "output_type": "stream",
     "text": [
      "  7%|▋         | 2/28 [00:01<00:13,  1.90it/s]"
     ]
    },
    {
     "name": "stdout",
     "output_type": "stream",
     "text": [
      "\u001b[33;20mWARNING | Hyperspy | `signal_type='EELS'` not understood. See `hs.print_known_signal_types()` for a list of installed signal types or https://github.com/hyperspy/hyperspy-extensions-list for the list of all hyperspy extensions providing signals. (hyperspy.io:744)\u001b[0m\n",
      "\u001b[33;20mWARNING | Hyperspy | `signal_type='EELS'` not understood. See `hs.print_known_signal_types()` for a list of installed signal types or https://github.com/hyperspy/hyperspy-extensions-list for the list of all hyperspy extensions providing signals. (hyperspy.io:744)\u001b[0m\n",
      "\u001b[33;20mWARNING | Hyperspy | `signal_type='EELS'` not understood. See `hs.print_known_signal_types()` for a list of installed signal types or https://github.com/hyperspy/hyperspy-extensions-list for the list of all hyperspy extensions providing signals. (hyperspy.io:744)\u001b[0m\n",
      "\u001b[33;20mWARNING | Hyperspy | `signal_type='EELS'` not understood. See `hs.print_known_signal_types()` for a list of installed signal types or https://github.com/hyperspy/hyperspy-extensions-list for the list of all hyperspy extensions providing signals. (hyperspy.io:744)\u001b[0m\n"
     ]
    },
    {
     "name": "stderr",
     "output_type": "stream",
     "text": [
      " 11%|█         | 3/28 [00:01<00:08,  2.93it/s]"
     ]
    },
    {
     "name": "stdout",
     "output_type": "stream",
     "text": [
      "\u001b[33;20mWARNING | Hyperspy | `signal_type='EELS'` not understood. See `hs.print_known_signal_types()` for a list of installed signal types or https://github.com/hyperspy/hyperspy-extensions-list for the list of all hyperspy extensions providing signals. (hyperspy.io:744)\u001b[0m\n",
      "\u001b[33;20mWARNING | Hyperspy | `signal_type='EELS'` not understood. See `hs.print_known_signal_types()` for a list of installed signal types or https://github.com/hyperspy/hyperspy-extensions-list for the list of all hyperspy extensions providing signals. (hyperspy.io:744)\u001b[0m\n",
      "\u001b[33;20mWARNING | Hyperspy | `signal_type='EELS'` not understood. See `hs.print_known_signal_types()` for a list of installed signal types or https://github.com/hyperspy/hyperspy-extensions-list for the list of all hyperspy extensions providing signals. (hyperspy.io:744)\u001b[0m\n",
      "\u001b[33;20mWARNING | Hyperspy | `signal_type='EELS'` not understood. See `hs.print_known_signal_types()` for a list of installed signal types or https://github.com/hyperspy/hyperspy-extensions-list for the list of all hyperspy extensions providing signals. (hyperspy.io:744)\u001b[0m\n"
     ]
    },
    {
     "name": "stderr",
     "output_type": "stream",
     "text": [
      " 14%|█▍        | 4/28 [00:01<00:06,  3.93it/s]"
     ]
    },
    {
     "name": "stdout",
     "output_type": "stream",
     "text": [
      "\u001b[33;20mWARNING | Hyperspy | `signal_type='EELS'` not understood. See `hs.print_known_signal_types()` for a list of installed signal types or https://github.com/hyperspy/hyperspy-extensions-list for the list of all hyperspy extensions providing signals. (hyperspy.io:744)\u001b[0m\n",
      "\u001b[33;20mWARNING | Hyperspy | `signal_type='EELS'` not understood. See `hs.print_known_signal_types()` for a list of installed signal types or https://github.com/hyperspy/hyperspy-extensions-list for the list of all hyperspy extensions providing signals. (hyperspy.io:744)\u001b[0m\n",
      "\u001b[33;20mWARNING | Hyperspy | `signal_type='EELS'` not understood. See `hs.print_known_signal_types()` for a list of installed signal types or https://github.com/hyperspy/hyperspy-extensions-list for the list of all hyperspy extensions providing signals. (hyperspy.io:744)\u001b[0m\n",
      "\u001b[33;20mWARNING | Hyperspy | `signal_type='EELS'` not understood. See `hs.print_known_signal_types()` for a list of installed signal types or https://github.com/hyperspy/hyperspy-extensions-list for the list of all hyperspy extensions providing signals. (hyperspy.io:744)\u001b[0m\n"
     ]
    },
    {
     "name": "stderr",
     "output_type": "stream",
     "text": [
      " 18%|█▊        | 5/28 [00:01<00:04,  4.84it/s]"
     ]
    },
    {
     "name": "stdout",
     "output_type": "stream",
     "text": [
      "\u001b[33;20mWARNING | Hyperspy | `signal_type='EELS'` not understood. See `hs.print_known_signal_types()` for a list of installed signal types or https://github.com/hyperspy/hyperspy-extensions-list for the list of all hyperspy extensions providing signals. (hyperspy.io:744)\u001b[0m\n",
      "\u001b[33;20mWARNING | Hyperspy | `signal_type='EELS'` not understood. See `hs.print_known_signal_types()` for a list of installed signal types or https://github.com/hyperspy/hyperspy-extensions-list for the list of all hyperspy extensions providing signals. (hyperspy.io:744)\u001b[0m\n",
      "\u001b[33;20mWARNING | Hyperspy | `signal_type='EELS'` not understood. See `hs.print_known_signal_types()` for a list of installed signal types or https://github.com/hyperspy/hyperspy-extensions-list for the list of all hyperspy extensions providing signals. (hyperspy.io:744)\u001b[0m\n",
      "\u001b[33;20mWARNING | Hyperspy | `signal_type='EELS'` not understood. See `hs.print_known_signal_types()` for a list of installed signal types or https://github.com/hyperspy/hyperspy-extensions-list for the list of all hyperspy extensions providing signals. (hyperspy.io:744)\u001b[0m\n"
     ]
    },
    {
     "name": "stderr",
     "output_type": "stream",
     "text": [
      " 21%|██▏       | 6/28 [00:01<00:03,  5.56it/s]"
     ]
    },
    {
     "name": "stdout",
     "output_type": "stream",
     "text": [
      "\u001b[33;20mWARNING | Hyperspy | `signal_type='EELS'` not understood. See `hs.print_known_signal_types()` for a list of installed signal types or https://github.com/hyperspy/hyperspy-extensions-list for the list of all hyperspy extensions providing signals. (hyperspy.io:744)\u001b[0m\n",
      "\u001b[33;20mWARNING | Hyperspy | `signal_type='EELS'` not understood. See `hs.print_known_signal_types()` for a list of installed signal types or https://github.com/hyperspy/hyperspy-extensions-list for the list of all hyperspy extensions providing signals. (hyperspy.io:744)\u001b[0m\n",
      "\u001b[33;20mWARNING | Hyperspy | `signal_type='EELS'` not understood. See `hs.print_known_signal_types()` for a list of installed signal types or https://github.com/hyperspy/hyperspy-extensions-list for the list of all hyperspy extensions providing signals. (hyperspy.io:744)\u001b[0m\n",
      "\u001b[33;20mWARNING | Hyperspy | `signal_type='EELS'` not understood. See `hs.print_known_signal_types()` for a list of installed signal types or https://github.com/hyperspy/hyperspy-extensions-list for the list of all hyperspy extensions providing signals. (hyperspy.io:744)\u001b[0m\n"
     ]
    },
    {
     "name": "stderr",
     "output_type": "stream",
     "text": [
      " 25%|██▌       | 7/28 [00:01<00:03,  6.15it/s]"
     ]
    },
    {
     "name": "stdout",
     "output_type": "stream",
     "text": [
      "\u001b[33;20mWARNING | Hyperspy | `signal_type='EELS'` not understood. See `hs.print_known_signal_types()` for a list of installed signal types or https://github.com/hyperspy/hyperspy-extensions-list for the list of all hyperspy extensions providing signals. (hyperspy.io:744)\u001b[0m\n",
      "\u001b[33;20mWARNING | Hyperspy | `signal_type='EELS'` not understood. See `hs.print_known_signal_types()` for a list of installed signal types or https://github.com/hyperspy/hyperspy-extensions-list for the list of all hyperspy extensions providing signals. (hyperspy.io:744)\u001b[0m\n",
      "\u001b[33;20mWARNING | Hyperspy | `signal_type='EELS'` not understood. See `hs.print_known_signal_types()` for a list of installed signal types or https://github.com/hyperspy/hyperspy-extensions-list for the list of all hyperspy extensions providing signals. (hyperspy.io:744)\u001b[0m\n",
      "\u001b[33;20mWARNING | Hyperspy | `signal_type='EELS'` not understood. See `hs.print_known_signal_types()` for a list of installed signal types or https://github.com/hyperspy/hyperspy-extensions-list for the list of all hyperspy extensions providing signals. (hyperspy.io:744)\u001b[0m\n"
     ]
    },
    {
     "name": "stderr",
     "output_type": "stream",
     "text": [
      " 29%|██▊       | 8/28 [00:01<00:03,  6.61it/s]"
     ]
    },
    {
     "name": "stdout",
     "output_type": "stream",
     "text": [
      "\u001b[33;20mWARNING | Hyperspy | `signal_type='EELS'` not understood. See `hs.print_known_signal_types()` for a list of installed signal types or https://github.com/hyperspy/hyperspy-extensions-list for the list of all hyperspy extensions providing signals. (hyperspy.io:744)\u001b[0m\n",
      "\u001b[33;20mWARNING | Hyperspy | `signal_type='EELS'` not understood. See `hs.print_known_signal_types()` for a list of installed signal types or https://github.com/hyperspy/hyperspy-extensions-list for the list of all hyperspy extensions providing signals. (hyperspy.io:744)\u001b[0m\n",
      "\u001b[33;20mWARNING | Hyperspy | `signal_type='EELS'` not understood. See `hs.print_known_signal_types()` for a list of installed signal types or https://github.com/hyperspy/hyperspy-extensions-list for the list of all hyperspy extensions providing signals. (hyperspy.io:744)\u001b[0m\n",
      "\u001b[33;20mWARNING | Hyperspy | `signal_type='EELS'` not understood. See `hs.print_known_signal_types()` for a list of installed signal types or https://github.com/hyperspy/hyperspy-extensions-list for the list of all hyperspy extensions providing signals. (hyperspy.io:744)\u001b[0m\n"
     ]
    },
    {
     "name": "stderr",
     "output_type": "stream",
     "text": [
      " 32%|███▏      | 9/28 [00:01<00:02,  6.96it/s]"
     ]
    },
    {
     "name": "stdout",
     "output_type": "stream",
     "text": [
      "\u001b[33;20mWARNING | Hyperspy | `signal_type='EELS'` not understood. See `hs.print_known_signal_types()` for a list of installed signal types or https://github.com/hyperspy/hyperspy-extensions-list for the list of all hyperspy extensions providing signals. (hyperspy.io:744)\u001b[0m\n",
      "\u001b[33;20mWARNING | Hyperspy | `signal_type='EELS'` not understood. See `hs.print_known_signal_types()` for a list of installed signal types or https://github.com/hyperspy/hyperspy-extensions-list for the list of all hyperspy extensions providing signals. (hyperspy.io:744)\u001b[0m\n",
      "\u001b[33;20mWARNING | Hyperspy | `signal_type='EELS'` not understood. See `hs.print_known_signal_types()` for a list of installed signal types or https://github.com/hyperspy/hyperspy-extensions-list for the list of all hyperspy extensions providing signals. (hyperspy.io:744)\u001b[0m\n",
      "\u001b[33;20mWARNING | Hyperspy | `signal_type='EELS'` not understood. See `hs.print_known_signal_types()` for a list of installed signal types or https://github.com/hyperspy/hyperspy-extensions-list for the list of all hyperspy extensions providing signals. (hyperspy.io:744)\u001b[0m\n"
     ]
    },
    {
     "name": "stderr",
     "output_type": "stream",
     "text": [
      " 36%|███▌      | 10/28 [00:02<00:02,  7.21it/s]"
     ]
    },
    {
     "name": "stdout",
     "output_type": "stream",
     "text": [
      "\u001b[33;20mWARNING | Hyperspy | `signal_type='EELS'` not understood. See `hs.print_known_signal_types()` for a list of installed signal types or https://github.com/hyperspy/hyperspy-extensions-list for the list of all hyperspy extensions providing signals. (hyperspy.io:744)\u001b[0m\n",
      "\u001b[33;20mWARNING | Hyperspy | `signal_type='EELS'` not understood. See `hs.print_known_signal_types()` for a list of installed signal types or https://github.com/hyperspy/hyperspy-extensions-list for the list of all hyperspy extensions providing signals. (hyperspy.io:744)\u001b[0m\n",
      "\u001b[33;20mWARNING | Hyperspy | `signal_type='EELS'` not understood. See `hs.print_known_signal_types()` for a list of installed signal types or https://github.com/hyperspy/hyperspy-extensions-list for the list of all hyperspy extensions providing signals. (hyperspy.io:744)\u001b[0m\n",
      "\u001b[33;20mWARNING | Hyperspy | `signal_type='EELS'` not understood. See `hs.print_known_signal_types()` for a list of installed signal types or https://github.com/hyperspy/hyperspy-extensions-list for the list of all hyperspy extensions providing signals. (hyperspy.io:744)\u001b[0m\n"
     ]
    },
    {
     "name": "stderr",
     "output_type": "stream",
     "text": [
      " 39%|███▉      | 11/28 [00:02<00:02,  7.39it/s]"
     ]
    },
    {
     "name": "stdout",
     "output_type": "stream",
     "text": [
      "\u001b[33;20mWARNING | Hyperspy | `signal_type='EELS'` not understood. See `hs.print_known_signal_types()` for a list of installed signal types or https://github.com/hyperspy/hyperspy-extensions-list for the list of all hyperspy extensions providing signals. (hyperspy.io:744)\u001b[0m\n",
      "\u001b[33;20mWARNING | Hyperspy | `signal_type='EELS'` not understood. See `hs.print_known_signal_types()` for a list of installed signal types or https://github.com/hyperspy/hyperspy-extensions-list for the list of all hyperspy extensions providing signals. (hyperspy.io:744)\u001b[0m\n",
      "\u001b[33;20mWARNING | Hyperspy | `signal_type='EELS'` not understood. See `hs.print_known_signal_types()` for a list of installed signal types or https://github.com/hyperspy/hyperspy-extensions-list for the list of all hyperspy extensions providing signals. (hyperspy.io:744)\u001b[0m\n",
      "\u001b[33;20mWARNING | Hyperspy | `signal_type='EELS'` not understood. See `hs.print_known_signal_types()` for a list of installed signal types or https://github.com/hyperspy/hyperspy-extensions-list for the list of all hyperspy extensions providing signals. (hyperspy.io:744)\u001b[0m\n"
     ]
    },
    {
     "name": "stderr",
     "output_type": "stream",
     "text": [
      " 43%|████▎     | 12/28 [00:02<00:02,  7.39it/s]"
     ]
    },
    {
     "name": "stdout",
     "output_type": "stream",
     "text": [
      "\u001b[33;20mWARNING | Hyperspy | `signal_type='EELS'` not understood. See `hs.print_known_signal_types()` for a list of installed signal types or https://github.com/hyperspy/hyperspy-extensions-list for the list of all hyperspy extensions providing signals. (hyperspy.io:744)\u001b[0m\n",
      "\u001b[33;20mWARNING | Hyperspy | `signal_type='EELS'` not understood. See `hs.print_known_signal_types()` for a list of installed signal types or https://github.com/hyperspy/hyperspy-extensions-list for the list of all hyperspy extensions providing signals. (hyperspy.io:744)\u001b[0m\n",
      "\u001b[33;20mWARNING | Hyperspy | `signal_type='EELS'` not understood. See `hs.print_known_signal_types()` for a list of installed signal types or https://github.com/hyperspy/hyperspy-extensions-list for the list of all hyperspy extensions providing signals. (hyperspy.io:744)\u001b[0m\n",
      "\u001b[33;20mWARNING | Hyperspy | `signal_type='EELS'` not understood. See `hs.print_known_signal_types()` for a list of installed signal types or https://github.com/hyperspy/hyperspy-extensions-list for the list of all hyperspy extensions providing signals. (hyperspy.io:744)\u001b[0m\n"
     ]
    },
    {
     "name": "stderr",
     "output_type": "stream",
     "text": [
      " 46%|████▋     | 13/28 [00:02<00:02,  7.47it/s]"
     ]
    },
    {
     "name": "stdout",
     "output_type": "stream",
     "text": [
      "\u001b[33;20mWARNING | Hyperspy | `signal_type='EELS'` not understood. See `hs.print_known_signal_types()` for a list of installed signal types or https://github.com/hyperspy/hyperspy-extensions-list for the list of all hyperspy extensions providing signals. (hyperspy.io:744)\u001b[0m\n",
      "\u001b[33;20mWARNING | Hyperspy | `signal_type='EELS'` not understood. See `hs.print_known_signal_types()` for a list of installed signal types or https://github.com/hyperspy/hyperspy-extensions-list for the list of all hyperspy extensions providing signals. (hyperspy.io:744)\u001b[0m\n",
      "\u001b[33;20mWARNING | Hyperspy | `signal_type='EELS'` not understood. See `hs.print_known_signal_types()` for a list of installed signal types or https://github.com/hyperspy/hyperspy-extensions-list for the list of all hyperspy extensions providing signals. (hyperspy.io:744)\u001b[0m\n",
      "\u001b[33;20mWARNING | Hyperspy | `signal_type='EELS'` not understood. See `hs.print_known_signal_types()` for a list of installed signal types or https://github.com/hyperspy/hyperspy-extensions-list for the list of all hyperspy extensions providing signals. (hyperspy.io:744)\u001b[0m\n"
     ]
    },
    {
     "name": "stderr",
     "output_type": "stream",
     "text": [
      " 50%|█████     | 14/28 [00:02<00:01,  7.60it/s]"
     ]
    },
    {
     "name": "stdout",
     "output_type": "stream",
     "text": [
      "\u001b[33;20mWARNING | Hyperspy | `signal_type='EELS'` not understood. See `hs.print_known_signal_types()` for a list of installed signal types or https://github.com/hyperspy/hyperspy-extensions-list for the list of all hyperspy extensions providing signals. (hyperspy.io:744)\u001b[0m\n",
      "\u001b[33;20mWARNING | Hyperspy | `signal_type='EELS'` not understood. See `hs.print_known_signal_types()` for a list of installed signal types or https://github.com/hyperspy/hyperspy-extensions-list for the list of all hyperspy extensions providing signals. (hyperspy.io:744)\u001b[0m\n",
      "\u001b[33;20mWARNING | Hyperspy | `signal_type='EELS'` not understood. See `hs.print_known_signal_types()` for a list of installed signal types or https://github.com/hyperspy/hyperspy-extensions-list for the list of all hyperspy extensions providing signals. (hyperspy.io:744)\u001b[0m\n",
      "\u001b[33;20mWARNING | Hyperspy | `signal_type='EELS'` not understood. See `hs.print_known_signal_types()` for a list of installed signal types or https://github.com/hyperspy/hyperspy-extensions-list for the list of all hyperspy extensions providing signals. (hyperspy.io:744)\u001b[0m\n"
     ]
    },
    {
     "name": "stderr",
     "output_type": "stream",
     "text": [
      " 54%|█████▎    | 15/28 [00:02<00:01,  7.67it/s]"
     ]
    },
    {
     "name": "stdout",
     "output_type": "stream",
     "text": [
      "\u001b[33;20mWARNING | Hyperspy | `signal_type='EELS'` not understood. See `hs.print_known_signal_types()` for a list of installed signal types or https://github.com/hyperspy/hyperspy-extensions-list for the list of all hyperspy extensions providing signals. (hyperspy.io:744)\u001b[0m\n",
      "\u001b[33;20mWARNING | Hyperspy | `signal_type='EELS'` not understood. See `hs.print_known_signal_types()` for a list of installed signal types or https://github.com/hyperspy/hyperspy-extensions-list for the list of all hyperspy extensions providing signals. (hyperspy.io:744)\u001b[0m\n",
      "\u001b[33;20mWARNING | Hyperspy | `signal_type='EELS'` not understood. See `hs.print_known_signal_types()` for a list of installed signal types or https://github.com/hyperspy/hyperspy-extensions-list for the list of all hyperspy extensions providing signals. (hyperspy.io:744)\u001b[0m\n",
      "\u001b[33;20mWARNING | Hyperspy | `signal_type='EELS'` not understood. See `hs.print_known_signal_types()` for a list of installed signal types or https://github.com/hyperspy/hyperspy-extensions-list for the list of all hyperspy extensions providing signals. (hyperspy.io:744)\u001b[0m\n"
     ]
    },
    {
     "name": "stderr",
     "output_type": "stream",
     "text": [
      " 57%|█████▋    | 16/28 [00:02<00:01,  7.71it/s]"
     ]
    },
    {
     "name": "stdout",
     "output_type": "stream",
     "text": [
      "\u001b[33;20mWARNING | Hyperspy | `signal_type='EELS'` not understood. See `hs.print_known_signal_types()` for a list of installed signal types or https://github.com/hyperspy/hyperspy-extensions-list for the list of all hyperspy extensions providing signals. (hyperspy.io:744)\u001b[0m\n",
      "\u001b[33;20mWARNING | Hyperspy | `signal_type='EELS'` not understood. See `hs.print_known_signal_types()` for a list of installed signal types or https://github.com/hyperspy/hyperspy-extensions-list for the list of all hyperspy extensions providing signals. (hyperspy.io:744)\u001b[0m\n",
      "\u001b[33;20mWARNING | Hyperspy | `signal_type='EELS'` not understood. See `hs.print_known_signal_types()` for a list of installed signal types or https://github.com/hyperspy/hyperspy-extensions-list for the list of all hyperspy extensions providing signals. (hyperspy.io:744)\u001b[0m\n",
      "\u001b[33;20mWARNING | Hyperspy | `signal_type='EELS'` not understood. See `hs.print_known_signal_types()` for a list of installed signal types or https://github.com/hyperspy/hyperspy-extensions-list for the list of all hyperspy extensions providing signals. (hyperspy.io:744)\u001b[0m\n"
     ]
    },
    {
     "name": "stderr",
     "output_type": "stream",
     "text": [
      " 61%|██████    | 17/28 [00:02<00:01,  7.77it/s]"
     ]
    },
    {
     "name": "stdout",
     "output_type": "stream",
     "text": [
      "\u001b[33;20mWARNING | Hyperspy | `signal_type='EELS'` not understood. See `hs.print_known_signal_types()` for a list of installed signal types or https://github.com/hyperspy/hyperspy-extensions-list for the list of all hyperspy extensions providing signals. (hyperspy.io:744)\u001b[0m\n",
      "\u001b[33;20mWARNING | Hyperspy | `signal_type='EELS'` not understood. See `hs.print_known_signal_types()` for a list of installed signal types or https://github.com/hyperspy/hyperspy-extensions-list for the list of all hyperspy extensions providing signals. (hyperspy.io:744)\u001b[0m\n",
      "\u001b[33;20mWARNING | Hyperspy | `signal_type='EELS'` not understood. See `hs.print_known_signal_types()` for a list of installed signal types or https://github.com/hyperspy/hyperspy-extensions-list for the list of all hyperspy extensions providing signals. (hyperspy.io:744)\u001b[0m\n",
      "\u001b[33;20mWARNING | Hyperspy | `signal_type='EELS'` not understood. See `hs.print_known_signal_types()` for a list of installed signal types or https://github.com/hyperspy/hyperspy-extensions-list for the list of all hyperspy extensions providing signals. (hyperspy.io:744)\u001b[0m\n"
     ]
    },
    {
     "name": "stderr",
     "output_type": "stream",
     "text": [
      " 64%|██████▍   | 18/28 [00:03<00:01,  7.75it/s]"
     ]
    },
    {
     "name": "stdout",
     "output_type": "stream",
     "text": [
      "\u001b[33;20mWARNING | Hyperspy | `signal_type='EELS'` not understood. See `hs.print_known_signal_types()` for a list of installed signal types or https://github.com/hyperspy/hyperspy-extensions-list for the list of all hyperspy extensions providing signals. (hyperspy.io:744)\u001b[0m\n",
      "\u001b[33;20mWARNING | Hyperspy | `signal_type='EELS'` not understood. See `hs.print_known_signal_types()` for a list of installed signal types or https://github.com/hyperspy/hyperspy-extensions-list for the list of all hyperspy extensions providing signals. (hyperspy.io:744)\u001b[0m\n",
      "\u001b[33;20mWARNING | Hyperspy | `signal_type='EELS'` not understood. See `hs.print_known_signal_types()` for a list of installed signal types or https://github.com/hyperspy/hyperspy-extensions-list for the list of all hyperspy extensions providing signals. (hyperspy.io:744)\u001b[0m\n",
      "\u001b[33;20mWARNING | Hyperspy | `signal_type='EELS'` not understood. See `hs.print_known_signal_types()` for a list of installed signal types or https://github.com/hyperspy/hyperspy-extensions-list for the list of all hyperspy extensions providing signals. (hyperspy.io:744)\u001b[0m\n"
     ]
    },
    {
     "name": "stderr",
     "output_type": "stream",
     "text": [
      " 68%|██████▊   | 19/28 [00:03<00:01,  7.69it/s]"
     ]
    },
    {
     "name": "stdout",
     "output_type": "stream",
     "text": [
      "\u001b[33;20mWARNING | Hyperspy | `signal_type='EELS'` not understood. See `hs.print_known_signal_types()` for a list of installed signal types or https://github.com/hyperspy/hyperspy-extensions-list for the list of all hyperspy extensions providing signals. (hyperspy.io:744)\u001b[0m\n",
      "\u001b[33;20mWARNING | Hyperspy | `signal_type='EELS'` not understood. See `hs.print_known_signal_types()` for a list of installed signal types or https://github.com/hyperspy/hyperspy-extensions-list for the list of all hyperspy extensions providing signals. (hyperspy.io:744)\u001b[0m\n",
      "\u001b[33;20mWARNING | Hyperspy | `signal_type='EELS'` not understood. See `hs.print_known_signal_types()` for a list of installed signal types or https://github.com/hyperspy/hyperspy-extensions-list for the list of all hyperspy extensions providing signals. (hyperspy.io:744)\u001b[0m\n",
      "\u001b[33;20mWARNING | Hyperspy | `signal_type='EELS'` not understood. See `hs.print_known_signal_types()` for a list of installed signal types or https://github.com/hyperspy/hyperspy-extensions-list for the list of all hyperspy extensions providing signals. (hyperspy.io:744)\u001b[0m\n"
     ]
    },
    {
     "name": "stderr",
     "output_type": "stream",
     "text": [
      " 71%|███████▏  | 20/28 [00:03<00:01,  7.74it/s]"
     ]
    },
    {
     "name": "stdout",
     "output_type": "stream",
     "text": [
      "\u001b[33;20mWARNING | Hyperspy | `signal_type='EELS'` not understood. See `hs.print_known_signal_types()` for a list of installed signal types or https://github.com/hyperspy/hyperspy-extensions-list for the list of all hyperspy extensions providing signals. (hyperspy.io:744)\u001b[0m\n",
      "\u001b[33;20mWARNING | Hyperspy | `signal_type='EELS'` not understood. See `hs.print_known_signal_types()` for a list of installed signal types or https://github.com/hyperspy/hyperspy-extensions-list for the list of all hyperspy extensions providing signals. (hyperspy.io:744)\u001b[0m\n",
      "\u001b[33;20mWARNING | Hyperspy | `signal_type='EELS'` not understood. See `hs.print_known_signal_types()` for a list of installed signal types or https://github.com/hyperspy/hyperspy-extensions-list for the list of all hyperspy extensions providing signals. (hyperspy.io:744)\u001b[0m\n",
      "\u001b[33;20mWARNING | Hyperspy | `signal_type='EELS'` not understood. See `hs.print_known_signal_types()` for a list of installed signal types or https://github.com/hyperspy/hyperspy-extensions-list for the list of all hyperspy extensions providing signals. (hyperspy.io:744)\u001b[0m\n"
     ]
    },
    {
     "name": "stderr",
     "output_type": "stream",
     "text": [
      " 75%|███████▌  | 21/28 [00:03<00:00,  7.90it/s]"
     ]
    },
    {
     "name": "stdout",
     "output_type": "stream",
     "text": [
      "\u001b[33;20mWARNING | Hyperspy | `signal_type='EELS'` not understood. See `hs.print_known_signal_types()` for a list of installed signal types or https://github.com/hyperspy/hyperspy-extensions-list for the list of all hyperspy extensions providing signals. (hyperspy.io:744)\u001b[0m\n",
      "\u001b[33;20mWARNING | Hyperspy | `signal_type='EELS'` not understood. See `hs.print_known_signal_types()` for a list of installed signal types or https://github.com/hyperspy/hyperspy-extensions-list for the list of all hyperspy extensions providing signals. (hyperspy.io:744)\u001b[0m\n",
      "\u001b[33;20mWARNING | Hyperspy | `signal_type='EELS'` not understood. See `hs.print_known_signal_types()` for a list of installed signal types or https://github.com/hyperspy/hyperspy-extensions-list for the list of all hyperspy extensions providing signals. (hyperspy.io:744)\u001b[0m\n",
      "\u001b[33;20mWARNING | Hyperspy | `signal_type='EELS'` not understood. See `hs.print_known_signal_types()` for a list of installed signal types or https://github.com/hyperspy/hyperspy-extensions-list for the list of all hyperspy extensions providing signals. (hyperspy.io:744)\u001b[0m\n"
     ]
    },
    {
     "name": "stderr",
     "output_type": "stream",
     "text": [
      " 79%|███████▊  | 22/28 [00:03<00:00,  7.87it/s]"
     ]
    },
    {
     "name": "stdout",
     "output_type": "stream",
     "text": [
      "\u001b[33;20mWARNING | Hyperspy | `signal_type='EELS'` not understood. See `hs.print_known_signal_types()` for a list of installed signal types or https://github.com/hyperspy/hyperspy-extensions-list for the list of all hyperspy extensions providing signals. (hyperspy.io:744)\u001b[0m\n",
      "\u001b[33;20mWARNING | Hyperspy | `signal_type='EELS'` not understood. See `hs.print_known_signal_types()` for a list of installed signal types or https://github.com/hyperspy/hyperspy-extensions-list for the list of all hyperspy extensions providing signals. (hyperspy.io:744)\u001b[0m\n",
      "\u001b[33;20mWARNING | Hyperspy | `signal_type='EELS'` not understood. See `hs.print_known_signal_types()` for a list of installed signal types or https://github.com/hyperspy/hyperspy-extensions-list for the list of all hyperspy extensions providing signals. (hyperspy.io:744)\u001b[0m\n",
      "\u001b[33;20mWARNING | Hyperspy | `signal_type='EELS'` not understood. See `hs.print_known_signal_types()` for a list of installed signal types or https://github.com/hyperspy/hyperspy-extensions-list for the list of all hyperspy extensions providing signals. (hyperspy.io:744)\u001b[0m\n"
     ]
    },
    {
     "name": "stderr",
     "output_type": "stream",
     "text": [
      " 82%|████████▏ | 23/28 [00:03<00:00,  7.90it/s]"
     ]
    },
    {
     "name": "stdout",
     "output_type": "stream",
     "text": [
      "\u001b[33;20mWARNING | Hyperspy | `signal_type='EELS'` not understood. See `hs.print_known_signal_types()` for a list of installed signal types or https://github.com/hyperspy/hyperspy-extensions-list for the list of all hyperspy extensions providing signals. (hyperspy.io:744)\u001b[0m\n",
      "\u001b[33;20mWARNING | Hyperspy | `signal_type='EELS'` not understood. See `hs.print_known_signal_types()` for a list of installed signal types or https://github.com/hyperspy/hyperspy-extensions-list for the list of all hyperspy extensions providing signals. (hyperspy.io:744)\u001b[0m\n",
      "\u001b[33;20mWARNING | Hyperspy | `signal_type='EELS'` not understood. See `hs.print_known_signal_types()` for a list of installed signal types or https://github.com/hyperspy/hyperspy-extensions-list for the list of all hyperspy extensions providing signals. (hyperspy.io:744)\u001b[0m\n",
      "\u001b[33;20mWARNING | Hyperspy | `signal_type='EELS'` not understood. See `hs.print_known_signal_types()` for a list of installed signal types or https://github.com/hyperspy/hyperspy-extensions-list for the list of all hyperspy extensions providing signals. (hyperspy.io:744)\u001b[0m\n"
     ]
    },
    {
     "name": "stderr",
     "output_type": "stream",
     "text": [
      " 86%|████████▌ | 24/28 [00:03<00:00,  7.91it/s]"
     ]
    },
    {
     "name": "stdout",
     "output_type": "stream",
     "text": [
      "\u001b[33;20mWARNING | Hyperspy | `signal_type='EELS'` not understood. See `hs.print_known_signal_types()` for a list of installed signal types or https://github.com/hyperspy/hyperspy-extensions-list for the list of all hyperspy extensions providing signals. (hyperspy.io:744)\u001b[0m\n",
      "\u001b[33;20mWARNING | Hyperspy | `signal_type='EELS'` not understood. See `hs.print_known_signal_types()` for a list of installed signal types or https://github.com/hyperspy/hyperspy-extensions-list for the list of all hyperspy extensions providing signals. (hyperspy.io:744)\u001b[0m\n",
      "\u001b[33;20mWARNING | Hyperspy | `signal_type='EELS'` not understood. See `hs.print_known_signal_types()` for a list of installed signal types or https://github.com/hyperspy/hyperspy-extensions-list for the list of all hyperspy extensions providing signals. (hyperspy.io:744)\u001b[0m\n",
      "\u001b[33;20mWARNING | Hyperspy | `signal_type='EELS'` not understood. See `hs.print_known_signal_types()` for a list of installed signal types or https://github.com/hyperspy/hyperspy-extensions-list for the list of all hyperspy extensions providing signals. (hyperspy.io:744)\u001b[0m\n"
     ]
    },
    {
     "name": "stderr",
     "output_type": "stream",
     "text": [
      " 89%|████████▉ | 25/28 [00:04<00:00,  7.90it/s]"
     ]
    },
    {
     "name": "stdout",
     "output_type": "stream",
     "text": [
      "\u001b[33;20mWARNING | Hyperspy | `signal_type='EELS'` not understood. See `hs.print_known_signal_types()` for a list of installed signal types or https://github.com/hyperspy/hyperspy-extensions-list for the list of all hyperspy extensions providing signals. (hyperspy.io:744)\u001b[0m\n",
      "\u001b[33;20mWARNING | Hyperspy | `signal_type='EELS'` not understood. See `hs.print_known_signal_types()` for a list of installed signal types or https://github.com/hyperspy/hyperspy-extensions-list for the list of all hyperspy extensions providing signals. (hyperspy.io:744)\u001b[0m\n",
      "\u001b[33;20mWARNING | Hyperspy | `signal_type='EELS'` not understood. See `hs.print_known_signal_types()` for a list of installed signal types or https://github.com/hyperspy/hyperspy-extensions-list for the list of all hyperspy extensions providing signals. (hyperspy.io:744)\u001b[0m\n",
      "\u001b[33;20mWARNING | Hyperspy | `signal_type='EELS'` not understood. See `hs.print_known_signal_types()` for a list of installed signal types or https://github.com/hyperspy/hyperspy-extensions-list for the list of all hyperspy extensions providing signals. (hyperspy.io:744)\u001b[0m\n"
     ]
    },
    {
     "name": "stderr",
     "output_type": "stream",
     "text": [
      " 93%|█████████▎| 26/28 [00:04<00:00,  7.80it/s]"
     ]
    },
    {
     "name": "stdout",
     "output_type": "stream",
     "text": [
      "\u001b[33;20mWARNING | Hyperspy | `signal_type='EELS'` not understood. See `hs.print_known_signal_types()` for a list of installed signal types or https://github.com/hyperspy/hyperspy-extensions-list for the list of all hyperspy extensions providing signals. (hyperspy.io:744)\u001b[0m\n",
      "\u001b[33;20mWARNING | Hyperspy | `signal_type='EELS'` not understood. See `hs.print_known_signal_types()` for a list of installed signal types or https://github.com/hyperspy/hyperspy-extensions-list for the list of all hyperspy extensions providing signals. (hyperspy.io:744)\u001b[0m\n",
      "\u001b[33;20mWARNING | Hyperspy | `signal_type='EELS'` not understood. See `hs.print_known_signal_types()` for a list of installed signal types or https://github.com/hyperspy/hyperspy-extensions-list for the list of all hyperspy extensions providing signals. (hyperspy.io:744)\u001b[0m\n",
      "\u001b[33;20mWARNING | Hyperspy | `signal_type='EELS'` not understood. See `hs.print_known_signal_types()` for a list of installed signal types or https://github.com/hyperspy/hyperspy-extensions-list for the list of all hyperspy extensions providing signals. (hyperspy.io:744)\u001b[0m\n"
     ]
    },
    {
     "name": "stderr",
     "output_type": "stream",
     "text": [
      " 96%|█████████▋| 27/28 [00:04<00:00,  7.84it/s]"
     ]
    },
    {
     "name": "stdout",
     "output_type": "stream",
     "text": [
      "\u001b[33;20mWARNING | Hyperspy | `signal_type='EELS'` not understood. See `hs.print_known_signal_types()` for a list of installed signal types or https://github.com/hyperspy/hyperspy-extensions-list for the list of all hyperspy extensions providing signals. (hyperspy.io:744)\u001b[0m\n",
      "\u001b[33;20mWARNING | Hyperspy | `signal_type='EELS'` not understood. See `hs.print_known_signal_types()` for a list of installed signal types or https://github.com/hyperspy/hyperspy-extensions-list for the list of all hyperspy extensions providing signals. (hyperspy.io:744)\u001b[0m\n",
      "\u001b[33;20mWARNING | Hyperspy | `signal_type='EELS'` not understood. See `hs.print_known_signal_types()` for a list of installed signal types or https://github.com/hyperspy/hyperspy-extensions-list for the list of all hyperspy extensions providing signals. (hyperspy.io:744)\u001b[0m\n",
      "\u001b[33;20mWARNING | Hyperspy | `signal_type='EELS'` not understood. See `hs.print_known_signal_types()` for a list of installed signal types or https://github.com/hyperspy/hyperspy-extensions-list for the list of all hyperspy extensions providing signals. (hyperspy.io:744)\u001b[0m\n"
     ]
    },
    {
     "name": "stderr",
     "output_type": "stream",
     "text": [
      "100%|██████████| 28/28 [00:04<00:00,  6.37it/s]\n"
     ]
    },
    {
     "name": "stdout",
     "output_type": "stream",
     "text": [
      "28 valid samples\n",
      "\n",
      "getting spectral axis labels...\n",
      "finding High Loss background spectrum...\n"
     ]
    },
    {
     "name": "stderr",
     "output_type": "stream",
     "text": [
      "100%|██████████| 28/28 [00:08<00:00,  3.43it/s]\n"
     ]
    },
    {
     "name": "stdout",
     "output_type": "stream",
     "text": [
      "fitting eels scalers...\n"
     ]
    },
    {
     "name": "stderr",
     "output_type": "stream",
     "text": [
      "100%|██████████| 28/28 [00:14<00:00,  1.89it/s]"
     ]
    },
    {
     "name": "stdout",
     "output_type": "stream",
     "text": [
      "\tEELS finished\n",
      "done\n"
     ]
    },
    {
     "name": "stderr",
     "output_type": "stream",
     "text": [
      "\n"
     ]
    }
   ],
   "source": [
    "dset = STEM_EELS_Dataset(save_path, ['kernel_sum','eels'],kernel_size=8,\n",
    "                 EELS_roi={'LL':[(-31+15.5,274)], 'HL': [(501+15.5,807)]},\n",
    "                 overwrite_eels=False,\n",
    "                 overwrite_diff=False,)"
   ]
  },
  {
   "cell_type": "code",
   "execution_count": 6,
   "metadata": {},
   "outputs": [],
   "source": [
    "# # we will need the means for visualization\n",
    "# dset.write_means(overwrite_eels=False) # just do once"
   ]
  },
  {
   "cell_type": "markdown",
   "metadata": {},
   "source": [
    "### Load model and embedding"
   ]
  },
  {
   "cell_type": "code",
   "execution_count": 7,
   "metadata": {},
   "outputs": [],
   "source": [
    "model1D = stem.FitterAutoencoder_1D(function=stem.generate_pseudovoigt_1D,\n",
    "                                 dset = dset,\n",
    "                                 input_channels=dset.eels_chs,\n",
    "                                 num_params=4,\n",
    "                                 num_fits=96,\n",
    "                                 limits=[1,dset.spec_len, dset.spec_len], # A, mean, fwhm \n",
    "                                 # TODO: do I have to change x axis so mean and fwhm aren't too different from the rest?\n",
    "                                 device='cuda:0',\n",
    "                                 flatten_from = 1,\n",
    "                                 learning_rate = 3e-5,\n",
    "                                 folder='/home/m3learning/Northwestern/Northwestern_link/Northwestern_Multimodal_Checkpoints/coef1_scaled_maximize_A'\n",
    "                            )\n",
    "\n",
    "# checkpoint = '/home/m3learning/Northwestern/m3_learning/m3_learning/papers/Multimodal/save_folder/(2024-08-22)_epoch:0010_l1coef:0.0050_lr:0.00003_trainloss:0.0097.pkl'\n",
    "\n",
    "# model1D.load_weights(checkpoint)"
   ]
  },
  {
   "cell_type": "code",
   "execution_count": 9,
   "metadata": {},
   "outputs": [],
   "source": [
    "# model1D.checkpoint = model1D.folder + f'/(2024-08-28)_' +\\\n",
    "#     f'epoch:{10:04d}_l1coef:{1e-1:.4f}'+f'_lr:{model1D.learning_rate}' +\\\n",
    "#     f'_trainloss:inf.pkl'\n",
    "# model1D.save_checkpoint(10,\n",
    "#                         train_loss='inf',\n",
    "#                         coef_1=1e-1, \n",
    "#                         coef_2=0,\n",
    "#                         coef_3=0,\n",
    "#                         ln_parm=2)"
   ]
  },
  {
   "cell_type": "code",
   "execution_count": 10,
   "metadata": {},
   "outputs": [
    {
     "name": "stderr",
     "output_type": "stream",
     "text": [
      "  0%|          | 0/3670 [00:00<?, ?it/s]"
     ]
    },
    {
     "name": "stderr",
     "output_type": "stream",
     "text": [
      "  0%|          | 2/3670 [00:03<1:46:33,  1.74s/it]\n"
     ]
    },
    {
     "ename": "KeyboardInterrupt",
     "evalue": "",
     "output_type": "error",
     "traceback": [
      "\u001b[0;31m---------------------------------------------------------------------------\u001b[0m",
      "\u001b[0;31mKeyboardInterrupt\u001b[0m                         Traceback (most recent call last)",
      "Cell \u001b[0;32mIn[10], line 2\u001b[0m\n\u001b[1;32m      1\u001b[0m \u001b[38;5;66;03m# optional train\u001b[39;00m\n\u001b[0;32m----> 2\u001b[0m model1D\u001b[38;5;241m.\u001b[39mTrain( dset, batch_size\u001b[38;5;241m=\u001b[39m\u001b[38;5;241m128\u001b[39m, coef_1\u001b[38;5;241m=\u001b[39m\u001b[38;5;241m1e-1\u001b[39m, with_scheduler\u001b[38;5;241m=\u001b[39m\u001b[38;5;28;01mFalse\u001b[39;00m )\n",
      "File \u001b[0;32m~/Northwestern/m3_learning/m3_learning/papers/Multimodal/./../../src/m3_learning/nn/STEM_AE_multimodal/STEM_AE.py:1307\u001b[0m, in \u001b[0;36mFitterAutoencoder_1D.Train\u001b[0;34m(self, data, max_learning_rate, coef_1, coef_2, coef_3, seed, epochs, with_scheduler, ln_parm, epoch_, batch_size, best_train_loss, save_emb_every)\u001b[0m\n\u001b[1;32m   1303\u001b[0m     \u001b[38;5;28mprint\u001b[39m(\u001b[38;5;124m'\u001b[39m\u001b[38;5;124m.............................\u001b[39m\u001b[38;5;124m'\u001b[39m)\n\u001b[1;32m   1304\u001b[0m     fill_embeddings \u001b[38;5;241m=\u001b[39m \u001b[38;5;28mself\u001b[39m\u001b[38;5;241m.\u001b[39mget_embedding(data, train\u001b[38;5;241m=\u001b[39m\u001b[38;5;28;01mTrue\u001b[39;00m)\n\u001b[0;32m-> 1307\u001b[0m train \u001b[38;5;241m=\u001b[39m \u001b[38;5;28mself\u001b[39m\u001b[38;5;241m.\u001b[39mloss_function(\n\u001b[1;32m   1308\u001b[0m     \u001b[38;5;28mself\u001b[39m\u001b[38;5;241m.\u001b[39mDataLoader_, coef_1, coef_2, coef_3, ln_parm,\n\u001b[1;32m   1309\u001b[0m     fill_embeddings\u001b[38;5;241m=\u001b[39mfill_embeddings)\n\u001b[1;32m   1310\u001b[0m train_loss \u001b[38;5;241m=\u001b[39m train\n\u001b[1;32m   1311\u001b[0m train_loss \u001b[38;5;241m/\u001b[39m\u001b[38;5;241m=\u001b[39m \u001b[38;5;28mlen\u001b[39m(\u001b[38;5;28mself\u001b[39m\u001b[38;5;241m.\u001b[39mDataLoader_)\n",
      "File \u001b[0;32m~/Northwestern/m3_learning/m3_learning/papers/Multimodal/./../../src/m3_learning/nn/STEM_AE_multimodal/STEM_AE.py:1414\u001b[0m, in \u001b[0;36mFitterAutoencoder_1D.loss_function\u001b[0;34m(self, train_iterator, coef1, coef2, coef3, ln_parm, beta, fill_embeddings)\u001b[0m\n\u001b[1;32m   1411\u001b[0m train_loss \u001b[38;5;241m+\u001b[39m\u001b[38;5;241m=\u001b[39m loss\u001b[38;5;241m.\u001b[39mitem()\n\u001b[1;32m   1413\u001b[0m \u001b[38;5;66;03m# backward pass\u001b[39;00m\n\u001b[0;32m-> 1414\u001b[0m loss\u001b[38;5;241m.\u001b[39mbackward()\n\u001b[1;32m   1416\u001b[0m \u001b[38;5;66;03m# update the weights\u001b[39;00m\n\u001b[1;32m   1417\u001b[0m \u001b[38;5;28mself\u001b[39m\u001b[38;5;241m.\u001b[39moptimizer\u001b[38;5;241m.\u001b[39mstep()\n",
      "File \u001b[0;32m~/anaconda3/envs/northwestern/lib/python3.11/site-packages/torch/_tensor.py:487\u001b[0m, in \u001b[0;36mTensor.backward\u001b[0;34m(self, gradient, retain_graph, create_graph, inputs)\u001b[0m\n\u001b[1;32m    477\u001b[0m \u001b[38;5;28;01mif\u001b[39;00m has_torch_function_unary(\u001b[38;5;28mself\u001b[39m):\n\u001b[1;32m    478\u001b[0m     \u001b[38;5;28;01mreturn\u001b[39;00m handle_torch_function(\n\u001b[1;32m    479\u001b[0m         Tensor\u001b[38;5;241m.\u001b[39mbackward,\n\u001b[1;32m    480\u001b[0m         (\u001b[38;5;28mself\u001b[39m,),\n\u001b[0;32m   (...)\u001b[0m\n\u001b[1;32m    485\u001b[0m         inputs\u001b[38;5;241m=\u001b[39minputs,\n\u001b[1;32m    486\u001b[0m     )\n\u001b[0;32m--> 487\u001b[0m torch\u001b[38;5;241m.\u001b[39mautograd\u001b[38;5;241m.\u001b[39mbackward(\n\u001b[1;32m    488\u001b[0m     \u001b[38;5;28mself\u001b[39m, gradient, retain_graph, create_graph, inputs\u001b[38;5;241m=\u001b[39minputs\n\u001b[1;32m    489\u001b[0m )\n",
      "File \u001b[0;32m~/anaconda3/envs/northwestern/lib/python3.11/site-packages/torch/autograd/__init__.py:200\u001b[0m, in \u001b[0;36mbackward\u001b[0;34m(tensors, grad_tensors, retain_graph, create_graph, grad_variables, inputs)\u001b[0m\n\u001b[1;32m    195\u001b[0m     retain_graph \u001b[38;5;241m=\u001b[39m create_graph\n\u001b[1;32m    197\u001b[0m \u001b[38;5;66;03m# The reason we repeat same the comment below is that\u001b[39;00m\n\u001b[1;32m    198\u001b[0m \u001b[38;5;66;03m# some Python versions print out the first line of a multi-line function\u001b[39;00m\n\u001b[1;32m    199\u001b[0m \u001b[38;5;66;03m# calls in the traceback and some print out the last line\u001b[39;00m\n\u001b[0;32m--> 200\u001b[0m Variable\u001b[38;5;241m.\u001b[39m_execution_engine\u001b[38;5;241m.\u001b[39mrun_backward(  \u001b[38;5;66;03m# Calls into the C++ engine to run the backward pass\u001b[39;00m\n\u001b[1;32m    201\u001b[0m     tensors, grad_tensors_, retain_graph, create_graph, inputs,\n\u001b[1;32m    202\u001b[0m     allow_unreachable\u001b[38;5;241m=\u001b[39m\u001b[38;5;28;01mTrue\u001b[39;00m, accumulate_grad\u001b[38;5;241m=\u001b[39m\u001b[38;5;28;01mTrue\u001b[39;00m)\n",
      "\u001b[0;31mKeyboardInterrupt\u001b[0m: "
     ]
    }
   ],
   "source": [
    "# optional train\n",
    "model1D.Train( dset, batch_size=128, coef_1=1e-1, with_scheduler=False )"
   ]
  },
  {
   "cell_type": "code",
   "execution_count": 8,
   "metadata": {},
   "outputs": [
    {
     "name": "stdout",
     "output_type": "stream",
     "text": [
      "[Errno 2] Unable to open file (unable to open file: name = '/home/m3learning/Northwestern/Northwestern_link/Northwestern_Multimodal_Checkpoints/coef1_scaled_maximize_A/./embeddings_1D.h5', errno = 2, error message = 'No such file or directory', flags = 1, o_flags = 2)\n",
      "Embeddings not opened\n",
      "[Errno 2] Unable to open file (unable to open file: name = '/home/m3learning/Northwestern/Northwestern_link/Northwestern_Multimodal_Checkpoints/coef1_scaled_maximize_A/./embeddings_1D.h5', errno = 2, error message = 'No such file or directory', flags = 1, o_flags = 2)\n",
      "Generated not opened\n"
     ]
    }
   ],
   "source": [
    "# load old embedding\n",
    "checkpoint = '/home/m3learning/Northwestern/Northwestern_link/Northwestern_Multimodal_Checkpoints/coef1_scaled_maximize_A/(2024-08-29)_epoch:0024_l1coef:0.0000_lr:0.00003_trainloss:0.0095.pkl'\n",
    "\n",
    "\n",
    "model1D.load_weights(checkpoint)"
   ]
  },
  {
   "cell_type": "code",
   "execution_count": 9,
   "metadata": {},
   "outputs": [
    {
     "name": "stderr",
     "output_type": "stream",
     "text": [
      "  4%|▎         | 533/14679 [00:33<14:43, 16.01it/s]\n"
     ]
    },
    {
     "ename": "KeyboardInterrupt",
     "evalue": "",
     "output_type": "error",
     "traceback": [
      "\u001b[0;31m---------------------------------------------------------------------------\u001b[0m",
      "\u001b[0;31mKeyboardInterrupt\u001b[0m                         Traceback (most recent call last)",
      "Cell \u001b[0;32mIn[9], line 2\u001b[0m\n\u001b[1;32m      1\u001b[0m \u001b[38;5;66;03m# you only need to write the embeddings one time\u001b[39;00m\n\u001b[0;32m----> 2\u001b[0m embedding_ \u001b[38;5;241m=\u001b[39m model1D\u001b[38;5;241m.\u001b[39mget_embedding(dset,train\u001b[38;5;241m=\u001b[39m\u001b[38;5;28;01mFalse\u001b[39;00m)\n",
      "File \u001b[0;32m~/Northwestern/m3_learning/m3_learning/papers/Multimodal/./../../src/m3_learning/nn/STEM_AE_multimodal/STEM_AE.py:1574\u001b[0m, in \u001b[0;36mFitterAutoencoder_1D.get_embedding\u001b[0;34m(self, data, batch_size, train, check)\u001b[0m\n\u001b[1;32m   1571\u001b[0m             embedding,fit \u001b[38;5;241m=\u001b[39m \u001b[38;5;28mself\u001b[39m\u001b[38;5;241m.\u001b[39mFitter(test_value,return_sum\u001b[38;5;241m=\u001b[39m\u001b[38;5;28;01mFalse\u001b[39;00m)\n\u001b[1;32m   1573\u001b[0m             \u001b[38;5;28mself\u001b[39m\u001b[38;5;241m.\u001b[39membedding[i\u001b[38;5;241m*\u001b[39mbatch_size:(i\u001b[38;5;241m+\u001b[39m\u001b[38;5;241m1\u001b[39m)\u001b[38;5;241m*\u001b[39mbatch_size] \u001b[38;5;241m=\u001b[39m embedding\u001b[38;5;241m.\u001b[39mreshape(batch_size,s[\u001b[38;5;241m1\u001b[39m],s[\u001b[38;5;241m2\u001b[39m],s[\u001b[38;5;241m3\u001b[39m])\u001b[38;5;241m.\u001b[39mcpu()\u001b[38;5;241m.\u001b[39mdetach()\u001b[38;5;241m.\u001b[39mnumpy()\n\u001b[0;32m-> 1574\u001b[0m             \u001b[38;5;28mself\u001b[39m\u001b[38;5;241m.\u001b[39mfits[i\u001b[38;5;241m*\u001b[39mbatch_size:(i\u001b[38;5;241m+\u001b[39m\u001b[38;5;241m1\u001b[39m)\u001b[38;5;241m*\u001b[39mbatch_size] \u001b[38;5;241m=\u001b[39m fit\u001b[38;5;241m.\u001b[39mreshape(batch_size,s[\u001b[38;5;241m1\u001b[39m],\u001b[38;5;28mself\u001b[39m\u001b[38;5;241m.\u001b[39mnum_fits,\u001b[38;5;241m-\u001b[39m\u001b[38;5;241m1\u001b[39m)\u001b[38;5;241m.\u001b[39mcpu()\u001b[38;5;241m.\u001b[39mdetach()\u001b[38;5;241m.\u001b[39mnumpy()\n\u001b[1;32m   1576\u001b[0m h\u001b[38;5;241m.\u001b[39mclose()\n",
      "File \u001b[0;32mh5py/_objects.pyx:54\u001b[0m, in \u001b[0;36mh5py._objects.with_phil.wrapper\u001b[0;34m()\u001b[0m\n",
      "File \u001b[0;32mh5py/_objects.pyx:55\u001b[0m, in \u001b[0;36mh5py._objects.with_phil.wrapper\u001b[0;34m()\u001b[0m\n",
      "File \u001b[0;32m~/anaconda3/envs/northwestern/lib/python3.11/site-packages/h5py/_hl/dataset.py:982\u001b[0m, in \u001b[0;36mDataset.__setitem__\u001b[0;34m(self, args, val)\u001b[0m\n\u001b[1;32m    980\u001b[0m mspace \u001b[38;5;241m=\u001b[39m h5s\u001b[38;5;241m.\u001b[39mcreate_simple(selection\u001b[38;5;241m.\u001b[39mexpand_shape(mshape))\n\u001b[1;32m    981\u001b[0m \u001b[38;5;28;01mfor\u001b[39;00m fspace \u001b[38;5;129;01min\u001b[39;00m selection\u001b[38;5;241m.\u001b[39mbroadcast(mshape):\n\u001b[0;32m--> 982\u001b[0m     \u001b[38;5;28mself\u001b[39m\u001b[38;5;241m.\u001b[39mid\u001b[38;5;241m.\u001b[39mwrite(mspace, fspace, val, mtype, dxpl\u001b[38;5;241m=\u001b[39m\u001b[38;5;28mself\u001b[39m\u001b[38;5;241m.\u001b[39m_dxpl)\n",
      "\u001b[0;31mKeyboardInterrupt\u001b[0m: "
     ]
    }
   ],
   "source": [
    "# you only need to write the embeddings one time\n",
    "embedding_ = model1D.get_embedding(dset,train=False)"
   ]
  },
  {
   "cell_type": "code",
   "execution_count": 10,
   "metadata": {},
   "outputs": [],
   "source": [
    "embedding = EELS_Embedding_Dataset(dset,model1D)"
   ]
  },
  {
   "cell_type": "markdown",
   "metadata": {},
   "source": [
    "## Viewing input data"
   ]
  },
  {
   "cell_type": "code",
   "execution_count": null,
   "metadata": {},
   "outputs": [],
   "source": [
    "hv_viz = Viz_EELS_hv( dset, model1D, embedding,save_path, printing)"
   ]
  },
  {
   "cell_type": "code",
   "execution_count": null,
   "metadata": {},
   "outputs": [],
   "source": [
    "import time\n",
    "\n",
    "# Profiling decorator\n",
    "def profile(func):\n",
    "    def wrapper(*args, **kwargs):\n",
    "        start_time = time.time()\n",
    "        result = func(*args, **kwargs)\n",
    "        end_time = time.time()\n",
    "        print(f\"{func.__name__} took {end_time - start_time:.4f} seconds\")\n",
    "        return result\n",
    "    return wrapper"
   ]
  },
  {
   "cell_type": "code",
   "execution_count": null,
   "metadata": {
    "notebookRunGroups": {
     "groupValue": "1"
    }
   },
   "outputs": [],
   "source": [
    "# image_bounds = (0, 120, 120, 0) #(left, bottom, right, top)\n",
    "\n",
    "particle_dict = {k:v for v,k in enumerate(dset.meta['particle_list'])}\n",
    "\n",
    "# Define a parameter with a list of possible values for p\n",
    "p_select = pn.widgets.Select(name='Particle', options=particle_dict)  # Replace with actual options\n",
    "e_select = pn.widgets.Select(name='EELS Channel', options=[k for k in range(dset.eels_chs)])  # Replace with actual options"
   ]
  },
  {
   "cell_type": "markdown",
   "metadata": {},
   "source": [
    "In @functools.lru_cache( ... ), you can put the number of particles you want to store in cache. loading a new particle takes significant time m(maybe 15+ s), so it is best to save as many as your cache can handle."
   ]
  },
  {
   "cell_type": "code",
   "execution_count": null,
   "metadata": {},
   "outputs": [],
   "source": [
    "# Cache the data retrieval\n",
    "# @profile\n",
    "@functools.lru_cache(len(dset.meta['particle_list']))\n",
    "def _update_data(p): \n",
    "    _, eels = dset[dset.meta['particle_inds'][p]:dset.meta['particle_inds'][p+1]]\n",
    "    return eels\n",
    "\n",
    "def update_data(p, e, **kwargs): \n",
    "    return _update_data(p)[:,e]"
   ]
  },
  {
   "cell_type": "code",
   "execution_count": null,
   "metadata": {
    "notebookRunGroups": {
     "groupValue": "2"
    }
   },
   "outputs": [],
   "source": [
    "# update mean image/spec\n",
    "# @profile\n",
    "def update_mean_image(p,e, **kwargs): \n",
    "    title = f\"Mean image {dset.meta['particle_list'][p]}\"\n",
    "    return hv.Image(dset.get_mean_image(p,e), bounds=((0,0,)+dset.meta['shape_list'][p])\n",
    "                    ).opts(width=350, height=300, cmap='viridis', colorbar=True, tools=[], \n",
    "                            axiswise=True, shared_axes=False, title=title)"
   ]
  },
  {
   "cell_type": "code",
   "execution_count": 25,
   "metadata": {},
   "outputs": [],
   "source": [
    "# @profile\n",
    "def update_mean_spectrum(p,e, **kwargs):\n",
    "    mean_spectrum = update_data(p,e).mean(axis=0)\n",
    "    return hv.Curve(mean_spectrum\n",
    "                    ).opts(tools=['tap'], \n",
    "                            axiswise=True, shared_axes=False, title='Mean Spectrum')"
   ]
  },
  {
   "cell_type": "markdown",
   "metadata": {},
   "source": [
    "#### view"
   ]
  },
  {
   "cell_type": "code",
   "execution_count": 17,
   "metadata": {},
   "outputs": [
    {
     "data": {
      "application/vnd.jupyter.widget-view+json": {
       "model_id": "ae646e60d58e44bcb2878cb8acec2aff",
       "version_major": 2,
       "version_minor": 0
      },
      "text/plain": [
       "BokehModel(combine_events=True, render_bundle={'docs_json': {'338d2b4a-2334-46f7-9186-69d6d0eca2fe': {'version…"
      ]
     },
     "execution_count": 17,
     "metadata": {},
     "output_type": "execute_result"
    }
   ],
   "source": [
    "mean_image_dmap = hv.DynamicMap(pn.bind(update_mean_image, p=p_select, e=e_select)\n",
    "                        ).opts(width=350, height=300, cmap='viridis', colorbar=True, \n",
    "                                axiswise=True, shared_axes=False)\n",
    "mean_spectrum_dmap = hv.DynamicMap(pn.bind(update_mean_spectrum, p=p_select, e=e_select)\n",
    "                        ).opts(axiswise=True, shared_axes=False)\n",
    "\n",
    "# make sure the selectors are present\n",
    "s3 = pn.Column( pn.Row(p_select, e_select,),\n",
    "          mean_image_dmap+mean_spectrum_dmap).servable()\n",
    "s3"
   ]
  },
  {
   "cell_type": "code",
   "execution_count": 18,
   "metadata": {},
   "outputs": [],
   "source": [
    "s3.clear()"
   ]
  },
  {
   "cell_type": "code",
   "execution_count": 19,
   "metadata": {},
   "outputs": [],
   "source": [
    "# update main frames\n",
    "def update_frame(p,e, x, **kwargs): \n",
    "    title = f\"Frame at: {int(x)}\"\n",
    "    return hv.Image( update_data(p,e)[:, int(x)].reshape(dset.meta['shape_list'][p]),\n",
    "                     bounds=((0,0,)+dset.meta['shape_list'][p])).opts(axiswise=0, title=title)\n",
    "def update_spec(p,e, x, y, **kwargs): \n",
    "    title = f\"Spec at: ({int(x)},{int(y)})\"\n",
    "    return hv.Curve( update_data(p,e).reshape(dset.meta['shape_list'][p]+(-1,))[int(x), int(y), :]).opts(axiswise=0, title=title)"
   ]
  },
  {
   "cell_type": "code",
   "execution_count": 20,
   "metadata": {},
   "outputs": [],
   "source": [
    "# Streams to handle tap events\n",
    "point_stream = Tap(source=mean_image_dmap, x=0, y=0) # w\n",
    "spectrum_stream = Tap(source=mean_spectrum_dmap, x=0) # a,b\n",
    "\n",
    "# plot selected image/spectrum \n",
    "frame_dmap = hv.DynamicMap(pn.bind(update_frame, p=p_select, e=e_select), streams=[spectrum_stream]\n",
    "                        ).opts(width=350, height=300, cmap='viridis', colorbar=True, \n",
    "                                axiswise=True, shared_axes=False)\n",
    "\n",
    "spec_dmap = hv.DynamicMap(pn.bind(update_spec, p=p_select, e=e_select), streams=[point_stream]\n",
    "                        ).opts(axiswise=True, shared_axes=False)"
   ]
  },
  {
   "cell_type": "code",
   "execution_count": 21,
   "metadata": {},
   "outputs": [],
   "source": [
    "# update dot \n",
    "def show_red_dot_image(x, y): return hv.Scatter([(x, y)]\n",
    "                                               ).opts(xlim=(0, 120), ylim=(0, 120), color='red', size=10, marker='o',\n",
    "                                                      axiswise=0, shared_axes=False)\n",
    "def show_red_dot_spectrum(x,y): return hv.VLine(x).opts(xlim=(0, 969), ylim=(0, 1), color='red',\n",
    "                                                        axiswise=0, shared_axes=False)"
   ]
  },
  {
   "cell_type": "code",
   "execution_count": 22,
   "metadata": {},
   "outputs": [],
   "source": [
    "def show_vline(x, y): \n",
    "    return hv.VLine(int(x)).opts(xlim=(0, dset.spec_len), ylim=(0, 1), color='red',\n",
    "                                 axiswise=False, shared_axes=False)\n",
    "def show_dot(p, x, y): \n",
    "    return hv.Scatter([(int(x), int(y))]).opts(xlim=(0, dset.meta['shape_list'][p][0]), \n",
    "                                               ylim=(0, dset.meta['shape_list'][p][1]), \n",
    "                                               color='red', size=10, marker='o',\n",
    "                                               axiswise=False, shared_axes=False)\n",
    "\n",
    "dot_overlay = hv.DynamicMap(pn.bind(show_dot, p=p_select), streams=[point_stream]\n",
    "                           ).opts(axiswise=False, shared_axes=False)\n",
    "vline_overlay = hv.DynamicMap(show_vline, streams=[spectrum_stream]\n",
    "                                    ).opts(xlim=(0, dset.spec_len), ylim=(0, 1), \n",
    "                                            axiswise=False, shared_axes=False)\n"
   ]
  },
  {
   "cell_type": "code",
   "execution_count": null,
   "metadata": {},
   "outputs": [
    {
     "data": {
      "application/vnd.jupyter.widget-view+json": {
       "model_id": "97d56db2f356478bb6ca87016061b24d",
       "version_major": 2,
       "version_minor": 0
      },
      "text/plain": [
       "BokehModel(combine_events=True, render_bundle={'docs_json': {'644ce7f9-3c25-40ef-9ec8-b87308709c46': {'version…"
      ]
     },
     "execution_count": 99,
     "metadata": {},
     "output_type": "execute_result"
    }
   ],
   "source": [
    "processed_panel = pn.Column( pn.Row(p_select, e_select,),\n",
    "                            ( (mean_image_dmap*dot_overlay).opts(axiswise=True) + \\\n",
    "                              (mean_spectrum_dmap*vline_overlay).opts(axiswise=True) ),\n",
    "                            ( (frame_dmap*dot_overlay).opts(axiswise=True) + \\\n",
    "                              (spec_dmap*vline_overlay).opts(axiswise=True) ) )\n",
    "processed_panel\n"
   ]
  },
  {
   "cell_type": "code",
   "execution_count": 106,
   "metadata": {},
   "outputs": [],
   "source": [
    "processed_panel.clear()"
   ]
  },
  {
   "cell_type": "markdown",
   "metadata": {},
   "source": [
    "## Viewing fits and parameters\n",
    "* have 2 axis on spectrum: left for orig and fit, right to each individual peak. you can use overlay ( * ) to avoid having to reload every time\n",
    "* have 6 axis for parameters and histograms\n",
    "* convert stream to links?"
   ]
  },
  {
   "cell_type": "code",
   "execution_count": 26,
   "metadata": {},
   "outputs": [],
   "source": [
    "# when training with coef gradient\n",
    "coef1_scale = np.linspace(0,1e-1,model1D.num_fits)"
   ]
  },
  {
   "cell_type": "markdown",
   "metadata": {},
   "source": [
    "### viewer for mean embedding and parameters"
   ]
  },
  {
   "cell_type": "code",
   "execution_count": 27,
   "metadata": {},
   "outputs": [],
   "source": [
    "@functools.lru_cache(len(dset.meta['particle_list']))\n",
    "def _update_emb(p): \n",
    "    return embedding[dset.meta['particle_inds'][p]:dset.meta['particle_inds'][p+1]] \n",
    "    # (14400,2,96,6), (14400,2,96,969) \n",
    "\n",
    "def update_emb(p, e, **kwargs): \n",
    "    emb,fits =  _update_emb(p)\n",
    "    return emb[:,e], fits[:,e] \n",
    "    # (14400,96,6), (14400,96,969) "
   ]
  },
  {
   "cell_type": "code",
   "execution_count": 28,
   "metadata": {},
   "outputs": [],
   "source": [
    "# functions to graph fits and particles\n",
    "def graph_fits(p,e,x=0,y=0):\n",
    "    _,fits = update_emb(p,e) # (14400,96,969) \n",
    "    orig = update_data(p,e)\n",
    "    idx = np.ravel_multi_index((int(x),int(y)),(dset.meta['shape_list'][p]))\n",
    "    fits = hv.Curve(fits[idx].sum(axis=0)).opts(axiswise=True, shared_axes=False,color='red')\n",
    "    eels = hv.Curve(orig[idx]).opts(axiswise=True, shared_axes=False, color='blue', \n",
    "                                    tools=['tap'], title=f'Raw and fitted Spectra ({int(x)},{int(y)})')\n",
    "    return (eels*fits)\n",
    "\n",
    "def graph_particles(p,e,x=0,**kwargs):\n",
    "    _,fits = update_emb(p,e) # (14400,96,969)\n",
    "    return hv.Image(fits[:,:,int(x)].sum(1).reshape(dset.meta['shape_list'][p]), bounds=(0,0)+dset.meta['shape_list'][p]\n",
    "                    ).opts(width=350, height=300, cmap='viridis', colorbar=True, tools=['tap'], \n",
    "                            axiswise=True, shared_axes=False, title=f'Fitted Frame {int(x)}, coef1: {coef1_scale[p]:.2f}')"
   ]
  },
  {
   "cell_type": "code",
   "execution_count": 29,
   "metadata": {},
   "outputs": [],
   "source": [
    "def blank_img(p): return hv.Image(np.zeros(dset.meta['shape_list'][p])\n",
    "                          ).opts(tools=['tap'], axiswise=True, shared_axes=False)\n",
    "blank_emb = hv.DynamicMap( pn.bind(blank_img, p=p_select) )\n",
    "blank_spec = hv.Curve( np.zeros(dset.spec_len)\n",
    "                          ).opts(tools=['tap'], axiswise=True, shared_axes=False)\n",
    "\n",
    "# Create the streams\n",
    "spectrum_stream = Tap(source=blank_spec, x=0)                \n",
    "point_stream = Tap(source=blank_emb, x=0, y=0)\n",
    "\n",
    "def show_vline(x, y): \n",
    "    return hv.VLine(int(x)).opts(xlim=(0, dset.spec_len), ylim=(0, 1), color='red',\n",
    "                                 axiswise=False, shared_axes=False)\n",
    "def show_dot(p, x, y): \n",
    "    return hv.Scatter([(int(x), int(y))]).opts(xlim=(0, dset.meta['shape_list'][p][0]), \n",
    "                                               ylim=(0, dset.meta['shape_list'][p][1]), \n",
    "                                               color='red', size=10, marker='o',\n",
    "                                               axiswise=False, shared_axes=False)\n",
    "    \n",
    "dot_overlay = hv.DynamicMap(pn.bind(show_dot, p=p_select), streams=[point_stream]\n",
    "                           ).opts(axiswise=False, shared_axes=False)\n",
    "vline_overlay = hv.DynamicMap(show_vline, streams=[spectrum_stream]\n",
    "                                    ).opts(xlim=(0, dset.spec_len), ylim=(0, 1), \n",
    "                                            axiswise=False, shared_axes=False)\n",
    "\n",
    "# Plot image/spectrum\n",
    "emb_dmap = hv.DynamicMap(pn.bind(graph_particles, p=p_select, e=e_select), streams=[spectrum_stream]\n",
    "                        ).opts(width=350, height=300, cmap='viridis', colorbar=True,\n",
    "                                axiswise=False, shared_axes=False, tools=['tap'])\n",
    "fits_dmap = hv.DynamicMap(pn.bind(graph_fits, p=p_select, e=e_select), streams=[point_stream]\n",
    "                        ).opts(axiswise=False, shared_axes=False, tools=['tap'])"
   ]
  },
  {
   "cell_type": "code",
   "execution_count": 30,
   "metadata": {},
   "outputs": [],
   "source": [
    "# par_labels = [ 'A_g', 'x', 'sigma', 'A_l', 'gamma', 'nu']\n",
    "# par_labels = [ 'A', 'Ib', 'x', 'w', 'nu']\n",
    "par_labels = [ 'A', 'x', 'w', 'nu']\n",
    "\n",
    "def graph_parameters(p,e,x,y,par,**kwargs):\n",
    "    emb,_ = update_emb(p,e) # (14400,96,969)\n",
    "    if par==0 or par==3: mean_par = emb[:,:,par].sum(1)\n",
    "    else: mean_par = emb[:,:,par].mean(1)\n",
    "    idx = np.ravel_multi_index((int(x), int(y)),dset.meta['shape_list'][p])\n",
    "    return hv.Image(mean_par.reshape(dset.meta['shape_list'][p]), bounds=(0,0)+dset.meta['shape_list'][p]\n",
    "                    ).opts(colorbar=True,clim=(mean_par.min(),mean_par.max()),\n",
    "                           axiswise=True, shared_axes=False, title=f'{par_labels[par]}: {mean_par[idx]:.3e}' ) "
   ]
  },
  {
   "cell_type": "code",
   "execution_count": 31,
   "metadata": {},
   "outputs": [],
   "source": [
    "parameter_dmaps = [ dot_overlay*hv.DynamicMap( pn.bind(graph_parameters, p=p_select, e=e_select, par=par), \n",
    "                                              streams=[point_stream]\n",
    "                                            ).opts(width=250, height=200, cmap='viridis', \n",
    "                                            colorbar_opts={'width': 5},\n",
    "                                axiswise=False, shared_axes=False )\\\n",
    "            for par in list(range(model1D.num_params)) ]"
   ]
  },
  {
   "cell_type": "markdown",
   "metadata": {},
   "source": [
    "#### view"
   ]
  },
  {
   "cell_type": "code",
   "execution_count": 58,
   "metadata": {},
   "outputs": [
    {
     "data": {
      "application/vnd.jupyter.widget-view+json": {
       "model_id": "e7660377aeed4a038628ed5dea1b2687",
       "version_major": 2,
       "version_minor": 0
      },
      "text/plain": [
       "BokehModel(combine_events=True, render_bundle={'docs_json': {'c83f338c-d472-473a-9c88-917de867c870': {'version…"
      ]
     },
     "execution_count": 58,
     "metadata": {},
     "output_type": "execute_result"
    }
   ],
   "source": [
    "mean_parameters_panel = pn.Column(pn.Row(p_select, e_select),\n",
    "          (blank_emb*emb_dmap*dot_overlay).opts(axiswise=True) +\\\n",
    "          (blank_spec*fits_dmap*vline_overlay).opts(axiswise=True),\n",
    "          hv.Layout( [dot_overlay*dmap for dmap in parameter_dmaps] ).cols(3) )\n",
    "\n",
    "mean_parameters_panel\n",
    "# kinda meaningless with l1 coef scaling across channels"
   ]
  },
  {
   "cell_type": "code",
   "execution_count": 102,
   "metadata": {},
   "outputs": [],
   "source": [
    "mean_parameters_panel.clear()"
   ]
  },
  {
   "cell_type": "markdown",
   "metadata": {},
   "source": [
    "### viewer for fits and parameters at particular channel"
   ]
  },
  {
   "cell_type": "code",
   "execution_count": 28,
   "metadata": {},
   "outputs": [
    {
     "data": {
      "text/plain": [
       "(array([ 2,  4,  5,  8,  9, 14, 16, 21, 28, 32, 33, 38, 39, 40, 46, 58, 59,\n",
       "        63, 64, 69, 70, 71, 76, 89, 93, 94]),\n",
       " array([ 3, 15, 22, 27, 29, 34, 45, 47, 51, 56, 75, 77, 80, 81, 82, 83, 87,\n",
       "        92]))"
      ]
     },
     "execution_count": 28,
     "metadata": {},
     "output_type": "execute_result"
    }
   ],
   "source": [
    "# might take a while \n",
    "active_channels, sparse_channels = embedding.get_threshold_channels(active_limit=.25, sparse_limit=.1)\n",
    "active_channels,sparse_channels"
   ]
  },
  {
   "cell_type": "code",
   "execution_count": 32,
   "metadata": {},
   "outputs": [],
   "source": [
    "# choose whether you want the channel_slider to include the active_channels or the sparse channels\n",
    "# channels = list(active_channels)\n",
    "# c_select = pn.widgets.DiscreteSlider(name='Emb Channel', value=channels[0], options=channels)  # Replace with actual options\n",
    "c_select = pn.widgets.IntSlider(value=0, start=0, end=model1D.num_fits)\n",
    "\n",
    "def update_emb_channel(p,e,c,**kwargs):\n",
    "    emb,fits = update_emb(p,e)\n",
    "    return emb[:,c],fits[:,c] \n",
    "    # (14400,6), (14400,969) "
   ]
  },
  {
   "cell_type": "code",
   "execution_count": 33,
   "metadata": {},
   "outputs": [],
   "source": [
    "# functions to graph fits and particles\n",
    "def graph_fits(p,e,c,x=0,y=0):\n",
    "    idx = np.ravel_multi_index((int(x),int(y)),(dset.meta['shape_list'][p]))\n",
    "    _,fits = update_emb_channel(p,e,c) # (14400,96,969) \n",
    "    fits=fits[idx]\n",
    "    orig = update_data(p,e)[idx]\n",
    "    # orig=orig/orig.max()*fits.max() # scaled\n",
    "    fits = hv.Curve(fits).opts(axiswise=True, shared_axes=False,color='red')\n",
    "    eels = hv.Curve(orig).opts(axiswise=True, shared_axes=False, color='blue', \n",
    "                                    tools=['tap'], title=f'Raw and fitted Spectra ({int(x)},{int(y)})')\n",
    "    return (eels*fits)\n",
    "\n",
    "def graph_particles(p,e,c,x=0,**kwargs):\n",
    "    _,fits = update_emb_channel(p,e,c) # (14400,96,969)\n",
    "    fits = fits[:,int(x)]\n",
    "    return hv.Image(fits.reshape(dset.meta['shape_list'][p]), bounds=(0,0)+dset.meta['shape_list'][p]\n",
    "                    ).opts(width=350, height=300, tools=['tap'], \n",
    "                           cmap='viridis', colorbar=True, clim=(fits.min(),fits.max()),\n",
    "                            axiswise=True, shared_axes=False, \n",
    "                            title=f'Fitted Frame {int(x)}, Channel {c}, coef: {coef1_scale[c]:.22}')"
   ]
  },
  {
   "cell_type": "code",
   "execution_count": 34,
   "metadata": {},
   "outputs": [],
   "source": [
    "# Plot image/spectrum\n",
    "emb_dmap = hv.DynamicMap(pn.bind(graph_particles, p=p_select, e=e_select, c=c_select), streams=[spectrum_stream]\n",
    "                        ).opts(width=350, height=300, cmap='viridis', colorbar=True, colorbar_opts={'width': 10},\n",
    "                                axiswise=False, shared_axes=False, tools=['tap'])\n",
    "fits_dmap = hv.DynamicMap(pn.bind(graph_fits, p=p_select, e=e_select, c=c_select), streams=[point_stream]\n",
    "                        ).opts(axiswise=False, shared_axes=False, tools=['tap'])"
   ]
  },
  {
   "cell_type": "code",
   "execution_count": 35,
   "metadata": {},
   "outputs": [],
   "source": [
    "# pars = [ 'A_g', 'x', 'sigma', 'A_l', 'gamma', 'nu']\n",
    "# par_labels = [ 'A', 'Ib', 'x', 'w', 'nu']\n",
    "\n",
    "def graph_parameters(p,e,c,x,y,par,**kwargs):\n",
    "    idx = np.ravel_multi_index((int(x), int(y)),dset.meta['shape_list'][p])\n",
    "    emb,_ = update_emb_channel(p,e,c) # (14400,969)\n",
    "    emb = emb[:,par]\n",
    "    # mean_par = emb[:,:,par].mean(1)\n",
    "    return hv.Image(emb.reshape(dset.meta['shape_list'][p]), bounds=(0,0)+dset.meta['shape_list'][p]\n",
    "                    ).opts(colorbar=True,clim=(emb.min(),emb.max()),\n",
    "                           axiswise=True, shared_axes=False, title=f'{par_labels[par]}: {emb[idx]:.3e}' ) "
   ]
  },
  {
   "cell_type": "code",
   "execution_count": 36,
   "metadata": {},
   "outputs": [],
   "source": [
    "parameter_dmaps = [ dot_overlay*hv.DynamicMap( pn.bind(graph_parameters, p=p_select, e=e_select, c=c_select, par=par), \n",
    "                                              streams=[point_stream]\n",
    "                                            ).opts(width=250, height=200, cmap='viridis', \n",
    "                                            colorbar_opts={'width': 5},\n",
    "                                axiswise=False, shared_axes=False )\\\n",
    "            for par in list(range(model1D.num_params)) ]"
   ]
  },
  {
   "cell_type": "code",
   "execution_count": 37,
   "metadata": {},
   "outputs": [
    {
     "data": {
      "application/vnd.jupyter.widget-view+json": {
       "model_id": "48b37511b12e401f9ae52a923c241536",
       "version_major": 2,
       "version_minor": 0
      },
      "text/plain": [
       "BokehModel(combine_events=True, render_bundle={'docs_json': {'3bc60011-9194-42bc-9038-3a9a278b8449': {'version…"
      ]
     },
     "execution_count": 37,
     "metadata": {},
     "output_type": "execute_result"
    },
    {
     "name": "stderr",
     "output_type": "stream",
     "text": [
      "WARNING:param.wrapped: Callable raised \"IndexError('index 96 is out of bounds for axis 1 with size 96')\".\n",
      "Invoked as wrapped(x=0, y=None, p=0, e=1, c=96)\n",
      "WARNING:param.dynamic_operation: Callable raised \"IndexError('index 96 is out of bounds for axis 1 with size 96')\".\n",
      "Invoked as dynamic_operation(x=0, y=None, p=0, e=1, c=96)\n",
      "WARNING:param.wrapped: Callable raised \"IndexError('index 96 is out of bounds for axis 1 with size 96')\".\n",
      "Invoked as wrapped(x=43.62876694777916, y=91.48129111842105, p=0, e=1, c=96)\n",
      "WARNING:param.dynamic_operation: Callable raised \"IndexError('index 96 is out of bounds for axis 1 with size 96')\".\n",
      "Invoked as dynamic_operation(x=43.62876694777916, y=91.48129111842105, p=0, e=1, c=96)\n",
      "WARNING:param.wrapped: Callable raised \"IndexError('index 96 is out of bounds for axis 1 with size 96')\".\n",
      "Invoked as wrapped(x=43.62876694777916, y=91.48129111842105, p=0, e=1, c=96)\n",
      "WARNING:param.dynamic_operation: Callable raised \"IndexError('index 96 is out of bounds for axis 1 with size 96')\".\n",
      "Invoked as dynamic_operation(x=43.62876694777916, y=91.48129111842105, p=0, e=1, c=96)\n",
      "WARNING:param.wrapped: Callable raised \"IndexError('index 96 is out of bounds for axis 1 with size 96')\".\n",
      "Invoked as wrapped(x=43.62876694777916, y=91.48129111842105, p=0, e=1, c=96)\n",
      "WARNING:param.dynamic_operation: Callable raised \"IndexError('index 96 is out of bounds for axis 1 with size 96')\".\n",
      "Invoked as dynamic_operation(x=43.62876694777916, y=91.48129111842105, p=0, e=1, c=96)\n",
      "WARNING:param.wrapped: Callable raised \"IndexError('index 96 is out of bounds for axis 1 with size 96')\".\n",
      "Invoked as wrapped(x=43.62876694777916, y=91.48129111842105, p=0, e=1, c=96)\n",
      "WARNING:param.dynamic_operation: Callable raised \"IndexError('index 96 is out of bounds for axis 1 with size 96')\".\n",
      "Invoked as dynamic_operation(x=43.62876694777916, y=91.48129111842105, p=0, e=1, c=96)\n",
      "WARNING:param.wrapped: Callable raised \"IndexError('index 96 is out of bounds for axis 1 with size 96')\".\n",
      "Invoked as wrapped(x=43.62876694777916, y=91.48129111842105, p=0, e=1, c=96)\n",
      "WARNING:param.dynamic_operation: Callable raised \"IndexError('index 96 is out of bounds for axis 1 with size 96')\".\n",
      "Invoked as dynamic_operation(x=43.62876694777916, y=91.48129111842105, p=0, e=1, c=96)\n",
      "WARNING:param.wrapped: Callable raised \"IndexError('index 96 is out of bounds for axis 1 with size 96')\".\n",
      "Invoked as wrapped(x=43.62876694777916, y=91.48129111842105, p=0, e=1, c=96)\n",
      "WARNING:param.dynamic_operation: Callable raised \"IndexError('index 96 is out of bounds for axis 1 with size 96')\".\n",
      "Invoked as dynamic_operation(x=43.62876694777916, y=91.48129111842105, p=0, e=1, c=96)\n"
     ]
    },
    {
     "name": "stdout",
     "output_type": "stream",
     "text": [
      "Traceback (most recent call last):\n",
      "  File \"/home/m3learning/anaconda3/envs/northwestern/lib/python3.11/site-packages/holoviews/plotting/util.py\", line 279, in get_plot_frame\n",
      "    return map_obj[key]\n",
      "           ~~~~~~~^^^^^\n",
      "  File \"/home/m3learning/anaconda3/envs/northwestern/lib/python3.11/site-packages/holoviews/core/spaces.py\", line 1212, in __getitem__\n",
      "    val = self._execute_callback(*tuple_key)\n",
      "          ^^^^^^^^^^^^^^^^^^^^^^^^^^^^^^^^^^\n",
      "  File \"/home/m3learning/anaconda3/envs/northwestern/lib/python3.11/site-packages/holoviews/core/spaces.py\", line 979, in _execute_callback\n",
      "    retval = self.callback(*args, **kwargs)\n",
      "             ^^^^^^^^^^^^^^^^^^^^^^^^^^^^^^\n",
      "  File \"/home/m3learning/anaconda3/envs/northwestern/lib/python3.11/site-packages/holoviews/core/spaces.py\", line 549, in __call__\n",
      "    if not args and not kwargs and not any(kwarg_hash): return self.callable()\n",
      "                                                               ^^^^^^^^^^^^^^^\n",
      "  File \"/home/m3learning/anaconda3/envs/northwestern/lib/python3.11/site-packages/holoviews/util/__init__.py\", line 1025, in dynamic_operation\n",
      "    key, obj = resolve(key, kwargs)\n",
      "               ^^^^^^^^^^^^^^^^^^^^\n",
      "  File \"/home/m3learning/anaconda3/envs/northwestern/lib/python3.11/site-packages/holoviews/util/__init__.py\", line 1014, in resolve\n",
      "    return key, map_obj[key]\n",
      "                ~~~~~~~^^^^^\n",
      "  File \"/home/m3learning/anaconda3/envs/northwestern/lib/python3.11/site-packages/holoviews/core/spaces.py\", line 1212, in __getitem__\n",
      "    val = self._execute_callback(*tuple_key)\n",
      "          ^^^^^^^^^^^^^^^^^^^^^^^^^^^^^^^^^^\n",
      "  File \"/home/m3learning/anaconda3/envs/northwestern/lib/python3.11/site-packages/holoviews/core/spaces.py\", line 979, in _execute_callback\n",
      "    retval = self.callback(*args, **kwargs)\n",
      "             ^^^^^^^^^^^^^^^^^^^^^^^^^^^^^^\n",
      "  File \"/home/m3learning/anaconda3/envs/northwestern/lib/python3.11/site-packages/holoviews/core/spaces.py\", line 549, in __call__\n",
      "    if not args and not kwargs and not any(kwarg_hash): return self.callable()\n",
      "                                                               ^^^^^^^^^^^^^^^\n",
      "  File \"/home/m3learning/anaconda3/envs/northwestern/lib/python3.11/site-packages/holoviews/util/__init__.py\", line 1025, in dynamic_operation\n",
      "    key, obj = resolve(key, kwargs)\n",
      "               ^^^^^^^^^^^^^^^^^^^^\n",
      "  File \"/home/m3learning/anaconda3/envs/northwestern/lib/python3.11/site-packages/holoviews/util/__init__.py\", line 1014, in resolve\n",
      "    return key, map_obj[key]\n",
      "                ~~~~~~~^^^^^\n",
      "  File \"/home/m3learning/anaconda3/envs/northwestern/lib/python3.11/site-packages/holoviews/core/spaces.py\", line 1212, in __getitem__\n",
      "    val = self._execute_callback(*tuple_key)\n",
      "          ^^^^^^^^^^^^^^^^^^^^^^^^^^^^^^^^^^\n",
      "  File \"/home/m3learning/anaconda3/envs/northwestern/lib/python3.11/site-packages/holoviews/core/spaces.py\", line 979, in _execute_callback\n",
      "    retval = self.callback(*args, **kwargs)\n",
      "             ^^^^^^^^^^^^^^^^^^^^^^^^^^^^^^\n",
      "  File \"/home/m3learning/anaconda3/envs/northwestern/lib/python3.11/site-packages/holoviews/core/spaces.py\", line 549, in __call__\n",
      "    if not args and not kwargs and not any(kwarg_hash): return self.callable()\n",
      "                                                               ^^^^^^^^^^^^^^^\n",
      "  File \"/home/m3learning/anaconda3/envs/northwestern/lib/python3.11/site-packages/holoviews/core/spaces.py\", line 199, in dynamic_mul\n",
      "    self_el = self.select(HoloMap, **key_map) if self.kdims else self[()]\n",
      "                                                                 ~~~~^^^^\n",
      "  File \"/home/m3learning/anaconda3/envs/northwestern/lib/python3.11/site-packages/holoviews/core/spaces.py\", line 1212, in __getitem__\n",
      "    val = self._execute_callback(*tuple_key)\n",
      "          ^^^^^^^^^^^^^^^^^^^^^^^^^^^^^^^^^^\n",
      "  File \"/home/m3learning/anaconda3/envs/northwestern/lib/python3.11/site-packages/holoviews/core/spaces.py\", line 979, in _execute_callback\n",
      "    retval = self.callback(*args, **kwargs)\n",
      "             ^^^^^^^^^^^^^^^^^^^^^^^^^^^^^^\n",
      "  File \"/home/m3learning/anaconda3/envs/northwestern/lib/python3.11/site-packages/holoviews/core/spaces.py\", line 549, in __call__\n",
      "    if not args and not kwargs and not any(kwarg_hash): return self.callable()\n",
      "                                                               ^^^^^^^^^^^^^^^\n",
      "  File \"/home/m3learning/anaconda3/envs/northwestern/lib/python3.11/site-packages/holoviews/core/spaces.py\", line 204, in dynamic_mul\n",
      "    other_el = other.select(HoloMap, **key_map) if other.kdims else other[()]\n",
      "                                                                    ~~~~~^^^^\n",
      "  File \"/home/m3learning/anaconda3/envs/northwestern/lib/python3.11/site-packages/holoviews/core/spaces.py\", line 1212, in __getitem__\n",
      "    val = self._execute_callback(*tuple_key)\n",
      "          ^^^^^^^^^^^^^^^^^^^^^^^^^^^^^^^^^^\n",
      "  File \"/home/m3learning/anaconda3/envs/northwestern/lib/python3.11/site-packages/holoviews/core/spaces.py\", line 979, in _execute_callback\n",
      "    retval = self.callback(*args, **kwargs)\n",
      "             ^^^^^^^^^^^^^^^^^^^^^^^^^^^^^^\n",
      "  File \"/home/m3learning/anaconda3/envs/northwestern/lib/python3.11/site-packages/holoviews/core/spaces.py\", line 579, in __call__\n",
      "    ret = self.callable(*args, **kwargs)\n",
      "          ^^^^^^^^^^^^^^^^^^^^^^^^^^^^^^\n",
      "  File \"/home/m3learning/anaconda3/envs/northwestern/lib/python3.11/site-packages/holoviews/util/__init__.py\", line 1025, in dynamic_operation\n",
      "    key, obj = resolve(key, kwargs)\n",
      "               ^^^^^^^^^^^^^^^^^^^^\n",
      "  File \"/home/m3learning/anaconda3/envs/northwestern/lib/python3.11/site-packages/holoviews/util/__init__.py\", line 1014, in resolve\n",
      "    return key, map_obj[key]\n",
      "                ~~~~~~~^^^^^\n",
      "  File \"/home/m3learning/anaconda3/envs/northwestern/lib/python3.11/site-packages/holoviews/core/spaces.py\", line 1212, in __getitem__\n",
      "    val = self._execute_callback(*tuple_key)\n",
      "          ^^^^^^^^^^^^^^^^^^^^^^^^^^^^^^^^^^\n",
      "  File \"/home/m3learning/anaconda3/envs/northwestern/lib/python3.11/site-packages/holoviews/core/spaces.py\", line 979, in _execute_callback\n",
      "    retval = self.callback(*args, **kwargs)\n",
      "             ^^^^^^^^^^^^^^^^^^^^^^^^^^^^^^\n",
      "  File \"/home/m3learning/anaconda3/envs/northwestern/lib/python3.11/site-packages/holoviews/core/spaces.py\", line 579, in __call__\n",
      "    ret = self.callable(*args, **kwargs)\n",
      "          ^^^^^^^^^^^^^^^^^^^^^^^^^^^^^^\n",
      "  File \"/home/m3learning/anaconda3/envs/northwestern/lib/python3.11/site-packages/param/parameterized.py\", line 407, in _depends\n",
      "    return func(*args, **kw)\n",
      "           ^^^^^^^^^^^^^^^^^\n",
      "  File \"/home/m3learning/anaconda3/envs/northwestern/lib/python3.11/site-packages/panel/depends.py\", line 249, in wrapped\n",
      "    return eval_fn()(*combined_args, **combined_kwargs)\n",
      "           ^^^^^^^^^^^^^^^^^^^^^^^^^^^^^^^^^^^^^^^^^^^^\n",
      "  File \"/tmp/ipykernel_716526/772887181.py\", line 14, in graph_particles\n",
      "    _,fits = update_emb_channel(p,e,c) # (14400,96,969)\n",
      "             ^^^^^^^^^^^^^^^^^^^^^^^^^\n",
      "  File \"/tmp/ipykernel_716526/1520272500.py\", line 8, in update_emb_channel\n",
      "    return emb[:,c],fits[:,c]\n",
      "          ~~~^^^^^\n",
      "IndexError: index 96 is out of bounds for axis 1 with size 96\n",
      "\n",
      "Traceback (most recent call last):\n",
      "  File \"/home/m3learning/anaconda3/envs/northwestern/lib/python3.11/site-packages/holoviews/plotting/util.py\", line 279, in get_plot_frame\n",
      "    return map_obj[key]\n",
      "           ~~~~~~~^^^^^\n",
      "  File \"/home/m3learning/anaconda3/envs/northwestern/lib/python3.11/site-packages/holoviews/core/spaces.py\", line 1212, in __getitem__\n",
      "    val = self._execute_callback(*tuple_key)\n",
      "          ^^^^^^^^^^^^^^^^^^^^^^^^^^^^^^^^^^\n",
      "  File \"/home/m3learning/anaconda3/envs/northwestern/lib/python3.11/site-packages/holoviews/core/spaces.py\", line 979, in _execute_callback\n",
      "    retval = self.callback(*args, **kwargs)\n",
      "             ^^^^^^^^^^^^^^^^^^^^^^^^^^^^^^\n",
      "  File \"/home/m3learning/anaconda3/envs/northwestern/lib/python3.11/site-packages/holoviews/core/spaces.py\", line 549, in __call__\n",
      "    if not args and not kwargs and not any(kwarg_hash): return self.callable()\n",
      "                                                               ^^^^^^^^^^^^^^^\n",
      "  File \"/home/m3learning/anaconda3/envs/northwestern/lib/python3.11/site-packages/holoviews/util/__init__.py\", line 1025, in dynamic_operation\n",
      "    key, obj = resolve(key, kwargs)\n",
      "               ^^^^^^^^^^^^^^^^^^^^\n",
      "  File \"/home/m3learning/anaconda3/envs/northwestern/lib/python3.11/site-packages/holoviews/util/__init__.py\", line 1014, in resolve\n",
      "    return key, map_obj[key]\n",
      "                ~~~~~~~^^^^^\n",
      "  File \"/home/m3learning/anaconda3/envs/northwestern/lib/python3.11/site-packages/holoviews/core/spaces.py\", line 1212, in __getitem__\n",
      "    val = self._execute_callback(*tuple_key)\n",
      "          ^^^^^^^^^^^^^^^^^^^^^^^^^^^^^^^^^^\n",
      "  File \"/home/m3learning/anaconda3/envs/northwestern/lib/python3.11/site-packages/holoviews/core/spaces.py\", line 979, in _execute_callback\n",
      "    retval = self.callback(*args, **kwargs)\n",
      "             ^^^^^^^^^^^^^^^^^^^^^^^^^^^^^^\n",
      "  File \"/home/m3learning/anaconda3/envs/northwestern/lib/python3.11/site-packages/holoviews/core/spaces.py\", line 549, in __call__\n",
      "    if not args and not kwargs and not any(kwarg_hash): return self.callable()\n",
      "                                                               ^^^^^^^^^^^^^^^\n",
      "  File \"/home/m3learning/anaconda3/envs/northwestern/lib/python3.11/site-packages/holoviews/util/__init__.py\", line 1025, in dynamic_operation\n",
      "    key, obj = resolve(key, kwargs)\n",
      "               ^^^^^^^^^^^^^^^^^^^^\n",
      "  File \"/home/m3learning/anaconda3/envs/northwestern/lib/python3.11/site-packages/holoviews/util/__init__.py\", line 1014, in resolve\n",
      "    return key, map_obj[key]\n",
      "                ~~~~~~~^^^^^\n",
      "  File \"/home/m3learning/anaconda3/envs/northwestern/lib/python3.11/site-packages/holoviews/core/spaces.py\", line 1212, in __getitem__\n",
      "    val = self._execute_callback(*tuple_key)\n",
      "          ^^^^^^^^^^^^^^^^^^^^^^^^^^^^^^^^^^\n",
      "  File \"/home/m3learning/anaconda3/envs/northwestern/lib/python3.11/site-packages/holoviews/core/spaces.py\", line 979, in _execute_callback\n",
      "    retval = self.callback(*args, **kwargs)\n",
      "             ^^^^^^^^^^^^^^^^^^^^^^^^^^^^^^\n",
      "  File \"/home/m3learning/anaconda3/envs/northwestern/lib/python3.11/site-packages/holoviews/core/spaces.py\", line 549, in __call__\n",
      "    if not args and not kwargs and not any(kwarg_hash): return self.callable()\n",
      "                                                               ^^^^^^^^^^^^^^^\n",
      "  File \"/home/m3learning/anaconda3/envs/northwestern/lib/python3.11/site-packages/holoviews/core/spaces.py\", line 199, in dynamic_mul\n",
      "    self_el = self.select(HoloMap, **key_map) if self.kdims else self[()]\n",
      "                                                                 ~~~~^^^^\n",
      "  File \"/home/m3learning/anaconda3/envs/northwestern/lib/python3.11/site-packages/holoviews/core/spaces.py\", line 1212, in __getitem__\n",
      "    val = self._execute_callback(*tuple_key)\n",
      "          ^^^^^^^^^^^^^^^^^^^^^^^^^^^^^^^^^^\n",
      "  File \"/home/m3learning/anaconda3/envs/northwestern/lib/python3.11/site-packages/holoviews/core/spaces.py\", line 979, in _execute_callback\n",
      "    retval = self.callback(*args, **kwargs)\n",
      "             ^^^^^^^^^^^^^^^^^^^^^^^^^^^^^^\n",
      "  File \"/home/m3learning/anaconda3/envs/northwestern/lib/python3.11/site-packages/holoviews/core/spaces.py\", line 549, in __call__\n",
      "    if not args and not kwargs and not any(kwarg_hash): return self.callable()\n",
      "                                                               ^^^^^^^^^^^^^^^\n",
      "  File \"/home/m3learning/anaconda3/envs/northwestern/lib/python3.11/site-packages/holoviews/core/overlay.py\", line 34, in dynamic_mul\n",
      "    element = other[args]\n",
      "              ~~~~~^^^^^^\n",
      "  File \"/home/m3learning/anaconda3/envs/northwestern/lib/python3.11/site-packages/holoviews/core/spaces.py\", line 1212, in __getitem__\n",
      "    val = self._execute_callback(*tuple_key)\n",
      "          ^^^^^^^^^^^^^^^^^^^^^^^^^^^^^^^^^^\n",
      "  File \"/home/m3learning/anaconda3/envs/northwestern/lib/python3.11/site-packages/holoviews/core/spaces.py\", line 979, in _execute_callback\n",
      "    retval = self.callback(*args, **kwargs)\n",
      "             ^^^^^^^^^^^^^^^^^^^^^^^^^^^^^^\n",
      "  File \"/home/m3learning/anaconda3/envs/northwestern/lib/python3.11/site-packages/holoviews/core/spaces.py\", line 579, in __call__\n",
      "    ret = self.callable(*args, **kwargs)\n",
      "          ^^^^^^^^^^^^^^^^^^^^^^^^^^^^^^\n",
      "  File \"/home/m3learning/anaconda3/envs/northwestern/lib/python3.11/site-packages/holoviews/util/__init__.py\", line 1025, in dynamic_operation\n",
      "    key, obj = resolve(key, kwargs)\n",
      "               ^^^^^^^^^^^^^^^^^^^^\n",
      "  File \"/home/m3learning/anaconda3/envs/northwestern/lib/python3.11/site-packages/holoviews/util/__init__.py\", line 1014, in resolve\n",
      "    return key, map_obj[key]\n",
      "                ~~~~~~~^^^^^\n",
      "  File \"/home/m3learning/anaconda3/envs/northwestern/lib/python3.11/site-packages/holoviews/core/spaces.py\", line 1212, in __getitem__\n",
      "    val = self._execute_callback(*tuple_key)\n",
      "          ^^^^^^^^^^^^^^^^^^^^^^^^^^^^^^^^^^\n",
      "  File \"/home/m3learning/anaconda3/envs/northwestern/lib/python3.11/site-packages/holoviews/core/spaces.py\", line 979, in _execute_callback\n",
      "    retval = self.callback(*args, **kwargs)\n",
      "             ^^^^^^^^^^^^^^^^^^^^^^^^^^^^^^\n",
      "  File \"/home/m3learning/anaconda3/envs/northwestern/lib/python3.11/site-packages/holoviews/core/spaces.py\", line 579, in __call__\n",
      "    ret = self.callable(*args, **kwargs)\n",
      "          ^^^^^^^^^^^^^^^^^^^^^^^^^^^^^^\n",
      "  File \"/home/m3learning/anaconda3/envs/northwestern/lib/python3.11/site-packages/param/parameterized.py\", line 407, in _depends\n",
      "    return func(*args, **kw)\n",
      "           ^^^^^^^^^^^^^^^^^\n",
      "  File \"/home/m3learning/anaconda3/envs/northwestern/lib/python3.11/site-packages/panel/depends.py\", line 249, in wrapped\n",
      "    return eval_fn()(*combined_args, **combined_kwargs)\n",
      "           ^^^^^^^^^^^^^^^^^^^^^^^^^^^^^^^^^^^^^^^^^^^^\n",
      "  File \"/tmp/ipykernel_716526/772887181.py\", line 4, in graph_fits\n",
      "    _,fits = update_emb_channel(p,e,c) # (14400,96,969)\n",
      "            ^^^^^^^^^^^^^^^^^^^^^^^^^\n",
      "  File \"/tmp/ipykernel_716526/1520272500.py\", line 8, in update_emb_channel\n",
      "    return emb[:,c],fits[:,c]\n",
      "          ~~~^^^^^\n",
      "IndexError: index 96 is out of bounds for axis 1 with size 96\n",
      "\n",
      "Traceback (most recent call last):\n",
      "  File \"/home/m3learning/anaconda3/envs/northwestern/lib/python3.11/site-packages/holoviews/plotting/util.py\", line 279, in get_plot_frame\n",
      "    return map_obj[key]\n",
      "           ~~~~~~~^^^^^\n",
      "  File \"/home/m3learning/anaconda3/envs/northwestern/lib/python3.11/site-packages/holoviews/core/spaces.py\", line 1212, in __getitem__\n",
      "    val = self._execute_callback(*tuple_key)\n",
      "          ^^^^^^^^^^^^^^^^^^^^^^^^^^^^^^^^^^\n",
      "  File \"/home/m3learning/anaconda3/envs/northwestern/lib/python3.11/site-packages/holoviews/core/spaces.py\", line 979, in _execute_callback\n",
      "    retval = self.callback(*args, **kwargs)\n",
      "             ^^^^^^^^^^^^^^^^^^^^^^^^^^^^^^\n",
      "  File \"/home/m3learning/anaconda3/envs/northwestern/lib/python3.11/site-packages/holoviews/core/spaces.py\", line 549, in __call__\n",
      "    if not args and not kwargs and not any(kwarg_hash): return self.callable()\n",
      "                                                               ^^^^^^^^^^^^^^^\n",
      "  File \"/home/m3learning/anaconda3/envs/northwestern/lib/python3.11/site-packages/holoviews/util/__init__.py\", line 1025, in dynamic_operation\n",
      "    key, obj = resolve(key, kwargs)\n",
      "               ^^^^^^^^^^^^^^^^^^^^\n",
      "  File \"/home/m3learning/anaconda3/envs/northwestern/lib/python3.11/site-packages/holoviews/util/__init__.py\", line 1014, in resolve\n",
      "    return key, map_obj[key]\n",
      "                ~~~~~~~^^^^^\n",
      "  File \"/home/m3learning/anaconda3/envs/northwestern/lib/python3.11/site-packages/holoviews/core/spaces.py\", line 1212, in __getitem__\n",
      "    val = self._execute_callback(*tuple_key)\n",
      "          ^^^^^^^^^^^^^^^^^^^^^^^^^^^^^^^^^^\n",
      "  File \"/home/m3learning/anaconda3/envs/northwestern/lib/python3.11/site-packages/holoviews/core/spaces.py\", line 979, in _execute_callback\n",
      "    retval = self.callback(*args, **kwargs)\n",
      "             ^^^^^^^^^^^^^^^^^^^^^^^^^^^^^^\n",
      "  File \"/home/m3learning/anaconda3/envs/northwestern/lib/python3.11/site-packages/holoviews/core/spaces.py\", line 549, in __call__\n",
      "    if not args and not kwargs and not any(kwarg_hash): return self.callable()\n",
      "                                                               ^^^^^^^^^^^^^^^\n",
      "  File \"/home/m3learning/anaconda3/envs/northwestern/lib/python3.11/site-packages/holoviews/core/spaces.py\", line 204, in dynamic_mul\n",
      "    other_el = other.select(HoloMap, **key_map) if other.kdims else other[()]\n",
      "                                                                    ~~~~~^^^^\n",
      "  File \"/home/m3learning/anaconda3/envs/northwestern/lib/python3.11/site-packages/holoviews/core/spaces.py\", line 1212, in __getitem__\n",
      "    val = self._execute_callback(*tuple_key)\n",
      "          ^^^^^^^^^^^^^^^^^^^^^^^^^^^^^^^^^^\n",
      "  File \"/home/m3learning/anaconda3/envs/northwestern/lib/python3.11/site-packages/holoviews/core/spaces.py\", line 979, in _execute_callback\n",
      "    retval = self.callback(*args, **kwargs)\n",
      "             ^^^^^^^^^^^^^^^^^^^^^^^^^^^^^^\n",
      "  File \"/home/m3learning/anaconda3/envs/northwestern/lib/python3.11/site-packages/holoviews/core/spaces.py\", line 549, in __call__\n",
      "    if not args and not kwargs and not any(kwarg_hash): return self.callable()\n",
      "                                                               ^^^^^^^^^^^^^^^\n",
      "  File \"/home/m3learning/anaconda3/envs/northwestern/lib/python3.11/site-packages/holoviews/core/spaces.py\", line 204, in dynamic_mul\n",
      "    other_el = other.select(HoloMap, **key_map) if other.kdims else other[()]\n",
      "                                                                    ~~~~~^^^^\n",
      "  File \"/home/m3learning/anaconda3/envs/northwestern/lib/python3.11/site-packages/holoviews/core/spaces.py\", line 1212, in __getitem__\n",
      "    val = self._execute_callback(*tuple_key)\n",
      "          ^^^^^^^^^^^^^^^^^^^^^^^^^^^^^^^^^^\n",
      "  File \"/home/m3learning/anaconda3/envs/northwestern/lib/python3.11/site-packages/holoviews/core/spaces.py\", line 979, in _execute_callback\n",
      "    retval = self.callback(*args, **kwargs)\n",
      "             ^^^^^^^^^^^^^^^^^^^^^^^^^^^^^^\n",
      "  File \"/home/m3learning/anaconda3/envs/northwestern/lib/python3.11/site-packages/holoviews/core/spaces.py\", line 579, in __call__\n",
      "    ret = self.callable(*args, **kwargs)\n",
      "          ^^^^^^^^^^^^^^^^^^^^^^^^^^^^^^\n",
      "  File \"/home/m3learning/anaconda3/envs/northwestern/lib/python3.11/site-packages/holoviews/util/__init__.py\", line 1025, in dynamic_operation\n",
      "    key, obj = resolve(key, kwargs)\n",
      "               ^^^^^^^^^^^^^^^^^^^^\n",
      "  File \"/home/m3learning/anaconda3/envs/northwestern/lib/python3.11/site-packages/holoviews/util/__init__.py\", line 1014, in resolve\n",
      "    return key, map_obj[key]\n",
      "                ~~~~~~~^^^^^\n",
      "  File \"/home/m3learning/anaconda3/envs/northwestern/lib/python3.11/site-packages/holoviews/core/spaces.py\", line 1212, in __getitem__\n",
      "    val = self._execute_callback(*tuple_key)\n",
      "          ^^^^^^^^^^^^^^^^^^^^^^^^^^^^^^^^^^\n",
      "  File \"/home/m3learning/anaconda3/envs/northwestern/lib/python3.11/site-packages/holoviews/core/spaces.py\", line 979, in _execute_callback\n",
      "    retval = self.callback(*args, **kwargs)\n",
      "             ^^^^^^^^^^^^^^^^^^^^^^^^^^^^^^\n",
      "  File \"/home/m3learning/anaconda3/envs/northwestern/lib/python3.11/site-packages/holoviews/core/spaces.py\", line 579, in __call__\n",
      "    ret = self.callable(*args, **kwargs)\n",
      "          ^^^^^^^^^^^^^^^^^^^^^^^^^^^^^^\n",
      "  File \"/home/m3learning/anaconda3/envs/northwestern/lib/python3.11/site-packages/param/parameterized.py\", line 407, in _depends\n",
      "    return func(*args, **kw)\n",
      "           ^^^^^^^^^^^^^^^^^\n",
      "  File \"/home/m3learning/anaconda3/envs/northwestern/lib/python3.11/site-packages/panel/depends.py\", line 249, in wrapped\n",
      "    return eval_fn()(*combined_args, **combined_kwargs)\n",
      "           ^^^^^^^^^^^^^^^^^^^^^^^^^^^^^^^^^^^^^^^^^^^^\n",
      "  File \"/tmp/ipykernel_716526/886772262.py\", line 6, in graph_parameters\n",
      "    emb,_ = update_emb_channel(p,e,c) # (14400,969)\n",
      "            ^^^^^^^^^^^^^^^^^^^^^^^^^\n",
      "  File \"/tmp/ipykernel_716526/1520272500.py\", line 8, in update_emb_channel\n",
      "    return emb[:,c],fits[:,c]\n",
      "          ~~~^^^^^\n",
      "IndexError: index 96 is out of bounds for axis 1 with size 96\n",
      "\n",
      "Traceback (most recent call last):\n",
      "  File \"/home/m3learning/anaconda3/envs/northwestern/lib/python3.11/site-packages/holoviews/plotting/util.py\", line 279, in get_plot_frame\n",
      "    return map_obj[key]\n",
      "           ~~~~~~~^^^^^\n",
      "  File \"/home/m3learning/anaconda3/envs/northwestern/lib/python3.11/site-packages/holoviews/core/spaces.py\", line 1212, in __getitem__\n",
      "    val = self._execute_callback(*tuple_key)\n",
      "          ^^^^^^^^^^^^^^^^^^^^^^^^^^^^^^^^^^\n",
      "  File \"/home/m3learning/anaconda3/envs/northwestern/lib/python3.11/site-packages/holoviews/core/spaces.py\", line 979, in _execute_callback\n",
      "    retval = self.callback(*args, **kwargs)\n",
      "             ^^^^^^^^^^^^^^^^^^^^^^^^^^^^^^\n",
      "  File \"/home/m3learning/anaconda3/envs/northwestern/lib/python3.11/site-packages/holoviews/core/spaces.py\", line 549, in __call__\n",
      "    if not args and not kwargs and not any(kwarg_hash): return self.callable()\n",
      "                                                               ^^^^^^^^^^^^^^^\n",
      "  File \"/home/m3learning/anaconda3/envs/northwestern/lib/python3.11/site-packages/holoviews/util/__init__.py\", line 1025, in dynamic_operation\n",
      "    key, obj = resolve(key, kwargs)\n",
      "               ^^^^^^^^^^^^^^^^^^^^\n",
      "  File \"/home/m3learning/anaconda3/envs/northwestern/lib/python3.11/site-packages/holoviews/util/__init__.py\", line 1014, in resolve\n",
      "    return key, map_obj[key]\n",
      "                ~~~~~~~^^^^^\n",
      "  File \"/home/m3learning/anaconda3/envs/northwestern/lib/python3.11/site-packages/holoviews/core/spaces.py\", line 1212, in __getitem__\n",
      "    val = self._execute_callback(*tuple_key)\n",
      "          ^^^^^^^^^^^^^^^^^^^^^^^^^^^^^^^^^^\n",
      "  File \"/home/m3learning/anaconda3/envs/northwestern/lib/python3.11/site-packages/holoviews/core/spaces.py\", line 979, in _execute_callback\n",
      "    retval = self.callback(*args, **kwargs)\n",
      "             ^^^^^^^^^^^^^^^^^^^^^^^^^^^^^^\n",
      "  File \"/home/m3learning/anaconda3/envs/northwestern/lib/python3.11/site-packages/holoviews/core/spaces.py\", line 549, in __call__\n",
      "    if not args and not kwargs and not any(kwarg_hash): return self.callable()\n",
      "                                                               ^^^^^^^^^^^^^^^\n",
      "  File \"/home/m3learning/anaconda3/envs/northwestern/lib/python3.11/site-packages/holoviews/core/spaces.py\", line 204, in dynamic_mul\n",
      "    other_el = other.select(HoloMap, **key_map) if other.kdims else other[()]\n",
      "                                                                    ~~~~~^^^^\n",
      "  File \"/home/m3learning/anaconda3/envs/northwestern/lib/python3.11/site-packages/holoviews/core/spaces.py\", line 1212, in __getitem__\n",
      "    val = self._execute_callback(*tuple_key)\n",
      "          ^^^^^^^^^^^^^^^^^^^^^^^^^^^^^^^^^^\n",
      "  File \"/home/m3learning/anaconda3/envs/northwestern/lib/python3.11/site-packages/holoviews/core/spaces.py\", line 979, in _execute_callback\n",
      "    retval = self.callback(*args, **kwargs)\n",
      "             ^^^^^^^^^^^^^^^^^^^^^^^^^^^^^^\n",
      "  File \"/home/m3learning/anaconda3/envs/northwestern/lib/python3.11/site-packages/holoviews/core/spaces.py\", line 549, in __call__\n",
      "    if not args and not kwargs and not any(kwarg_hash): return self.callable()\n",
      "                                                               ^^^^^^^^^^^^^^^\n",
      "  File \"/home/m3learning/anaconda3/envs/northwestern/lib/python3.11/site-packages/holoviews/core/spaces.py\", line 204, in dynamic_mul\n",
      "    other_el = other.select(HoloMap, **key_map) if other.kdims else other[()]\n",
      "                                                                    ~~~~~^^^^\n",
      "  File \"/home/m3learning/anaconda3/envs/northwestern/lib/python3.11/site-packages/holoviews/core/spaces.py\", line 1212, in __getitem__\n",
      "    val = self._execute_callback(*tuple_key)\n",
      "          ^^^^^^^^^^^^^^^^^^^^^^^^^^^^^^^^^^\n",
      "  File \"/home/m3learning/anaconda3/envs/northwestern/lib/python3.11/site-packages/holoviews/core/spaces.py\", line 979, in _execute_callback\n",
      "    retval = self.callback(*args, **kwargs)\n",
      "             ^^^^^^^^^^^^^^^^^^^^^^^^^^^^^^\n",
      "  File \"/home/m3learning/anaconda3/envs/northwestern/lib/python3.11/site-packages/holoviews/core/spaces.py\", line 579, in __call__\n",
      "    ret = self.callable(*args, **kwargs)\n",
      "          ^^^^^^^^^^^^^^^^^^^^^^^^^^^^^^\n",
      "  File \"/home/m3learning/anaconda3/envs/northwestern/lib/python3.11/site-packages/holoviews/util/__init__.py\", line 1025, in dynamic_operation\n",
      "    key, obj = resolve(key, kwargs)\n",
      "               ^^^^^^^^^^^^^^^^^^^^\n",
      "  File \"/home/m3learning/anaconda3/envs/northwestern/lib/python3.11/site-packages/holoviews/util/__init__.py\", line 1014, in resolve\n",
      "    return key, map_obj[key]\n",
      "                ~~~~~~~^^^^^\n",
      "  File \"/home/m3learning/anaconda3/envs/northwestern/lib/python3.11/site-packages/holoviews/core/spaces.py\", line 1212, in __getitem__\n",
      "    val = self._execute_callback(*tuple_key)\n",
      "          ^^^^^^^^^^^^^^^^^^^^^^^^^^^^^^^^^^\n",
      "  File \"/home/m3learning/anaconda3/envs/northwestern/lib/python3.11/site-packages/holoviews/core/spaces.py\", line 979, in _execute_callback\n",
      "    retval = self.callback(*args, **kwargs)\n",
      "             ^^^^^^^^^^^^^^^^^^^^^^^^^^^^^^\n",
      "  File \"/home/m3learning/anaconda3/envs/northwestern/lib/python3.11/site-packages/holoviews/core/spaces.py\", line 579, in __call__\n",
      "    ret = self.callable(*args, **kwargs)\n",
      "          ^^^^^^^^^^^^^^^^^^^^^^^^^^^^^^\n",
      "  File \"/home/m3learning/anaconda3/envs/northwestern/lib/python3.11/site-packages/param/parameterized.py\", line 407, in _depends\n",
      "    return func(*args, **kw)\n",
      "           ^^^^^^^^^^^^^^^^^\n",
      "  File \"/home/m3learning/anaconda3/envs/northwestern/lib/python3.11/site-packages/panel/depends.py\", line 249, in wrapped\n",
      "    return eval_fn()(*combined_args, **combined_kwargs)\n",
      "           ^^^^^^^^^^^^^^^^^^^^^^^^^^^^^^^^^^^^^^^^^^^^\n",
      "  File \"/tmp/ipykernel_716526/886772262.py\", line 6, in graph_parameters\n",
      "    emb,_ = update_emb_channel(p,e,c) # (14400,969)\n",
      "            ^^^^^^^^^^^^^^^^^^^^^^^^^\n",
      "  File \"/tmp/ipykernel_716526/1520272500.py\", line 8, in update_emb_channel\n",
      "    return emb[:,c],fits[:,c]\n",
      "          ~~~^^^^^\n",
      "IndexError: index 96 is out of bounds for axis 1 with size 96\n",
      "\n",
      "Traceback (most recent call last):\n",
      "  File \"/home/m3learning/anaconda3/envs/northwestern/lib/python3.11/site-packages/holoviews/plotting/util.py\", line 279, in get_plot_frame\n",
      "    return map_obj[key]\n",
      "           ~~~~~~~^^^^^\n",
      "  File \"/home/m3learning/anaconda3/envs/northwestern/lib/python3.11/site-packages/holoviews/core/spaces.py\", line 1212, in __getitem__\n",
      "    val = self._execute_callback(*tuple_key)\n",
      "          ^^^^^^^^^^^^^^^^^^^^^^^^^^^^^^^^^^\n",
      "  File \"/home/m3learning/anaconda3/envs/northwestern/lib/python3.11/site-packages/holoviews/core/spaces.py\", line 979, in _execute_callback\n",
      "    retval = self.callback(*args, **kwargs)\n",
      "             ^^^^^^^^^^^^^^^^^^^^^^^^^^^^^^\n",
      "  File \"/home/m3learning/anaconda3/envs/northwestern/lib/python3.11/site-packages/holoviews/core/spaces.py\", line 549, in __call__\n",
      "    if not args and not kwargs and not any(kwarg_hash): return self.callable()\n",
      "                                                               ^^^^^^^^^^^^^^^\n",
      "  File \"/home/m3learning/anaconda3/envs/northwestern/lib/python3.11/site-packages/holoviews/util/__init__.py\", line 1025, in dynamic_operation\n",
      "    key, obj = resolve(key, kwargs)\n",
      "               ^^^^^^^^^^^^^^^^^^^^\n",
      "  File \"/home/m3learning/anaconda3/envs/northwestern/lib/python3.11/site-packages/holoviews/util/__init__.py\", line 1014, in resolve\n",
      "    return key, map_obj[key]\n",
      "                ~~~~~~~^^^^^\n",
      "  File \"/home/m3learning/anaconda3/envs/northwestern/lib/python3.11/site-packages/holoviews/core/spaces.py\", line 1212, in __getitem__\n",
      "    val = self._execute_callback(*tuple_key)\n",
      "          ^^^^^^^^^^^^^^^^^^^^^^^^^^^^^^^^^^\n",
      "  File \"/home/m3learning/anaconda3/envs/northwestern/lib/python3.11/site-packages/holoviews/core/spaces.py\", line 979, in _execute_callback\n",
      "    retval = self.callback(*args, **kwargs)\n",
      "             ^^^^^^^^^^^^^^^^^^^^^^^^^^^^^^\n",
      "  File \"/home/m3learning/anaconda3/envs/northwestern/lib/python3.11/site-packages/holoviews/core/spaces.py\", line 549, in __call__\n",
      "    if not args and not kwargs and not any(kwarg_hash): return self.callable()\n",
      "                                                               ^^^^^^^^^^^^^^^\n",
      "  File \"/home/m3learning/anaconda3/envs/northwestern/lib/python3.11/site-packages/holoviews/core/spaces.py\", line 204, in dynamic_mul\n",
      "    other_el = other.select(HoloMap, **key_map) if other.kdims else other[()]\n",
      "                                                                    ~~~~~^^^^\n",
      "  File \"/home/m3learning/anaconda3/envs/northwestern/lib/python3.11/site-packages/holoviews/core/spaces.py\", line 1212, in __getitem__\n",
      "    val = self._execute_callback(*tuple_key)\n",
      "          ^^^^^^^^^^^^^^^^^^^^^^^^^^^^^^^^^^\n",
      "  File \"/home/m3learning/anaconda3/envs/northwestern/lib/python3.11/site-packages/holoviews/core/spaces.py\", line 979, in _execute_callback\n",
      "    retval = self.callback(*args, **kwargs)\n",
      "             ^^^^^^^^^^^^^^^^^^^^^^^^^^^^^^\n",
      "  File \"/home/m3learning/anaconda3/envs/northwestern/lib/python3.11/site-packages/holoviews/core/spaces.py\", line 549, in __call__\n",
      "    if not args and not kwargs and not any(kwarg_hash): return self.callable()\n",
      "                                                               ^^^^^^^^^^^^^^^\n",
      "  File \"/home/m3learning/anaconda3/envs/northwestern/lib/python3.11/site-packages/holoviews/core/spaces.py\", line 204, in dynamic_mul\n",
      "    other_el = other.select(HoloMap, **key_map) if other.kdims else other[()]\n",
      "                                                                    ~~~~~^^^^\n",
      "  File \"/home/m3learning/anaconda3/envs/northwestern/lib/python3.11/site-packages/holoviews/core/spaces.py\", line 1212, in __getitem__\n",
      "    val = self._execute_callback(*tuple_key)\n",
      "          ^^^^^^^^^^^^^^^^^^^^^^^^^^^^^^^^^^\n",
      "  File \"/home/m3learning/anaconda3/envs/northwestern/lib/python3.11/site-packages/holoviews/core/spaces.py\", line 979, in _execute_callback\n",
      "    retval = self.callback(*args, **kwargs)\n",
      "             ^^^^^^^^^^^^^^^^^^^^^^^^^^^^^^\n",
      "  File \"/home/m3learning/anaconda3/envs/northwestern/lib/python3.11/site-packages/holoviews/core/spaces.py\", line 579, in __call__\n",
      "    ret = self.callable(*args, **kwargs)\n",
      "          ^^^^^^^^^^^^^^^^^^^^^^^^^^^^^^\n",
      "  File \"/home/m3learning/anaconda3/envs/northwestern/lib/python3.11/site-packages/holoviews/util/__init__.py\", line 1025, in dynamic_operation\n",
      "    key, obj = resolve(key, kwargs)\n",
      "               ^^^^^^^^^^^^^^^^^^^^\n",
      "  File \"/home/m3learning/anaconda3/envs/northwestern/lib/python3.11/site-packages/holoviews/util/__init__.py\", line 1014, in resolve\n",
      "    return key, map_obj[key]\n",
      "                ~~~~~~~^^^^^\n",
      "  File \"/home/m3learning/anaconda3/envs/northwestern/lib/python3.11/site-packages/holoviews/core/spaces.py\", line 1212, in __getitem__\n",
      "    val = self._execute_callback(*tuple_key)\n",
      "          ^^^^^^^^^^^^^^^^^^^^^^^^^^^^^^^^^^\n",
      "  File \"/home/m3learning/anaconda3/envs/northwestern/lib/python3.11/site-packages/holoviews/core/spaces.py\", line 979, in _execute_callback\n",
      "    retval = self.callback(*args, **kwargs)\n",
      "             ^^^^^^^^^^^^^^^^^^^^^^^^^^^^^^\n",
      "  File \"/home/m3learning/anaconda3/envs/northwestern/lib/python3.11/site-packages/holoviews/core/spaces.py\", line 579, in __call__\n",
      "    ret = self.callable(*args, **kwargs)\n",
      "          ^^^^^^^^^^^^^^^^^^^^^^^^^^^^^^\n",
      "  File \"/home/m3learning/anaconda3/envs/northwestern/lib/python3.11/site-packages/param/parameterized.py\", line 407, in _depends\n",
      "    return func(*args, **kw)\n",
      "           ^^^^^^^^^^^^^^^^^\n",
      "  File \"/home/m3learning/anaconda3/envs/northwestern/lib/python3.11/site-packages/panel/depends.py\", line 249, in wrapped\n",
      "    return eval_fn()(*combined_args, **combined_kwargs)\n",
      "           ^^^^^^^^^^^^^^^^^^^^^^^^^^^^^^^^^^^^^^^^^^^^\n",
      "  File \"/tmp/ipykernel_716526/886772262.py\", line 6, in graph_parameters\n",
      "    emb,_ = update_emb_channel(p,e,c) # (14400,969)\n",
      "            ^^^^^^^^^^^^^^^^^^^^^^^^^\n",
      "  File \"/tmp/ipykernel_716526/1520272500.py\", line 8, in update_emb_channel\n",
      "    return emb[:,c],fits[:,c]\n",
      "          ~~~^^^^^\n",
      "IndexError: index 96 is out of bounds for axis 1 with size 96\n",
      "\n",
      "Traceback (most recent call last):\n",
      "  File \"/home/m3learning/anaconda3/envs/northwestern/lib/python3.11/site-packages/holoviews/plotting/util.py\", line 279, in get_plot_frame\n",
      "    return map_obj[key]\n",
      "           ~~~~~~~^^^^^\n",
      "  File \"/home/m3learning/anaconda3/envs/northwestern/lib/python3.11/site-packages/holoviews/core/spaces.py\", line 1212, in __getitem__\n",
      "    val = self._execute_callback(*tuple_key)\n",
      "          ^^^^^^^^^^^^^^^^^^^^^^^^^^^^^^^^^^\n",
      "  File \"/home/m3learning/anaconda3/envs/northwestern/lib/python3.11/site-packages/holoviews/core/spaces.py\", line 979, in _execute_callback\n",
      "    retval = self.callback(*args, **kwargs)\n",
      "             ^^^^^^^^^^^^^^^^^^^^^^^^^^^^^^\n",
      "  File \"/home/m3learning/anaconda3/envs/northwestern/lib/python3.11/site-packages/holoviews/core/spaces.py\", line 549, in __call__\n",
      "    if not args and not kwargs and not any(kwarg_hash): return self.callable()\n",
      "                                                               ^^^^^^^^^^^^^^^\n",
      "  File \"/home/m3learning/anaconda3/envs/northwestern/lib/python3.11/site-packages/holoviews/util/__init__.py\", line 1025, in dynamic_operation\n",
      "    key, obj = resolve(key, kwargs)\n",
      "               ^^^^^^^^^^^^^^^^^^^^\n",
      "  File \"/home/m3learning/anaconda3/envs/northwestern/lib/python3.11/site-packages/holoviews/util/__init__.py\", line 1014, in resolve\n",
      "    return key, map_obj[key]\n",
      "                ~~~~~~~^^^^^\n",
      "  File \"/home/m3learning/anaconda3/envs/northwestern/lib/python3.11/site-packages/holoviews/core/spaces.py\", line 1212, in __getitem__\n",
      "    val = self._execute_callback(*tuple_key)\n",
      "          ^^^^^^^^^^^^^^^^^^^^^^^^^^^^^^^^^^\n",
      "  File \"/home/m3learning/anaconda3/envs/northwestern/lib/python3.11/site-packages/holoviews/core/spaces.py\", line 979, in _execute_callback\n",
      "    retval = self.callback(*args, **kwargs)\n",
      "             ^^^^^^^^^^^^^^^^^^^^^^^^^^^^^^\n",
      "  File \"/home/m3learning/anaconda3/envs/northwestern/lib/python3.11/site-packages/holoviews/core/spaces.py\", line 549, in __call__\n",
      "    if not args and not kwargs and not any(kwarg_hash): return self.callable()\n",
      "                                                               ^^^^^^^^^^^^^^^\n",
      "  File \"/home/m3learning/anaconda3/envs/northwestern/lib/python3.11/site-packages/holoviews/core/spaces.py\", line 204, in dynamic_mul\n",
      "    other_el = other.select(HoloMap, **key_map) if other.kdims else other[()]\n",
      "                                                                    ~~~~~^^^^\n",
      "  File \"/home/m3learning/anaconda3/envs/northwestern/lib/python3.11/site-packages/holoviews/core/spaces.py\", line 1212, in __getitem__\n",
      "    val = self._execute_callback(*tuple_key)\n",
      "          ^^^^^^^^^^^^^^^^^^^^^^^^^^^^^^^^^^\n",
      "  File \"/home/m3learning/anaconda3/envs/northwestern/lib/python3.11/site-packages/holoviews/core/spaces.py\", line 979, in _execute_callback\n",
      "    retval = self.callback(*args, **kwargs)\n",
      "             ^^^^^^^^^^^^^^^^^^^^^^^^^^^^^^\n",
      "  File \"/home/m3learning/anaconda3/envs/northwestern/lib/python3.11/site-packages/holoviews/core/spaces.py\", line 549, in __call__\n",
      "    if not args and not kwargs and not any(kwarg_hash): return self.callable()\n",
      "                                                               ^^^^^^^^^^^^^^^\n",
      "  File \"/home/m3learning/anaconda3/envs/northwestern/lib/python3.11/site-packages/holoviews/core/spaces.py\", line 204, in dynamic_mul\n",
      "    other_el = other.select(HoloMap, **key_map) if other.kdims else other[()]\n",
      "                                                                    ~~~~~^^^^\n",
      "  File \"/home/m3learning/anaconda3/envs/northwestern/lib/python3.11/site-packages/holoviews/core/spaces.py\", line 1212, in __getitem__\n",
      "    val = self._execute_callback(*tuple_key)\n",
      "          ^^^^^^^^^^^^^^^^^^^^^^^^^^^^^^^^^^\n",
      "  File \"/home/m3learning/anaconda3/envs/northwestern/lib/python3.11/site-packages/holoviews/core/spaces.py\", line 979, in _execute_callback\n",
      "    retval = self.callback(*args, **kwargs)\n",
      "             ^^^^^^^^^^^^^^^^^^^^^^^^^^^^^^\n",
      "  File \"/home/m3learning/anaconda3/envs/northwestern/lib/python3.11/site-packages/holoviews/core/spaces.py\", line 579, in __call__\n",
      "    ret = self.callable(*args, **kwargs)\n",
      "          ^^^^^^^^^^^^^^^^^^^^^^^^^^^^^^\n",
      "  File \"/home/m3learning/anaconda3/envs/northwestern/lib/python3.11/site-packages/holoviews/util/__init__.py\", line 1025, in dynamic_operation\n",
      "    key, obj = resolve(key, kwargs)\n",
      "               ^^^^^^^^^^^^^^^^^^^^\n",
      "  File \"/home/m3learning/anaconda3/envs/northwestern/lib/python3.11/site-packages/holoviews/util/__init__.py\", line 1014, in resolve\n",
      "    return key, map_obj[key]\n",
      "                ~~~~~~~^^^^^\n",
      "  File \"/home/m3learning/anaconda3/envs/northwestern/lib/python3.11/site-packages/holoviews/core/spaces.py\", line 1212, in __getitem__\n",
      "    val = self._execute_callback(*tuple_key)\n",
      "          ^^^^^^^^^^^^^^^^^^^^^^^^^^^^^^^^^^\n",
      "  File \"/home/m3learning/anaconda3/envs/northwestern/lib/python3.11/site-packages/holoviews/core/spaces.py\", line 979, in _execute_callback\n",
      "    retval = self.callback(*args, **kwargs)\n",
      "             ^^^^^^^^^^^^^^^^^^^^^^^^^^^^^^\n",
      "  File \"/home/m3learning/anaconda3/envs/northwestern/lib/python3.11/site-packages/holoviews/core/spaces.py\", line 579, in __call__\n",
      "    ret = self.callable(*args, **kwargs)\n",
      "          ^^^^^^^^^^^^^^^^^^^^^^^^^^^^^^\n",
      "  File \"/home/m3learning/anaconda3/envs/northwestern/lib/python3.11/site-packages/param/parameterized.py\", line 407, in _depends\n",
      "    return func(*args, **kw)\n",
      "           ^^^^^^^^^^^^^^^^^\n",
      "  File \"/home/m3learning/anaconda3/envs/northwestern/lib/python3.11/site-packages/panel/depends.py\", line 249, in wrapped\n",
      "    return eval_fn()(*combined_args, **combined_kwargs)\n",
      "           ^^^^^^^^^^^^^^^^^^^^^^^^^^^^^^^^^^^^^^^^^^^^\n",
      "  File \"/tmp/ipykernel_716526/886772262.py\", line 6, in graph_parameters\n",
      "    emb,_ = update_emb_channel(p,e,c) # (14400,969)\n",
      "            ^^^^^^^^^^^^^^^^^^^^^^^^^\n",
      "  File \"/tmp/ipykernel_716526/1520272500.py\", line 8, in update_emb_channel\n",
      "    return emb[:,c],fits[:,c]\n",
      "          ~~~^^^^^\n",
      "IndexError: index 96 is out of bounds for axis 1 with size 96\n",
      "\n",
      "Traceback (most recent call last):\n",
      "  File \"/home/m3learning/anaconda3/envs/northwestern/lib/python3.11/site-packages/holoviews/plotting/util.py\", line 279, in get_plot_frame\n",
      "    return map_obj[key]\n",
      "           ~~~~~~~^^^^^\n",
      "  File \"/home/m3learning/anaconda3/envs/northwestern/lib/python3.11/site-packages/holoviews/core/spaces.py\", line 1212, in __getitem__\n",
      "    val = self._execute_callback(*tuple_key)\n",
      "          ^^^^^^^^^^^^^^^^^^^^^^^^^^^^^^^^^^\n",
      "  File \"/home/m3learning/anaconda3/envs/northwestern/lib/python3.11/site-packages/holoviews/core/spaces.py\", line 979, in _execute_callback\n",
      "    retval = self.callback(*args, **kwargs)\n",
      "             ^^^^^^^^^^^^^^^^^^^^^^^^^^^^^^\n",
      "  File \"/home/m3learning/anaconda3/envs/northwestern/lib/python3.11/site-packages/holoviews/core/spaces.py\", line 549, in __call__\n",
      "    if not args and not kwargs and not any(kwarg_hash): return self.callable()\n",
      "                                                               ^^^^^^^^^^^^^^^\n",
      "  File \"/home/m3learning/anaconda3/envs/northwestern/lib/python3.11/site-packages/holoviews/util/__init__.py\", line 1025, in dynamic_operation\n",
      "    key, obj = resolve(key, kwargs)\n",
      "               ^^^^^^^^^^^^^^^^^^^^\n",
      "  File \"/home/m3learning/anaconda3/envs/northwestern/lib/python3.11/site-packages/holoviews/util/__init__.py\", line 1014, in resolve\n",
      "    return key, map_obj[key]\n",
      "                ~~~~~~~^^^^^\n",
      "  File \"/home/m3learning/anaconda3/envs/northwestern/lib/python3.11/site-packages/holoviews/core/spaces.py\", line 1212, in __getitem__\n",
      "    val = self._execute_callback(*tuple_key)\n",
      "          ^^^^^^^^^^^^^^^^^^^^^^^^^^^^^^^^^^\n",
      "  File \"/home/m3learning/anaconda3/envs/northwestern/lib/python3.11/site-packages/holoviews/core/spaces.py\", line 979, in _execute_callback\n",
      "    retval = self.callback(*args, **kwargs)\n",
      "             ^^^^^^^^^^^^^^^^^^^^^^^^^^^^^^\n",
      "  File \"/home/m3learning/anaconda3/envs/northwestern/lib/python3.11/site-packages/holoviews/core/spaces.py\", line 549, in __call__\n",
      "    if not args and not kwargs and not any(kwarg_hash): return self.callable()\n",
      "                                                               ^^^^^^^^^^^^^^^\n",
      "  File \"/home/m3learning/anaconda3/envs/northwestern/lib/python3.11/site-packages/holoviews/core/spaces.py\", line 204, in dynamic_mul\n",
      "    other_el = other.select(HoloMap, **key_map) if other.kdims else other[()]\n",
      "                                                                    ~~~~~^^^^\n",
      "  File \"/home/m3learning/anaconda3/envs/northwestern/lib/python3.11/site-packages/holoviews/core/spaces.py\", line 1212, in __getitem__\n",
      "    val = self._execute_callback(*tuple_key)\n",
      "          ^^^^^^^^^^^^^^^^^^^^^^^^^^^^^^^^^^\n",
      "  File \"/home/m3learning/anaconda3/envs/northwestern/lib/python3.11/site-packages/holoviews/core/spaces.py\", line 979, in _execute_callback\n",
      "    retval = self.callback(*args, **kwargs)\n",
      "             ^^^^^^^^^^^^^^^^^^^^^^^^^^^^^^\n",
      "  File \"/home/m3learning/anaconda3/envs/northwestern/lib/python3.11/site-packages/holoviews/core/spaces.py\", line 549, in __call__\n",
      "    if not args and not kwargs and not any(kwarg_hash): return self.callable()\n",
      "                                                               ^^^^^^^^^^^^^^^\n",
      "  File \"/home/m3learning/anaconda3/envs/northwestern/lib/python3.11/site-packages/holoviews/core/spaces.py\", line 204, in dynamic_mul\n",
      "    other_el = other.select(HoloMap, **key_map) if other.kdims else other[()]\n",
      "                                                                    ~~~~~^^^^\n",
      "  File \"/home/m3learning/anaconda3/envs/northwestern/lib/python3.11/site-packages/holoviews/core/spaces.py\", line 1212, in __getitem__\n",
      "    val = self._execute_callback(*tuple_key)\n",
      "          ^^^^^^^^^^^^^^^^^^^^^^^^^^^^^^^^^^\n",
      "  File \"/home/m3learning/anaconda3/envs/northwestern/lib/python3.11/site-packages/holoviews/core/spaces.py\", line 979, in _execute_callback\n",
      "    retval = self.callback(*args, **kwargs)\n",
      "             ^^^^^^^^^^^^^^^^^^^^^^^^^^^^^^\n",
      "  File \"/home/m3learning/anaconda3/envs/northwestern/lib/python3.11/site-packages/holoviews/core/spaces.py\", line 579, in __call__\n",
      "    ret = self.callable(*args, **kwargs)\n",
      "          ^^^^^^^^^^^^^^^^^^^^^^^^^^^^^^\n",
      "  File \"/home/m3learning/anaconda3/envs/northwestern/lib/python3.11/site-packages/holoviews/util/__init__.py\", line 1025, in dynamic_operation\n",
      "    key, obj = resolve(key, kwargs)\n",
      "               ^^^^^^^^^^^^^^^^^^^^\n",
      "  File \"/home/m3learning/anaconda3/envs/northwestern/lib/python3.11/site-packages/holoviews/util/__init__.py\", line 1014, in resolve\n",
      "    return key, map_obj[key]\n",
      "                ~~~~~~~^^^^^\n",
      "  File \"/home/m3learning/anaconda3/envs/northwestern/lib/python3.11/site-packages/holoviews/core/spaces.py\", line 1212, in __getitem__\n",
      "    val = self._execute_callback(*tuple_key)\n",
      "          ^^^^^^^^^^^^^^^^^^^^^^^^^^^^^^^^^^\n",
      "  File \"/home/m3learning/anaconda3/envs/northwestern/lib/python3.11/site-packages/holoviews/core/spaces.py\", line 979, in _execute_callback\n",
      "    retval = self.callback(*args, **kwargs)\n",
      "             ^^^^^^^^^^^^^^^^^^^^^^^^^^^^^^\n",
      "  File \"/home/m3learning/anaconda3/envs/northwestern/lib/python3.11/site-packages/holoviews/core/spaces.py\", line 579, in __call__\n",
      "    ret = self.callable(*args, **kwargs)\n",
      "          ^^^^^^^^^^^^^^^^^^^^^^^^^^^^^^\n",
      "  File \"/home/m3learning/anaconda3/envs/northwestern/lib/python3.11/site-packages/param/parameterized.py\", line 407, in _depends\n",
      "    return func(*args, **kw)\n",
      "           ^^^^^^^^^^^^^^^^^\n",
      "  File \"/home/m3learning/anaconda3/envs/northwestern/lib/python3.11/site-packages/panel/depends.py\", line 249, in wrapped\n",
      "    return eval_fn()(*combined_args, **combined_kwargs)\n",
      "           ^^^^^^^^^^^^^^^^^^^^^^^^^^^^^^^^^^^^^^^^^^^^\n",
      "  File \"/tmp/ipykernel_716526/886772262.py\", line 6, in graph_parameters\n",
      "    emb,_ = update_emb_channel(p,e,c) # (14400,969)\n",
      "            ^^^^^^^^^^^^^^^^^^^^^^^^^\n",
      "  File \"/tmp/ipykernel_716526/1520272500.py\", line 8, in update_emb_channel\n",
      "    return emb[:,c],fits[:,c]\n",
      "          ~~~^^^^^\n",
      "IndexError: index 96 is out of bounds for axis 1 with size 96\n",
      "\n"
     ]
    }
   ],
   "source": [
    "parameter_dmaps_by_channel = pn.Column(pn.Row(p_select, e_select,c_select),\n",
    "          (blank_emb*emb_dmap*dot_overlay).opts(axiswise=True) +\\\n",
    "          (blank_spec*fits_dmap*vline_overlay).opts(axiswise=True),\n",
    "          hv.Layout( [dot_overlay*dmap for dmap in parameter_dmaps] ).cols(2) )\n",
    "\n",
    "parameter_dmaps_by_channel"
   ]
  },
  {
   "cell_type": "code",
   "execution_count": 136,
   "metadata": {},
   "outputs": [],
   "source": [
    "parameter_dmaps_by_channel.clear()"
   ]
  },
  {
   "cell_type": "code",
   "execution_count": 51,
   "metadata": {},
   "outputs": [
    {
     "data": {
      "text/plain": [
       "torch.Size([2, 5])"
      ]
     },
     "execution_count": 51,
     "metadata": {},
     "output_type": "execute_result"
    }
   ],
   "source": [
    "fake_data = torch.Tensor([[1,0.1,500,100,0.25],[1,0.1,500,100,0.75]])\n",
    "fake_data.shape"
   ]
  },
  {
   "cell_type": "code",
   "execution_count": 52,
   "metadata": {},
   "outputs": [],
   "source": [
    "test = stem.generate_pseudovoigt_1D( fake_data.unsqueeze(0), dset )"
   ]
  },
  {
   "cell_type": "code",
   "execution_count": 53,
   "metadata": {},
   "outputs": [
    {
     "data": {
      "text/plain": [
       "[<matplotlib.lines.Line2D at 0x7f77a03be610>]"
      ]
     },
     "execution_count": 53,
     "metadata": {},
     "output_type": "execute_result"
    },
    {
     "data": {
      "image/png": "[encoded data removed]",
      "text/plain": [
       "<Figure size 640x480 with 1 Axes>"
      ]
     },
     "metadata": {},
     "output_type": "display_data"
    }
   ],
   "source": [
    "plt.plot(test[0,0])\n",
    "plt.plot(test[0,1])"
   ]
  },
  {
   "cell_type": "code",
   "execution_count": 47,
   "metadata": {},
   "outputs": [
    {
     "data": {
      "text/plain": [
       "torch.Size([1, 2, 969])"
      ]
     },
     "execution_count": 47,
     "metadata": {},
     "output_type": "execute_result"
    }
   ],
   "source": [
    "test.shape"
   ]
  }
 ],
 "metadata": {
  "kernelspec": {
   "display_name": "northwestern",
   "language": "python",
   "name": "python3"
  },
  "language_info": {
   "codemirror_mode": {
    "name": "ipython",
    "version": 3
   },
   "file_extension": ".py",
   "mimetype": "text/x-python",
   "name": "python",
   "nbconvert_exporter": "python",
   "pygments_lexer": "ipython3",
   "version": "3.11.4"
  }
 },
 "nbformat": 4,
 "nbformat_minor": 2
}
