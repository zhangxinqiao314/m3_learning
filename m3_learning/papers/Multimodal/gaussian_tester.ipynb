{
 "cells": [
  {
   "cell_type": "code",
   "execution_count": null,
   "metadata": {},
   "outputs": [],
   "source": [
    "import numpy as np\n",
    "import matplotlib.pyplot as plt\n",
    "\n",
    "def write_pseudovoight(A,x,w=5,nu=0.5):\n",
    "    x_ = np.linspace(0,100,1000)\n",
    "    y = A*( nu*np.pi/2/((x-x_)**2+(nu*np.pi/2)**2) \\\n",
    "        +(1-nu)*(np.exp(-4*np.log(2)*(x-x_)**2/w**2)) )\n",
    "    return y\n",
    "\n",
    "def add_noise(A,y,noise=0.1):\n",
    "    y_ = y + np.random.normal(0,noise,A.shape)\n",
    "    return y_\n",
    "\n",
    "mask = np.zeros((50,50))\n",
    "mask[10:40,10:40] = 1\n",
    "\n",
    "def make_3d_datacube(A,x,w=5,nu=0.5,noise=0.1):\n",
    "    datacube = np.zeros((50,50,1000))\n",
    "    for i in range(50):\n",
    "        for j in range(50):\n",
    "            if mask[i,j] == 1:\n",
    "                datacube[i,j] = add_noise(A,write_pseudovoight(A,x,w,nu),noise)\n",
    "    return datacube"
   ]
  }
 ],
 "metadata": {
  "language_info": {
   "name": "python"
  }
 },
 "nbformat": 4,
 "nbformat_minor": 2
}
