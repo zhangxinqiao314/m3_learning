{
 "cells": [
  {
   "cell_type": "markdown",
   "id": "72de52f2",
   "metadata": {},
   "source": [
    "# Band Excitation Piezoresponse Force Microscopy of $PbZr_{0.2}Ti_{0.8}O_3$\n",
    "\n",
    "Film grown and measurements conducted by Joshua C. Agar at Oak Ridge National Laboratory\n",
    "\n",
    "This dataset has been the subject of 4 manuscripts: \n",
    "\n",
    "1. Agar, J., Damodaran, A. R., Pandya, S., C, Cao, Y., Vasudevan, R. K., Xu, R., Saremi, S., Li, Q., Kim, J., McCarter, M. R., Dedon, L. R., Angsten, T., Balke, N., Jesse, S., Asta, M., Kalinin, S. V. & Martin, L. W. Three-State Ferroelastic Switching and Large Electromechanical Responses in PbTiO<sub>3 Thin Films. Adv. Mater. 29, 1702069 (2017). [doi:10.1002/adma.201702069](https://onlinelibrary.wiley.com/doi/10.1002/adma.201702069)\n",
    "2. Agar, J. C., Cao, Y., Naul, B., Pandya, S., van der Walt, S., Luo, A. I., Maher, J. T., Balke, N., Jesse, S., Kalinin, S. V., Vasudevan, R. K. & Martin, L. W. Machine detection of enhanced electromechanical energy conversion in PbZr<sub>0.2</sub>Ti<sub>0.8</sub>O<sub>3</sub> thin films. Adv. Mater. 30, e1800701 (2018). [doi:10.1002/adma.201800701](https://onlinelibrary.wiley.com/doi/abs/10.1002/adma.201800701)\n",
    "3. Griffin, L. A., Gaponenko, I. & Bassiri-Gharb, N. Better, Faster, and Less Biased Machine Learning: Electromechanical Switching in Ferroelectric Thin Films. Adv. Mater. e2002425 (2020). [doi:10.1002/adma.202002425](https://onlinelibrary.wiley.com/doi/abs/10.1002/adma.202002425)\n",
    "4. Qin, S., Guo, Y., Kaliyev, A. T. & Agar, J. C. Why it is Unfortunate that Linear Machine Learning ‘Works’ so well in Electromechanical Switching of Ferroelectric Thin Films. Adv. Mater. e2202814 (2022). [doi:10.1002/adma.202202814](https://onlinelibrary.wiley.com/doi/10.1002/adma.202202814)"
   ]
  },
  {
   "cell_type": "markdown",
   "id": "e7711a85",
   "metadata": {},
   "source": [
    "## Import Packages"
   ]
  },
  {
   "cell_type": "code",
   "execution_count": null,
   "id": "32dfa529",
   "metadata": {},
   "outputs": [],
   "source": [
    "import h5py\n",
    "import numpy as np\n",
    "\n",
    "import matplotlib.pyplot as plt\n",
    "from matplotlib.patches import ConnectionPatch\n",
    "\n",
    "\n",
    "from m3_learning.nn.random import random_seed\n",
    "from m3_learning.viz.style import set_style\n",
    "from m3_learning.be.util import print_be_tree\n",
    "from m3_learning.be.processing import convert_amp_phase, fit_loop_function, SHO_Fitter, SHO_fit_to_array, loop_lsqf\n",
    "from m3_learning.viz.layout import layout_fig\n",
    "from m3_learning.util.h5_util import make_dataset, make_group\n",
    "from m3_learning.util.file_IO import download_and_unzip\n",
    "from scipy.signal import resample\n",
    "from scipy import fftpack\n",
    "\n",
    "\n",
    "\n",
    "set_style(\"default\")\n",
    "random_seed(seed=42)\n",
    "\n",
    "%matplotlib inline"
   ]
  },
  {
   "cell_type": "markdown",
   "id": "29236116",
   "metadata": {
    "id": "Ol1F9fy7Mo1v"
   },
   "source": [
    "## Loading data for SHO fitting\n"
   ]
  },
  {
   "cell_type": "code",
   "execution_count": null,
   "id": "fd565a43",
   "metadata": {},
   "outputs": [],
   "source": [
    "path = r\"./\""
   ]
  },
  {
   "cell_type": "code",
   "execution_count": null,
   "id": "e0f238cd",
   "metadata": {
    "colab": {
     "base_uri": "https://localhost:8080/",
     "height": 108
    },
    "id": "Or1SY2WdMrkA",
    "outputId": "796c070e-be63-43b5-96f0-e4c30b476c0c"
   },
   "outputs": [],
   "source": [
    "url = 'https://zenodo.org/record/7297755/files/data_file.h5?download=1'\n",
    "filename = 'data_file.h5'\n",
    "save_path = './'\n",
    "\n",
    "download_and_unzip(filename, url, save_path)"
   ]
  },
  {
   "cell_type": "markdown",
   "id": "6ac8e45c",
   "metadata": {},
   "source": [
    "Prints the Tree to show the Data Structure"
   ]
  },
  {
   "cell_type": "code",
   "execution_count": null,
   "id": "441740c8",
   "metadata": {
    "colab": {
     "base_uri": "https://localhost:8080/"
    },
    "id": "xRIcp94ufPLz",
    "outputId": "1c6b1077-d031-4d4d-ecb1-789bf821921f"
   },
   "outputs": [],
   "source": [
    "print_be_tree(path + \"data_file.h5\")"
   ]
  },
  {
   "cell_type": "markdown",
   "id": "350ac4be",
   "metadata": {
    "id": "2z2fWl_hPcq1"
   },
   "source": [
    "## SHO Fitting\n",
    "**Note**: this code takes around 15 minutes to execute"
   ]
  },
  {
   "cell_type": "code",
   "execution_count": null,
   "id": "3f52f14d",
   "metadata": {
    "tags": [
     "skip-execution"
    ]
   },
   "outputs": [],
   "source": [
    "SHO_Fitter(path + \"data_file.h5\")"
   ]
  },
  {
   "cell_type": "markdown",
   "id": "8be02611",
   "metadata": {},
   "source": [
    "### Extract Data"
   ]
  },
  {
   "cell_type": "code",
   "execution_count": null,
   "id": "6a4ae14a",
   "metadata": {},
   "outputs": [],
   "source": [
    "# Opens the data file\n",
    "h5_f = h5py.File(path + \"data_file.h5\", \"r+\")\n",
    "\n",
    "# number of samples per SHO fit\n",
    "num_bins = h5_f[\"Measurement_000\"].attrs[\"num_bins\"]\n",
    "\n",
    "# number of pixels in the image\n",
    "num_pix = h5_f[\"Measurement_000\"].attrs[\"num_pix\"]\n",
    "\n",
    "# number of pixels in x and y dimensions\n",
    "num_pix_1d = int(np.sqrt(num_pix))\n",
    "\n",
    "# number of DC voltage steps\n",
    "voltage_steps = h5_f[\"Measurement_000\"].attrs[\"num_udvs_steps\"]\n",
    "\n",
    "# sampling rate\n",
    "sampling_rate = h5_f[\"Measurement_000\"].attrs[\"IO_rate_[Hz]\"]\n",
    "\n",
    "# BE bandwidth\n",
    "be_bandwidth = h5_f[\"Measurement_000\"].attrs[\"BE_band_width_[Hz]\"]\n",
    "\n",
    "# BE center frequency\n",
    "be_center_frequency = h5_f[\"Measurement_000\"].attrs[\"BE_center_frequency_[Hz]\"]\n",
    "\n",
    "# Frequency Vector in Hz\n",
    "frequency_bin = h5_f[\"Measurement_000\"][\"Channel_000\"][\"Bin_Frequencies\"][:]\n",
    "\n",
    "# Resampled frequency vector\n",
    "wvec_freq = resample(frequency_bin, 80)\n",
    "\n",
    "# extracting the excitation waveform\n",
    "be_waveform = h5_f[\"Measurement_000\"][\"Channel_000\"][\"Excitation_Waveform\"]\n",
    "\n",
    "# extracting spectroscopic values\n",
    "spectroscopic_values = h5_f[\"Measurement_000\"][\"Channel_000\"][\"Spectroscopic_Values\"]\n",
    "\n",
    "# get raw data (real and imaginary combined)\n",
    "raw_data = h5_f[\"Measurement_000\"][\"Channel_000\"][\"Raw_Data\"]"
   ]
  },
  {
   "cell_type": "markdown",
   "id": "2773437f",
   "metadata": {},
   "source": [
    "### Saves the Data"
   ]
  },
  {
   "cell_type": "code",
   "execution_count": null,
   "id": "e53b7a1b",
   "metadata": {
    "scrolled": true
   },
   "outputs": [],
   "source": [
    "shape = h5_f[\"Measurement_000\"][\"Channel_000\"][\"Raw_Data\"].shape\n",
    "\n",
    "#creates the necessary structure in the H5_file\n",
    "make_group(h5_f[\"Measurement_000\"][\"Channel_000\"], 'complex')\n",
    "make_group(h5_f[\"Measurement_000\"][\"Channel_000\"], 'magn_spec')\n",
    "make_dataset(h5_f[\"Measurement_000\"][\"Channel_000\"]['complex'], 'real', np.real(h5_f[\"Measurement_000\"][\"Channel_000\"][\"Raw_Data\"]))\n",
    "make_dataset(h5_f[\"Measurement_000\"][\"Channel_000\"]['complex'], 'imag', np.imag(h5_f[\"Measurement_000\"][\"Channel_000\"][\"Raw_Data\"]))\n",
    "\n",
    "amp, phase = convert_amp_phase(raw_data)\n",
    "\n",
    "make_dataset(h5_f[\"Measurement_000\"][\"Channel_000\"]['magn_spec'], 'amp', amp)\n",
    "make_dataset(h5_f[\"Measurement_000\"][\"Channel_000\"]['magn_spec'], 'phase', phase)"
   ]
  },
  {
   "cell_type": "markdown",
   "id": "c3eb6c3d",
   "metadata": {},
   "source": [
    "### Plots the SHO Fit Results"
   ]
  },
  {
   "cell_type": "code",
   "execution_count": null,
   "id": "9914664a",
   "metadata": {},
   "outputs": [],
   "source": [
    "dc_voltage = h5_f[\"Measurement_000\"][\"Channel_000\"]['Raw_Data-SHO_Fit_000']['Spectroscopic_Values'][0,1::2]\n",
    "SHO_fit_results = SHO_fit_to_array(h5_f[\"Measurement_000\"][\"Channel_000\"][\"Raw_Data-SHO_Fit_000\"][\"Fit\"])"
   ]
  },
  {
   "cell_type": "code",
   "execution_count": null,
   "id": "dd4ea37e",
   "metadata": {},
   "outputs": [],
   "source": [
    "pix = np.random.randint(0,3600)\n",
    "\n",
    "figs, ax = layout_fig(4, 4, figsize=(30, 6))\n",
    "\n",
    "labels = [{'title': \"Amplitude\",\n",
    "            'y_label': \"Ampltude (Arb. U.)\"},\n",
    "         {'title': \"Resonance Frequency\",\n",
    "            'y_label': \"Resonance Frequency (Hz)\"},\n",
    "         {'title': \"Dampening\",\n",
    "            'y_label': \"Quality Factor (Arb. U.)\"},\n",
    "        {'title': \"Phase\",\n",
    "            'y_label': \"Phase (rad)\"}]\n",
    "\n",
    "for i, ax in enumerate(ax):\n",
    "    ax.plot(dc_voltage, SHO_fit_results[pix,1::2,i])\n",
    "    ax.set_title(labels[i]['title'])\n",
    "    ax.set_ylabel(labels[i]['y_label'])"
   ]
  },
  {
   "cell_type": "markdown",
   "id": "fe158bfe",
   "metadata": {},
   "source": [
    "### Visualize Raw Data"
   ]
  },
  {
   "cell_type": "code",
   "execution_count": null,
   "id": "2803da63",
   "metadata": {},
   "outputs": [],
   "source": [
    "# Selects a random point and timestep to plot\n",
    "pixel = np.random.randint(0,h5_f[\"Measurement_000\"][\"Channel_000\"]['magn_spec']['amp'][:].shape[0])\n",
    "timestep = np.random.randint(h5_f[\"Measurement_000\"][\"Channel_000\"]['magn_spec']['amp'][:].shape[0]/num_bins)\n",
    "\n",
    "print(pixel, timestep)\n",
    "fig, ax = layout_fig(5, 5, figsize=(6 * 11, 10))\n",
    "\n",
    "be_timesteps = len(be_waveform) / 4\n",
    "print(\"Number of time steps: \" + str(be_timesteps))\n",
    "ax[0].plot(be_waveform[: int(be_timesteps)])\n",
    "ax[0].set(xlabel=\"Time (sec)\", ylabel=\"Voltage (V)\")\n",
    "ax[0].set_title(\"BE Waveform\")\n",
    "\n",
    "resonance_graph = np.fft.fft(be_waveform[: int(be_timesteps)])\n",
    "fftfreq = fftpack.fftfreq(int(be_timesteps)) * sampling_rate\n",
    "ax[1].plot(\n",
    "    fftfreq[: int(be_timesteps) // 2], np.abs(resonance_graph[: int(be_timesteps) // 2])\n",
    ")\n",
    "ax[1].axvline(\n",
    "    x=be_center_frequency,\n",
    "    ymax=np.max(resonance_graph[: int(be_timesteps) // 2]),\n",
    "    linestyle=\"--\",\n",
    "    color=\"r\",\n",
    ")\n",
    "ax[1].set(xlabel=\"Frequency (Hz)\", ylabel=\"Amplitude (Arb. U.)\")\n",
    "ax[1].set_xlim(\n",
    "    be_center_frequency - be_bandwidth - be_bandwidth * 0.25,\n",
    "    be_center_frequency + be_bandwidth + be_bandwidth * 0.25,\n",
    ")\n",
    "\n",
    "hysteresis_waveform = (\n",
    "    spectroscopic_values[1, ::165][192:] * spectroscopic_values[2, ::165][192:]\n",
    ")\n",
    "x_start = 120\n",
    "x_end = 140\n",
    "\n",
    "ax[2].plot(hysteresis_waveform)\n",
    "ax_new = fig.add_axes([0.52, 0.6, 0.3/5.5, 0.25])\n",
    "ax_new.plot(np.repeat(hysteresis_waveform, 2))\n",
    "ax_new.set_xlim(x_start, x_end)\n",
    "ax_new.set_ylim(0, 15)\n",
    "ax_new.set_xticks(np.linspace(x_start, x_end, 6))\n",
    "ax_new.set_xticklabels([60, 62, 64, 66, 68, 70])\n",
    "fig.add_artist(\n",
    "    ConnectionPatch(\n",
    "        xyA=(x_start // 2, hysteresis_waveform[x_start // 2]),\n",
    "        coordsA=ax[2].transData,\n",
    "        xyB=(105, 16),\n",
    "        coordsB=ax[2].transData,\n",
    "        color=\"green\",\n",
    "    )\n",
    ")\n",
    "fig.add_artist(\n",
    "    ConnectionPatch(\n",
    "        xyA=(x_end // 2, hysteresis_waveform[x_end // 2]),\n",
    "        coordsA=ax[2].transData,\n",
    "        xyB=(105, 4.5),\n",
    "        coordsB=ax[2].transData,\n",
    "        color=\"green\",\n",
    "    )\n",
    ")\n",
    "ax[2].set_xlabel(\"Voltage Steps\")\n",
    "ax[2].set_ylabel(\"Voltage (V)\")\n",
    "\n",
    "ax[3].plot(\n",
    "    frequency_bin,\n",
    "    h5_f[\"Measurement_000\"][\"Channel_000\"]['magn_spec']['amp'][:].reshape(num_pix, -1, num_bins)[pixel, timestep],\n",
    ")\n",
    "ax[3].set(xlabel=\"Frequency (Hz)\", ylabel=\"Amplitude (Arb. U.)\")\n",
    "ax2 = ax[3].twinx()\n",
    "ax2.plot(\n",
    "    frequency_bin,\n",
    "    h5_f[\"Measurement_000\"][\"Channel_000\"]['magn_spec']['phase'][:].reshape(num_pix, -1, num_bins)[pixel, timestep],\n",
    "    \"r\",\n",
    ")\n",
    "ax2.set(xlabel=\"Frequency (Hz)\", ylabel=\"Phase (rad)\");\n",
    "\n",
    "ax[4].plot(frequency_bin, h5_f[\"Measurement_000\"][\"Channel_000\"]['complex']['real'][pixel].reshape(-1, num_bins)[timestep], label=\"Real\")\n",
    "ax[4].set(xlabel=\"Frequency (Hz)\", ylabel=\"Amplitude (Arb. U.)\")\n",
    "ax3 = ax[4].twinx()\n",
    "ax3.plot(\n",
    "    frequency_bin, h5_f[\"Measurement_000\"][\"Channel_000\"]['complex']['imag'][pixel].reshape(-1, num_bins)[timestep],'r', label=\"Imaginary\")\n",
    "ax3.set(xlabel=\"Frequency (Hz)\", ylabel=\"Amplitude (Arb. U.)\");"
   ]
  },
  {
   "cell_type": "markdown",
   "id": "b0b2c79a",
   "metadata": {},
   "source": [
    "### Visualize the SHO Fit Results"
   ]
  },
  {
   "cell_type": "code",
   "execution_count": null,
   "id": "056b6822",
   "metadata": {},
   "outputs": [],
   "source": [
    "# create a list for parameters\n",
    "fit_results_list = []\n",
    "for sublist in np.array(\n",
    "    h5_f[\"Measurement_000\"][\"Channel_000\"][\"Raw_Data-SHO_Fit_000\"][\"Fit\"]\n",
    "):\n",
    "    for item in sublist:\n",
    "        for i in item:\n",
    "            fit_results_list.append(i)\n",
    "\n",
    "# flatten parameters list into numpy array\n",
    "fit_results_list = np.array(fit_results_list).reshape(num_pix, voltage_steps, 5)"
   ]
  },
  {
   "cell_type": "code",
   "execution_count": null,
   "id": "750d323a",
   "metadata": {},
   "outputs": [],
   "source": [
    "# check distributions of each parameter before and after scaling\n",
    "fig, axs = layout_fig(4, 4, figsize=(35, 4))\n",
    "\n",
    "units = [\n",
    "    \"Amplitude (Arb. U.)\",\n",
    "    \"Frequency (Hz)\",\n",
    "    \"Quality Factor (Arb. U.)\",\n",
    "    \"Phase (rad)\",\n",
    "]\n",
    "\n",
    "for i in range(4):\n",
    "    axs[i].hist(fit_results_list[:, :, i].flatten(), 100)\n",
    "\n",
    "i = 0\n",
    "for i, ax in enumerate(axs.flat):\n",
    "    ax.set(xlabel=units[i], ylabel=\"Density\")\n",
    "    ax.ticklabel_format(axis=\"x\", style=\"sci\", scilimits=(0, 0))"
   ]
  },
  {
   "cell_type": "markdown",
   "id": "2a08905a",
   "metadata": {},
   "source": [
    "# Piezoelectric Hysteresis Loops"
   ]
  },
  {
   "cell_type": "code",
   "execution_count": null,
   "id": "604ec34e",
   "metadata": {},
   "outputs": [],
   "source": [
    "h5_main = h5_f[\"Measurement_000\"][\"Channel_000\"][\"Raw_Data-SHO_Fit_000\"][\"Guess\"]\n",
    "h5_loop_fit, h5_loop_group = fit_loop_function(h5_f, h5_main)"
   ]
  },
  {
   "cell_type": "code",
   "execution_count": null,
   "id": "298abbd5",
   "metadata": {},
   "outputs": [],
   "source": [
    "# Formats the data for viewing\n",
    "proj_nd_shifted = loop_lsqf(h5_f)\n",
    "proj_nd_shifted_transposed = np.transpose(proj_nd_shifted, (1, 0, 2, 3))"
   ]
  },
  {
   "cell_type": "code",
   "execution_count": null,
   "id": "95f9f0a8",
   "metadata": {},
   "outputs": [],
   "source": [
    "fig, axs = plt.subplots(figsize=(18, 6), nrows=1, ncols=2)\n",
    "hysteresis_waveform = (\n",
    "    spectroscopic_values[1, ::165][192:] * spectroscopic_values[2, ::165][192:]\n",
    ")\n",
    "x_start = 120\n",
    "x_end = 140\n",
    "\n",
    "axs[0].plot(hysteresis_waveform)\n",
    "ax_new = fig.add_axes([0.32, 0.6, 0.15, 0.25])\n",
    "ax_new.plot(np.repeat(hysteresis_waveform, 2))\n",
    "ax_new.set_xlim(x_start, x_end)\n",
    "ax_new.set_ylim(0, 15)\n",
    "ax_new.set_xticks(np.linspace(x_start, x_end, 6))\n",
    "ax_new.set_xticklabels([60, 62, 64, 66, 68, 70])\n",
    "fig.add_artist(\n",
    "    ConnectionPatch(\n",
    "        xyA=(x_start // 2, hysteresis_waveform[x_start // 2]),\n",
    "        coordsA=axs[0].transData,\n",
    "        xyB=(105, 16),\n",
    "        coordsB=axs[0].transData,\n",
    "        color=\"green\",\n",
    "    )\n",
    ")\n",
    "fig.add_artist(\n",
    "    ConnectionPatch(\n",
    "        xyA=(x_end // 2, hysteresis_waveform[x_end // 2]),\n",
    "        coordsA=axs[0].transData,\n",
    "        xyB=(105, 4.5),\n",
    "        coordsB=axs[0].transData,\n",
    "        color=\"green\",\n",
    "    )\n",
    ")\n",
    "axs[0].set_xlabel(\"Voltage Steps\")\n",
    "axs[0].set_ylabel(\"Voltage (V)\")\n",
    "\n",
    "i = np.random.randint(0, num_pix_1d, 2)\n",
    "axs[1].plot(dc_voltage[24:120], proj_nd_shifted_transposed[i[0], i[1], :, 3], \"blue\")\n",
    "axs[1].ticklabel_format(axis=\"y\", style=\"sci\", scilimits=(0, 0))\n",
    "axs[1].set(xlabel=\"Voltage (V)\", ylabel=\"Amplitude (Arb. U.)\")\n",
    "axs[1].label_outer()\n",
    "\n",
    "axs[0].axhline(y=0, xmax=200, linestyle=\"--\", color=\"black\")\n",
    "axs[1].axhline(y=0, xmin=-16, xmax=16, linestyle=\"--\", color=\"black\")\n",
    "axs[1].axvline(x=0, linestyle=\"--\", color=\"black\")"
   ]
  },
  {
   "cell_type": "code",
   "execution_count": null,
   "id": "3cf2ff27",
   "metadata": {},
   "outputs": [],
   "source": [
    "# Closes the h5_file\n",
    "h5_f.close()"
   ]
  },
  {
   "cell_type": "code",
   "execution_count": null,
   "id": "ce6366ec",
   "metadata": {},
   "outputs": [],
   "source": []
  }
 ],
 "metadata": {
  "kernelspec": {
   "display_name": "Python 3 (ipykernel)",
   "language": "python",
   "name": "python3"
  },
  "language_info": {
   "codemirror_mode": {
    "name": "ipython",
    "version": 3
   },
   "file_extension": ".py",
   "mimetype": "text/x-python",
   "name": "python",
   "nbconvert_exporter": "python",
   "pygments_lexer": "ipython3",
   "version": "3.9.0"
  },
  "varInspector": {
   "cols": {
    "lenName": 16,
    "lenType": 16,
    "lenVar": 40
   },
   "kernels_config": {
    "python": {
     "delete_cmd_postfix": "",
     "delete_cmd_prefix": "del ",
     "library": "var_list.py",
     "varRefreshCmd": "print(var_dic_list())"
    },
    "r": {
     "delete_cmd_postfix": ") ",
     "delete_cmd_prefix": "rm(",
     "library": "var_list.r",
     "varRefreshCmd": "cat(var_dic_list()) "
    }
   },
   "types_to_exclude": [
    "module",
    "function",
    "builtin_function_or_method",
    "instance",
    "_Feature"
   ],
   "window_display": false
  },
  "vscode": {
   "interpreter": {
    "hash": "3e30a7e7bd02bfe1defc1d1e58ff7af403bcce363b3031aab2e514c3896e114b"
   }
  }
 },
 "nbformat": 4,
 "nbformat_minor": 5
}