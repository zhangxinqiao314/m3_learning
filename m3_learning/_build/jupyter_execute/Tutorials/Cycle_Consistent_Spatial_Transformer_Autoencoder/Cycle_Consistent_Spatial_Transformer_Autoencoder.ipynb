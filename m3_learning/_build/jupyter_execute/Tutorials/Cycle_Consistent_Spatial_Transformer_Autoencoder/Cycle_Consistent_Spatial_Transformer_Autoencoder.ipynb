{
 "cells": [
  {
   "attachments": {},
   "cell_type": "markdown",
   "metadata": {
    "id": "KB7KSC5r1Qar",
    "slideshow": {
     "slide_type": "slide"
    }
   },
   "source": [
    "# Tutorial: Cycle-Consistent Spatial Transforming Autoencoders\n",
    "\n",
    "By Shuyu Qin, Joshua C. Agar\n",
    "\n",
    "Department of Mechanical Engineering and Mechanics\n",
    "Drexel University\n"
   ]
  },
  {
   "cell_type": "code",
   "execution_count": 1,
   "metadata": {
    "colab": {
     "base_uri": "https://localhost:8080/"
    },
    "id": "aIPhuxCqx049",
    "outputId": "a8b871fe-2b6e-4992-d1cb-81ec0300db77",
    "slideshow": {
     "slide_type": "fragment"
    },
    "tags": [
     "hide-output"
    ]
   },
   "outputs": [
    {
     "name": "stdout",
     "output_type": "stream",
     "text": [
      "\u001b[33mWARNING: Ignoring invalid distribution -orch (/home/ferroelectric/anaconda3/envs/STEM/lib/python3.9/site-packages)\u001b[0m\u001b[33m\r\n",
      "\u001b[0m\u001b[33mWARNING: Ignoring invalid distribution -orch (/home/ferroelectric/anaconda3/envs/STEM/lib/python3.9/site-packages)\u001b[0m\u001b[33m\r\n",
      "\u001b[0mRequirement already satisfied: m3_learning in /home/ferroelectric/anaconda3/envs/STEM/lib/python3.9/site-packages (0.0.11)\r\n"
     ]
    },
    {
     "name": "stdout",
     "output_type": "stream",
     "text": [
      "Requirement already satisfied: attrs==22.1.0 in /home/ferroelectric/anaconda3/envs/STEM/lib/python3.9/site-packages (from m3_learning) (22.1.0)\r\n",
      "Requirement already satisfied: zenodopy==0.3.0 in /home/ferroelectric/anaconda3/envs/STEM/lib/python3.9/site-packages (from m3_learning) (0.3.0)\r\n",
      "Requirement already satisfied: cffi==1.15.1 in /home/ferroelectric/anaconda3/envs/STEM/lib/python3.9/site-packages (from m3_learning) (1.15.1)\r\n",
      "Requirement already satisfied: backcall==0.2.0 in /home/ferroelectric/anaconda3/envs/STEM/lib/python3.9/site-packages (from m3_learning) (0.2.0)\r\n",
      "Requirement already satisfied: cycler==0.11.0 in /home/ferroelectric/anaconda3/envs/STEM/lib/python3.9/site-packages (from m3_learning) (0.11.0)\r\n",
      "Requirement already satisfied: types-requests==2.28.11.2 in /home/ferroelectric/anaconda3/envs/STEM/lib/python3.9/site-packages (from m3_learning) (2.28.11.2)\r\n"
     ]
    },
    {
     "name": "stdout",
     "output_type": "stream",
     "text": [
      "Collecting typing-extensions==4.4.0\r\n",
      "  Using cached typing_extensions-4.4.0-py3-none-any.whl (26 kB)\r\n"
     ]
    },
    {
     "name": "stdout",
     "output_type": "stream",
     "text": [
      "Collecting pytz==2022.6\r\n",
      "  Using cached pytz-2022.6-py2.py3-none-any.whl (498 kB)\r\n",
      "Requirement already satisfied: pyrsistent==0.19.2 in /home/ferroelectric/anaconda3/envs/STEM/lib/python3.9/site-packages (from m3_learning) (0.19.2)\r\n",
      "Requirement already satisfied: numpy==1.23.4 in /home/ferroelectric/anaconda3/envs/STEM/lib/python3.9/site-packages (from m3_learning) (1.23.4)\r\n",
      "Requirement already satisfied: prometheus-client==0.15.0 in /home/ferroelectric/anaconda3/envs/STEM/lib/python3.9/site-packages (from m3_learning) (0.15.0)\r\n",
      "Requirement already satisfied: Keras-Preprocessing==1.1.2 in /home/ferroelectric/anaconda3/envs/STEM/lib/python3.9/site-packages (from m3_learning) (1.1.2)\r\n",
      "Requirement already satisfied: tqdm==4.64.1 in /home/ferroelectric/anaconda3/envs/STEM/lib/python3.9/site-packages (from m3_learning) (4.64.1)\r\n",
      "Collecting traitlets==5.5.0\r\n",
      "  Using cached traitlets-5.5.0-py3-none-any.whl (107 kB)\r\n",
      "Requirement already satisfied: ipyfilechooser==0.6.0 in /home/ferroelectric/anaconda3/envs/STEM/lib/python3.9/site-packages (from m3_learning) (0.6.0)\r\n"
     ]
    },
    {
     "name": "stdout",
     "output_type": "stream",
     "text": [
      "Collecting certifi==2022.9.24\r\n",
      "  Using cached certifi-2022.9.24-py3-none-any.whl (161 kB)\r\n",
      "Requirement already satisfied: scikit-image==0.19.3 in /home/ferroelectric/anaconda3/envs/STEM/lib/python3.9/site-packages (from m3_learning) (0.19.3)\r\n",
      "Requirement already satisfied: tensorboard==2.10.1 in /home/ferroelectric/anaconda3/envs/STEM/lib/python3.9/site-packages (from m3_learning) (2.10.1)\r\n"
     ]
    },
    {
     "name": "stdout",
     "output_type": "stream",
     "text": [
      "Collecting nbclient==0.7.0\r\n",
      "  Using cached nbclient-0.7.0-py3-none-any.whl (71 kB)\r\n",
      "Requirement already satisfied: seaborn==0.12.1 in /home/ferroelectric/anaconda3/envs/STEM/lib/python3.9/site-packages (from m3_learning) (0.12.1)\r\n",
      "Requirement already satisfied: click==8.1.3 in /home/ferroelectric/anaconda3/envs/STEM/lib/python3.9/site-packages (from m3_learning) (8.1.3)\r\n",
      "Requirement already satisfied: jupyter==1.0.0 in /home/ferroelectric/anaconda3/envs/STEM/lib/python3.9/site-packages (from m3_learning) (1.0.0)\r\n",
      "Requirement already satisfied: tblib==1.7.0 in /home/ferroelectric/anaconda3/envs/STEM/lib/python3.9/site-packages (from m3_learning) (1.7.0)\r\n",
      "Requirement already satisfied: google-auth==2.14.0 in /home/ferroelectric/anaconda3/envs/STEM/lib/python3.9/site-packages (from m3_learning) (2.14.0)\r\n",
      "Requirement already satisfied: sidpy==0.11 in /home/ferroelectric/anaconda3/envs/STEM/lib/python3.9/site-packages (from m3_learning) (0.11)\r\n",
      "Requirement already satisfied: filelock==3.8.0 in /home/ferroelectric/anaconda3/envs/STEM/lib/python3.9/site-packages (from m3_learning) (3.8.0)\r\n",
      "Requirement already satisfied: pyparsing==3.0.9 in /home/ferroelectric/anaconda3/envs/STEM/lib/python3.9/site-packages (from m3_learning) (3.0.9)\r\n",
      "Requirement already satisfied: contourpy==1.0.6 in /home/ferroelectric/anaconda3/envs/STEM/lib/python3.9/site-packages (from m3_learning) (1.0.6)\r\n",
      "Requirement already satisfied: tinycss2==1.2.1 in /home/ferroelectric/anaconda3/envs/STEM/lib/python3.9/site-packages (from m3_learning) (1.2.1)\r\n",
      "Requirement already satisfied: Werkzeug==2.2.2 in /home/ferroelectric/anaconda3/envs/STEM/lib/python3.9/site-packages (from m3_learning) (2.2.2)\r\n"
     ]
    },
    {
     "name": "stdout",
     "output_type": "stream",
     "text": [
      "Collecting asttokens==2.1.0\r\n",
      "  Using cached asttokens-2.1.0-py2.py3-none-any.whl (26 kB)\r\n",
      "Requirement already satisfied: grpcio==1.50.0 in /home/ferroelectric/anaconda3/envs/STEM/lib/python3.9/site-packages (from m3_learning) (1.50.0)\r\n",
      "Requirement already satisfied: requests-oauthlib==1.3.1 in /home/ferroelectric/anaconda3/envs/STEM/lib/python3.9/site-packages (from m3_learning) (1.3.1)\r\n",
      "Requirement already satisfied: tifffile==2022.10.10 in /home/ferroelectric/anaconda3/envs/STEM/lib/python3.9/site-packages (from m3_learning) (2022.10.10)\r\n",
      "Collecting requests==2.28.1\r\n",
      "  Using cached requests-2.28.1-py3-none-any.whl (62 kB)\r\n",
      "Requirement already satisfied: gdown==4.5.3 in /home/ferroelectric/anaconda3/envs/STEM/lib/python3.9/site-packages (from m3_learning) (4.5.3)\r\n",
      "Requirement already satisfied: pyUSID==0.0.10 in /home/ferroelectric/anaconda3/envs/STEM/lib/python3.9/site-packages (from m3_learning) (0.0.10)\r\n",
      "Requirement already satisfied: sniffio==1.3.0 in /home/ferroelectric/anaconda3/envs/STEM/lib/python3.9/site-packages (from m3_learning) (1.3.0)\r\n"
     ]
    },
    {
     "name": "stdout",
     "output_type": "stream",
     "text": [
      "Collecting charset-normalizer==2.1.1\r\n",
      "  Using cached charset_normalizer-2.1.1-py3-none-any.whl (39 kB)\r\n",
      "Requirement already satisfied: threadpoolctl==3.1.0 in /home/ferroelectric/anaconda3/envs/STEM/lib/python3.9/site-packages (from m3_learning) (3.1.0)\r\n",
      "Requirement already satisfied: scikit-learn==1.1.3 in /home/ferroelectric/anaconda3/envs/STEM/lib/python3.9/site-packages (from m3_learning) (1.1.3)\r\n",
      "Requirement already satisfied: wget==3.2 in /home/ferroelectric/anaconda3/envs/STEM/lib/python3.9/site-packages (from m3_learning) (3.2)\r\n",
      "Requirement already satisfied: cytoolz==0.12.0 in /home/ferroelectric/anaconda3/envs/STEM/lib/python3.9/site-packages (from m3_learning) (0.12.0)\r\n",
      "Requirement already satisfied: toolz==0.12.0 in /home/ferroelectric/anaconda3/envs/STEM/lib/python3.9/site-packages (from m3_learning) (0.12.0)\r\n",
      "Requirement already satisfied: matplotlib-inline==0.1.6 in /home/ferroelectric/anaconda3/envs/STEM/lib/python3.9/site-packages (from m3_learning) (0.1.6)\r\n",
      "Requirement already satisfied: entrypoints==0.4 in /home/ferroelectric/anaconda3/envs/STEM/lib/python3.9/site-packages (from m3_learning) (0.4)\r\n",
      "Requirement already satisfied: HeapDict==1.0.1 in /home/ferroelectric/anaconda3/envs/STEM/lib/python3.9/site-packages (from m3_learning) (1.0.1)\r\n",
      "Requirement already satisfied: PyYAML==6.0 in /home/ferroelectric/anaconda3/envs/STEM/lib/python3.9/site-packages (from m3_learning) (6.0)\r\n",
      "Requirement already satisfied: msgpack==1.0.4 in /home/ferroelectric/anaconda3/envs/STEM/lib/python3.9/site-packages (from m3_learning) (1.0.4)\r\n",
      "Requirement already satisfied: sortedcontainers==2.4.0 in /home/ferroelectric/anaconda3/envs/STEM/lib/python3.9/site-packages (from m3_learning) (2.4.0)\r\n",
      "Requirement already satisfied: jupyter-server==1.21.0 in /home/ferroelectric/anaconda3/envs/STEM/lib/python3.9/site-packages (from m3_learning) (1.21.0)\r\n",
      "Requirement already satisfied: hyperspy==1.7.4 in /home/ferroelectric/anaconda3/envs/STEM/lib/python3.9/site-packages (from m3_learning) (1.7.4)\r\n",
      "Requirement already satisfied: terminado==0.17.0 in /home/ferroelectric/anaconda3/envs/STEM/lib/python3.9/site-packages (from m3_learning) (0.17.0)\r\n",
      "Requirement already satisfied: widgetsnbextension==4.0.3 in /home/ferroelectric/anaconda3/envs/STEM/lib/python3.9/site-packages (from m3_learning) (4.0.3)\r\n",
      "Requirement already satisfied: keras==2.10.0 in /home/ferroelectric/anaconda3/envs/STEM/lib/python3.9/site-packages (from m3_learning) (2.10.0)\r\n"
     ]
    },
    {
     "name": "stdout",
     "output_type": "stream",
     "text": [
      "Collecting argon2-cffi==21.3.0\r\n",
      "  Using cached argon2_cffi-21.3.0-py3-none-any.whl (14 kB)\r\n",
      "Requirement already satisfied: dask==2022.10.2 in /home/ferroelectric/anaconda3/envs/STEM/lib/python3.9/site-packages (from m3_learning) (2022.10.2)\r\n",
      "Requirement already satisfied: numpy-groupies==0.9.7 in /home/ferroelectric/anaconda3/envs/STEM/lib/python3.9/site-packages (from m3_learning) (0.9.7)\r\n",
      "Requirement already satisfied: idna==3.4 in /home/ferroelectric/anaconda3/envs/STEM/lib/python3.9/site-packages (from m3_learning) (3.4)\r\n",
      "Requirement already satisfied: executing==1.2.0 in /home/ferroelectric/anaconda3/envs/STEM/lib/python3.9/site-packages (from m3_learning) (1.2.0)\r\n",
      "Requirement already satisfied: notebook-shim==0.2.2 in /home/ferroelectric/anaconda3/envs/STEM/lib/python3.9/site-packages (from m3_learning) (0.2.2)\r\n",
      "Requirement already satisfied: tensorboard-plugin-wit==1.8.1 in /home/ferroelectric/anaconda3/envs/STEM/lib/python3.9/site-packages (from m3_learning) (1.8.1)\r\n",
      "Requirement already satisfied: pickleshare==0.7.5 in /home/ferroelectric/anaconda3/envs/STEM/lib/python3.9/site-packages (from m3_learning) (0.7.5)\r\n",
      "Requirement already satisfied: PyWavelets==1.4.1 in /home/ferroelectric/anaconda3/envs/STEM/lib/python3.9/site-packages (from m3_learning) (1.4.1)\r\n",
      "Requirement already satisfied: debugpy==1.6.3 in /home/ferroelectric/anaconda3/envs/STEM/lib/python3.9/site-packages (from m3_learning) (1.6.3)\r\n",
      "Requirement already satisfied: six==1.16.0 in /home/ferroelectric/anaconda3/envs/STEM/lib/python3.9/site-packages (from m3_learning) (1.16.0)\r\n",
      "Requirement already satisfied: protobuf==3.19.6 in /home/ferroelectric/anaconda3/envs/STEM/lib/python3.9/site-packages (from m3_learning) (3.19.6)\r\n",
      "Requirement already satisfied: webencodings==0.5.1 in /home/ferroelectric/anaconda3/envs/STEM/lib/python3.9/site-packages (from m3_learning) (0.5.1)\r\n",
      "Requirement already satisfied: websocket-client==1.4.2 in /home/ferroelectric/anaconda3/envs/STEM/lib/python3.9/site-packages (from m3_learning) (1.4.2)\r\n",
      "Requirement already satisfied: fonttools==4.38.0 in /home/ferroelectric/anaconda3/envs/STEM/lib/python3.9/site-packages (from m3_learning) (4.38.0)\r\n",
      "Requirement already satisfied: pandas==1.5.1 in /home/ferroelectric/anaconda3/envs/STEM/lib/python3.9/site-packages (from m3_learning) (1.5.1)\r\n"
     ]
    },
    {
     "name": "stdout",
     "output_type": "stream",
     "text": [
      "Collecting jedi==0.18.1\r\n",
      "  Using cached jedi-0.18.1-py2.py3-none-any.whl (1.6 MB)\r\n"
     ]
    },
    {
     "name": "stdout",
     "output_type": "stream",
     "text": [
      "Collecting jupyter-core==4.11.2\r\n",
      "  Using cached jupyter_core-4.11.2-py3-none-any.whl (88 kB)\r\n"
     ]
    },
    {
     "name": "stdout",
     "output_type": "stream",
     "text": [
      "Collecting nbformat==5.7.0\r\n",
      "  Using cached nbformat-5.7.0-py3-none-any.whl (77 kB)\r\n"
     ]
    },
    {
     "name": "stdout",
     "output_type": "stream",
     "text": [
      "Collecting jsonschema==4.17.0\r\n",
      "  Using cached jsonschema-4.17.0-py3-none-any.whl (83 kB)\r\n",
      "Requirement already satisfied: decorator==5.1.1 in /home/ferroelectric/anaconda3/envs/STEM/lib/python3.9/site-packages (from m3_learning) (5.1.1)\r\n",
      "Requirement already satisfied: nbconvert==7.2.3 in /home/ferroelectric/anaconda3/envs/STEM/lib/python3.9/site-packages (from m3_learning) (7.2.3)\r\n",
      "Requirement already satisfied: tomli==2.0.1 in /home/ferroelectric/.local/lib/python3.9/site-packages (from m3_learning) (2.0.1)\r\n",
      "Requirement already satisfied: nbclassic==0.4.8 in /home/ferroelectric/anaconda3/envs/STEM/lib/python3.9/site-packages (from m3_learning) (0.4.8)\r\n",
      "Requirement already satisfied: distributed==2022.10.2 in /home/ferroelectric/anaconda3/envs/STEM/lib/python3.9/site-packages (from m3_learning) (2022.10.2)\r\n",
      "Requirement already satisfied: astunparse==1.6.3 in /home/ferroelectric/anaconda3/envs/STEM/lib/python3.9/site-packages (from m3_learning) (1.6.3)\r\n",
      "Requirement already satisfied: tornado==6.1 in /home/ferroelectric/anaconda3/envs/STEM/lib/python3.9/site-packages (from m3_learning) (6.1)\r\n",
      "Requirement already satisfied: pure-eval==0.2.2 in /home/ferroelectric/anaconda3/envs/STEM/lib/python3.9/site-packages (from m3_learning) (0.2.2)\r\n",
      "Requirement already satisfied: jupyter-client==7.3.4 in /home/ferroelectric/anaconda3/envs/STEM/lib/python3.9/site-packages (from m3_learning) (7.3.4)\r\n"
     ]
    },
    {
     "name": "stdout",
     "output_type": "stream",
     "text": [
      "Collecting prompt-toolkit==3.0.31\r\n"
     ]
    },
    {
     "name": "stdout",
     "output_type": "stream",
     "text": [
      "  Using cached prompt_toolkit-3.0.31-py3-none-any.whl (382 kB)\r\n",
      "Collecting Pygments==2.13.0\r\n",
      "  Using cached Pygments-2.13.0-py3-none-any.whl (1.1 MB)\r\n"
     ]
    },
    {
     "name": "stdout",
     "output_type": "stream",
     "text": [
      "Collecting autopep8==2.0.0\r\n",
      "  Using cached autopep8-2.0.0-py2.py3-none-any.whl (45 kB)\r\n",
      "Requirement already satisfied: PySocks==1.7.1 in /home/ferroelectric/anaconda3/envs/STEM/lib/python3.9/site-packages (from m3_learning) (1.7.1)\r\n",
      "Requirement already satisfied: wrapt==1.14.1 in /home/ferroelectric/anaconda3/envs/STEM/lib/python3.9/site-packages (from m3_learning) (1.14.1)\r\n",
      "Requirement already satisfied: absl-py==1.3.0 in /home/ferroelectric/anaconda3/envs/STEM/lib/python3.9/site-packages (from m3_learning) (1.3.0)\r\n",
      "Requirement already satisfied: gast==0.4.0 in /home/ferroelectric/anaconda3/envs/STEM/lib/python3.9/site-packages (from m3_learning) (0.4.0)\r\n",
      "Requirement already satisfied: pyasn1==0.4.8 in /home/ferroelectric/anaconda3/envs/STEM/lib/python3.9/site-packages (from m3_learning) (0.4.8)\r\n",
      "Requirement already satisfied: ipywidgets==8.0.2 in /home/ferroelectric/anaconda3/envs/STEM/lib/python3.9/site-packages (from m3_learning) (8.0.2)\r\n"
     ]
    },
    {
     "name": "stdout",
     "output_type": "stream",
     "text": [
      "Collecting beautifulsoup4==4.11.1\r\n",
      "  Using cached beautifulsoup4-4.11.1-py3-none-any.whl (128 kB)\r\n",
      "Requirement already satisfied: tensorflow-gpu==2.10.0 in /home/ferroelectric/anaconda3/envs/STEM/lib/python3.9/site-packages (from m3_learning) (2.10.0)\r\n",
      "Collecting pandocfilters==1.5.0\r\n",
      "  Using cached pandocfilters-1.5.0-py2.py3-none-any.whl (8.7 kB)\r\n",
      "Requirement already satisfied: locket==1.0.0 in /home/ferroelectric/anaconda3/envs/STEM/lib/python3.9/site-packages (from m3_learning) (1.0.0)\r\n",
      "Requirement already satisfied: types-urllib3==1.26.25.1 in /home/ferroelectric/anaconda3/envs/STEM/lib/python3.9/site-packages (from m3_learning) (1.26.25.1)\r\n",
      "Requirement already satisfied: anyio==3.6.2 in /home/ferroelectric/anaconda3/envs/STEM/lib/python3.9/site-packages (from m3_learning) (3.6.2)\r\n"
     ]
    },
    {
     "name": "stdout",
     "output_type": "stream",
     "text": [
      "Collecting urllib3==1.26.12\r\n",
      "  Using cached urllib3-1.26.12-py2.py3-none-any.whl (140 kB)\r\n"
     ]
    },
    {
     "name": "stdout",
     "output_type": "stream",
     "text": [
      "Collecting pycodestyle==2.9.1\r\n",
      "  Using cached pycodestyle-2.9.1-py2.py3-none-any.whl (41 kB)\r\n",
      "Requirement already satisfied: scipy==1.9.3 in /home/ferroelectric/anaconda3/envs/STEM/lib/python3.9/site-packages (from m3_learning) (1.9.3)\r\n",
      "Requirement already satisfied: parso==0.8.3 in /home/ferroelectric/anaconda3/envs/STEM/lib/python3.9/site-packages (from m3_learning) (0.8.3)\r\n",
      "Requirement already satisfied: h5py==3.7.0 in /home/ferroelectric/anaconda3/envs/STEM/lib/python3.9/site-packages (from m3_learning) (3.7.0)\r\n"
     ]
    },
    {
     "name": "stdout",
     "output_type": "stream",
     "text": [
      "Collecting stack-data==0.6.0\r\n",
      "  Using cached stack_data-0.6.0-py3-none-any.whl (24 kB)\r\n",
      "Requirement already satisfied: zipfile38==0.0.3 in /home/ferroelectric/anaconda3/envs/STEM/lib/python3.9/site-packages (from m3_learning) (0.0.3)\r\n",
      "Requirement already satisfied: Jinja2==3.1.2 in /home/ferroelectric/anaconda3/envs/STEM/lib/python3.9/site-packages (from m3_learning) (3.1.2)\r\n",
      "Requirement already satisfied: oauthlib==3.2.2 in /home/ferroelectric/anaconda3/envs/STEM/lib/python3.9/site-packages (from m3_learning) (3.2.2)\r\n",
      "Requirement already satisfied: joblib==1.2.0 in /home/ferroelectric/anaconda3/envs/STEM/lib/python3.9/site-packages (from m3_learning) (1.2.0)\r\n",
      "Requirement already satisfied: Markdown==3.4.1 in /home/ferroelectric/anaconda3/envs/STEM/lib/python3.9/site-packages (from m3_learning) (3.4.1)\r\n",
      "Requirement already satisfied: notebook==6.5.2 in /home/ferroelectric/anaconda3/envs/STEM/lib/python3.9/site-packages (from m3_learning) (6.5.2)\r\n",
      "Requirement already satisfied: pycparser==2.21 in /home/ferroelectric/anaconda3/envs/STEM/lib/python3.9/site-packages (from m3_learning) (2.21)\r\n",
      "Requirement already satisfied: bleach==5.0.1 in /home/ferroelectric/anaconda3/envs/STEM/lib/python3.9/site-packages (from m3_learning) (5.0.1)\r\n",
      "Requirement already satisfied: python-dateutil==2.8.2 in /home/ferroelectric/anaconda3/envs/STEM/lib/python3.9/site-packages (from m3_learning) (2.8.2)\r\n",
      "Requirement already satisfied: tensorflow==2.10.0 in /home/ferroelectric/anaconda3/envs/STEM/lib/python3.9/site-packages (from m3_learning) (2.10.0)\r\n",
      "Requirement already satisfied: jupyterlab-pygments==0.2.2 in /home/ferroelectric/anaconda3/envs/STEM/lib/python3.9/site-packages (from m3_learning) (0.2.2)\r\n",
      "Requirement already satisfied: xlrd==2.0.1 in /home/ferroelectric/anaconda3/envs/STEM/lib/python3.9/site-packages (from m3_learning) (2.0.1)\r\n",
      "Requirement already satisfied: networkx==2.8.8 in /home/ferroelectric/anaconda3/envs/STEM/lib/python3.9/site-packages (from m3_learning) (2.8.8)\r\n",
      "Requirement already satisfied: google-pasta==0.2.0 in /home/ferroelectric/anaconda3/envs/STEM/lib/python3.9/site-packages (from m3_learning) (0.2.0)\r\n",
      "Requirement already satisfied: psutil==5.9.3 in /home/ferroelectric/anaconda3/envs/STEM/lib/python3.9/site-packages (from m3_learning) (5.9.3)\r\n",
      "Requirement already satisfied: rsa==4.9 in /home/ferroelectric/anaconda3/envs/STEM/lib/python3.9/site-packages (from m3_learning) (4.9)\r\n",
      "Requirement already satisfied: fsspec==2022.10.0 in /home/ferroelectric/anaconda3/envs/STEM/lib/python3.9/site-packages (from m3_learning) (2022.10.0)\r\n",
      "Requirement already satisfied: jupyterlab-widgets==3.0.3 in /home/ferroelectric/anaconda3/envs/STEM/lib/python3.9/site-packages (from m3_learning) (3.0.3)\r\n",
      "Requirement already satisfied: ipython-genutils==0.2.0 in /home/ferroelectric/anaconda3/envs/STEM/lib/python3.9/site-packages (from m3_learning) (0.2.0)\r\n",
      "Collecting wcwidth==0.2.5\r\n",
      "  Using cached wcwidth-0.2.5-py2.py3-none-any.whl (30 kB)\r\n",
      "Requirement already satisfied: kiwisolver==1.4.4 in /home/ferroelectric/anaconda3/envs/STEM/lib/python3.9/site-packages (from m3_learning) (1.4.4)\r\n"
     ]
    },
    {
     "name": "stdout",
     "output_type": "stream",
     "text": [
      "Collecting fastjsonschema==2.16.2\r\n",
      "  Using cached fastjsonschema-2.16.2-py3-none-any.whl (22 kB)\r\n",
      "Requirement already satisfied: MarkupSafe==2.1.1 in /home/ferroelectric/anaconda3/envs/STEM/lib/python3.9/site-packages (from m3_learning) (2.1.1)\r\n",
      "Requirement already satisfied: termcolor==2.1.0 in /home/ferroelectric/anaconda3/envs/STEM/lib/python3.9/site-packages (from m3_learning) (2.1.0)\r\n",
      "Requirement already satisfied: colorama==0.4.6 in /home/ferroelectric/anaconda3/envs/STEM/lib/python3.9/site-packages (from m3_learning) (0.4.6)\r\n",
      "Requirement already satisfied: ipykernel==6.17.0 in /home/ferroelectric/anaconda3/envs/STEM/lib/python3.9/site-packages (from m3_learning) (6.17.0)\r\n",
      "Requirement already satisfied: jupyter-console==6.4.4 in /home/ferroelectric/anaconda3/envs/STEM/lib/python3.9/site-packages (from m3_learning) (6.4.4)\r\n",
      "Collecting packaging==21.3\r\n",
      "  Using cached packaging-21.3-py3-none-any.whl (40 kB)\r\n",
      "Requirement already satisfied: partd==1.3.0 in /home/ferroelectric/anaconda3/envs/STEM/lib/python3.9/site-packages (from m3_learning) (1.3.0)\r\n",
      "Requirement already satisfied: soupsieve==2.3.2.post1 in /home/ferroelectric/anaconda3/envs/STEM/lib/python3.9/site-packages (from m3_learning) (2.3.2.post1)\r\n",
      "Requirement already satisfied: torch==1.13.0 in /home/ferroelectric/anaconda3/envs/STEM/lib/python3.9/site-packages (from m3_learning) (1.13.0)\r\n"
     ]
    },
    {
     "name": "stdout",
     "output_type": "stream",
     "text": [
      "Collecting argon2-cffi-bindings==21.2.0\r\n",
      "  Using cached argon2_cffi_bindings-21.2.0-cp36-abi3-manylinux_2_17_x86_64.manylinux2014_x86_64.whl (86 kB)\r\n",
      "Requirement already satisfied: pyzmq==24.0.1 in /home/ferroelectric/anaconda3/envs/STEM/lib/python3.9/site-packages (from m3_learning) (24.0.1)\r\n",
      "Collecting Send2Trash==1.8.0\r\n",
      "  Using cached Send2Trash-1.8.0-py3-none-any.whl (18 kB)\r\n",
      "Requirement already satisfied: BGlib==0.0.3 in /home/ferroelectric/anaconda3/envs/STEM/lib/python3.9/site-packages (from m3_learning) (0.0.3)\r\n",
      "Requirement already satisfied: tensorflow-io-gcs-filesystem==0.27.0 in /home/ferroelectric/anaconda3/envs/STEM/lib/python3.9/site-packages (from m3_learning) (0.27.0)\r\n",
      "Requirement already satisfied: Pillow==9.3.0 in /home/ferroelectric/anaconda3/envs/STEM/lib/python3.9/site-packages (from m3_learning) (9.3.0)\r\n",
      "Requirement already satisfied: tensorflow-estimator==2.10.0 in /home/ferroelectric/anaconda3/envs/STEM/lib/python3.9/site-packages (from m3_learning) (2.10.0)\r\n"
     ]
    },
    {
     "name": "stdout",
     "output_type": "stream",
     "text": [
      "Collecting ipython==8.6.0\r\n",
      "  Using cached ipython-8.6.0-py3-none-any.whl (761 kB)\r\n",
      "Requirement already satisfied: opt-einsum==3.3.0 in /home/ferroelectric/anaconda3/envs/STEM/lib/python3.9/site-packages (from m3_learning) (3.3.0)\r\n",
      "Requirement already satisfied: sklearn==0.0 in /home/ferroelectric/anaconda3/envs/STEM/lib/python3.9/site-packages (from m3_learning) (0.0)\r\n",
      "Requirement already satisfied: torchvision==0.14.0 in /home/ferroelectric/anaconda3/envs/STEM/lib/python3.9/site-packages (from m3_learning) (0.14.0)\r\n",
      "Collecting defusedxml==0.7.1\r\n",
      "  Using cached defusedxml-0.7.1-py2.py3-none-any.whl (25 kB)\r\n",
      "Requirement already satisfied: imageio==2.22.3 in /home/ferroelectric/anaconda3/envs/STEM/lib/python3.9/site-packages (from m3_learning) (2.22.3)\r\n",
      "Requirement already satisfied: mistune==2.0.4 in /home/ferroelectric/anaconda3/envs/STEM/lib/python3.9/site-packages (from m3_learning) (2.0.4)\r\n",
      "Requirement already satisfied: matplotlib==3.6.2 in /home/ferroelectric/anaconda3/envs/STEM/lib/python3.9/site-packages (from m3_learning) (3.6.2)\r\n",
      "Requirement already satisfied: libclang==14.0.6 in /home/ferroelectric/anaconda3/envs/STEM/lib/python3.9/site-packages (from m3_learning) (14.0.6)\r\n",
      "Requirement already satisfied: nest-asyncio==1.5.6 in /home/ferroelectric/anaconda3/envs/STEM/lib/python3.9/site-packages (from m3_learning) (1.5.6)\r\n",
      "Requirement already satisfied: pyasn1-modules==0.2.8 in /home/ferroelectric/anaconda3/envs/STEM/lib/python3.9/site-packages (from m3_learning) (0.2.8)\r\n",
      "Requirement already satisfied: zict==2.2.0 in /home/ferroelectric/anaconda3/envs/STEM/lib/python3.9/site-packages (from m3_learning) (2.2.0)\r\n",
      "Requirement already satisfied: qtconsole==5.4.0 in /home/ferroelectric/anaconda3/envs/STEM/lib/python3.9/site-packages (from m3_learning) (5.4.0)\r\n",
      "Requirement already satisfied: QtPy==2.2.1 in /home/ferroelectric/anaconda3/envs/STEM/lib/python3.9/site-packages (from m3_learning) (2.2.1)\r\n",
      "Requirement already satisfied: cloudpickle==2.2.0 in /home/ferroelectric/anaconda3/envs/STEM/lib/python3.9/site-packages (from m3_learning) (2.2.0)\r\n",
      "Requirement already satisfied: flatbuffers==22.10.26 in /home/ferroelectric/anaconda3/envs/STEM/lib/python3.9/site-packages (from m3_learning) (22.10.26)\r\n",
      "Requirement already satisfied: tensorboard-data-server==0.6.1 in /home/ferroelectric/anaconda3/envs/STEM/lib/python3.9/site-packages (from m3_learning) (0.6.1)\r\n",
      "Requirement already satisfied: google-auth-oauthlib==0.4.6 in /home/ferroelectric/anaconda3/envs/STEM/lib/python3.9/site-packages (from m3_learning) (0.4.6)\r\n",
      "Requirement already satisfied: cachetools==5.2.0 in /home/ferroelectric/anaconda3/envs/STEM/lib/python3.9/site-packages (from m3_learning) (5.2.0)\r\n"
     ]
    },
    {
     "name": "stdout",
     "output_type": "stream",
     "text": [
      "Requirement already satisfied: wheel<1.0,>=0.23.0 in /home/ferroelectric/anaconda3/envs/STEM/lib/python3.9/site-packages (from astunparse==1.6.3->m3_learning) (0.38.4)\r\n"
     ]
    },
    {
     "name": "stdout",
     "output_type": "stream",
     "text": [
      "Requirement already satisfied: requests[socks] in /home/ferroelectric/anaconda3/envs/STEM/lib/python3.9/site-packages (from gdown==4.5.3->m3_learning) (2.28.2)\r\n"
     ]
    },
    {
     "name": "stdout",
     "output_type": "stream",
     "text": [
      "Requirement already satisfied: numba>=0.52 in /home/ferroelectric/anaconda3/envs/STEM/lib/python3.9/site-packages (from hyperspy==1.7.4->m3_learning) (0.56.4)\r\n",
      "Requirement already satisfied: zarr>=2.9.0 in /home/ferroelectric/anaconda3/envs/STEM/lib/python3.9/site-packages (from hyperspy==1.7.4->m3_learning) (2.14.2)\r\n",
      "Requirement already satisfied: importlib-metadata>=3.6 in /home/ferroelectric/anaconda3/envs/STEM/lib/python3.9/site-packages (from hyperspy==1.7.4->m3_learning) (6.3.0)\r\n",
      "Requirement already satisfied: natsort in /home/ferroelectric/anaconda3/envs/STEM/lib/python3.9/site-packages (from hyperspy==1.7.4->m3_learning) (8.3.1)\r\n",
      "Requirement already satisfied: ipyparallel in /home/ferroelectric/anaconda3/envs/STEM/lib/python3.9/site-packages (from hyperspy==1.7.4->m3_learning) (8.5.1)\r\n",
      "Requirement already satisfied: dill in /home/ferroelectric/anaconda3/envs/STEM/lib/python3.9/site-packages (from hyperspy==1.7.4->m3_learning) (0.3.6)\r\n",
      "Requirement already satisfied: traits>=4.5.0 in /home/ferroelectric/anaconda3/envs/STEM/lib/python3.9/site-packages (from hyperspy==1.7.4->m3_learning) (6.4.1)\r\n",
      "Requirement already satisfied: prettytable in /home/ferroelectric/anaconda3/envs/STEM/lib/python3.9/site-packages (from hyperspy==1.7.4->m3_learning) (3.6.0)\r\n",
      "Requirement already satisfied: sparse in /home/ferroelectric/anaconda3/envs/STEM/lib/python3.9/site-packages (from hyperspy==1.7.4->m3_learning) (0.14.0)\r\n",
      "Requirement already satisfied: pint>=0.10 in /home/ferroelectric/anaconda3/envs/STEM/lib/python3.9/site-packages (from hyperspy==1.7.4->m3_learning) (0.20.1)\r\n",
      "Requirement already satisfied: sympy in /home/ferroelectric/anaconda3/envs/STEM/lib/python3.9/site-packages (from hyperspy==1.7.4->m3_learning) (1.11.1)\r\n",
      "Requirement already satisfied: numexpr in /home/ferroelectric/anaconda3/envs/STEM/lib/python3.9/site-packages (from hyperspy==1.7.4->m3_learning) (2.8.4)\r\n"
     ]
    },
    {
     "name": "stdout",
     "output_type": "stream",
     "text": [
      "Requirement already satisfied: pexpect>4.3 in /home/ferroelectric/anaconda3/envs/STEM/lib/python3.9/site-packages (from ipython==8.6.0->m3_learning) (4.8.0)\r\n"
     ]
    },
    {
     "name": "stdout",
     "output_type": "stream",
     "text": [
      "Requirement already satisfied: setuptools>=41.0.0 in /home/ferroelectric/anaconda3/envs/STEM/lib/python3.9/site-packages (from tensorboard==2.10.1->m3_learning) (65.5.0)\r\n"
     ]
    },
    {
     "name": "stdout",
     "output_type": "stream",
     "text": [
      "Requirement already satisfied: ptyprocess in /home/ferroelectric/anaconda3/envs/STEM/lib/python3.9/site-packages (from terminado==0.17.0->m3_learning) (0.7.0)\r\n"
     ]
    },
    {
     "name": "stdout",
     "output_type": "stream",
     "text": [
      "Requirement already satisfied: nvidia-cudnn-cu11==8.5.0.96 in /home/ferroelectric/anaconda3/envs/STEM/lib/python3.9/site-packages (from torch==1.13.0->m3_learning) (8.5.0.96)\r\n",
      "Requirement already satisfied: nvidia-cuda-runtime-cu11==11.7.99 in /home/ferroelectric/anaconda3/envs/STEM/lib/python3.9/site-packages (from torch==1.13.0->m3_learning) (11.7.99)\r\n",
      "Requirement already satisfied: nvidia-cuda-nvrtc-cu11==11.7.99 in /home/ferroelectric/anaconda3/envs/STEM/lib/python3.9/site-packages (from torch==1.13.0->m3_learning) (11.7.99)\r\n",
      "Requirement already satisfied: nvidia-cublas-cu11==11.10.3.66 in /home/ferroelectric/anaconda3/envs/STEM/lib/python3.9/site-packages (from torch==1.13.0->m3_learning) (11.10.3.66)\r\n"
     ]
    },
    {
     "name": "stdout",
     "output_type": "stream",
     "text": [
      "Requirement already satisfied: zipp>=0.5 in /home/ferroelectric/anaconda3/envs/STEM/lib/python3.9/site-packages (from importlib-metadata>=3.6->hyperspy==1.7.4->m3_learning) (3.15.0)\r\n"
     ]
    },
    {
     "name": "stdout",
     "output_type": "stream",
     "text": [
      "Requirement already satisfied: llvmlite<0.40,>=0.39.0dev0 in /home/ferroelectric/anaconda3/envs/STEM/lib/python3.9/site-packages (from numba>=0.52->hyperspy==1.7.4->m3_learning) (0.39.1)\r\n"
     ]
    },
    {
     "name": "stdout",
     "output_type": "stream",
     "text": [
      "Requirement already satisfied: numcodecs>=0.10.0 in /home/ferroelectric/anaconda3/envs/STEM/lib/python3.9/site-packages (from zarr>=2.9.0->hyperspy==1.7.4->m3_learning) (0.11.0)\r\n",
      "Requirement already satisfied: fasteners in /home/ferroelectric/anaconda3/envs/STEM/lib/python3.9/site-packages (from zarr>=2.9.0->hyperspy==1.7.4->m3_learning) (0.18)\r\n",
      "Requirement already satisfied: asciitree in /home/ferroelectric/anaconda3/envs/STEM/lib/python3.9/site-packages (from zarr>=2.9.0->hyperspy==1.7.4->m3_learning) (0.3.3)\r\n"
     ]
    },
    {
     "name": "stdout",
     "output_type": "stream",
     "text": [
      "Requirement already satisfied: mpmath>=0.19 in /home/ferroelectric/anaconda3/envs/STEM/lib/python3.9/site-packages (from sympy->hyperspy==1.7.4->m3_learning) (1.3.0)\r\n"
     ]
    },
    {
     "name": "stdout",
     "output_type": "stream",
     "text": [
      "\u001b[33mWARNING: Ignoring invalid distribution -orch (/home/ferroelectric/anaconda3/envs/STEM/lib/python3.9/site-packages)\u001b[0m\u001b[33m\r\n",
      "\u001b[0m"
     ]
    },
    {
     "name": "stdout",
     "output_type": "stream",
     "text": [
      "Installing collected packages: wcwidth, Send2Trash, pytz, fastjsonschema, urllib3, typing-extensions, traitlets, Pygments, pycodestyle, prompt-toolkit, pandocfilters, packaging, jsonschema, jedi, defusedxml, charset-normalizer, certifi, beautifulsoup4, asttokens, stack-data, requests, jupyter-core, autopep8, argon2-cffi-bindings, nbformat, ipython, argon2-cffi, nbclient\r\n",
      "  Attempting uninstall: wcwidth\r\n",
      "\u001b[33m    WARNING: Ignoring invalid distribution -orch (/home/ferroelectric/anaconda3/envs/STEM/lib/python3.9/site-packages)\u001b[0m\u001b[33m\r\n",
      "\u001b[0m    Found existing installation: wcwidth 0.2.6\r\n",
      "    Uninstalling wcwidth-0.2.6:\r\n",
      "      Successfully uninstalled wcwidth-0.2.6\r\n",
      "  Attempting uninstall: pytz\r\n",
      "\u001b[33m    WARNING: Ignoring invalid distribution -orch (/home/ferroelectric/anaconda3/envs/STEM/lib/python3.9/site-packages)\u001b[0m\u001b[33m\r\n",
      "\u001b[0m    Found existing installation: pytz 2023.3\r\n"
     ]
    },
    {
     "name": "stdout",
     "output_type": "stream",
     "text": [
      "    Uninstalling pytz-2023.3:\r\n",
      "      Successfully uninstalled pytz-2023.3\r\n"
     ]
    },
    {
     "name": "stdout",
     "output_type": "stream",
     "text": [
      "  Attempting uninstall: fastjsonschema\r\n",
      "\u001b[33m    WARNING: Ignoring invalid distribution -orch (/home/ferroelectric/anaconda3/envs/STEM/lib/python3.9/site-packages)\u001b[0m\u001b[33m\r\n",
      "\u001b[0m    Found existing installation: fastjsonschema 2.16.3\r\n",
      "    Uninstalling fastjsonschema-2.16.3:\r\n",
      "      Successfully uninstalled fastjsonschema-2.16.3\r\n",
      "  Attempting uninstall: urllib3\r\n",
      "\u001b[33m    WARNING: Ignoring invalid distribution -orch (/home/ferroelectric/anaconda3/envs/STEM/lib/python3.9/site-packages)\u001b[0m\u001b[33m\r\n",
      "\u001b[0m    Found existing installation: urllib3 1.26.15\r\n",
      "    Uninstalling urllib3-1.26.15:\r\n",
      "      Successfully uninstalled urllib3-1.26.15\r\n"
     ]
    },
    {
     "name": "stdout",
     "output_type": "stream",
     "text": [
      "  Attempting uninstall: typing-extensions\r\n",
      "\u001b[33m    WARNING: Ignoring invalid distribution -orch (/home/ferroelectric/anaconda3/envs/STEM/lib/python3.9/site-packages)\u001b[0m\u001b[33m\r\n",
      "\u001b[0m    Found existing installation: typing_extensions 4.5.0\r\n",
      "    Uninstalling typing_extensions-4.5.0:\r\n"
     ]
    },
    {
     "name": "stdout",
     "output_type": "stream",
     "text": [
      "      Successfully uninstalled typing_extensions-4.5.0\r\n",
      "  Attempting uninstall: traitlets\r\n",
      "\u001b[33m    WARNING: Ignoring invalid distribution -orch (/home/ferroelectric/anaconda3/envs/STEM/lib/python3.9/site-packages)\u001b[0m\u001b[33m\r\n",
      "\u001b[0m    Found existing installation: traitlets 5.9.0\r\n",
      "    Uninstalling traitlets-5.9.0:\r\n",
      "      Successfully uninstalled traitlets-5.9.0\r\n"
     ]
    },
    {
     "name": "stdout",
     "output_type": "stream",
     "text": [
      "  Attempting uninstall: Pygments\r\n",
      "\u001b[33m    WARNING: Ignoring invalid distribution -orch (/home/ferroelectric/anaconda3/envs/STEM/lib/python3.9/site-packages)\u001b[0m\u001b[33m\r\n",
      "\u001b[0m    Found existing installation: Pygments 2.15.0\r\n"
     ]
    },
    {
     "name": "stdout",
     "output_type": "stream",
     "text": [
      "    Uninstalling Pygments-2.15.0:\r\n"
     ]
    },
    {
     "name": "stdout",
     "output_type": "stream",
     "text": [
      "      Successfully uninstalled Pygments-2.15.0\r\n"
     ]
    },
    {
     "name": "stdout",
     "output_type": "stream",
     "text": [
      "  Attempting uninstall: pycodestyle\r\n",
      "    Found existing installation: pycodestyle 2.10.0\r\n"
     ]
    },
    {
     "name": "stdout",
     "output_type": "stream",
     "text": [
      "    Uninstalling pycodestyle-2.10.0:\r\n",
      "      Successfully uninstalled pycodestyle-2.10.0\r\n",
      "  Attempting uninstall: prompt-toolkit\r\n",
      "\u001b[33m    WARNING: Ignoring invalid distribution -orch (/home/ferroelectric/anaconda3/envs/STEM/lib/python3.9/site-packages)\u001b[0m\u001b[33m\r\n",
      "\u001b[0m    Found existing installation: prompt-toolkit 3.0.38\r\n"
     ]
    },
    {
     "name": "stdout",
     "output_type": "stream",
     "text": [
      "    Uninstalling prompt-toolkit-3.0.38:\r\n",
      "      Successfully uninstalled prompt-toolkit-3.0.38\r\n"
     ]
    },
    {
     "name": "stdout",
     "output_type": "stream",
     "text": [
      "  Attempting uninstall: packaging\r\n",
      "\u001b[33m    WARNING: Ignoring invalid distribution -orch (/home/ferroelectric/anaconda3/envs/STEM/lib/python3.9/site-packages)\u001b[0m\u001b[33m\r\n",
      "\u001b[0m    Found existing installation: packaging 23.1\r\n",
      "    Uninstalling packaging-23.1:\r\n",
      "      Successfully uninstalled packaging-23.1\r\n",
      "  Attempting uninstall: jsonschema\r\n",
      "\u001b[33m    WARNING: Ignoring invalid distribution -orch (/home/ferroelectric/anaconda3/envs/STEM/lib/python3.9/site-packages)\u001b[0m\u001b[33m\r\n",
      "\u001b[0m    Found existing installation: jsonschema 4.17.3\r\n"
     ]
    },
    {
     "name": "stdout",
     "output_type": "stream",
     "text": [
      "    Uninstalling jsonschema-4.17.3:\r\n",
      "      Successfully uninstalled jsonschema-4.17.3\r\n",
      "  Attempting uninstall: jedi\r\n",
      "\u001b[33m    WARNING: Ignoring invalid distribution -orch (/home/ferroelectric/anaconda3/envs/STEM/lib/python3.9/site-packages)\u001b[0m\u001b[33m\r\n",
      "\u001b[0m    Found existing installation: jedi 0.18.2\r\n"
     ]
    },
    {
     "name": "stdout",
     "output_type": "stream",
     "text": [
      "    Uninstalling jedi-0.18.2:\r\n",
      "      Successfully uninstalled jedi-0.18.2\r\n"
     ]
    },
    {
     "name": "stdout",
     "output_type": "stream",
     "text": [
      "  Attempting uninstall: charset-normalizer\r\n",
      "\u001b[33m    WARNING: Ignoring invalid distribution -orch (/home/ferroelectric/anaconda3/envs/STEM/lib/python3.9/site-packages)\u001b[0m\u001b[33m\r\n",
      "\u001b[0m    Found existing installation: charset-normalizer 3.1.0\r\n",
      "    Uninstalling charset-normalizer-3.1.0:\r\n",
      "      Successfully uninstalled charset-normalizer-3.1.0\r\n",
      "  Attempting uninstall: certifi\r\n",
      "\u001b[33m    WARNING: Ignoring invalid distribution -orch (/home/ferroelectric/anaconda3/envs/STEM/lib/python3.9/site-packages)\u001b[0m\u001b[33m\r\n",
      "\u001b[0m    Found existing installation: certifi 2022.12.7\r\n",
      "    Uninstalling certifi-2022.12.7:\r\n"
     ]
    },
    {
     "name": "stdout",
     "output_type": "stream",
     "text": [
      "      Successfully uninstalled certifi-2022.12.7\r\n",
      "  Attempting uninstall: beautifulsoup4\r\n",
      "\u001b[33m    WARNING: Ignoring invalid distribution -orch (/home/ferroelectric/anaconda3/envs/STEM/lib/python3.9/site-packages)\u001b[0m\u001b[33m\r\n",
      "\u001b[0m    Found existing installation: beautifulsoup4 4.12.2\r\n",
      "    Uninstalling beautifulsoup4-4.12.2:\r\n",
      "      Successfully uninstalled beautifulsoup4-4.12.2\r\n"
     ]
    },
    {
     "name": "stdout",
     "output_type": "stream",
     "text": [
      "  Attempting uninstall: asttokens\r\n",
      "\u001b[33m    WARNING: Ignoring invalid distribution -orch (/home/ferroelectric/anaconda3/envs/STEM/lib/python3.9/site-packages)\u001b[0m\u001b[33m\r\n",
      "\u001b[0m    Found existing installation: asttokens 2.2.1\r\n",
      "    Uninstalling asttokens-2.2.1:\r\n",
      "      Successfully uninstalled asttokens-2.2.1\r\n",
      "  Attempting uninstall: stack-data\r\n",
      "\u001b[33m    WARNING: Ignoring invalid distribution -orch (/home/ferroelectric/anaconda3/envs/STEM/lib/python3.9/site-packages)\u001b[0m\u001b[33m\r\n",
      "\u001b[0m    Found existing installation: stack-data 0.6.2\r\n"
     ]
    },
    {
     "name": "stdout",
     "output_type": "stream",
     "text": [
      "    Uninstalling stack-data-0.6.2:\r\n",
      "      Successfully uninstalled stack-data-0.6.2\r\n",
      "  Attempting uninstall: requests\r\n",
      "\u001b[33m    WARNING: Ignoring invalid distribution -orch (/home/ferroelectric/anaconda3/envs/STEM/lib/python3.9/site-packages)\u001b[0m\u001b[33m\r\n",
      "\u001b[0m    Found existing installation: requests 2.28.2\r\n",
      "    Uninstalling requests-2.28.2:\r\n",
      "      Successfully uninstalled requests-2.28.2\r\n",
      "  Attempting uninstall: jupyter-core\r\n",
      "\u001b[33m    WARNING: Ignoring invalid distribution -orch (/home/ferroelectric/anaconda3/envs/STEM/lib/python3.9/site-packages)\u001b[0m\u001b[33m\r\n",
      "\u001b[0m    Found existing installation: jupyter_core 5.3.0\r\n"
     ]
    },
    {
     "name": "stdout",
     "output_type": "stream",
     "text": [
      "    Uninstalling jupyter_core-5.3.0:\r\n"
     ]
    },
    {
     "name": "stdout",
     "output_type": "stream",
     "text": [
      "      Successfully uninstalled jupyter_core-5.3.0\r\n"
     ]
    },
    {
     "name": "stdout",
     "output_type": "stream",
     "text": [
      "  Attempting uninstall: autopep8\r\n",
      "    Found existing installation: autopep8 2.0.2\r\n",
      "    Uninstalling autopep8-2.0.2:\r\n",
      "      Successfully uninstalled autopep8-2.0.2\r\n",
      "  Attempting uninstall: nbformat\r\n",
      "\u001b[33m    WARNING: Ignoring invalid distribution -orch (/home/ferroelectric/anaconda3/envs/STEM/lib/python3.9/site-packages)\u001b[0m\u001b[33m\r\n",
      "\u001b[0m    Found existing installation: nbformat 5.8.0\r\n",
      "    Uninstalling nbformat-5.8.0:\r\n",
      "      Successfully uninstalled nbformat-5.8.0\r\n"
     ]
    },
    {
     "name": "stdout",
     "output_type": "stream",
     "text": [
      "  Attempting uninstall: ipython\r\n",
      "\u001b[33m    WARNING: Ignoring invalid distribution -orch (/home/ferroelectric/anaconda3/envs/STEM/lib/python3.9/site-packages)\u001b[0m\u001b[33m\r\n",
      "\u001b[0m    Found existing installation: ipython 8.12.0\r\n"
     ]
    },
    {
     "name": "stdout",
     "output_type": "stream",
     "text": [
      "    Uninstalling ipython-8.12.0:\r\n"
     ]
    },
    {
     "name": "stdout",
     "output_type": "stream",
     "text": [
      "      Successfully uninstalled ipython-8.12.0\r\n"
     ]
    },
    {
     "name": "stdout",
     "output_type": "stream",
     "text": [
      "  Attempting uninstall: nbclient\r\n",
      "\u001b[33m    WARNING: Ignoring invalid distribution -orch (/home/ferroelectric/anaconda3/envs/STEM/lib/python3.9/site-packages)\u001b[0m\u001b[33m\r\n",
      "\u001b[0m    Found existing installation: nbclient 0.5.13\r\n",
      "    Uninstalling nbclient-0.5.13:\r\n",
      "      Successfully uninstalled nbclient-0.5.13\r\n"
     ]
    },
    {
     "name": "stdout",
     "output_type": "stream",
     "text": [
      "\u001b[33mWARNING: Ignoring invalid distribution -orch (/home/ferroelectric/anaconda3/envs/STEM/lib/python3.9/site-packages)\u001b[0m\u001b[33m\r\n",
      "\u001b[0m\u001b[33mWARNING: Ignoring invalid distribution -orch (/home/ferroelectric/anaconda3/envs/STEM/lib/python3.9/site-packages)\u001b[0m\u001b[33m\r\n",
      "\u001b[0m\u001b[33mWARNING: Ignoring invalid distribution -orch (/home/ferroelectric/anaconda3/envs/STEM/lib/python3.9/site-packages)\u001b[0m\u001b[33m\r\n",
      "\u001b[0m\u001b[33mWARNING: Ignoring invalid distribution -orch (/home/ferroelectric/anaconda3/envs/STEM/lib/python3.9/site-packages)\u001b[0m\u001b[33m\r\n",
      "\u001b[0m\u001b[33mWARNING: Ignoring invalid distribution -orch (/home/ferroelectric/anaconda3/envs/STEM/lib/python3.9/site-packages)\u001b[0m\u001b[33m\r\n",
      "\u001b[0m\u001b[33mWARNING: Ignoring invalid distribution -orch (/home/ferroelectric/anaconda3/envs/STEM/lib/python3.9/site-packages)\u001b[0m\u001b[33m\r\n",
      "\u001b[0m\u001b[33mWARNING: Ignoring invalid distribution -orch (/home/ferroelectric/anaconda3/envs/STEM/lib/python3.9/site-packages)\u001b[0m\u001b[33m\r\n",
      "\u001b[0m\u001b[33mWARNING: Ignoring invalid distribution -orch (/home/ferroelectric/anaconda3/envs/STEM/lib/python3.9/site-packages)\u001b[0m\u001b[33m\r\n",
      "\u001b[0m\u001b[33mWARNING: Ignoring invalid distribution -orch (/home/ferroelectric/anaconda3/envs/STEM/lib/python3.9/site-packages)\u001b[0m\u001b[33m\r\n",
      "\u001b[0m\u001b[33mWARNING: Ignoring invalid distribution -orch (/home/ferroelectric/anaconda3/envs/STEM/lib/python3.9/site-packages)\u001b[0m\u001b[33m\r\n",
      "\u001b[0m\u001b[33mWARNING: Ignoring invalid distribution -orch (/home/ferroelectric/anaconda3/envs/STEM/lib/python3.9/site-packages)\u001b[0m\u001b[33m\r\n",
      "\u001b[0m\u001b[33mWARNING: Ignoring invalid distribution -orch (/home/ferroelectric/anaconda3/envs/STEM/lib/python3.9/site-packages)\u001b[0m\u001b[33m\r\n",
      "\u001b[0m\u001b[33mWARNING: Ignoring invalid distribution -orch (/home/ferroelectric/anaconda3/envs/STEM/lib/python3.9/site-packages)\u001b[0m\u001b[33m\r\n",
      "\u001b[0m\u001b[33mWARNING: Ignoring invalid distribution -orch (/home/ferroelectric/anaconda3/envs/STEM/lib/python3.9/site-packages)\u001b[0m\u001b[33m\r\n",
      "\u001b[0m\u001b[33mWARNING: Ignoring invalid distribution -orch (/home/ferroelectric/anaconda3/envs/STEM/lib/python3.9/site-packages)\u001b[0m\u001b[33m\r\n",
      "\u001b[0m\u001b[33mWARNING: Ignoring invalid distribution -orch (/home/ferroelectric/anaconda3/envs/STEM/lib/python3.9/site-packages)\u001b[0m\u001b[33m\r\n",
      "\u001b[0m\u001b[33mWARNING: Ignoring invalid distribution -orch (/home/ferroelectric/anaconda3/envs/STEM/lib/python3.9/site-packages)\u001b[0m\u001b[33m\r\n",
      "\u001b[0m\u001b[33mWARNING: Ignoring invalid distribution -orch (/home/ferroelectric/anaconda3/envs/STEM/lib/python3.9/site-packages)\u001b[0m\u001b[33m\r\n",
      "\u001b[0m\u001b[33mWARNING: Ignoring invalid distribution -orch (/home/ferroelectric/anaconda3/envs/STEM/lib/python3.9/site-packages)\u001b[0m\u001b[33m\r\n",
      "\u001b[0m\u001b[33mWARNING: Ignoring invalid distribution -orch (/home/ferroelectric/anaconda3/envs/STEM/lib/python3.9/site-packages)\u001b[0m\u001b[33m\r\n",
      "\u001b[0m\u001b[33mWARNING: Ignoring invalid distribution -orch (/home/ferroelectric/anaconda3/envs/STEM/lib/python3.9/site-packages)\u001b[0m\u001b[33m\r\n",
      "\u001b[0m\u001b[33mWARNING: Ignoring invalid distribution -orch (/home/ferroelectric/anaconda3/envs/STEM/lib/python3.9/site-packages)\u001b[0m\u001b[33m\r\n",
      "\u001b[0m\u001b[33mWARNING: Ignoring invalid distribution -orch (/home/ferroelectric/anaconda3/envs/STEM/lib/python3.9/site-packages)\u001b[0m\u001b[33m\r\n",
      "\u001b[0m\u001b[33mWARNING: Ignoring invalid distribution -orch (/home/ferroelectric/anaconda3/envs/STEM/lib/python3.9/site-packages)\u001b[0m\u001b[33m\r\n",
      "\u001b[0m\u001b[33mWARNING: Ignoring invalid distribution -orch (/home/ferroelectric/anaconda3/envs/STEM/lib/python3.9/site-packages)\u001b[0m\u001b[33m\r\n",
      "\u001b[0m\u001b[33mWARNING: Ignoring invalid distribution -orch (/home/ferroelectric/anaconda3/envs/STEM/lib/python3.9/site-packages)\u001b[0m\u001b[33m\r\n",
      "\u001b[0m\u001b[33mWARNING: Ignoring invalid distribution -orch (/home/ferroelectric/anaconda3/envs/STEM/lib/python3.9/site-packages)\u001b[0m\u001b[33m\r\n",
      "\u001b[0m\u001b[33mWARNING: Ignoring invalid distribution -orch (/home/ferroelectric/anaconda3/envs/STEM/lib/python3.9/site-packages)\u001b[0m\u001b[33m\r\n",
      "\u001b[0m\u001b[31mERROR: pip's dependency resolver does not currently take into account all the packages that are installed. This behaviour is the source of the following dependency conflicts.\r\n",
      "moviepy 1.0.3 requires decorator<5.0,>=4.0.2, but you have decorator 5.1.1 which is incompatible.\r\n",
      "jupyter-cache 0.5.0 requires nbclient<0.6,>=0.2, but you have nbclient 0.7.0 which is incompatible.\u001b[0m\u001b[31m\r\n",
      "\u001b[0mSuccessfully installed Pygments-2.13.0 Send2Trash-1.8.0 argon2-cffi-21.3.0 argon2-cffi-bindings-21.2.0 asttokens-2.1.0 autopep8-2.0.0 beautifulsoup4-4.11.1 certifi-2022.9.24 charset-normalizer-2.1.1 defusedxml-0.7.1 fastjsonschema-2.16.2 ipython-8.6.0 jedi-0.18.1 jsonschema-4.17.0 jupyter-core-4.11.2 nbclient-0.7.0 nbformat-5.7.0 packaging-21.3 pandocfilters-1.5.0 prompt-toolkit-3.0.31 pycodestyle-2.9.1 pytz-2022.6 requests-2.28.1 stack-data-0.6.0 traitlets-5.5.0 typing-extensions-4.4.0 urllib3-1.26.12 wcwidth-0.2.5\r\n",
      "\u001b[33mWARNING: Ignoring invalid distribution -orch (/home/ferroelectric/anaconda3/envs/STEM/lib/python3.9/site-packages)\u001b[0m\u001b[33m\r\n",
      "\u001b[0m\u001b[33mWARNING: Ignoring invalid distribution -orch (/home/ferroelectric/anaconda3/envs/STEM/lib/python3.9/site-packages)\u001b[0m\u001b[33m\r\n",
      "\u001b[0m"
     ]
    },
    {
     "name": "stdout",
     "output_type": "stream",
     "text": [
      "\u001b[33mWARNING: Ignoring invalid distribution -orch (/home/ferroelectric/anaconda3/envs/STEM/lib/python3.9/site-packages)\u001b[0m\u001b[33m\r\n",
      "\u001b[0m"
     ]
    }
   ],
   "source": [
    "!pip install m3_learning\n"
   ]
  },
  {
   "cell_type": "markdown",
   "metadata": {
    "id": "-GbJmyO_1itx",
    "slideshow": {
     "slide_type": "subslide"
    }
   },
   "source": [
    "## Configuration\n",
    "\n",
    "### Imports packages\n"
   ]
  },
  {
   "cell_type": "code",
   "execution_count": 2,
   "metadata": {
    "id": "29lMNJV9xe7w",
    "slideshow": {
     "slide_type": "fragment"
    }
   },
   "outputs": [],
   "source": [
    "import matplotlib.pyplot as plt\n",
    "import numpy as np\n",
    "import torch\n",
    "import torch.nn.functional as F\n",
    "import torch.optim as optim\n",
    "import torch.nn as nn\n",
    "from tqdm import tqdm\n",
    "import cv2\n",
    "from skimage.filters import sobel\n",
    "import tarfile\n"
   ]
  },
  {
   "attachments": {},
   "cell_type": "markdown",
   "metadata": {
    "id": "8R1uHT1P1sPq",
    "slideshow": {
     "slide_type": "subslide"
    }
   },
   "source": [
    "### Downloads Files\n"
   ]
  },
  {
   "cell_type": "code",
   "execution_count": 3,
   "metadata": {
    "colab": {
     "base_uri": "https://localhost:8080/"
    },
    "id": "8V3z9ZZFyUiu",
    "outputId": "28a3773f-3eb6-40da-b859-30056d8e1767",
    "slideshow": {
     "slide_type": "fragment"
    },
    "tags": [
     "hide-output"
    ]
   },
   "outputs": [
    {
     "name": "stdout",
     "output_type": "stream",
     "text": [
      "--2023-04-14 11:39:59--  http://-/\r\n",
      "Resolving - (-)... failed: Name or service not known.\r\n",
      "wget: unable to resolve host address ‘-’\r\n",
      "--2023-04-14 11:39:59--  http://o/\r\n",
      "Resolving o (o)... failed: Temporary failure in name resolution.\r\n",
      "wget: unable to resolve host address ‘o’\r\n",
      "--2023-04-14 11:39:59--  http://cards.tar.xz/\r\n",
      "Resolving cards.tar.xz (cards.tar.xz)... failed: Name or service not known.\r\n",
      "wget: unable to resolve host address ‘cards.tar.xz’\r\n",
      "--2023-04-14 11:39:59--  ftp://https/\r\n",
      "           => ‘.listing’\r\n",
      "Resolving https (https)... failed: Temporary failure in name resolution.\r\n",
      "wget: unable to resolve host address ‘https’\r\n",
      "//: Scheme missing.\r\n",
      "URL transformed to HTTPS due to an HSTS policy\r\n",
      "--2023-04-14 11:39:59--  https://github.com/m3-learning/m3_learning/blob/main/m3_learning/Tutorials/Cycle_Consistent_Spatial_Transformer_Autoencoder/data/cards.tar.xz?raw\r\n",
      "Resolving github.com (github.com)... 140.82.112.3\r\n",
      "Connecting to github.com (github.com)|140.82.112.3|:443... connected.\r\n",
      "HTTP request sent, awaiting response... "
     ]
    },
    {
     "name": "stdout",
     "output_type": "stream",
     "text": [
      "200 OK\r\n",
      "Length: unspecified [text/html]\r\n",
      "Saving to: ‘cards.tar.xz?raw’\r\n",
      "\r\n",
      "\r",
      "cards.tar.xz?raw        [<=>                 ]       0  --.-KB/s               "
     ]
    },
    {
     "name": "stdout",
     "output_type": "stream",
     "text": [
      "\r",
      "cards.tar.xz?raw        [ <=>                ] 138.43K  --.-KB/s    in 0.01s   \r\n",
      "\r\n",
      "2023-04-14 11:39:59 (9.68 MB/s) - ‘cards.tar.xz?raw’ saved [141754]\r\n",
      "\r\n",
      "--2023-04-14 11:39:59--  http://=/\r\n",
      "Resolving = (=)... failed: Name or service not known.\r\n",
      "wget: unable to resolve host address ‘=’\r\n",
      "--2023-04-14 11:39:59--  http://true/\r\n",
      "Resolving true (true)... failed: Temporary failure in name resolution.\r\n",
      "wget: unable to resolve host address ‘true’\r\n",
      "FINISHED --2023-04-14 11:39:59--\r\n",
      "Total wall clock time: 0.3s\r\n",
      "Downloaded: 1 files, 138K in 0.01s (9.68 MB/s)\r\n"
     ]
    },
    {
     "name": "stdout",
     "output_type": "stream",
     "text": [
      "--2023-04-14 11:39:59--  http://-/\r\n",
      "Resolving - (-)... failed: Name or service not known.\r\n",
      "wget: unable to resolve host address ‘-’\r\n",
      "--2023-04-14 11:39:59--  http://o/\r\n",
      "Resolving o (o)... failed: Temporary failure in name resolution.\r\n",
      "wget: unable to resolve host address ‘o’\r\n",
      "--2023-04-14 11:39:59--  http://11.12_unsupervised_learn_label_epoch_17957_coef_0_trainloss_0.0008.pkl/\r\n",
      "Resolving 11.12_unsupervised_learn_label_epoch_17957_coef_0_trainloss_0.0008.pkl (11.12_unsupervised_learn_label_epoch_17957_coef_0_trainloss_0.0008.pkl)... failed: Name or service not known.\r\n",
      "wget: unable to resolve host address ‘11.12_unsupervised_learn_label_epoch_17957_coef_0_trainloss_0.0008.pkl’\r\n",
      "--2023-04-14 11:39:59--  ftp://https/\r\n",
      "           => ‘.listing’\r\n",
      "Resolving https (https)... failed: Temporary failure in name resolution.\r\n",
      "wget: unable to resolve host address ‘https’\r\n",
      "//: Scheme missing.\r\n",
      "URL transformed to HTTPS due to an HSTS policy\r\n",
      "--2023-04-14 11:39:59--  https://github.com/m3-learning/Unsupervised-rotation-detection-and\r\n",
      "Resolving github.com (github.com)... 140.82.112.3\r\n",
      "Connecting to github.com (github.com)|140.82.112.3|:443... connected.\r\n",
      "HTTP request sent, awaiting response... "
     ]
    },
    {
     "name": "stdout",
     "output_type": "stream",
     "text": [
      "404 Not Found\r\n",
      "2023-04-14 11:39:59 ERROR 404: Not Found.\r\n",
      "\r\n",
      "--2023-04-14 11:39:59--  http://=/\r\n",
      "Resolving = (=)... failed: Name or service not known.\r\n",
      "wget: unable to resolve host address ‘=’\r\n",
      "--2023-04-14 11:39:59--  http://true/\r\n",
      "Resolving true (true)... failed: Temporary failure in name resolution.\r\n",
      "wget: unable to resolve host address ‘true’\r\n"
     ]
    }
   ],
   "source": [
    "!wget - O cards.tar.xz https: // github.com/m3-learning/m3_learning/blob/main/m3_learning/Tutorials/Cycle_Consistent_Spatial_Transformer_Autoencoder/data/cards.tar.xz?raw = true\n",
    "!wget - O 11.12_unsupervised_learn_label_epoch_17957_coef_0_trainloss_0.0008.pkl https: // github.com/m3-learning/Unsupervised-rotation-detection-and -label-learning/blob/main/11.12_unsupervised_learn_label_epoch_17957_coef_0_trainloss_0.0008.pkl?raw = true\n"
   ]
  },
  {
   "attachments": {},
   "cell_type": "markdown",
   "metadata": {
    "id": "XGnsP5VK14Wa",
    "slideshow": {
     "slide_type": "fragment"
    }
   },
   "source": [
    "### Extracts Files\n"
   ]
  },
  {
   "cell_type": "code",
   "execution_count": 4,
   "metadata": {
    "id": "aFQrlSJLyiMm",
    "slideshow": {
     "slide_type": "fragment"
    }
   },
   "outputs": [],
   "source": [
    "file = tarfile.open('./cards.tar.xz')\n",
    "file.extractall('./')\n",
    "file.close()\n"
   ]
  },
  {
   "attachments": {},
   "cell_type": "markdown",
   "metadata": {
    "id": "-3AkKueg2IWu",
    "slideshow": {
     "slide_type": "slide"
    }
   },
   "source": [
    "## Data Preprocessing\n",
    "\n",
    "### Conversion\n"
   ]
  },
  {
   "cell_type": "code",
   "execution_count": 5,
   "metadata": {
    "colab": {
     "base_uri": "https://localhost:8080/"
    },
    "id": "D4At_FTxxe7x",
    "outputId": "011c308f-7b07-45b4-995d-7136faee87ee",
    "slideshow": {
     "slide_type": "fragment"
    }
   },
   "outputs": [],
   "source": [
    "# Converts images to grayscale\n",
    "card1 = cv2.imread(\"cards/card1.JPG\", cv2.IMREAD_GRAYSCALE)\n",
    "card2 = cv2.imread(\"cards/card2.JPG\", cv2.IMREAD_GRAYSCALE)\n",
    "card3 = cv2.imread(\"cards/card3.JPG\", cv2.IMREAD_GRAYSCALE)\n",
    "card4 = cv2.imread(\"cards/card4.JPG\", cv2.IMREAD_GRAYSCALE)\n",
    "\n",
    "# Normalizes the image based on the max value\n",
    "card1 = torch.tensor(1 - card1 / card1.max())\n",
    "card2 = torch.tensor(1 - card2 / card2.max())\n",
    "card3 = torch.tensor(1 - card3 / card3.max())\n",
    "card4 = torch.tensor(1 - card4 / card4.max())\n",
    "\n",
    "# Resizes the image\n",
    "card_small_1 = F.interpolate(card1.unsqueeze(0).unsqueeze(\n",
    "    1), size=(48, 48)).clone().type(torch.float).cpu().numpy()\n",
    "card_small_2 = F.interpolate(card2.unsqueeze(0).unsqueeze(\n",
    "    1), size=(48, 48)).clone().type(torch.float).cpu().numpy()\n",
    "card_small_3 = F.interpolate(card3.unsqueeze(0).unsqueeze(\n",
    "    1), size=(48, 48)).clone().type(torch.float).cpu().numpy()\n",
    "card_small_4 = F.interpolate(card4.unsqueeze(0).unsqueeze(\n",
    "    1), size=(48, 48)).clone().type(torch.float).cpu().numpy()\n"
   ]
  },
  {
   "attachments": {},
   "cell_type": "markdown",
   "metadata": {
    "id": "diJ86fln2W69",
    "slideshow": {
     "slide_type": "subslide"
    }
   },
   "source": [
    "### Raw Data Visulalization\n"
   ]
  },
  {
   "cell_type": "code",
   "execution_count": 6,
   "metadata": {
    "colab": {
     "base_uri": "https://localhost:8080/",
     "height": 285
    },
    "id": "MzZTavM5xe7y",
    "outputId": "62889007-1bcc-4f98-80d4-76e1cf1fb7ef",
    "slideshow": {
     "slide_type": "fragment"
    }
   },
   "outputs": [
    {
     "data": {
      "text/plain": [
       "<matplotlib.image.AxesImage at 0x7fc6347aa580>"
      ]
     },
     "execution_count": 6,
     "metadata": {},
     "output_type": "execute_result"
    },
    {
     "data": {
      "image/png": "[encoded data removed]",
      "text/plain": [
       "<Figure size 432x288 with 1 Axes>"
      ]
     },
     "metadata": {
      "needs_background": "light"
     },
     "output_type": "display_data"
    }
   ],
   "source": [
    "plt.imshow(card_small_1.squeeze())\n"
   ]
  },
  {
   "attachments": {},
   "cell_type": "markdown",
   "metadata": {
    "id": "tQU-TTGs2jWy",
    "slideshow": {
     "slide_type": "subslide"
    }
   },
   "source": [
    "### Edge detection\n"
   ]
  },
  {
   "cell_type": "code",
   "execution_count": 7,
   "metadata": {
    "id": "vBgdUW0Exe7y",
    "slideshow": {
     "slide_type": "fragment"
    }
   },
   "outputs": [],
   "source": [
    "# Sobel edge detection\n",
    "card_edge_1 = sobel(card_small_1.squeeze())\n",
    "card_edge_2 = sobel(card_small_2.squeeze())\n",
    "card_edge_3 = sobel(card_small_3.squeeze())\n",
    "card_edge_4 = sobel(card_small_4.squeeze())\n",
    "\n",
    "# Convert to a tensor\n",
    "card_edge_1 = torch.tensor(\n",
    "    card_edge_1, dtype=torch.float).unsqueeze(0).unsqueeze(1)\n",
    "card_edge_2 = torch.tensor(\n",
    "    card_edge_2, dtype=torch.float).unsqueeze(0).unsqueeze(1)\n",
    "card_edge_3 = torch.tensor(\n",
    "    card_edge_3, dtype=torch.float).unsqueeze(0).unsqueeze(1)\n",
    "card_edge_4 = torch.tensor(\n",
    "    card_edge_4, dtype=torch.float).unsqueeze(0).unsqueeze(1)\n"
   ]
  },
  {
   "attachments": {},
   "cell_type": "markdown",
   "metadata": {
    "id": "mubTbD6Y2xEH",
    "slideshow": {
     "slide_type": "subslide"
    }
   },
   "source": [
    "## Data Generation\n",
    "\n",
    "This will generate a bunch of images that are rotated from the initial position\n"
   ]
  },
  {
   "cell_type": "code",
   "execution_count": 8,
   "metadata": {
    "colab": {
     "base_uri": "https://localhost:8080/"
    },
    "id": "jYROdDpxxe7y",
    "outputId": "e0df3053-3ec5-41b4-bb9f-3776825fc481",
    "slideshow": {
     "slide_type": "fragment"
    }
   },
   "outputs": [
    {
     "name": "stderr",
     "output_type": "stream",
     "text": [
      "/home/ferroelectric/anaconda3/envs/STEM/lib/python3.9/site-packages/torch/nn/functional.py:4289: UserWarning: Default grid_sample and affine_grid behavior has changed to align_corners=False since 1.3.0. Please specify align_corners=True if the old behavior is desired. See the documentation of grid_sample for details.\n",
      "  warnings.warn(\n",
      "/home/ferroelectric/anaconda3/envs/STEM/lib/python3.9/site-packages/torch/nn/functional.py:4227: UserWarning: Default grid_sample and affine_grid behavior has changed to align_corners=False since 1.3.0. Please specify align_corners=True if the old behavior is desired. See the documentation of grid_sample for details.\n",
      "  warnings.warn(\n"
     ]
    }
   ],
   "source": [
    "# sets the range and the number of steps to generate images\n",
    "angle = torch.linspace(0, 2*np.pi, 2000)\n",
    "\n",
    "# predefines a list\n",
    "input_data_set_1 = []\n",
    "input_data_set_2 = []\n",
    "input_data_set_3 = []\n",
    "input_data_set_4 = []\n",
    "\n",
    "for q in angle:\n",
    "    # defines the theta matrix for an affine transformation\n",
    "    theta = torch.tensor([\n",
    "        [torch.cos(q), torch.sin(q), 0],\n",
    "        [-torch.sin(q), torch.cos(q), 0]\n",
    "    ], dtype=torch.float)\n",
    "\n",
    "    # calculates the grid for the affine transformation\n",
    "    grid = F.affine_grid(theta.unsqueeze(0), card_edge_1.size())\n",
    "\n",
    "    # applies the affine transformation to the image\n",
    "    output = F.grid_sample(card_edge_1, grid)\n",
    "    # adds the image to the dataset\n",
    "    input_data_set_1.append(output)\n",
    "\n",
    "    output = F.grid_sample(card_edge_2, grid)\n",
    "    input_data_set_2.append(output)\n",
    "\n",
    "    output = F.grid_sample(card_edge_3, grid)\n",
    "    input_data_set_3.append(output)\n",
    "\n",
    "    output = F.grid_sample(card_edge_4, grid)\n",
    "    input_data_set_4.append(output)\n",
    "\n",
    "# combines all the data together\n",
    "input_set_1 = torch.stack(input_data_set_1).squeeze(1)\n",
    "input_set_2 = torch.stack(input_data_set_2).squeeze(1)\n",
    "input_set_3 = torch.stack(input_data_set_3).squeeze(1)\n",
    "input_set_4 = torch.stack(input_data_set_4).squeeze(1)\n"
   ]
  },
  {
   "attachments": {},
   "cell_type": "markdown",
   "metadata": {
    "id": "ob48pgqA3cWN",
    "slideshow": {
     "slide_type": "subslide"
    }
   },
   "source": [
    "### Visualize example rotated images\n"
   ]
  },
  {
   "cell_type": "code",
   "execution_count": 9,
   "metadata": {
    "colab": {
     "base_uri": "https://localhost:8080/",
     "height": 285
    },
    "id": "Sk_uczFjxe7y",
    "outputId": "bfa01918-0748-40ad-bedc-7a125f05371d",
    "slideshow": {
     "slide_type": "fragment"
    }
   },
   "outputs": [
    {
     "data": {
      "text/plain": [
       "<matplotlib.image.AxesImage at 0x7fc63469b2b0>"
      ]
     },
     "execution_count": 9,
     "metadata": {},
     "output_type": "execute_result"
    },
    {
     "data": {
      "image/png": "[encoded data removed]",
      "text/plain": [
       "<Figure size 432x288 with 1 Axes>"
      ]
     },
     "metadata": {
      "needs_background": "light"
     },
     "output_type": "display_data"
    }
   ],
   "source": [
    "plt.imshow(card_edge_1.squeeze())\n"
   ]
  },
  {
   "attachments": {},
   "cell_type": "markdown",
   "metadata": {
    "id": "RkBjGr7B3lTY",
    "slideshow": {
     "slide_type": "subslide"
    }
   },
   "source": [
    "### Formulate a single dataset\n"
   ]
  },
  {
   "cell_type": "code",
   "execution_count": 10,
   "metadata": {
    "id": "ZDZZp451xe7z",
    "slideshow": {
     "slide_type": "fragment"
    }
   },
   "outputs": [],
   "source": [
    "input_set = torch.cat(\n",
    "    (input_set_1, input_set_2, input_set_3, input_set_4), axis=0)\n"
   ]
  },
  {
   "attachments": {},
   "cell_type": "markdown",
   "metadata": {
    "id": "jDjcsxgV3vIT",
    "slideshow": {
     "slide_type": "slide"
    }
   },
   "source": [
    "### Visualize example images in training data\n"
   ]
  },
  {
   "cell_type": "code",
   "execution_count": 11,
   "metadata": {
    "colab": {
     "base_uri": "https://localhost:8080/",
     "height": 1000
    },
    "id": "ocRbDC50xe7z",
    "outputId": "2b5aa34c-7ad8-43be-bd65-f3663605da48",
    "scrolled": true,
    "slideshow": {
     "slide_type": "fragment"
    }
   },
   "outputs": [
    {
     "data": {
      "image/png": "[encoded data removed]",
      "text/plain": [
       "<Figure size 432x288 with 1 Axes>"
      ]
     },
     "metadata": {
      "needs_background": "light"
     },
     "output_type": "display_data"
    },
    {
     "data": {
      "image/png": "[encoded data removed]",
      "text/plain": [
       "<Figure size 432x288 with 1 Axes>"
      ]
     },
     "metadata": {
      "needs_background": "light"
     },
     "output_type": "display_data"
    },
    {
     "data": {
      "image/png": "[encoded data removed]",
      "text/plain": [
       "<Figure size 432x288 with 1 Axes>"
      ]
     },
     "metadata": {
      "needs_background": "light"
     },
     "output_type": "display_data"
    },
    {
     "data": {
      "image/png": "[encoded data removed]",
      "text/plain": [
       "<Figure size 432x288 with 1 Axes>"
      ]
     },
     "metadata": {
      "needs_background": "light"
     },
     "output_type": "display_data"
    },
    {
     "data": {
      "image/png": "[encoded data removed]",
      "text/plain": [
       "<Figure size 432x288 with 1 Axes>"
      ]
     },
     "metadata": {
      "needs_background": "light"
     },
     "output_type": "display_data"
    },
    {
     "data": {
      "image/png": "[encoded data removed]",
      "text/plain": [
       "<Figure size 432x288 with 1 Axes>"
      ]
     },
     "metadata": {
      "needs_background": "light"
     },
     "output_type": "display_data"
    },
    {
     "data": {
      "image/png": "[encoded data removed]",
      "text/plain": [
       "<Figure size 432x288 with 1 Axes>"
      ]
     },
     "metadata": {
      "needs_background": "light"
     },
     "output_type": "display_data"
    },
    {
     "data": {
      "image/png": "[encoded data removed]",
      "text/plain": [
       "<Figure size 432x288 with 1 Axes>"
      ]
     },
     "metadata": {
      "needs_background": "light"
     },
     "output_type": "display_data"
    },
    {
     "data": {
      "image/png": "[encoded data removed]",
      "text/plain": [
       "<Figure size 432x288 with 1 Axes>"
      ]
     },
     "metadata": {
      "needs_background": "light"
     },
     "output_type": "display_data"
    },
    {
     "data": {
      "image/png": "[encoded data removed]",
      "text/plain": [
       "<Figure size 432x288 with 1 Axes>"
      ]
     },
     "metadata": {
      "needs_background": "light"
     },
     "output_type": "display_data"
    }
   ],
   "source": [
    "for i in range(2000):\n",
    "    if i % 200 == 0:\n",
    "        plt.figure()\n",
    "        plt.imshow(input_set_4[i].squeeze())\n"
   ]
  },
  {
   "attachments": {},
   "cell_type": "markdown",
   "metadata": {
    "id": "TedTGO8S35AE",
    "slideshow": {
     "slide_type": "slide"
    }
   },
   "source": [
    "## Builds the Neural Network\n",
    "\n",
    "### Convolutional Block\n",
    "\n",
    "This is a standard convolutional block with ReLu. Each block has 4 layers. There is a layer normalization, and ResNet-like message passing.\n"
   ]
  },
  {
   "cell_type": "code",
   "execution_count": 12,
   "metadata": {
    "id": "eXCJoAUexe7z",
    "slideshow": {
     "slide_type": "fragment"
    }
   },
   "outputs": [],
   "source": [
    "class conv_block(nn.Module):\n",
    "    def __init__(self, t_size, n_step):\n",
    "        super(conv_block, self).__init__()\n",
    "        self.cov1d_1 = nn.Conv2d(\n",
    "            t_size, t_size, 3, stride=1, padding=1, padding_mode='zeros')\n",
    "        self.cov1d_2 = nn.Conv2d(\n",
    "            t_size, t_size, 3, stride=1, padding=1, padding_mode='zeros')\n",
    "        self.cov1d_3 = nn.Conv2d(\n",
    "            t_size, t_size, 3, stride=1, padding=1, padding_mode='zeros')\n",
    "        self.norm_3 = nn.LayerNorm(n_step)\n",
    "        self.relu_1 = nn.ReLU()\n",
    "        self.relu_2 = nn.ReLU()\n",
    "        self.relu_3 = nn.ReLU()\n",
    "\n",
    "    def forward(self, x):\n",
    "        x_input = x\n",
    "        out = self.cov1d_1(x)\n",
    "        out = self.relu_1(out)\n",
    "        out = self.cov1d_2(out)\n",
    "        out = self.relu_2(out)\n",
    "        out = self.cov1d_3(out)\n",
    "        out = self.norm_3(out)\n",
    "        out = self.relu_3(out)\n",
    "        out = out.add(x_input)\n",
    "\n",
    "        return out\n"
   ]
  },
  {
   "attachments": {},
   "cell_type": "markdown",
   "metadata": {
    "id": "R0SqTPPh4Tiy",
    "slideshow": {
     "slide_type": "subslide"
    }
   },
   "source": [
    "### Idenity Block\n",
    "\n",
    "This is a single convolutional layer with a layer norm and ReLu activation function\n"
   ]
  },
  {
   "cell_type": "code",
   "execution_count": 13,
   "metadata": {
    "id": "U86eWxQNxe7z",
    "slideshow": {
     "slide_type": "fragment"
    }
   },
   "outputs": [],
   "source": [
    "class identity_block(nn.Module):\n",
    "    def __init__(self, t_size, n_step):\n",
    "        super(identity_block, self).__init__()\n",
    "        self.cov1d_1 = nn.Conv2d(\n",
    "            t_size, t_size, 3, stride=1, padding=1, padding_mode='zeros')\n",
    "        self.norm_1 = nn.LayerNorm(n_step)\n",
    "        self.relu = nn.ReLU()\n",
    "\n",
    "    def forward(self, x):\n",
    "        x_input = x\n",
    "        out = self.cov1d_1(x)\n",
    "        out = self.norm_1(out)\n",
    "        out = self.relu(out)\n",
    "        return out\n"
   ]
  },
  {
   "attachments": {},
   "cell_type": "markdown",
   "metadata": {
    "id": "QiudNnwF4n2j",
    "slideshow": {
     "slide_type": "subslide"
    }
   },
   "source": [
    "### Encoder construction\n",
    "\n",
    "This constructs the encoder using the convolutional and identity blocks.\n"
   ]
  },
  {
   "cell_type": "code",
   "execution_count": 14,
   "metadata": {
    "id": "u6MSmcRCxe7z",
    "slideshow": {
     "slide_type": "fragment"
    }
   },
   "outputs": [],
   "source": [
    "class Encoder(nn.Module):\n",
    "    def __init__(self, original_step_size, pool_list, embedding_size, conv_size):\n",
    "        super(Encoder, self).__init__()\n",
    "\n",
    "        # list of blocks\n",
    "        blocks = []\n",
    "\n",
    "        # defines the orignal step size\n",
    "        self.input_size_0 = original_step_size[0]\n",
    "        self.input_size_1 = original_step_size[1]\n",
    "\n",
    "        # a list that has the number of pooling layers\n",
    "        number_of_blocks = len(pool_list)\n",
    "\n",
    "        # Adds an initial Conv_block, identity block and max pool\n",
    "        blocks.append(conv_block(t_size=conv_size, n_step=original_step_size))\n",
    "        blocks.append(identity_block(\n",
    "            t_size=conv_size, n_step=original_step_size))\n",
    "        blocks.append(nn.MaxPool2d(pool_list[0], stride=pool_list[0]))\n",
    "\n",
    "        # adds additional layers based on the number of blocks\n",
    "        for i in range(1, number_of_blocks):\n",
    "            original_step_size = [\n",
    "                original_step_size[0]//pool_list[i-1], original_step_size[1]//pool_list[i-1]]\n",
    "            blocks.append(conv_block(t_size=conv_size,\n",
    "                          n_step=original_step_size))\n",
    "            blocks.append(identity_block(\n",
    "                t_size=conv_size, n_step=original_step_size))\n",
    "            blocks.append(nn.MaxPool2d(pool_list[i], stride=pool_list[i]))\n",
    "\n",
    "        # defines the convolutional embedding blocks\n",
    "        self.block_layer = nn.ModuleList(blocks)\n",
    "\n",
    "        self.layers = len(blocks)\n",
    "\n",
    "        original_step_size = [original_step_size[0] //\n",
    "                              pool_list[-1], original_step_size[1]//pool_list[-1]]\n",
    "\n",
    "        input_size = original_step_size[0]*original_step_size[1]\n",
    "\n",
    "        # defines the initial layer\n",
    "        self.cov2d = nn.Conv2d(1, conv_size, 3, stride=1,\n",
    "                               padding=1, padding_mode='zeros')\n",
    "\n",
    "        # defines the conv layer at the end of the conv block\n",
    "        self.cov2d_1 = nn.Conv2d(\n",
    "            conv_size, 1, 3, stride=1, padding=1, padding_mode='zeros')\n",
    "\n",
    "        self.relu_1 = nn.ReLU()\n",
    "        self.tanh = nn.Tanh()\n",
    "\n",
    "        # Layer that takes the ouput of the conv block and reduces its dimensionsl to 20\n",
    "        self.before = nn.Linear(input_size, 20)\n",
    "\n",
    "        # layer that takes the 20 parameter latent space and learns the embedding of the affine transformation\n",
    "        self.dense = nn.Linear(20, embedding_size)\n",
    "\n",
    "    def forward(self, x):\n",
    "\n",
    "        out = x.view(-1, 1, self.input_size_0, self.input_size_1)\n",
    "        out = self.cov2d(out)\n",
    "        for i in range(self.layers):\n",
    "            out = self.block_layer[i](out)\n",
    "        out = self.cov2d_1(out)\n",
    "\n",
    "        # flattens the conv layers so it is 1D\n",
    "        out = torch.flatten(out, start_dim=1)\n",
    "\n",
    "        # Embedding that goes to the classification layer\n",
    "        kout = self.before(out)\n",
    "\n",
    "        # Fully connected layer that helps learn the affine transformation\n",
    "        out = self.dense(kout)\n",
    "        out = self.tanh(out)\n",
    "\n",
    "        theta = out.view(-1, 2, 3)\n",
    "\n",
    "        # learns the grid of the affine tranformation\n",
    "        grid = F.affine_grid(theta.to(device), x.size()).to(device)\n",
    "\n",
    "        # applies the affine transformation to the image\n",
    "        output = F.grid_sample(x, grid)\n",
    "\n",
    "        return output, kout, theta\n"
   ]
  },
  {
   "attachments": {},
   "cell_type": "markdown",
   "metadata": {
    "id": "bRPxUQed6cbu",
    "slideshow": {
     "slide_type": "subslide"
    }
   },
   "source": [
    "### Decoder\n"
   ]
  },
  {
   "cell_type": "code",
   "execution_count": 15,
   "metadata": {
    "id": "VyQJ9qQsxe7z",
    "slideshow": {
     "slide_type": "fragment"
    }
   },
   "outputs": [],
   "source": [
    "class Decoder(nn.Module):\n",
    "    def __init__(self, original_step_size, up_list, embedding_size, conv_size):\n",
    "        super(Decoder, self).__init__()\n",
    "\n",
    "        # Defines the size of the input\n",
    "        self.input_size_0 = original_step_size[0]\n",
    "        self.input_size_1 = original_step_size[1]\n",
    "\n",
    "        # dense layer used for the probability of beloning to each class\n",
    "        self.dense = nn.Linear(4, original_step_size[0]*original_step_size[1])\n",
    "\n",
    "        self.cov2d = nn.Conv2d(1, conv_size, 3, stride=1,\n",
    "                               padding=1, padding_mode='zeros')\n",
    "        self.cov2d_1 = nn.Conv2d(\n",
    "            conv_size, 1, 3, stride=1, padding=1, padding_mode='zeros')\n",
    "\n",
    "        # list where the blocks are saved\n",
    "        blocks = []\n",
    "\n",
    "        # number of blocks in the model\n",
    "        number_of_blocks = len(up_list)\n",
    "\n",
    "        # adds the blocks to the model\n",
    "        blocks.append(conv_block(t_size=conv_size, n_step=original_step_size))\n",
    "        blocks.append(identity_block(\n",
    "            t_size=conv_size, n_step=original_step_size))\n",
    "\n",
    "        for i in range(number_of_blocks):\n",
    "            # adds an upsampling layer to compensate for pooling\n",
    "            blocks.append(nn.Upsample(\n",
    "                scale_factor=up_list[i], mode='bilinear', align_corners=True))\n",
    "            original_step_size = [original_step_size[0] *\n",
    "                                  up_list[i], original_step_size[1]*up_list[i]]\n",
    "            blocks.append(conv_block(t_size=conv_size,\n",
    "                          n_step=original_step_size))\n",
    "            blocks.append(identity_block(\n",
    "                t_size=conv_size, n_step=original_step_size))\n",
    "\n",
    "        self.block_layer = nn.ModuleList(blocks)\n",
    "        self.layers = len(blocks)\n",
    "        self.output_size_0 = original_step_size[0]\n",
    "        self.output_size_1 = original_step_size[1]\n",
    "        self.relu_1 = nn.ReLU()\n",
    "        self.norm = nn.LayerNorm(4)\n",
    "\n",
    "        # used to convert probability into classification\n",
    "        self.softmax = nn.Softmax()\n",
    "\n",
    "        # prediction layer for classification\n",
    "        self.for_k = nn.Linear(20, 4)\n",
    "\n",
    "        # number of outputs for the classification layer\n",
    "        self.num_k_sparse = 1\n",
    "\n",
    "    def ktop(self, x):\n",
    "        # This conduct the classification based on the encoded value\n",
    "        kout = self.for_k(x)\n",
    "        kout = self.norm(kout)\n",
    "        kout = self.softmax(kout)\n",
    "        k_no = kout.clone()\n",
    "        k = self.num_k_sparse\n",
    "        with torch.no_grad():\n",
    "            if k < kout.shape[1]:\n",
    "                for raw in k_no:\n",
    "                    # computes the k-top layer\n",
    "                    indices = torch.topk(raw, k)[1].to(device)\n",
    "\n",
    "                    # creates a one-hot encoded vector\n",
    "                    mask = torch.ones(raw.shape, dtype=bool).to(device)\n",
    "                    mask[indices] = False\n",
    "                    raw[mask] = 0\n",
    "                    raw[~mask] = 1\n",
    "        return k_no\n",
    "\n",
    "    def forward(self, x):\n",
    "        # Does the classification\n",
    "        k_out = self.ktop(x)\n",
    "\n",
    "        # uses the classification to the decoder\n",
    "        out = self.dense(k_out)\n",
    "\n",
    "        # reshapes the tensor to be an image of the size of the original image\n",
    "        out = out.view(-1, 1, self.input_size_0, self.input_size_1)\n",
    "\n",
    "        # computes the decoder\n",
    "        out = self.cov2d(out)\n",
    "        for i in range(self.layers):\n",
    "            out = self.block_layer[i](out)\n",
    "        out = self.cov2d_1(out)\n",
    "        out = self.relu_1(out)\n",
    "\n",
    "        return out, k_out\n"
   ]
  },
  {
   "attachments": {},
   "cell_type": "markdown",
   "metadata": {
    "slideshow": {
     "slide_type": "subslide"
    }
   },
   "source": [
    "### Builds the autoencoder\n"
   ]
  },
  {
   "cell_type": "code",
   "execution_count": 16,
   "metadata": {
    "id": "H06vwqpPxe7z",
    "slideshow": {
     "slide_type": "fragment"
    }
   },
   "outputs": [],
   "source": [
    "class Joint(nn.Module):\n",
    "  # Module that combines the encoder and the decoder\n",
    "\n",
    "    def __init__(self, encoder, decoder):\n",
    "        super(Joint, self).__init__()\n",
    "\n",
    "        # encoder and decoder\n",
    "        self.encoder = encoder\n",
    "        self.decoder = decoder\n",
    "\n",
    "    def forward(self, x):\n",
    "\n",
    "        # gets the result from the encoder\n",
    "        predicted, kout, theta = self.encoder(x)\n",
    "\n",
    "        # Builds the theta matrix\n",
    "        # We use an identity to ensure there is no translation\n",
    "        identity = torch.tensor([0, 0, 1], dtype=torch.float).reshape(\n",
    "            1, 1, 3).repeat(x.shape[0], 1, 1).to(device)\n",
    "        new_theta = torch.cat((theta, identity), axis=1).to(device)\n",
    "\n",
    "        # Computes the inverse of the affine transoformation\n",
    "        inver_theta = torch.linalg.inv(new_theta)[:, 0:2].to(device)\n",
    "\n",
    "        # Calculates the grid for inverse affine\n",
    "        grid = F.affine_grid(inver_theta.to(device), x.size()).to(device)\n",
    "\n",
    "        # Computes the decoder\n",
    "        predicted_base, k_out = self.decoder(kout)\n",
    "\n",
    "        # applies the inverse affine transformation to the decoded base\n",
    "        predicted_input = F.grid_sample(predicted_base, grid)\n",
    "\n",
    "        return predicted, predicted_base, predicted_input, k_out, theta\n"
   ]
  },
  {
   "attachments": {},
   "cell_type": "markdown",
   "metadata": {
    "slideshow": {
     "slide_type": "subslide"
    }
   },
   "source": [
    "### Sets optional parameters for autoencoder\n"
   ]
  },
  {
   "cell_type": "code",
   "execution_count": 17,
   "metadata": {
    "id": "_lIFzkPoxe7z",
    "slideshow": {
     "slide_type": "fragment"
    }
   },
   "outputs": [],
   "source": [
    "# Size of the original image\n",
    "en_original_step_size = [48, 48]\n",
    "\n",
    "# Defines the pooling layer\n",
    "pool_list = [2, 2, 2]\n",
    "\n",
    "# defines the size of the tensor\n",
    "de_original_step_size = [4, 4]\n",
    "\n",
    "# Defines how the upsampling should be conducted\n",
    "up_list = [2, 2, 3]\n",
    "\n",
    "# Sets the size of the embedding, this is the number of parameters in the affine\n",
    "embedding_size = 6\n",
    "\n",
    "# Sets the number of neurons in each layer\n",
    "conv_size = 128\n"
   ]
  },
  {
   "attachments": {},
   "cell_type": "markdown",
   "metadata": {
    "id": "LpPxYC3d-2xp",
    "slideshow": {
     "slide_type": "subslide"
    }
   },
   "source": [
    "### Checks operations\n"
   ]
  },
  {
   "cell_type": "code",
   "execution_count": 18,
   "metadata": {
    "colab": {
     "base_uri": "https://localhost:8080/"
    },
    "id": "KjixlRluxe70",
    "outputId": "2c5df336-8a9a-4b0a-bdcf-5fe94ffa7b1f",
    "slideshow": {
     "slide_type": "fragment"
    }
   },
   "outputs": [
    {
     "name": "stdout",
     "output_type": "stream",
     "text": [
      "True\n"
     ]
    }
   ],
   "source": [
    "# checks if cuda is available\n",
    "print(torch.cuda.is_available())\n",
    "\n",
    "# Assigns device to cuda\n",
    "device = torch.device('cuda')\n"
   ]
  },
  {
   "attachments": {},
   "cell_type": "markdown",
   "metadata": {
    "id": "Aj-kWD7dAf86",
    "slideshow": {
     "slide_type": "subslide"
    }
   },
   "source": [
    "### Instantiates the model\n"
   ]
  },
  {
   "cell_type": "code",
   "execution_count": 19,
   "metadata": {
    "id": "kBqkK_6qxe70",
    "slideshow": {
     "slide_type": "fragment"
    }
   },
   "outputs": [],
   "source": [
    "# instantiates the encoder\n",
    "encoder = Encoder(original_step_size=en_original_step_size,\n",
    "                  pool_list=pool_list,\n",
    "                  embedding_size=embedding_size,\n",
    "                  conv_size=conv_size).to(device)\n",
    "\n",
    "# instantiates the decoder\n",
    "decoder = Decoder(original_step_size=de_original_step_size,\n",
    "                  up_list=up_list,\n",
    "                  embedding_size=embedding_size,\n",
    "                  conv_size=conv_size).to(device)\n",
    "\n",
    "# combines the two models\n",
    "join = Joint(encoder, decoder).to(device)\n"
   ]
  },
  {
   "attachments": {},
   "cell_type": "markdown",
   "metadata": {
    "id": "RrNEt8A1Av7s",
    "slideshow": {
     "slide_type": "subslide"
    }
   },
   "source": [
    "### Instantiate the optimizer\n"
   ]
  },
  {
   "cell_type": "code",
   "execution_count": 20,
   "metadata": {
    "id": "SGrcC1vFxe70",
    "slideshow": {
     "slide_type": "fragment"
    }
   },
   "outputs": [],
   "source": [
    "optimizer = optim.Adam(join.parameters(), lr=3e-5)\n"
   ]
  },
  {
   "attachments": {},
   "cell_type": "markdown",
   "metadata": {
    "slideshow": {
     "slide_type": "subslide"
    }
   },
   "source": [
    "### Loads pretrained weights\n"
   ]
  },
  {
   "cell_type": "code",
   "execution_count": 21,
   "metadata": {
    "id": "-D-ngUHDxe70",
    "slideshow": {
     "slide_type": "fragment"
    }
   },
   "outputs": [],
   "source": [
    "# if you would like to train this model from scratch set equal to false.\n",
    "# Note this model takes many hours to train\n",
    "pretrained = True\n",
    "\n",
    "if pretrained:\n",
    "    # load the trained weights\n",
    "    path_checkpoint = \"./11.12_unsupervised_learn_label_epoch_17957_coef_0_trainloss_0.0008.pkl\"\n",
    "    checkpoint = torch.load(path_checkpoint, map_location=torch.device('cpu'))\n",
    "\n",
    "    join.load_state_dict(checkpoint['net'])\n",
    "    encoder.load_state_dict(checkpoint['encoder'])\n",
    "    decoder.load_state_dict(checkpoint['decoder'])\n",
    "    optimizer.load_state_dict(checkpoint['optimizer'])\n",
    "    start_epoch = checkpoint['epoch']\n"
   ]
  },
  {
   "attachments": {},
   "cell_type": "markdown",
   "metadata": {
    "id": "LBx-rQ8hBGro",
    "slideshow": {
     "slide_type": "subslide"
    }
   },
   "source": [
    "### Loss Function\n"
   ]
  },
  {
   "cell_type": "code",
   "execution_count": 22,
   "metadata": {
    "id": "V9-_12ivxe70",
    "slideshow": {
     "slide_type": "fragment"
    }
   },
   "outputs": [],
   "source": [
    "def loss_function(join,\n",
    "                  train_iterator,\n",
    "                  optimizer,\n",
    "                  ln_parm=1,\n",
    "                  beta=None):\n",
    "\n",
    "    # weight_decay = coef\n",
    "    # weight_decay_1 = coef1\n",
    "\n",
    "    # set the train mode\n",
    "    join.train()\n",
    "\n",
    "    # loss of the epoch\n",
    "    train_loss = 0\n",
    "\n",
    "    # loop for calculating loss\n",
    "    for x in tqdm(train_iterator, leave=True, total=len(train_iterator)):\n",
    "\n",
    "        x = x.to(device, dtype=torch.float)\n",
    "\n",
    "        # update the gradients to zero\n",
    "        optimizer.zero_grad()\n",
    "\n",
    "        # computes the forward pass of the model\n",
    "        predicted_x, predicted_base, predicted_input, kout, theta = join(x)\n",
    "\n",
    "        # combines the loss from the affine and inverse affine transform\n",
    "        loss = F.mse_loss(predicted_base.squeeze(), predicted_x.squeeze(), reduction='mean')\\\n",
    "            + F.mse_loss(predicted_input.squeeze(),\n",
    "                         x.squeeze(), reduction='mean')\n",
    "\n",
    "        # backward pass\n",
    "        train_loss += loss.item()\n",
    "\n",
    "        # computes the gradients\n",
    "        loss.backward()\n",
    "\n",
    "        # update the weights\n",
    "        optimizer.step()\n",
    "\n",
    "    return train_loss\n"
   ]
  },
  {
   "attachments": {},
   "cell_type": "markdown",
   "metadata": {
    "id": "-sgaRX8EBur2",
    "slideshow": {
     "slide_type": "subslide"
    }
   },
   "source": [
    "## Model Training\n"
   ]
  },
  {
   "cell_type": "code",
   "execution_count": 23,
   "metadata": {
    "id": "JZzaf6qexe70",
    "slideshow": {
     "slide_type": "fragment"
    }
   },
   "outputs": [],
   "source": [
    "def Train(join, encoder, decoder, train_iterator, optimizer,\n",
    "          epochs, coef=0, coef_1=0, ln_parm=1, beta=None, epoch_=None):\n",
    "\n",
    "    # sets the number of epochs to train\n",
    "    N_EPOCHS = epochs\n",
    "\n",
    "    best_train_loss = float('inf')\n",
    "\n",
    "    if epoch_ == None:\n",
    "        start_epoch = 0\n",
    "    else:\n",
    "        start_epoch = epoch_+1\n",
    "\n",
    "    # loops around the data set for each epoch\n",
    "    for epoch in range(start_epoch, N_EPOCHS):\n",
    "\n",
    "        # computes the loss\n",
    "        train = loss_function(join, train_iterator,\n",
    "                              optimizer, ln_parm, beta)\n",
    "\n",
    "        # updates and prints the loss\n",
    "        train_loss = train\n",
    "        train_loss /= len(train_iterator)\n",
    "        print(f'Epoch {epoch}, Train Loss: {train_loss:.4f}')\n",
    "        print('.............................')\n",
    "\n",
    "        # If the model shows improvement after 50 epochs will save\n",
    "        if best_train_loss > train_loss:\n",
    "            best_train_loss = train_loss\n",
    "            patience_counter = 1\n",
    "            checkpoint = {\n",
    "                \"net\": join.state_dict(),\n",
    "                \"encoder\": encoder.state_dict(),\n",
    "                \"decoder\": decoder.state_dict(),\n",
    "                'optimizer': optimizer.state_dict(),\n",
    "                \"epoch\": epoch,\n",
    "            }\n",
    "            if epoch >= 50:\n",
    "                torch.save(\n",
    "                    checkpoint, f'/content/drive/MyDrive/cycle_AE_model/11.12_unsupervised_learn_label_epoch:{epoch}_coef:{coef}_trainloss:{train_loss:.4f}.pkl')\n"
   ]
  },
  {
   "attachments": {},
   "cell_type": "markdown",
   "metadata": {
    "id": "E2Ez-cMgCPWx",
    "slideshow": {
     "slide_type": "subslide"
    }
   },
   "source": [
    "### Data loader\n",
    "\n",
    "Defines an iterator that serves as the data loader\n"
   ]
  },
  {
   "cell_type": "code",
   "execution_count": 24,
   "metadata": {
    "id": "leIGbHF5xe70",
    "slideshow": {
     "slide_type": "fragment"
    }
   },
   "outputs": [],
   "source": [
    "train_iterator = torch.utils.data.DataLoader(\n",
    "    input_set, batch_size=300, shuffle=True)\n"
   ]
  },
  {
   "attachments": {},
   "cell_type": "markdown",
   "metadata": {
    "id": "da4PsSkrCalq",
    "slideshow": {
     "slide_type": "subslide"
    }
   },
   "source": [
    "### Trains the model\n"
   ]
  },
  {
   "cell_type": "code",
   "execution_count": 25,
   "metadata": {
    "id": "MTc9_MYoxe70",
    "slideshow": {
     "slide_type": "fragment"
    }
   },
   "outputs": [],
   "source": [
    "if not pretrained:\n",
    "    # unsupervised learn label\n",
    "    Train(join, encoder, decoder, train_iterator, optimizer, 50000, epoch_=0)\n"
   ]
  },
  {
   "attachments": {},
   "cell_type": "markdown",
   "metadata": {
    "id": "3Nv1qu_-CjMd",
    "slideshow": {
     "slide_type": "subslide"
    }
   },
   "source": [
    "## Validation\n",
    "\n",
    "### Generates a small dataset for\n"
   ]
  },
  {
   "cell_type": "code",
   "execution_count": 26,
   "metadata": {
    "id": "xOhh6qPhxe73",
    "slideshow": {
     "slide_type": "fragment"
    }
   },
   "outputs": [],
   "source": [
    "# generate the test data set for validation\n",
    "angle = torch.linspace(0, 7*np.pi, 25)\n",
    "\n",
    "input_data_set_1 = []\n",
    "input_data_set_2 = []\n",
    "input_data_set_3 = []\n",
    "input_data_set_4 = []\n",
    "\n",
    "for q in angle:\n",
    "    theta = torch.tensor([\n",
    "        [torch.cos(q), torch.sin(q), 0],\n",
    "        [-torch.sin(q), torch.cos(q), 0]\n",
    "    ], dtype=torch.float)\n",
    "    grid = F.affine_grid(theta.unsqueeze(0), card_edge_1.size())\n",
    "    output = F.grid_sample(card_edge_1, grid)\n",
    "    input_data_set_1.append(output)\n",
    "\n",
    "    output = F.grid_sample(card_edge_2, grid)\n",
    "    input_data_set_2.append(output)\n",
    "\n",
    "    output = F.grid_sample(card_edge_3, grid)\n",
    "    input_data_set_3.append(output)\n",
    "\n",
    "    output = F.grid_sample(card_edge_4, grid)\n",
    "    input_data_set_4.append(output)\n",
    "\n",
    "input_set_1 = torch.stack(input_data_set_1).squeeze(1)\n",
    "input_set_2 = torch.stack(input_data_set_2).squeeze(1)\n",
    "input_set_3 = torch.stack(input_data_set_3).squeeze(1)\n",
    "input_set_4 = torch.stack(input_data_set_4).squeeze(1)\n",
    "input_set_small = torch.cat(\n",
    "    (input_set_1, input_set_2, input_set_3, input_set_4), axis=0)\n"
   ]
  },
  {
   "attachments": {},
   "cell_type": "markdown",
   "metadata": {
    "id": "OTLbu0YNDTNA",
    "slideshow": {
     "slide_type": "subslide"
    }
   },
   "source": [
    "### Builds a validation iterator\n"
   ]
  },
  {
   "cell_type": "code",
   "execution_count": 27,
   "metadata": {
    "id": "t5wp3qyGxe73",
    "slideshow": {
     "slide_type": "fragment"
    }
   },
   "outputs": [],
   "source": [
    "train_iterator = torch.utils.data.DataLoader(\n",
    "    input_set_small, batch_size=100, shuffle=False)\n"
   ]
  },
  {
   "attachments": {},
   "cell_type": "markdown",
   "metadata": {
    "id": "FIGtuCR0DWZe",
    "slideshow": {
     "slide_type": "subslide"
    }
   },
   "source": [
    "### Random sample visualization\n"
   ]
  },
  {
   "cell_type": "code",
   "execution_count": 28,
   "metadata": {
    "id": "ywERve9Vxe73",
    "slideshow": {
     "slide_type": "fragment"
    }
   },
   "outputs": [],
   "source": [
    "sample = next(iter(train_iterator))\n"
   ]
  },
  {
   "attachments": {},
   "cell_type": "markdown",
   "metadata": {
    "id": "vfQlibj2De5f",
    "slideshow": {
     "slide_type": "subslide"
    }
   },
   "source": [
    "### Evaluation\n"
   ]
  },
  {
   "cell_type": "code",
   "execution_count": 29,
   "metadata": {
    "colab": {
     "base_uri": "https://localhost:8080/"
    },
    "id": "PrrJbpk8xe73",
    "outputId": "ed0710f7-29a6-4847-93e4-7c12e1c78e00",
    "slideshow": {
     "slide_type": "fragment"
    }
   },
   "outputs": [
    {
     "name": "stderr",
     "output_type": "stream",
     "text": [
      "<ipython-input-15-ac57ebc7ba75>:59: UserWarning: Implicit dimension choice for softmax has been deprecated. Change the call to include dim=X as an argument.\n",
      "  kout = self.softmax(kout)\n"
     ]
    }
   ],
   "source": [
    "out, base, inp, kout, theta = join(sample.to(device, dtype=torch.float))\n"
   ]
  },
  {
   "attachments": {},
   "cell_type": "markdown",
   "metadata": {
    "id": "VGkr2MlRDmiV",
    "slideshow": {
     "slide_type": "subslide"
    }
   },
   "source": [
    "### Visualize the results\n"
   ]
  },
  {
   "cell_type": "code",
   "execution_count": 30,
   "metadata": {
    "colab": {
     "base_uri": "https://localhost:8080/",
     "height": 1000
    },
    "id": "fvmZkiI8xe73",
    "outputId": "3145b36f-2514-471d-d3bf-44e4ce417d6f",
    "scrolled": false,
    "slideshow": {
     "slide_type": "fragment"
    }
   },
   "outputs": [
    {
     "name": "stdout",
     "output_type": "stream",
     "text": [
      "tensor([0., 0., 1., 0.], device='cuda:0', grad_fn=<SelectBackward0>)\n",
      "tensor([0., 0., 0., 1.], device='cuda:0', grad_fn=<SelectBackward0>)\n",
      "tensor([0., 0., 1., 0.], device='cuda:0', grad_fn=<SelectBackward0>)\n",
      "tensor([1., 0., 0., 0.], device='cuda:0', grad_fn=<SelectBackward0>)\n",
      "tensor([0., 0., 1., 0.], device='cuda:0', grad_fn=<SelectBackward0>)\n",
      "tensor([0., 0., 1., 0.], device='cuda:0', grad_fn=<SelectBackward0>)\n"
     ]
    },
    {
     "data": {
      "image/png": "[encoded data removed]",
      "text/plain": [
       "<Figure size 1440x2160 with 24 Axes>"
      ]
     },
     "metadata": {
      "needs_background": "light"
     },
     "output_type": "display_data"
    }
   ],
   "source": [
    "label_ = [card_edge_1, card_edge_2, card_edge_3, card_edge_4]\n",
    "\n",
    "# Visualize the result\n",
    "fig, ax = plt.subplots(6, 4, figsize=(20, 30))\n",
    "for i in range(6):\n",
    "    j = np.random.randint(0, 100)\n",
    "    ax[i][0].title.set_text('input image')\n",
    "    ax[i][1].title.set_text('affine transform')\n",
    "    ax[i][2].title.set_text('generated basis')\n",
    "    ax[i][3].title.set_text(\n",
    "        f'Rotation {np.degrees(np.arccos(theta[j][0,0].detach().cpu()))}')\n",
    "    ax[i][0].imshow(sample[j].squeeze())\n",
    "\n",
    "    ax[i][1].imshow(out[j].squeeze().detach().cpu())\n",
    "\n",
    "    # ax[2].imshow((card_small.squeeze()-out[i].squeeze().detach().cpu())**2)\n",
    "    # num = torch.argmax(prob[i])\n",
    "    ax[i][2].imshow(base[j].squeeze().detach().cpu())\n",
    "\n",
    "    ax[i][3].imshow(inp[j].squeeze().detach().cpu())\n",
    "\n",
    "    # ax[3].imshow((label_[num].squeeze()-out[i].squeeze().detach().cpu())**2)\n",
    "    print(kout[j])\n"
   ]
  },
  {
   "cell_type": "code",
   "execution_count": null,
   "metadata": {
    "id": "rmwFiBWamGVb"
   },
   "outputs": [],
   "source": []
  }
 ],
 "metadata": {
  "accelerator": "GPU",
  "celltoolbar": "Slideshow",
  "colab": {
   "collapsed_sections": [],
   "machine_shape": "hm",
   "provenance": []
  },
  "gpuClass": "premium",
  "kernelspec": {
   "display_name": "Python 3.9.12 ('base')",
   "language": "python",
   "name": "python3"
  },
  "language_info": {
   "codemirror_mode": {
    "name": "ipython",
    "version": 3
   },
   "file_extension": ".py",
   "mimetype": "text/x-python",
   "name": "python",
   "nbconvert_exporter": "python",
   "pygments_lexer": "ipython3",
   "version": "3.9.0"
  },
  "vscode": {
   "interpreter": {
    "hash": "28d6d9e31a694f2aba28d42b1019d9365f56410d563150feaee59905aa4508a9"
   }
  }
 },
 "nbformat": 4,
 "nbformat_minor": 1
}